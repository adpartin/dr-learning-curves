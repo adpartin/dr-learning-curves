{
 "cells": [
  {
   "cell_type": "markdown",
   "metadata": {},
   "source": [
    "Generate the baseline scores for drug response prediction.<br>\n",
    "The baseline is when we use cell line features and drug labels.\n",
    "At this point I tried to use both labels of cells and drugs. This didn't work at all.\n",
    "TODO: Update this code to use cell features and drug labels."
   ]
  },
  {
   "cell_type": "code",
   "execution_count": 1,
   "metadata": {},
   "outputs": [],
   "source": [
    "%load_ext autoreload\n",
    "%autoreload 2\n",
    "%matplotlib inline\n",
    "\n",
    "import warnings\n",
    "warnings.filterwarnings('ignore')\n",
    "\n",
    "import os\n",
    "from pathlib import Path\n",
    "import sys\n",
    "from time import time\n",
    "import numpy as np\n",
    "import pandas as pd\n",
    "\n",
    "import sklearn\n",
    "from collections import OrderedDict\n",
    "from sklearn.metrics import r2_score\n",
    "\n",
    "import matplotlib.pyplot as plt\n",
    "import matplotlib.cm as cm\n",
    "\n",
    "from sklearn.preprocessing import StandardScaler\n",
    "from sklearn.model_selection import train_test_split\n",
    "\n",
    "SEED = None"
   ]
  },
  {
   "cell_type": "markdown",
   "metadata": {},
   "source": [
    "## Choose SOURCE"
   ]
  },
  {
   "cell_type": "code",
   "execution_count": 2,
   "metadata": {},
   "outputs": [],
   "source": [
    "# SOURCE = 'ccle'\n",
    "# SOURCE = 'gdsc'\n",
    "SOURCE = 'ctrp'\n",
    "dirpath = Path(f'../../data/processed/data_splits/{SOURCE}_cv_simple')"
   ]
  },
  {
   "cell_type": "code",
   "execution_count": 3,
   "metadata": {},
   "outputs": [],
   "source": [
    "# xdata = pd.read_parquet( dirpath/'xdata.parquet', engine='auto', columns=None )\n",
    "# ydata = pd.read_parquet( dirpath/'ydata.parquet', engine='auto', columns=None )\n",
    "meta = pd.read_parquet( dirpath/'meta.parquet', engine='auto', columns=None )"
   ]
  },
  {
   "cell_type": "code",
   "execution_count": 4,
   "metadata": {},
   "outputs": [
    {
     "name": "stdout",
     "output_type": "stream",
     "text": [
      "(324952, 2)\n",
      "(324952, 1)\n"
     ]
    },
    {
     "data": {
      "text/html": [
       "<div>\n",
       "<style scoped>\n",
       "    .dataframe tbody tr th:only-of-type {\n",
       "        vertical-align: middle;\n",
       "    }\n",
       "\n",
       "    .dataframe tbody tr th {\n",
       "        vertical-align: top;\n",
       "    }\n",
       "\n",
       "    .dataframe thead th {\n",
       "        text-align: right;\n",
       "    }\n",
       "</style>\n",
       "<table border=\"1\" class=\"dataframe\">\n",
       "  <thead>\n",
       "    <tr style=\"text-align: right;\">\n",
       "      <th></th>\n",
       "      <th>CELL</th>\n",
       "      <th>DRUG</th>\n",
       "    </tr>\n",
       "  </thead>\n",
       "  <tbody>\n",
       "    <tr>\n",
       "      <th>0</th>\n",
       "      <td>CTRP.22RV1</td>\n",
       "      <td>CTRP.1</td>\n",
       "    </tr>\n",
       "    <tr>\n",
       "      <th>1</th>\n",
       "      <td>CTRP.23132-87</td>\n",
       "      <td>CTRP.1</td>\n",
       "    </tr>\n",
       "    <tr>\n",
       "      <th>2</th>\n",
       "      <td>CTRP.253J</td>\n",
       "      <td>CTRP.1</td>\n",
       "    </tr>\n",
       "  </tbody>\n",
       "</table>\n",
       "</div>"
      ],
      "text/plain": [
       "            CELL    DRUG\n",
       "0     CTRP.22RV1  CTRP.1\n",
       "1  CTRP.23132-87  CTRP.1\n",
       "2      CTRP.253J  CTRP.1"
      ]
     },
     "execution_count": 4,
     "metadata": {},
     "output_type": "execute_result"
    }
   ],
   "source": [
    "Y = meta[['AUC']].copy()\n",
    "X = meta[['CELL', 'DRUG']].copy()\n",
    "\n",
    "print(X.shape)\n",
    "print(Y.shape)\n",
    "X[:3]"
   ]
  },
  {
   "cell_type": "code",
   "execution_count": null,
   "metadata": {},
   "outputs": [],
   "source": []
  },
  {
   "cell_type": "markdown",
   "metadata": {},
   "source": [
    "### Encode labels"
   ]
  },
  {
   "cell_type": "code",
   "execution_count": 5,
   "metadata": {},
   "outputs": [],
   "source": [
    "# encoding_method = 'label'\n",
    "encoding_method = 'onehot'"
   ]
  },
  {
   "cell_type": "code",
   "execution_count": 6,
   "metadata": {},
   "outputs": [
    {
     "name": "stdout",
     "output_type": "stream",
     "text": [
      "(324952, 810)\n",
      "(324952, 495)\n",
      "(324952, 1305)\n"
     ]
    },
    {
     "data": {
      "text/html": [
       "<div>\n",
       "<style scoped>\n",
       "    .dataframe tbody tr th:only-of-type {\n",
       "        vertical-align: middle;\n",
       "    }\n",
       "\n",
       "    .dataframe tbody tr th {\n",
       "        vertical-align: top;\n",
       "    }\n",
       "\n",
       "    .dataframe thead th {\n",
       "        text-align: right;\n",
       "    }\n",
       "</style>\n",
       "<table border=\"1\" class=\"dataframe\">\n",
       "  <thead>\n",
       "    <tr style=\"text-align: right;\">\n",
       "      <th></th>\n",
       "      <th>0</th>\n",
       "      <th>1</th>\n",
       "      <th>2</th>\n",
       "      <th>3</th>\n",
       "      <th>4</th>\n",
       "      <th>5</th>\n",
       "      <th>6</th>\n",
       "      <th>7</th>\n",
       "      <th>8</th>\n",
       "      <th>9</th>\n",
       "      <th>...</th>\n",
       "      <th>1295</th>\n",
       "      <th>1296</th>\n",
       "      <th>1297</th>\n",
       "      <th>1298</th>\n",
       "      <th>1299</th>\n",
       "      <th>1300</th>\n",
       "      <th>1301</th>\n",
       "      <th>1302</th>\n",
       "      <th>1303</th>\n",
       "      <th>1304</th>\n",
       "    </tr>\n",
       "  </thead>\n",
       "  <tbody>\n",
       "    <tr>\n",
       "      <th>0</th>\n",
       "      <td>1.0</td>\n",
       "      <td>0.0</td>\n",
       "      <td>0.0</td>\n",
       "      <td>0.0</td>\n",
       "      <td>0.0</td>\n",
       "      <td>0.0</td>\n",
       "      <td>0.0</td>\n",
       "      <td>0.0</td>\n",
       "      <td>0.0</td>\n",
       "      <td>0.0</td>\n",
       "      <td>...</td>\n",
       "      <td>0.0</td>\n",
       "      <td>0.0</td>\n",
       "      <td>0.0</td>\n",
       "      <td>0.0</td>\n",
       "      <td>0.0</td>\n",
       "      <td>0.0</td>\n",
       "      <td>0.0</td>\n",
       "      <td>0.0</td>\n",
       "      <td>0.0</td>\n",
       "      <td>0.0</td>\n",
       "    </tr>\n",
       "    <tr>\n",
       "      <th>1</th>\n",
       "      <td>0.0</td>\n",
       "      <td>1.0</td>\n",
       "      <td>0.0</td>\n",
       "      <td>0.0</td>\n",
       "      <td>0.0</td>\n",
       "      <td>0.0</td>\n",
       "      <td>0.0</td>\n",
       "      <td>0.0</td>\n",
       "      <td>0.0</td>\n",
       "      <td>0.0</td>\n",
       "      <td>...</td>\n",
       "      <td>0.0</td>\n",
       "      <td>0.0</td>\n",
       "      <td>0.0</td>\n",
       "      <td>0.0</td>\n",
       "      <td>0.0</td>\n",
       "      <td>0.0</td>\n",
       "      <td>0.0</td>\n",
       "      <td>0.0</td>\n",
       "      <td>0.0</td>\n",
       "      <td>0.0</td>\n",
       "    </tr>\n",
       "    <tr>\n",
       "      <th>2</th>\n",
       "      <td>0.0</td>\n",
       "      <td>0.0</td>\n",
       "      <td>1.0</td>\n",
       "      <td>0.0</td>\n",
       "      <td>0.0</td>\n",
       "      <td>0.0</td>\n",
       "      <td>0.0</td>\n",
       "      <td>0.0</td>\n",
       "      <td>0.0</td>\n",
       "      <td>0.0</td>\n",
       "      <td>...</td>\n",
       "      <td>0.0</td>\n",
       "      <td>0.0</td>\n",
       "      <td>0.0</td>\n",
       "      <td>0.0</td>\n",
       "      <td>0.0</td>\n",
       "      <td>0.0</td>\n",
       "      <td>0.0</td>\n",
       "      <td>0.0</td>\n",
       "      <td>0.0</td>\n",
       "      <td>0.0</td>\n",
       "    </tr>\n",
       "  </tbody>\n",
       "</table>\n",
       "<p>3 rows × 1305 columns</p>\n",
       "</div>"
      ],
      "text/plain": [
       "   0     1     2     3     4     5     6     7     8     9     ...  1295  \\\n",
       "0   1.0   0.0   0.0   0.0   0.0   0.0   0.0   0.0   0.0   0.0  ...   0.0   \n",
       "1   0.0   1.0   0.0   0.0   0.0   0.0   0.0   0.0   0.0   0.0  ...   0.0   \n",
       "2   0.0   0.0   1.0   0.0   0.0   0.0   0.0   0.0   0.0   0.0  ...   0.0   \n",
       "\n",
       "   1296  1297  1298  1299  1300  1301  1302  1303  1304  \n",
       "0   0.0   0.0   0.0   0.0   0.0   0.0   0.0   0.0   0.0  \n",
       "1   0.0   0.0   0.0   0.0   0.0   0.0   0.0   0.0   0.0  \n",
       "2   0.0   0.0   0.0   0.0   0.0   0.0   0.0   0.0   0.0  \n",
       "\n",
       "[3 rows x 1305 columns]"
      ]
     },
     "metadata": {},
     "output_type": "display_data"
    }
   ],
   "source": [
    "if encoding_method == 'label':\n",
    "    from sklearn.preprocessing import LabelEncoder\n",
    "    X_enc = X.copy()\n",
    "\n",
    "    # Label encoder\n",
    "    cell_enc = LabelEncoder()\n",
    "    X_enc['CELL'] = cell_enc.fit_transform(X_enc['CELL'].values)\n",
    "\n",
    "    drug_enc = LabelEncoder()\n",
    "    X_enc['DRUG'] = drug_enc.fit_transform(X_enc['DRUG'].values)\n",
    "\n",
    "    X = X_enc\n",
    "    print(X.shape)\n",
    "    display(X[:3])\n",
    "\n",
    "    \n",
    "elif encoding_method == 'onehot':\n",
    "    from sklearn.preprocessing import OneHotEncoder\n",
    "    X_onehot = X.copy()\n",
    "\n",
    "    # Onehot encoder\n",
    "    cell_enc = OneHotEncoder(sparse=False)\n",
    "    cell = cell_enc.fit_transform(X_onehot['CELL'].values.reshape(-1, 1))\n",
    "    print(cell.shape)\n",
    "\n",
    "    drug_enc = OneHotEncoder(sparse=False)\n",
    "    drug = drug_enc.fit_transform(X_onehot['DRUG'].values.reshape(-1, 1))\n",
    "    print(drug.shape)\n",
    "\n",
    "    # from scipy.sparse import hstack\n",
    "    # X_onehot = hstack((cell, drug))\n",
    "    # print(X_onehot.shape)\n",
    "\n",
    "    X_onehot = pd.DataFrame( np.concatenate((cell, drug), axis=1) )\n",
    "    \n",
    "    X = X_onehot\n",
    "    print(X.shape)\n",
    "    display(X[:3])"
   ]
  },
  {
   "cell_type": "code",
   "execution_count": null,
   "metadata": {},
   "outputs": [],
   "source": []
  },
  {
   "cell_type": "markdown",
   "metadata": {},
   "source": [
    "### Load CV partitions"
   ]
  },
  {
   "cell_type": "code",
   "execution_count": 7,
   "metadata": {},
   "outputs": [],
   "source": [
    "folds = 5\n",
    "tr_id = pd.read_csv(dirpath/f'{folds}fold_tr_id.csv')\n",
    "vl_id = pd.read_csv(dirpath/f'{folds}fold_vl_id.csv')\n",
    "\n",
    "cv_splits = (tr_id, vl_id)\n",
    "del tr_id, vl_id"
   ]
  },
  {
   "cell_type": "code",
   "execution_count": 8,
   "metadata": {},
   "outputs": [],
   "source": [
    "Y = Y.values\n",
    "X = X.values\n",
    "\n",
    "tr_dct = {}\n",
    "vl_dct = {}\n",
    "\n",
    "tr_id = cv_splits[0]\n",
    "vl_id = cv_splits[1]\n",
    "\n",
    "for i in range(tr_id.shape[1]):\n",
    "    tr_dct[i] = tr_id.iloc[:, i].dropna().values.astype(int).tolist()\n",
    "    vl_dct[i] = vl_id.iloc[:, i].dropna().values.astype(int).tolist()"
   ]
  },
  {
   "cell_type": "code",
   "execution_count": null,
   "metadata": {},
   "outputs": [],
   "source": []
  },
  {
   "cell_type": "markdown",
   "metadata": {},
   "source": [
    "### ML models"
   ]
  },
  {
   "cell_type": "code",
   "execution_count": 9,
   "metadata": {},
   "outputs": [],
   "source": [
    "# https://scikit-learn.org/stable/modules/generated/sklearn.linear_model.ElasticNet.html\n",
    "# https://scikit-learn.org/stable/modules/generated/sklearn.svm.SVR.html\n",
    "# https://scikit-learn.org/stable/modules/generated/sklearn.kernel_ridge.KernelRidge.html\n",
    "\n",
    "from sklearn.linear_model import ElasticNet\n",
    "from sklearn.svm import SVR\n",
    "from sklearn.kernel_ridge import KernelRidge\n",
    "\n",
    "model_name = 'elastic_net'\n",
    "# model_name = 'svr'\n",
    "# model_name = 'krnl_ridge'\n",
    "\n",
    "def get_model(model_name):\n",
    "    if model_name == 'elastic_net':\n",
    "        model = ElasticNet(\n",
    "            alpha=1.0, l1_ratio=0.5, fit_intercept=True, normalize=False, precompute=False, max_iter=1000, copy_X=True,\n",
    "            tol=0.0001, warm_start=False, positive=False, random_state=None, selection='cyclic')\n",
    "\n",
    "    elif model_name == 'svr':\n",
    "        model = SVR(\n",
    "            kernel='rbf', degree=3, gamma='auto_deprecated', coef0=0.0, tol=0.001, C=1.0, epsilon=0.1, shrinking=True,\n",
    "            cache_size=200, verbose=False, max_iter=-1)\n",
    "\n",
    "    elif model_name == 'krnl_ridge':\n",
    "        model = KernelRidge(\n",
    "            alpha=1, kernel='linear', gamma=None, degree=3, coef0=1, kernel_params=None)\n",
    "        \n",
    "    return model"
   ]
  },
  {
   "cell_type": "code",
   "execution_count": null,
   "metadata": {},
   "outputs": [],
   "source": []
  },
  {
   "cell_type": "markdown",
   "metadata": {},
   "source": [
    "## sklearn CV"
   ]
  },
  {
   "cell_type": "code",
   "execution_count": 13,
   "metadata": {},
   "outputs": [],
   "source": [
    "# idx_new = np.random.permutation(data.shape[0])\n",
    "# data_shf = data[idx_new, :]\n",
    "\n",
    "data = pd.DataFrame( np.concatenate((Y, X), axis=1) )\n",
    "\n",
    "data_shf = data.sample(frac=1.0).reset_index(drop=True)\n",
    "ydata = data_shf.iloc[:,0].values\n",
    "xdata = data_shf.iloc[:,1:].values"
   ]
  },
  {
   "cell_type": "code",
   "execution_count": 14,
   "metadata": {},
   "outputs": [],
   "source": [
    "# display(sorted(sklearn.metrics.SCORERS.keys()))"
   ]
  },
  {
   "cell_type": "code",
   "execution_count": 15,
   "metadata": {},
   "outputs": [
    {
     "name": "stderr",
     "output_type": "stream",
     "text": [
      "[Parallel(n_jobs=8)]: Using backend LokyBackend with 8 concurrent workers.\n",
      "[Parallel(n_jobs=8)]: Done   2 out of   5 | elapsed:   25.1s remaining:   37.7s\n",
      "[Parallel(n_jobs=8)]: Done   5 out of   5 | elapsed:   25.6s finished\n"
     ]
    },
    {
     "data": {
      "text/plain": [
       "{'fit_time': array([19.21634889, 19.29753494, 19.32204723, 19.30689478, 19.36246896]),\n",
       " 'score_time': array([0.1252172 , 0.12403798, 0.12683535, 0.12477875, 0.12757039]),\n",
       " 'test_score': array([-6.28185303e-06, -3.54119868e-05, -1.68242857e-04, -3.62868402e-06,\n",
       "        -1.25426981e-04]),\n",
       " 'train_score': array([0., 0., 0., 0., 0.])}"
      ]
     },
     "execution_count": 15,
     "metadata": {},
     "output_type": "execute_result"
    }
   ],
   "source": [
    "from sklearn.model_selection import cross_validate, cross_val_score\n",
    "\n",
    "model = get_model(model_name)\n",
    "cross_validate(estimator=model, X=xdata, y=ydata, scoring='r2', cv=folds, n_jobs=8, verbose=True)"
   ]
  },
  {
   "cell_type": "code",
   "execution_count": null,
   "metadata": {},
   "outputs": [],
   "source": []
  },
  {
   "cell_type": "markdown",
   "metadata": {},
   "source": [
    "### CV train"
   ]
  },
  {
   "cell_type": "code",
   "execution_count": 10,
   "metadata": {},
   "outputs": [
    {
     "name": "stdout",
     "output_type": "stream",
     "text": [
      "/vol/ml/apartin/projects/cell-line-drug-sensitivity/apps/lrn_crv\n"
     ]
    }
   ],
   "source": [
    "file_path = Path(os.getcwd())\n",
    "print(file_path)\n",
    "utils_path = file_path / '../../utils'\n",
    "sys.path.append(str(utils_path))\n",
    "import utils"
   ]
  },
  {
   "cell_type": "code",
   "execution_count": null,
   "metadata": {},
   "outputs": [
    {
     "name": "stdout",
     "output_type": "stream",
     "text": [
      "\n",
      "Fold 0\n",
      "xtr.shape (292456, 2)\n",
      "xvl.shape (32496, 2)\n"
     ]
    },
    {
     "name": "stderr",
     "output_type": "stream",
     "text": [
      "/vol/ml/apartin/anaconda3/envs/p1/lib/python3.6/site-packages/sklearn/utils/validation.py:761: DataConversionWarning: A column-vector y was passed when a 1d array was expected. Please change the shape of y to (n_samples, ), for example using ravel().\n",
      "  y = column_or_1d(y, warn=True)\n"
     ]
    }
   ],
   "source": [
    "# Now start nested loop of train size and cv folds\n",
    "tr_scores_all = [] # list of dicts\n",
    "vl_scores_all = [] # list of dicts\n",
    "\n",
    "# CV loop\n",
    "for fold, (tr_k, vl_k) in enumerate(zip( tr_dct.keys(), vl_dct.keys() )):\n",
    "    print(f'\\nFold {fold}')\n",
    "    tr_id = tr_dct[tr_k]\n",
    "    vl_id = vl_dct[vl_k]\n",
    "    \n",
    "    # Samples from this dataset are sampled for training\n",
    "    xtr = X[tr_id, :]\n",
    "    ytr = Y[tr_id, :]\n",
    "    print(   'xtr.shape', xtr.shape)\n",
    "\n",
    "    # A fixed set of validation samples for the current CV split\n",
    "    xvl = X[vl_id, :]\n",
    "    yvl = np.squeeze(Y[vl_id, :])\n",
    "    print(   'xvl.shape', xvl.shape)\n",
    "\n",
    "    # Define and train ML model\n",
    "    model = get_model(model_name)\n",
    "    model.fit(xtr, ytr)\n",
    "    ytr_pred = model.predict(xtr)\n",
    "    yvl_pred = model.predict(xvl)\n",
    "    \n",
    "    tr_scores = utils.calc_scores(y_true=ytr, y_preds=ytr_pred, mltype='reg', metrics=None)\n",
    "    vl_scores = utils.calc_scores(y_true=yvl, y_preds=yvl_pred, mltype='reg', metrics=None)\n",
    "\n",
    "    # Add info\n",
    "    tr_scores['tr_set'] = True\n",
    "    vl_scores['tr_set'] = False\n",
    "    tr_scores['fold'] = 'f'+str(fold)\n",
    "    vl_scores['fold'] = 'f'+str(fold)\n",
    "\n",
    "    # Aggregate scores\n",
    "    tr_scores_all.append(tr_scores)\n",
    "    vl_scores_all.append(vl_scores)\n",
    "    "
   ]
  },
  {
   "cell_type": "code",
   "execution_count": 13,
   "metadata": {},
   "outputs": [
    {
     "data": {
      "text/plain": [
       "(1305,)"
      ]
     },
     "execution_count": 13,
     "metadata": {},
     "output_type": "execute_result"
    }
   ],
   "source": [
    "model.coef_.shape\n",
    "# model.dual_coef_"
   ]
  },
  {
   "cell_type": "code",
   "execution_count": 14,
   "metadata": {},
   "outputs": [],
   "source": [
    "def scores_to_df(scores_all):\n",
    "    df = pd.DataFrame(scores_all)\n",
    "    df = df.melt(id_vars=['fold', 'tr_set'])\n",
    "    df = df.rename(columns={'variable': 'metric'})\n",
    "    df = df.pivot_table(index=['metric', 'tr_set'], columns=['fold'], values='value')\n",
    "    df = df.reset_index(drop=False)\n",
    "    df.columns.name = None\n",
    "    return df"
   ]
  },
  {
   "cell_type": "code",
   "execution_count": 15,
   "metadata": {},
   "outputs": [],
   "source": [
    "tr_df = scores_to_df(tr_scores_all)\n",
    "vl_df = scores_to_df(vl_scores_all)"
   ]
  },
  {
   "cell_type": "code",
   "execution_count": 16,
   "metadata": {},
   "outputs": [
    {
     "data": {
      "text/html": [
       "<div>\n",
       "<style scoped>\n",
       "    .dataframe tbody tr th:only-of-type {\n",
       "        vertical-align: middle;\n",
       "    }\n",
       "\n",
       "    .dataframe tbody tr th {\n",
       "        vertical-align: top;\n",
       "    }\n",
       "\n",
       "    .dataframe thead th {\n",
       "        text-align: right;\n",
       "    }\n",
       "</style>\n",
       "<table border=\"1\" class=\"dataframe\">\n",
       "  <thead>\n",
       "    <tr style=\"text-align: right;\">\n",
       "      <th></th>\n",
       "      <th>metric</th>\n",
       "      <th>tr_set</th>\n",
       "      <th>f0</th>\n",
       "      <th>f1</th>\n",
       "      <th>f2</th>\n",
       "      <th>f3</th>\n",
       "      <th>f4</th>\n",
       "      <th>f5</th>\n",
       "      <th>f6</th>\n",
       "      <th>f7</th>\n",
       "      <th>f8</th>\n",
       "      <th>f9</th>\n",
       "    </tr>\n",
       "  </thead>\n",
       "  <tbody>\n",
       "    <tr>\n",
       "      <th>0</th>\n",
       "      <td>auroc_reg</td>\n",
       "      <td>True</td>\n",
       "      <td>5.000000e-01</td>\n",
       "      <td>5.000000e-01</td>\n",
       "      <td>5.000000e-01</td>\n",
       "      <td>5.000000e-01</td>\n",
       "      <td>5.000000e-01</td>\n",
       "      <td>5.000000e-01</td>\n",
       "      <td>5.000000e-01</td>\n",
       "      <td>5.000000e-01</td>\n",
       "      <td>5.000000e-01</td>\n",
       "      <td>5.000000e-01</td>\n",
       "    </tr>\n",
       "    <tr>\n",
       "      <th>1</th>\n",
       "      <td>mean_absolute_error</td>\n",
       "      <td>True</td>\n",
       "      <td>1.081672e-01</td>\n",
       "      <td>1.083913e-01</td>\n",
       "      <td>1.083266e-01</td>\n",
       "      <td>1.081980e-01</td>\n",
       "      <td>1.081416e-01</td>\n",
       "      <td>1.081291e-01</td>\n",
       "      <td>1.082123e-01</td>\n",
       "      <td>1.082364e-01</td>\n",
       "      <td>1.081450e-01</td>\n",
       "      <td>1.081892e-01</td>\n",
       "    </tr>\n",
       "    <tr>\n",
       "      <th>2</th>\n",
       "      <td>mean_squared_error</td>\n",
       "      <td>True</td>\n",
       "      <td>2.082718e-02</td>\n",
       "      <td>2.091587e-02</td>\n",
       "      <td>2.087860e-02</td>\n",
       "      <td>2.084982e-02</td>\n",
       "      <td>2.081677e-02</td>\n",
       "      <td>2.081818e-02</td>\n",
       "      <td>2.084995e-02</td>\n",
       "      <td>2.087111e-02</td>\n",
       "      <td>2.083595e-02</td>\n",
       "      <td>2.084070e-02</td>\n",
       "    </tr>\n",
       "    <tr>\n",
       "      <th>3</th>\n",
       "      <td>median_absolute_error</td>\n",
       "      <td>True</td>\n",
       "      <td>9.416085e-02</td>\n",
       "      <td>9.434468e-02</td>\n",
       "      <td>9.429869e-02</td>\n",
       "      <td>9.426283e-02</td>\n",
       "      <td>9.417225e-02</td>\n",
       "      <td>9.412562e-02</td>\n",
       "      <td>9.422815e-02</td>\n",
       "      <td>9.418374e-02</td>\n",
       "      <td>9.416037e-02</td>\n",
       "      <td>9.417473e-02</td>\n",
       "    </tr>\n",
       "    <tr>\n",
       "      <th>4</th>\n",
       "      <td>r2</td>\n",
       "      <td>True</td>\n",
       "      <td>-8.406877e-10</td>\n",
       "      <td>-1.778336e-09</td>\n",
       "      <td>-1.220031e-09</td>\n",
       "      <td>1.096974e-09</td>\n",
       "      <td>-3.971987e-10</td>\n",
       "      <td>1.288251e-09</td>\n",
       "      <td>-3.055598e-10</td>\n",
       "      <td>-1.028357e-10</td>\n",
       "      <td>-9.360668e-10</td>\n",
       "      <td>7.925688e-10</td>\n",
       "    </tr>\n",
       "  </tbody>\n",
       "</table>\n",
       "</div>"
      ],
      "text/plain": [
       "                  metric  tr_set            f0            f1            f2  \\\n",
       "0              auroc_reg    True  5.000000e-01  5.000000e-01  5.000000e-01   \n",
       "1    mean_absolute_error    True  1.081672e-01  1.083913e-01  1.083266e-01   \n",
       "2     mean_squared_error    True  2.082718e-02  2.091587e-02  2.087860e-02   \n",
       "3  median_absolute_error    True  9.416085e-02  9.434468e-02  9.429869e-02   \n",
       "4                     r2    True -8.406877e-10 -1.778336e-09 -1.220031e-09   \n",
       "\n",
       "             f3            f4            f5            f6            f7  \\\n",
       "0  5.000000e-01  5.000000e-01  5.000000e-01  5.000000e-01  5.000000e-01   \n",
       "1  1.081980e-01  1.081416e-01  1.081291e-01  1.082123e-01  1.082364e-01   \n",
       "2  2.084982e-02  2.081677e-02  2.081818e-02  2.084995e-02  2.087111e-02   \n",
       "3  9.426283e-02  9.417225e-02  9.412562e-02  9.422815e-02  9.418374e-02   \n",
       "4  1.096974e-09 -3.971987e-10  1.288251e-09 -3.055598e-10 -1.028357e-10   \n",
       "\n",
       "             f8            f9  \n",
       "0  5.000000e-01  5.000000e-01  \n",
       "1  1.081450e-01  1.081892e-01  \n",
       "2  2.083595e-02  2.084070e-02  \n",
       "3  9.416037e-02  9.417473e-02  \n",
       "4 -9.360668e-10  7.925688e-10  "
      ]
     },
     "execution_count": 16,
     "metadata": {},
     "output_type": "execute_result"
    }
   ],
   "source": [
    "tr_df"
   ]
  },
  {
   "cell_type": "code",
   "execution_count": null,
   "metadata": {},
   "outputs": [],
   "source": []
  }
 ],
 "metadata": {
  "kernelspec": {
   "display_name": "Python 3",
   "language": "python",
   "name": "python3"
  },
  "language_info": {
   "codemirror_mode": {
    "name": "ipython",
    "version": 3
   },
   "file_extension": ".py",
   "mimetype": "text/x-python",
   "name": "python",
   "nbconvert_exporter": "python",
   "pygments_lexer": "ipython3",
   "version": "3.6.8"
  }
 },
 "nbformat": 4,
 "nbformat_minor": 2
}
