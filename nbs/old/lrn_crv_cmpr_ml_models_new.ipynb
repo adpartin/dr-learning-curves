{
 "cells": [
  {
   "cell_type": "markdown",
   "metadata": {},
   "source": [
    "# Learning curves - Compare ML models\n",
    "This code generates learning curve from the output of multiple runs of ... <br>"
   ]
  },
  {
   "cell_type": "code",
   "execution_count": 1,
   "metadata": {},
   "outputs": [],
   "source": [
    "%load_ext autoreload\n",
    "%autoreload 2\n",
    "%matplotlib inline\n",
    "\n",
    "import os\n",
    "import sys\n",
    "from pathlib import Path\n",
    "\n",
    "import numpy as np\n",
    "import pandas as pd\n",
    "from glob import glob\n",
    "\n",
    "import matplotlib\n",
    "import matplotlib.pyplot as plt"
   ]
  },
  {
   "cell_type": "markdown",
   "metadata": {},
   "source": [
    "# New scripts"
   ]
  },
  {
   "cell_type": "code",
   "execution_count": 2,
   "metadata": {},
   "outputs": [],
   "source": [
    "# save = True\n",
    "save = False\n",
    "if save:\n",
    "    outdir = Path('post_proc')\n",
    "    os.makedirs(outdir, exist_ok=True)"
   ]
  },
  {
   "cell_type": "code",
   "execution_count": 3,
   "metadata": {},
   "outputs": [],
   "source": [
    "# src_name = 'ccle'\n",
    "# src_name = 'gdsc'\n",
    "src_name = 'top6'"
   ]
  },
  {
   "cell_type": "code",
   "execution_count": 4,
   "metadata": {},
   "outputs": [],
   "source": [
    "# CCLE\n",
    "if src_name == 'ccle':\n",
    "    desc = [('combat_lgb_reg',     'ccle.lgb_reg.cvf5.rna.dsc.AUC_2019-7-5_h12-m55'),\n",
    "            ('combat_nn_reg0_clr', 'ccle.nn_reg0.clr.cvf5.rna.dsc.AUC_2019-7-5_h14-m50'),\n",
    "    ]\n",
    "\n",
    "# GDSC\n",
    "if src_name == 'gdsc':\n",
    "    desc = [('lgb_reg',           'gdsc.lgb_reg.cvf5.rna.dsc.AUC_2019-6-20_h11-m24'),\n",
    "            \n",
    "            #('raw_lgb_reg',             'gdsc.lgb_reg.cvf5.rna.dsc.AUC_2019-7-2_h16-m59'),\n",
    "            #('raw_no_fibro_lgb_reg',    'gdsc.lgb_reg.cvf5.rna.dsc.AUC_2019-7-2_h17-m0'),\n",
    "            ('combat_lgb_reg',          'gdsc.lgb_reg.cvf5.rna.dsc.AUC_2019-7-2_h17-m37'),\n",
    "            #('combat_no_fibro_lgb_reg', 'gdsc.lgb_reg.cvf5.rna.dsc.AUC_2019-7-2_h17-m43'),\n",
    "            ('combat_nn_reg0', 'gdsc.nn_reg0.clr.cvf5.rna.dsc.AUC_2019-7-6_h9-m16')\n",
    "    ]\n",
    "\n",
    "# Top6\n",
    "if src_name == 'top6':\n",
    "    desc = [('lgb_reg',       'top6.lgb_reg.cvf5.rna.dsc.AUC1_2019-6-20_h15-m29'),\n",
    "            ('nn_model0_sgd', 'top6.nn_model0.sgd.cvf5.rna.dsc.AUC1_2019-6-21_h23-m20'),\n",
    "            ('nn_model1_sgd', 'top6.nn_model1.sgd.cvf5.rna.dsc.AUC1_2019-6-22_h22-m44'),\n",
    "            #('nn_model0_clr', 'top6.nn_model0.clr.cvf5.rna.dsc.AUC1_2019-6-20_h16-m49'),\n",
    "            #('nn_model1_clr', 'top6.nn_model1.clr.cvf5.rna.dsc.AUC1_2019-6-20_h16-m50'),\n",
    "            \n",
    "            #('lgb_reg_code', 'topNcode.lgb_reg.cvf5.rna.dsc.AUC_2019-7-2_h15-m29'),\n",
    "           ]\n",
    "\n",
    "datadir = '../../out'\n",
    "prj = 'lrn_crv'\n",
    "\n",
    "# Models\n",
    "runs = {}\n",
    "for i, v in enumerate(desc):\n",
    "    runs[f'run{i}'] = (v[0], Path.cwd()/datadir/prj/v[1]/f'lrn_crv_scores.csv')\n",
    "    \n",
    "# runs = {'run1': (desc[0][0], Path.cwd()/datadir/prj/desc[0][1]/f'lrn_crv_scores_{src_name}.csv'),\n",
    "#         'run2': (desc[1][0], Path.cwd()/datadir/prj/desc[1][1]/f'lrn_crv_scores_{src_name}.csv'),\n",
    "#         'run3': (desc[2][0], Path.cwd()/datadir/prj/desc[2][1]/f'lrn_crv_scores_{src_name}.csv'),\n",
    "#         'run4': (desc[3][0], Path.cwd()/datadir/prj/desc[3][1]/f'lrn_crv_scores_{src_name}.csv'),\n",
    "#         'run5': (desc[4][0], Path.cwd()/datadir/prj/desc[4][1]/f'lrn_crv_scores_{src_name}.csv'),\n",
    "#        }"
   ]
  },
  {
   "cell_type": "code",
   "execution_count": null,
   "metadata": {},
   "outputs": [],
   "source": []
  },
  {
   "cell_type": "markdown",
   "metadata": {},
   "source": [
    "## Metric per plot for all runs"
   ]
  },
  {
   "cell_type": "code",
   "execution_count": 5,
   "metadata": {},
   "outputs": [],
   "source": [
    "from scipy import optimize\n",
    "\n",
    "def power_law_func(x, alpha, beta, gamma):\n",
    "    \"\"\" docs.scipy.org/doc/numpy-1.15.0/reference/generated/numpy.power.html \"\"\"\n",
    "    return alpha * np.power(x, beta) + gamma\n",
    "    \n",
    "def fit_power_law(x, y, p0: list=[30, -0.3, 0.5]):\n",
    "    \"\"\" Fit learning curve data (train set size vs ) to power-law.\n",
    "    TODO: How should we fit the data across multiple folds? This can\n",
    "    be addressed using Bayesian methods (look at Bayesian linear regression).\n",
    "    The uncertainty of parameters indicates the consistency of across folds.\n",
    "    \"\"\"\n",
    "    prms, prms_cov = optimize.curve_fit(power_law_func, x, y, p0=p0)\n",
    "    prms_dct = {}\n",
    "    prms_dct['alpha'] = prms[0]\n",
    "    prms_dct['beta'] = prms[1]\n",
    "    prms_dct['gamma'] = prms[2]\n",
    "    return prms_dct\n",
    "\n",
    "def plot_learning_curve_power_law(x, y, plot_fit=True, xtick_scale='log2', ytick_scale='log2',\n",
    "                                  xlim=None, ylim=None, title=None, figsize=(9,7)):\n",
    "    fontsize = 13\n",
    "    fig, ax = plt.subplots(figsize=figsize)\n",
    "    ax.plot(x, y, '.-', color=None, label='mae');\n",
    "\n",
    "    # Fit power-law\n",
    "    power_law_params = fit_power_law(x, y)\n",
    "    yfit = power_law_func(dd['tr_size'], **power_law_params)\n",
    "    if plot_fit: ax.plot(x, yfit, '--', color=None, label='mae_fit');    \n",
    "\n",
    "    def scale_ticks_params(tick_scale='linear'):\n",
    "        if tick_scale == 'linear':\n",
    "            base = None\n",
    "            label_scale = 'Linear scale'\n",
    "        else:\n",
    "            if tick_scale == 'log2':\n",
    "                base = 2\n",
    "                label_scale = 'Log2 scale'\n",
    "            elif tick_scale == 'log10':\n",
    "                base = 10\n",
    "                label_scale = 'Log10 scale'\n",
    "        return base, label_scale\n",
    "        \n",
    "    basex, xlabel_scale = scale_ticks_params(tick_scale=xtick_scale)\n",
    "    basey, ylabel_scale = scale_ticks_params(tick_scale=ytick_scale)\n",
    "    \n",
    "    ax.set_xlabel(f'Training Dataset Size ({xlabel_scale})', fontsize=fontsize)\n",
    "    if 'log' in xlabel_scale.lower(): ax.set_xscale('log', basex=basex)\n",
    "\n",
    "    ax.set_ylabel(f'Minimum Mean Absolute Error ({ylabel_scale})', fontsize=fontsize)\n",
    "    if 'log' in ylabel_scale.lower(): ax.set_yscale('log', basey=basey)\n",
    "        \n",
    "    # ax.get_xaxis().set_major_formatter(matplotlib.ticker.ScalarFormatter())\n",
    "    # ax.get_yaxis().set_major_formatter(matplotlib.ticker.ScalarFormatter())\n",
    "\n",
    "    if ylim is not None: ax.set_ylim(ylim)\n",
    "    if xlim is not None: ax.set_ylim(xlim)\n",
    "    \n",
    "    # matplotlib.org/users/mathtext.html\n",
    "    ax.set_title(r\"$\\varepsilon_{mae}(m) = \\alpha m^{\\beta} + \\gamma$\" + rf\"; $\\alpha$={power_law_params['alpha']:.2f}, $\\beta$={power_law_params['beta']:.2f}, $\\gamma$={power_law_params['gamma']:.2f}\");\n",
    "    ax.legend(frameon=True, fontsize=fontsize)\n",
    "    ax.grid(True)\n",
    "    return fig, ax, power_law_params"
   ]
  },
  {
   "cell_type": "code",
   "execution_count": 6,
   "metadata": {},
   "outputs": [],
   "source": [
    "# colors = ['b', 'r', 'k', 'c', 'm']\n",
    "# met_name = 'mean_absolute_error'\n",
    "\n",
    "# k='run1'\n",
    "# df = pd.read_csv(runs[k][1])\n",
    "# cvf = len([c for c in df.columns.tolist() if c[0]=='f'])\n",
    "\n",
    "# dfm = df[df['metric']==met_name].reset_index(drop=True)\n",
    "\n",
    "# tr_sizes  = dfm['tr_size'].unique()\n",
    "# te_scores = dfm.loc[dfm['tr_set']==False, dfm.columns[-cvf:]].values\n",
    "\n",
    "# te_scores_mean = np.mean(te_scores, axis=1)\n",
    "# te_scores_std  = np.std(te_scores, axis=1)\n",
    "\n",
    "# j=0\n",
    "# plt.plot(tr_sizes, te_scores_mean, '.--', color=colors[j], label=runs[k][0])\n",
    "# plt.fill_between(tr_sizes,\n",
    "#                  te_scores_mean - te_scores_std,\n",
    "#                  te_scores_mean + te_scores_std,\n",
    "#                  alpha=0.1, color=colors[j]); # new"
   ]
  },
  {
   "cell_type": "code",
   "execution_count": 7,
   "metadata": {},
   "outputs": [],
   "source": [
    "# Assign specific line style for each optimizer\n",
    "unq_opts = np.unique( [ x.split('_')[-1] for x in np.array(desc)[:,0] ] )\n",
    "lines = ['-', '--', '-.', ':']\n",
    "dd = {op: lines[i] for i, op in enumerate(unq_opts)}"
   ]
  },
  {
   "cell_type": "code",
   "execution_count": 8,
   "metadata": {},
   "outputs": [
    {
     "ename": "FileNotFoundError",
     "evalue": "[Errno 2] File b'/vol/ml/apartin/projects/LearningCurves/notebooks/../../out/lrn_crv/top6.nn_model0.sgd.cvf5.rna.dsc.AUC1_2019-6-21_h23-m20/lrn_crv_scores.csv' does not exist: b'/vol/ml/apartin/projects/LearningCurves/notebooks/../../out/lrn_crv/top6.nn_model0.sgd.cvf5.rna.dsc.AUC1_2019-6-21_h23-m20/lrn_crv_scores.csv'",
     "output_type": "error",
     "traceback": [
      "\u001b[0;31m---------------------------------------------------------------------------\u001b[0m",
      "\u001b[0;31mFileNotFoundError\u001b[0m                         Traceback (most recent call last)",
      "\u001b[0;32m<ipython-input-8-c65a1be920ed>\u001b[0m in \u001b[0;36m<module>\u001b[0;34m\u001b[0m\n\u001b[1;32m      1\u001b[0m \u001b[0;31m# Same metric for different runs\u001b[0m\u001b[0;34m\u001b[0m\u001b[0;34m\u001b[0m\u001b[0;34m\u001b[0m\u001b[0m\n\u001b[0;32m----> 2\u001b[0;31m \u001b[0mtmp\u001b[0m \u001b[0;34m=\u001b[0m \u001b[0mpd\u001b[0m\u001b[0;34m.\u001b[0m\u001b[0mread_csv\u001b[0m\u001b[0;34m(\u001b[0m\u001b[0mruns\u001b[0m\u001b[0;34m[\u001b[0m\u001b[0;34m'run1'\u001b[0m\u001b[0;34m]\u001b[0m\u001b[0;34m[\u001b[0m\u001b[0;36m1\u001b[0m\u001b[0;34m]\u001b[0m\u001b[0;34m)\u001b[0m\u001b[0;34m\u001b[0m\u001b[0;34m\u001b[0m\u001b[0m\n\u001b[0m\u001b[1;32m      3\u001b[0m \u001b[0mmetrics\u001b[0m \u001b[0;34m=\u001b[0m \u001b[0mtmp\u001b[0m\u001b[0;34m[\u001b[0m\u001b[0;34m'metric'\u001b[0m\u001b[0;34m]\u001b[0m\u001b[0;34m.\u001b[0m\u001b[0munique\u001b[0m\u001b[0;34m(\u001b[0m\u001b[0;34m)\u001b[0m\u001b[0;34m\u001b[0m\u001b[0;34m\u001b[0m\u001b[0m\n\u001b[1;32m      4\u001b[0m \u001b[0;34m\u001b[0m\u001b[0m\n\u001b[1;32m      5\u001b[0m \u001b[0mcolors\u001b[0m \u001b[0;34m=\u001b[0m \u001b[0;34m[\u001b[0m\u001b[0;34m'b'\u001b[0m\u001b[0;34m,\u001b[0m \u001b[0;34m'r'\u001b[0m\u001b[0;34m,\u001b[0m \u001b[0;34m'k'\u001b[0m\u001b[0;34m,\u001b[0m \u001b[0;34m'c'\u001b[0m\u001b[0;34m,\u001b[0m \u001b[0;34m'm'\u001b[0m\u001b[0;34m,\u001b[0m \u001b[0;34m'g'\u001b[0m\u001b[0;34m]\u001b[0m\u001b[0;34m\u001b[0m\u001b[0;34m\u001b[0m\u001b[0m\n",
      "\u001b[0;32m/vol/ml/apartin/anaconda3/envs/p1/lib/python3.6/site-packages/pandas/io/parsers.py\u001b[0m in \u001b[0;36mparser_f\u001b[0;34m(filepath_or_buffer, sep, delimiter, header, names, index_col, usecols, squeeze, prefix, mangle_dupe_cols, dtype, engine, converters, true_values, false_values, skipinitialspace, skiprows, skipfooter, nrows, na_values, keep_default_na, na_filter, verbose, skip_blank_lines, parse_dates, infer_datetime_format, keep_date_col, date_parser, dayfirst, iterator, chunksize, compression, thousands, decimal, lineterminator, quotechar, quoting, doublequote, escapechar, comment, encoding, dialect, tupleize_cols, error_bad_lines, warn_bad_lines, delim_whitespace, low_memory, memory_map, float_precision)\u001b[0m\n\u001b[1;32m    695\u001b[0m                     skip_blank_lines=skip_blank_lines)\n\u001b[1;32m    696\u001b[0m \u001b[0;34m\u001b[0m\u001b[0m\n\u001b[0;32m--> 697\u001b[0;31m         \u001b[0;32mreturn\u001b[0m \u001b[0m_read\u001b[0m\u001b[0;34m(\u001b[0m\u001b[0mfilepath_or_buffer\u001b[0m\u001b[0;34m,\u001b[0m \u001b[0mkwds\u001b[0m\u001b[0;34m)\u001b[0m\u001b[0;34m\u001b[0m\u001b[0;34m\u001b[0m\u001b[0m\n\u001b[0m\u001b[1;32m    698\u001b[0m \u001b[0;34m\u001b[0m\u001b[0m\n\u001b[1;32m    699\u001b[0m     \u001b[0mparser_f\u001b[0m\u001b[0;34m.\u001b[0m\u001b[0m__name__\u001b[0m \u001b[0;34m=\u001b[0m \u001b[0mname\u001b[0m\u001b[0;34m\u001b[0m\u001b[0;34m\u001b[0m\u001b[0m\n",
      "\u001b[0;32m/vol/ml/apartin/anaconda3/envs/p1/lib/python3.6/site-packages/pandas/io/parsers.py\u001b[0m in \u001b[0;36m_read\u001b[0;34m(filepath_or_buffer, kwds)\u001b[0m\n\u001b[1;32m    422\u001b[0m \u001b[0;34m\u001b[0m\u001b[0m\n\u001b[1;32m    423\u001b[0m     \u001b[0;31m# Create the parser.\u001b[0m\u001b[0;34m\u001b[0m\u001b[0;34m\u001b[0m\u001b[0;34m\u001b[0m\u001b[0m\n\u001b[0;32m--> 424\u001b[0;31m     \u001b[0mparser\u001b[0m \u001b[0;34m=\u001b[0m \u001b[0mTextFileReader\u001b[0m\u001b[0;34m(\u001b[0m\u001b[0mfilepath_or_buffer\u001b[0m\u001b[0;34m,\u001b[0m \u001b[0;34m**\u001b[0m\u001b[0mkwds\u001b[0m\u001b[0;34m)\u001b[0m\u001b[0;34m\u001b[0m\u001b[0;34m\u001b[0m\u001b[0m\n\u001b[0m\u001b[1;32m    425\u001b[0m \u001b[0;34m\u001b[0m\u001b[0m\n\u001b[1;32m    426\u001b[0m     \u001b[0;32mif\u001b[0m \u001b[0mchunksize\u001b[0m \u001b[0;32mor\u001b[0m \u001b[0miterator\u001b[0m\u001b[0;34m:\u001b[0m\u001b[0;34m\u001b[0m\u001b[0;34m\u001b[0m\u001b[0m\n",
      "\u001b[0;32m/vol/ml/apartin/anaconda3/envs/p1/lib/python3.6/site-packages/pandas/io/parsers.py\u001b[0m in \u001b[0;36m__init__\u001b[0;34m(self, f, engine, **kwds)\u001b[0m\n\u001b[1;32m    888\u001b[0m             \u001b[0mself\u001b[0m\u001b[0;34m.\u001b[0m\u001b[0moptions\u001b[0m\u001b[0;34m[\u001b[0m\u001b[0;34m'has_index_names'\u001b[0m\u001b[0;34m]\u001b[0m \u001b[0;34m=\u001b[0m \u001b[0mkwds\u001b[0m\u001b[0;34m[\u001b[0m\u001b[0;34m'has_index_names'\u001b[0m\u001b[0;34m]\u001b[0m\u001b[0;34m\u001b[0m\u001b[0;34m\u001b[0m\u001b[0m\n\u001b[1;32m    889\u001b[0m \u001b[0;34m\u001b[0m\u001b[0m\n\u001b[0;32m--> 890\u001b[0;31m         \u001b[0mself\u001b[0m\u001b[0;34m.\u001b[0m\u001b[0m_make_engine\u001b[0m\u001b[0;34m(\u001b[0m\u001b[0mself\u001b[0m\u001b[0;34m.\u001b[0m\u001b[0mengine\u001b[0m\u001b[0;34m)\u001b[0m\u001b[0;34m\u001b[0m\u001b[0;34m\u001b[0m\u001b[0m\n\u001b[0m\u001b[1;32m    891\u001b[0m \u001b[0;34m\u001b[0m\u001b[0m\n\u001b[1;32m    892\u001b[0m     \u001b[0;32mdef\u001b[0m \u001b[0mclose\u001b[0m\u001b[0;34m(\u001b[0m\u001b[0mself\u001b[0m\u001b[0;34m)\u001b[0m\u001b[0;34m:\u001b[0m\u001b[0;34m\u001b[0m\u001b[0;34m\u001b[0m\u001b[0m\n",
      "\u001b[0;32m/vol/ml/apartin/anaconda3/envs/p1/lib/python3.6/site-packages/pandas/io/parsers.py\u001b[0m in \u001b[0;36m_make_engine\u001b[0;34m(self, engine)\u001b[0m\n\u001b[1;32m   1115\u001b[0m     \u001b[0;32mdef\u001b[0m \u001b[0m_make_engine\u001b[0m\u001b[0;34m(\u001b[0m\u001b[0mself\u001b[0m\u001b[0;34m,\u001b[0m \u001b[0mengine\u001b[0m\u001b[0;34m=\u001b[0m\u001b[0;34m'c'\u001b[0m\u001b[0;34m)\u001b[0m\u001b[0;34m:\u001b[0m\u001b[0;34m\u001b[0m\u001b[0;34m\u001b[0m\u001b[0m\n\u001b[1;32m   1116\u001b[0m         \u001b[0;32mif\u001b[0m \u001b[0mengine\u001b[0m \u001b[0;34m==\u001b[0m \u001b[0;34m'c'\u001b[0m\u001b[0;34m:\u001b[0m\u001b[0;34m\u001b[0m\u001b[0;34m\u001b[0m\u001b[0m\n\u001b[0;32m-> 1117\u001b[0;31m             \u001b[0mself\u001b[0m\u001b[0;34m.\u001b[0m\u001b[0m_engine\u001b[0m \u001b[0;34m=\u001b[0m \u001b[0mCParserWrapper\u001b[0m\u001b[0;34m(\u001b[0m\u001b[0mself\u001b[0m\u001b[0;34m.\u001b[0m\u001b[0mf\u001b[0m\u001b[0;34m,\u001b[0m \u001b[0;34m**\u001b[0m\u001b[0mself\u001b[0m\u001b[0;34m.\u001b[0m\u001b[0moptions\u001b[0m\u001b[0;34m)\u001b[0m\u001b[0;34m\u001b[0m\u001b[0;34m\u001b[0m\u001b[0m\n\u001b[0m\u001b[1;32m   1118\u001b[0m         \u001b[0;32melse\u001b[0m\u001b[0;34m:\u001b[0m\u001b[0;34m\u001b[0m\u001b[0;34m\u001b[0m\u001b[0m\n\u001b[1;32m   1119\u001b[0m             \u001b[0;32mif\u001b[0m \u001b[0mengine\u001b[0m \u001b[0;34m==\u001b[0m \u001b[0;34m'python'\u001b[0m\u001b[0;34m:\u001b[0m\u001b[0;34m\u001b[0m\u001b[0;34m\u001b[0m\u001b[0m\n",
      "\u001b[0;32m/vol/ml/apartin/anaconda3/envs/p1/lib/python3.6/site-packages/pandas/io/parsers.py\u001b[0m in \u001b[0;36m__init__\u001b[0;34m(self, src, **kwds)\u001b[0m\n\u001b[1;32m   1846\u001b[0m         \u001b[0mkwds\u001b[0m\u001b[0;34m[\u001b[0m\u001b[0;34m'usecols'\u001b[0m\u001b[0;34m]\u001b[0m \u001b[0;34m=\u001b[0m \u001b[0mself\u001b[0m\u001b[0;34m.\u001b[0m\u001b[0musecols\u001b[0m\u001b[0;34m\u001b[0m\u001b[0;34m\u001b[0m\u001b[0m\n\u001b[1;32m   1847\u001b[0m \u001b[0;34m\u001b[0m\u001b[0m\n\u001b[0;32m-> 1848\u001b[0;31m         \u001b[0mself\u001b[0m\u001b[0;34m.\u001b[0m\u001b[0m_reader\u001b[0m \u001b[0;34m=\u001b[0m \u001b[0mparsers\u001b[0m\u001b[0;34m.\u001b[0m\u001b[0mTextReader\u001b[0m\u001b[0;34m(\u001b[0m\u001b[0msrc\u001b[0m\u001b[0;34m,\u001b[0m \u001b[0;34m**\u001b[0m\u001b[0mkwds\u001b[0m\u001b[0;34m)\u001b[0m\u001b[0;34m\u001b[0m\u001b[0;34m\u001b[0m\u001b[0m\n\u001b[0m\u001b[1;32m   1849\u001b[0m         \u001b[0mself\u001b[0m\u001b[0;34m.\u001b[0m\u001b[0munnamed_cols\u001b[0m \u001b[0;34m=\u001b[0m \u001b[0mself\u001b[0m\u001b[0;34m.\u001b[0m\u001b[0m_reader\u001b[0m\u001b[0;34m.\u001b[0m\u001b[0munnamed_cols\u001b[0m\u001b[0;34m\u001b[0m\u001b[0;34m\u001b[0m\u001b[0m\n\u001b[1;32m   1850\u001b[0m \u001b[0;34m\u001b[0m\u001b[0m\n",
      "\u001b[0;32mpandas/_libs/parsers.pyx\u001b[0m in \u001b[0;36mpandas._libs.parsers.TextReader.__cinit__\u001b[0;34m()\u001b[0m\n",
      "\u001b[0;32mpandas/_libs/parsers.pyx\u001b[0m in \u001b[0;36mpandas._libs.parsers.TextReader._setup_parser_source\u001b[0;34m()\u001b[0m\n",
      "\u001b[0;31mFileNotFoundError\u001b[0m: [Errno 2] File b'/vol/ml/apartin/projects/LearningCurves/notebooks/../../out/lrn_crv/top6.nn_model0.sgd.cvf5.rna.dsc.AUC1_2019-6-21_h23-m20/lrn_crv_scores.csv' does not exist: b'/vol/ml/apartin/projects/LearningCurves/notebooks/../../out/lrn_crv/top6.nn_model0.sgd.cvf5.rna.dsc.AUC1_2019-6-21_h23-m20/lrn_crv_scores.csv'"
     ]
    }
   ],
   "source": [
    "# Same metric for different runs\n",
    "tmp = pd.read_csv(runs['run1'][1])\n",
    "metrics = tmp['metric'].unique()\n",
    "\n",
    "colors = ['b', 'r', 'k', 'c', 'm', 'g']\n",
    "title = None\n",
    "fontsize=14\n",
    "figsize=(20,18)\n",
    "\n",
    "ncols=2\n",
    "nrows=int(np.ceil(len(set(metrics))/ncols))\n",
    "fig, ax = plt.subplots(nrows, ncols, figsize=figsize)\n",
    "ax = ax.ravel()\n",
    "\n",
    "for i, met_name in enumerate(metrics):\n",
    "        \n",
    "    #plt.figure(figsize=figsize)\n",
    "        \n",
    "    for j, (k, v) in enumerate(runs.items()):\n",
    "        df = pd.read_csv(runs[k][1])\n",
    "        cvf = len([c for c in df.columns.tolist() if c[0]=='f']) # get the number of cv_folds\n",
    "        \n",
    "        dfm = df[df['metric']==met_name].reset_index(drop=True)  # scores for a specific metric \n",
    "\n",
    "        tr_sizes  = dfm['tr_size'].unique()\n",
    "        te_scores = dfm.loc[dfm['tr_set']==False, dfm.columns[-cvf:]]\n",
    "\n",
    "        te_scores_mean = np.mean(te_scores, axis=1)\n",
    "        te_scores_std  = np.std(te_scores, axis=1)\n",
    "        \n",
    "        # plt.plot(tr_sizes, te_scores_mean, '.--', color=colors[j], label=runs[k][0])\n",
    "        linestype = dd[ runs[k][0].split('_')[-1] ]\n",
    "        #plt.plot(tr_sizes, te_scores_mean, marker='.', linestyle=linestype, color=colors[j], label=runs[k][0])\n",
    "        ax[i].plot(tr_sizes, te_scores_mean, marker='.', linestyle=linestype, color=colors[j], label=runs[k][0])\n",
    "        #plt.fill_between(tr_sizes, te_scores_mean - te_scores_std, te_scores_mean + te_scores_std, alpha=0.1, color=colors[j])\n",
    "        ax[i].fill_between(tr_sizes, te_scores_mean - te_scores_std, te_scores_mean + te_scores_std, alpha=0.1, color=colors[j])\n",
    "        \n",
    "        #plt.title(f'Learning curve ({src_name})', fontsize=fontsize)\n",
    "        ax[i].set_title(f'Learning curve ({src_name})', fontsize=fontsize)\n",
    "        \n",
    "        #plt.xlabel('Train dataset size', fontsize=fontsize)\n",
    "        ax[i].set_xlabel('Train dataset size', fontsize=fontsize)\n",
    "        #plt.ylabel(met_name, fontsize=fontsize)\n",
    "        ax[i].set_ylabel(met_name, fontsize=fontsize)\n",
    "        #plt.legend(loc='best', frameon=True)\n",
    "        ax[i].legend(loc='best', frameon=True)\n",
    "\n",
    "    plt.tight_layout()\n",
    "    #plt.grid(True)\n",
    "    ax[i].grid(True)\n",
    "    \n",
    "    if save:\n",
    "        plt.savefig( outdir/(src_name+'_'+met_name+'.png') )"
   ]
  },
  {
   "cell_type": "code",
   "execution_count": null,
   "metadata": {},
   "outputs": [],
   "source": []
  },
  {
   "cell_type": "code",
   "execution_count": 8,
   "metadata": {},
   "outputs": [],
   "source": [
    "# https://github.com/bckenstler/CLR"
   ]
  },
  {
   "cell_type": "code",
   "execution_count": 9,
   "metadata": {},
   "outputs": [],
   "source": [
    "base_lr=0.0001  # 0.001\n",
    "max_lr=0.001    # 0.006\n",
    "step_size=2000.\n",
    "mode='exp_range'\n",
    "gamma=0.99994\n",
    "scale_fn=None\n",
    "scale_mode='cycle'"
   ]
  },
  {
   "cell_type": "code",
   "execution_count": 20,
   "metadata": {},
   "outputs": [],
   "source": [
    "batch = 32\n",
    "datasize = 20386\n",
    "iterations = 20386/batch"
   ]
  },
  {
   "cell_type": "code",
   "execution_count": 39,
   "metadata": {},
   "outputs": [],
   "source": [
    "cycle = np.floor(1+iterations/(2*step_size))\n",
    "x = np.abs(iterations/step_size - 2*cycle + 1)\n",
    "lr= base_lr + (max_lr-base_lr)*np.maximum(0, (1-x))*gamma**(iterations)"
   ]
  },
  {
   "cell_type": "code",
   "execution_count": null,
   "metadata": {},
   "outputs": [],
   "source": []
  }
 ],
 "metadata": {
  "kernelspec": {
   "display_name": "Python 3",
   "language": "python",
   "name": "python3"
  },
  "language_info": {
   "codemirror_mode": {
    "name": "ipython",
    "version": 3
   },
   "file_extension": ".py",
   "mimetype": "text/x-python",
   "name": "python",
   "nbconvert_exporter": "python",
   "pygments_lexer": "ipython3",
   "version": "3.6.8"
  }
 },
 "nbformat": 4,
 "nbformat_minor": 2
}
