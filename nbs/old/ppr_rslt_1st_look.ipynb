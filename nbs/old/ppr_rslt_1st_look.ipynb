{
 "cells": [
  {
   "cell_type": "markdown",
   "metadata": {},
   "source": [
    "# Results Section: Fig of first look"
   ]
  },
  {
   "cell_type": "markdown",
   "metadata": {},
   "source": [
    "Colors:<br>\n",
    "https://matplotlib.org/examples/color/named_colors.html"
   ]
  },
  {
   "cell_type": "code",
   "execution_count": 1,
   "metadata": {},
   "outputs": [
    {
     "name": "stdout",
     "output_type": "stream",
     "text": [
      "/vol/ml/apartin/projects/LearningCurves/notebooks\n"
     ]
    }
   ],
   "source": [
    "%load_ext autoreload\n",
    "%autoreload 2\n",
    "%matplotlib inline\n",
    "\n",
    "import warnings\n",
    "warnings.filterwarnings('ignore')\n",
    "\n",
    "import os\n",
    "import sys\n",
    "from pathlib import Path\n",
    "\n",
    "import sklearn\n",
    "import numpy as np\n",
    "import pandas as pd\n",
    "from scipy.stats import iqr\n",
    "from glob import glob\n",
    "\n",
    "from sklearn import metrics\n",
    "from math import sqrt\n",
    "\n",
    "import matplotlib\n",
    "import matplotlib.pyplot as plt\n",
    "# plt.style.use('ggplot')\n",
    "\n",
    "# Make all python scripts available in the path\n",
    "sys.path.append('../')\n",
    "\n",
    "import pp_utils\n",
    "import lrn_crv_plot\n",
    "%matplotlib inline\n",
    "\n",
    "filepath = Path(os.getcwd())\n",
    "print(filepath)"
   ]
  },
  {
   "cell_type": "code",
   "execution_count": 2,
   "metadata": {},
   "outputs": [],
   "source": [
    "from fit import * # weighted_power_law, fit_weighted_pwr_law\n",
    "import rpy2.robjects as robjects"
   ]
  },
  {
   "cell_type": "code",
   "execution_count": 3,
   "metadata": {},
   "outputs": [],
   "source": [
    "save_fig_path = filepath/'figs/first_look'\n",
    "os.makedirs(save_fig_path, exist_ok=True)\n",
    "\n",
    "def save_fig(save_fig_path, fname):    \n",
    "    # plt.savefig(save_fig_path/(fname + '.eps'), format='eps')\n",
    "    plt.savefig(save_fig_path/(fname + '.png'), dpi=200)"
   ]
  },
  {
   "cell_type": "code",
   "execution_count": 4,
   "metadata": {},
   "outputs": [],
   "source": [
    "def calc_gof(y, yfit):\n",
    "    gof = {}\n",
    "    rmse = sqrt( metrics.mean_squared_error(y, yfit) )\n",
    "    mae = metrics.mean_absolute_error(y, yfit)\n",
    "    gof['rmse'] = rmse\n",
    "    gof['mae'] = mae\n",
    "    return gof"
   ]
  },
  {
   "cell_type": "code",
   "execution_count": null,
   "metadata": {},
   "outputs": [],
   "source": []
  },
  {
   "cell_type": "markdown",
   "metadata": {},
   "source": [
    "### Get dir path of all runs"
   ]
  },
  {
   "cell_type": "code",
   "execution_count": 6,
   "metadata": {},
   "outputs": [],
   "source": [
    "src = 'gdsc_on_none'\n",
    "# src = 'top6_on_none'\n",
    "\n",
    "# GDSC\n",
    "if src=='gdsc_on_none':\n",
    "    # base_dir = Path('/vol/ml/apartin/projects/LearningCurves/trn.gdsc/split_on_none/multi_seed_lgbm_100_trees')\n",
    "    base_dir = Path('/vol/ml/apartin/projects/LearningCurves/trn.gdsc/split_on_none/multi_seed_rf_100_trees')\n",
    "    # base_dir = Path('/vol/ml/apartin/projects/LearningCurves/trn.gdsc/split_on_none/fine_grain_lgb_subset')\n",
    "    \n",
    "# Top6    \n",
    "elif src=='top6_on_none':\n",
    "    base_dir = Path('/vol/ml/apartin/projects/LearningCurves/trn.top6/split_on_none/multi_seed_lgbm_100_trees')\n",
    "    # base_dir = Path('/vol/ml/apartin/projects/LearningCurves/trn.top6/split_on_none/multi_seed_rf_100_trees')\n",
    "    # base_dir = Path('/vol/ml/apartin/projects/LearningCurves/trn.top6/split_on_none/nn_reg0')\n",
    "    \n",
    "# Get all run dirs\n",
    "runs = glob(str(base_dir/'*'))"
   ]
  },
  {
   "cell_type": "markdown",
   "metadata": {},
   "source": [
    "### Aggregate results over runs"
   ]
  },
  {
   "cell_type": "code",
   "execution_count": 7,
   "metadata": {},
   "outputs": [
    {
     "name": "stdout",
     "output_type": "stream",
     "text": [
      "17\n",
      "Training set sizes: [    2     4     8    16    32    64   128   256   512  1024  2048  4096\n",
      "  8192 16384 32768 65536 88416]\n"
     ]
    }
   ],
   "source": [
    "scores = []\n",
    "# prf = 'id'\n",
    "prf = 'run'\n",
    "\n",
    "for i, r in enumerate(runs):\n",
    "    # scr_tmp = pd.read_csv( Path(r)/'lrn_crv_scores.csv' )\n",
    "    dpath = Path(r)/'lrn_crv_scores.csv'\n",
    "    if not dpath.exists():\n",
    "        continue\n",
    "        \n",
    "    scr_tmp = pd.read_csv( dpath )\n",
    "    scr_tmp.rename(columns={'fold0': prf+str(i)}, inplace=True)\n",
    "    if len(scores)==0:\n",
    "        scores = scr_tmp\n",
    "    else:\n",
    "        scores = scores.merge(scr_tmp, on=['metric', 'tr_size', 'set'])\n",
    "        \n",
    "run_col_names = [c for c in scores.columns if prf in c]\n",
    "\n",
    "scores_mean   = scores[run_col_names].mean(axis=1)\n",
    "scores_median = scores[run_col_names].median(axis=1)\n",
    "scores_std    = scores[run_col_names].std(axis=1)\n",
    "# scores_iqr    = iqr(scores.iloc[:, 6:].values, axis=0)\n",
    "\n",
    "scores.insert(loc=3, column='mean', value=scores_mean)\n",
    "scores.insert(loc=3, column='median', value=scores_median)\n",
    "scores.insert(loc=3, column='std', value=scores_std)\n",
    "print(len(np.unique(scores.tr_size)))\n",
    "\n",
    "# display(scores[:2])\n",
    "print('Training set sizes:', np.unique(scores.tr_size))\n",
    "\n",
    "# scores_te = scores[(scores.metric=='mean_absolute_error') & (scores.set=='te')].reset_index(drop=True).iloc[:, :6]\n",
    "scores_te = scores[(scores.metric=='mean_absolute_error') & (scores.set=='te')].reset_index(drop=True)\n",
    "\n",
    "save = True\n",
    "if save:\n",
    "    scores.to_csv(base_dir/'all_seed_runs_scores.csv', index=False)\n",
    "    scores_te.to_csv(base_dir/'scores.csv', index=False)"
   ]
  },
  {
   "cell_type": "code",
   "execution_count": 8,
   "metadata": {},
   "outputs": [],
   "source": [
    "# figsize = (6, 4.5)\n",
    "# metric_name = 'mean_absolute_error'\n",
    "# tr_set = 'te'\n",
    "\n",
    "# shift_idx=2"
   ]
  },
  {
   "cell_type": "code",
   "execution_count": 9,
   "metadata": {},
   "outputs": [],
   "source": [
    "# ax = None\n",
    "\n",
    "# # plot_args = {'tr_set': tr_set, 'metric_name': metric_name, 'figsize': figsize, 'xtick_scale': 'linear', 'ytick_scale': 'linear'}\n",
    "# plot_args = {'metric_name': metric_name, 'xtick_scale': 'log2', 'ytick_scale': 'linear', 'figsize': figsize}\n",
    "# ax = lrn_crv_plot.plot_lrn_crv_new(\n",
    "#         x = scores_te['tr_size'], y = scores_te['id5'],\n",
    "#         ax=ax, ls='--', marker='.', alpha=1,\n",
    "#         **plot_args, label='Raw Data')"
   ]
  },
  {
   "cell_type": "code",
   "execution_count": null,
   "metadata": {},
   "outputs": [],
   "source": []
  },
  {
   "cell_type": "markdown",
   "metadata": {},
   "source": [
    "# LC on lin-lin scale\n",
    "Generated using GBDT for multiple data shuffles of GDSC."
   ]
  },
  {
   "cell_type": "markdown",
   "metadata": {},
   "source": [
    "### TODO!\n",
    "- Add more ticks\n",
    "- Add data size as 1x10^3, 2x20^3. Or, 10, 20, 30, etc., but at the label (say in thousands)"
   ]
  },
  {
   "cell_type": "code",
   "execution_count": 10,
   "metadata": {},
   "outputs": [],
   "source": [
    "figsize = (6, 4.5)\n",
    "metric_name = 'mean_absolute_error'\n",
    "tr_set = 'te'\n",
    "\n",
    "# shift_idx=1\n",
    "shift_idx=2\n",
    "# shift_idx=3"
   ]
  },
  {
   "cell_type": "code",
   "execution_count": 11,
   "metadata": {},
   "outputs": [
    {
     "data": {
      "image/png": "[encoded data removed]",
      "text/plain": [
       "<Figure size 432x324 with 1 Axes>"
      ]
     },
     "metadata": {
      "needs_background": "light"
     },
     "output_type": "display_data"
    }
   ],
   "source": [
    "plot_args = {'tr_set': tr_set, 'metric_name': metric_name, 'figsize': figsize, 'xtick_scale': 'linear', 'ytick_scale': 'linear'}\n",
    "\n",
    "ax = pp_utils.plot_lc_multi_runs( runs, shard_min_idx=shift_idx, **plot_args );\n",
    "plt.tight_layout()\n",
    "# ax.set_xlim([2**1, 2**17])\n",
    "# ax.set_ylim([0.065, 0.165])\n",
    "ax.grid(False)\n",
    "\n",
    "# labels = [item.get_text() for item in ax.get_xticklabels()]\n",
    "# labels[1] = 'Testing'\n",
    "# ax.set_xticklabels(labels)\n",
    "# plt.show()\n",
    "\n",
    "save_fig(save_fig_path, fname=f'{src}_all_runs_lin')"
   ]
  },
  {
   "cell_type": "markdown",
   "metadata": {},
   "source": [
    "# LC on log-log scale\n",
    "Generated using GBDT for multiple data shuffles of GDSC."
   ]
  },
  {
   "cell_type": "markdown",
   "metadata": {},
   "source": [
    "### TODO!\n",
    "- https://stackoverflow.com/questions/14530113/set-ticks-with-logarithmic-scale\n",
    "- https://jakevdp.github.io/PythonDataScienceHandbook/04.10-customizing-ticks.html\n",
    "- https://matplotlib.org/api/_as_gen/matplotlib.axes.Axes.set_xticklabels.html\n",
    "- Add more ticks: 2^3, 2^4, 2^5, etc."
   ]
  },
  {
   "cell_type": "code",
   "execution_count": 12,
   "metadata": {},
   "outputs": [
    {
     "data": {
      "image/png": "[encoded data removed]",
      "text/plain": [
       "<Figure size 432x324 with 1 Axes>"
      ]
     },
     "metadata": {
      "needs_background": "light"
     },
     "output_type": "display_data"
    }
   ],
   "source": [
    "plot_args = {'tr_set': tr_set, 'metric_name': metric_name, 'figsize': figsize, 'xtick_scale': 'log2', 'ytick_scale': 'log2'}\n",
    "# plot_args = {'tr_set': tr_set, 'metric_name': metric_name, 'figsize': figsize, 'xtick_scale': 'log2', 'ytick_scale': 'linear'}\n",
    "\n",
    "ax = pp_utils.plot_lc_multi_runs( runs, shard_min_idx=shift_idx, **plot_args );\n",
    "plt.tight_layout()\n",
    "# ax.set_xlim([2**2, 2**17])\n",
    "# ax.set_ylim([2**-4, 2**-2])\n",
    "# ax.set_ylim([0.065, 0.165])\n",
    "ax.grid(False)\n",
    "\n",
    "ax.set_xticks([2**i for i in range(2, 17)])\n",
    "# ax.get_xaxis().set_major_formatter(matplotlib.ticker.ScalarFormatter())\n",
    "\n",
    "# ax.get_xaxis().set_major_formatter(matplotlib.ticker.LogFormatter(2))\n",
    "# ax.get_xaxis().set_minor_locator(matplotlib.ticker.AutoMinorLocator())\n",
    "\n",
    "locs, labels = plt.xticks()\n",
    "# tmp = ax.get_xticklabels(); print(list(tmp))\n",
    "# tmp = ax.get_xticks(); print(list(tmp))\n",
    "# ax.set_xticklabels(labels, fontdict=None, minor=False)\n",
    "\n",
    "save_fig(save_fig_path, fname=f'{src}_all_runs_log')"
   ]
  },
  {
   "cell_type": "markdown",
   "metadata": {},
   "source": [
    "# LC Median and STD across shuffles"
   ]
  },
  {
   "cell_type": "code",
   "execution_count": 13,
   "metadata": {},
   "outputs": [],
   "source": [
    "figsize = (6, 4.5)\n",
    "# figsize = (10, 8)\n",
    "\n",
    "plot_args = {'metric_name': metric_name, 'xtick_scale': 'log2', 'ytick_scale': 'log2', 'figsize': figsize}"
   ]
  },
  {
   "cell_type": "code",
   "execution_count": 14,
   "metadata": {},
   "outputs": [],
   "source": [
    "# The previous two figures should help decide which shards to use\n",
    "scr = scores_te[shift_idx:].reset_index(drop=True)\n",
    "y_col_name = 'median'"
   ]
  },
  {
   "cell_type": "code",
   "execution_count": 15,
   "metadata": {},
   "outputs": [
    {
     "data": {
      "image/png": "[encoded data removed]",
      "text/plain": [
       "<Figure size 432x324 with 1 Axes>"
      ]
     },
     "metadata": {
      "needs_background": "light"
     },
     "output_type": "display_data"
    }
   ],
   "source": [
    "x = scr['tr_size']\n",
    "y = scr[y_col_name]\n",
    "yerr = scr['std']\n",
    "\n",
    "shard_min_idx = 0\n",
    "xf = x[shard_min_idx:]\n",
    "yf = y[shard_min_idx:]\n",
    "\n",
    "ax = None\n",
    "\n",
    "ax = lrn_crv_plot.plot_lrn_crv_new(x=x, y=y, yerr=yerr,\n",
    "                                   ax=ax, ls='', marker='v', alpha=1,\n",
    "                                   **plot_args, color='b', label='Median and STD')\n",
    "\n",
    "ax.legend(frameon=True, fontsize=10, loc='best');\n",
    "plt.tight_layout()\n",
    "# ax.set_xlim([2**2, 2**17])\n",
    "# ax.set_ylim([2**-4, 2**-2])\n",
    "# ax.set_xlim([2**2, 2**17])\n",
    "# ax.set_ylim([0.055, 0.165])\n",
    "# ax.set_ylim([0.065, 0.165])\n",
    "ax.grid(False)\n",
    "# ax.set_xticks([2**i for i in range(2, 17)]) # GDSC\n",
    "ax.set_xticks([2**i for i in range(2, 19)]) # Top6\n",
    "save_fig(save_fig_path, fname=f'{src}_avg_median_std')"
   ]
  },
  {
   "cell_type": "code",
   "execution_count": null,
   "metadata": {},
   "outputs": [],
   "source": []
  },
  {
   "cell_type": "markdown",
   "metadata": {},
   "source": [
    "# Power-law fit to all LC data"
   ]
  },
  {
   "cell_type": "markdown",
   "metadata": {},
   "source": [
    "#### Un-weighted power-law"
   ]
  },
  {
   "cell_type": "code",
   "execution_count": 27,
   "metadata": {},
   "outputs": [],
   "source": [
    "# x = scr['tr_size']\n",
    "# y = scr[y_col_name]\n",
    "# yerr = scr['std']\n",
    "\n",
    "# shard_min_idx = 0\n",
    "# xf = x[shard_min_idx:]\n",
    "# yf = y[shard_min_idx:]\n",
    "\n",
    "# ax = None\n",
    "\n",
    "# ax = lrn_crv_plot.plot_lrn_crv_new(x=x, y=y, yerr=yerr,\n",
    "#                                    ax=ax, ls='', marker='v', alpha=1,\n",
    "#                                    **plot_args, label='Median and STD')\n",
    "\n",
    "# shard_min_idx = 0\n",
    "\n",
    "# ax, _, gof = lrn_crv_plot.plot_lrn_crv_power_law(x=xf, y=yf,\n",
    "#                                                  **plot_args, plot_raw=False, ax=ax, alpha=1);\n",
    "\n",
    "# ax.legend(frameon=True, fontsize=10, loc='best')\n",
    "# plt.tight_layout()\n",
    "# # ax.set_xlim([2**2, 2**17])\n",
    "# # ax.set_ylim([0.055, 0.165])\n",
    "# ax.set_ylim([0.060, 0.150])\n",
    "# ax.grid(False)\n",
    "# ax.set_xticks([2**i for i in range(2, 17)])\n",
    "\n",
    "# save_fig(save_fig_path, fname=f'{src}_agg_median_std_fit_all')\n",
    "# print('GOF:', gof)"
   ]
  },
  {
   "cell_type": "markdown",
   "metadata": {},
   "source": [
    "#### Weighted power-law"
   ]
  },
  {
   "cell_type": "code",
   "execution_count": 37,
   "metadata": {},
   "outputs": [
    {
     "name": "stdout",
     "output_type": "stream",
     "text": [
      "firebrick\n",
      "GOF: {'rmse': 0.022160100754967663, 'mae': 0.010644234512371332}\n"
     ]
    },
    {
     "data": {
      "image/png": "[encoded data removed]",
      "text/plain": [
       "<Figure size 432x324 with 1 Axes>"
      ]
     },
     "metadata": {
      "needs_background": "light"
     },
     "output_type": "display_data"
    }
   ],
   "source": [
    "x = scr['tr_size']\n",
    "y = scr[y_col_name]\n",
    "yerr = scr['std']\n",
    "\n",
    "shard_min_idx = 0\n",
    "xf = x[shard_min_idx:]\n",
    "yf = y[shard_min_idx:]\n",
    "prms = fit_params(xf, yf)\n",
    "yfit = biased_powerlaw(xf, **prms)\n",
    "\n",
    "ax = None\n",
    "\n",
    "ax = lrn_crv_plot.plot_lrn_crv_new(x=x, y=y, yerr=yerr,\n",
    "                                   ax=ax, ls='', marker='v', alpha=1,\n",
    "                                   **plot_args, color='b', label='Median and STD')\n",
    "\n",
    "ax = lrn_crv_plot.plot_lrn_crv_new(x=xf, y=yfit,\n",
    "                                   ax=ax, ls='--', marker='', alpha=1,\n",
    "                                   **plot_args, color='firebrick', label='Fit')\n",
    "\n",
    "gof = calc_gof(yf, yfit)\n",
    "\n",
    "ax.legend(frameon=True, fontsize=10, loc='best')\n",
    "plt.tight_layout()\n",
    "ax.grid(False)\n",
    "# ax.set_xticks([2**i for i in range(2, 17)]) # GDSC\n",
    "ax.set_xticks([2**i for i in range(2, 18)]) # Top6\n",
    "\n",
    "save_fig(save_fig_path, fname=f'{src}_agg_median_std_fit_all')\n",
    "print('GOF:', gof)"
   ]
  },
  {
   "cell_type": "markdown",
   "metadata": {},
   "source": [
    "# Power-law fit to a subset LC data"
   ]
  },
  {
   "cell_type": "markdown",
   "metadata": {},
   "source": [
    "#### Un-weighted power-law"
   ]
  },
  {
   "cell_type": "code",
   "execution_count": 47,
   "metadata": {},
   "outputs": [],
   "source": [
    "# tot_pnts = len(scr['tr_size'])\n",
    "# n_pnts_fit = 10 # Number of points to use for curve fitting starting from the largest size\n",
    "\n",
    "# ax = None\n",
    "\n",
    "# ax = lrn_crv_plot.plot_lrn_crv_new(\n",
    "#         x = scr['tr_size'], y = scr[y_col_name], yerr = scr['std'],\n",
    "#         ax=ax, ls='', marker='v', alpha=1,\n",
    "#         **plot_args, label='Median and STD')\n",
    "\n",
    "# shard_min_idx = 0 if tot_pnts < n_pnts_fit else tot_pnts - n_pnts_fit\n",
    "\n",
    "# ax, _, gof = lrn_crv_plot.plot_lrn_crv_power_law(\n",
    "#         x = scr['tr_size'][shard_min_idx:], y = scr[y_col_name][shard_min_idx:],\n",
    "#         **plot_args, plot_raw=False, ax=ax, alpha=1 );\n",
    "\n",
    "# ax.legend(frameon=True, fontsize=10, loc='best')\n",
    "# plt.tight_layout()\n",
    "# # ax.set_xlim([2**2, 2**17])\n",
    "# # ax.set_ylim([0.055, 0.165])\n",
    "# ax.set_ylim([0.060, 0.150])\n",
    "# ax.grid(False)\n",
    "\n",
    "# save_fig(save_fig_path, fname=f'{src}_agg_median_std_fit_subset')\n",
    "# print('GOF:', gof)"
   ]
  },
  {
   "cell_type": "markdown",
   "metadata": {},
   "source": [
    "#### Weighted power-law"
   ]
  },
  {
   "cell_type": "code",
   "execution_count": 53,
   "metadata": {},
   "outputs": [
    {
     "name": "stdout",
     "output_type": "stream",
     "text": [
      "GOF: {'rmse': 0.0004446066747408091, 'mae': 0.00027204718996853296}\n"
     ]
    },
    {
     "data": {
      "image/png": "[encoded data removed]",
      "text/plain": [
       "<Figure size 432x324 with 1 Axes>"
      ]
     },
     "metadata": {
      "needs_background": "light"
     },
     "output_type": "display_data"
    }
   ],
   "source": [
    "tot_pnts = len(x)\n",
    "n_pnts_fit = 9 # Number of points to use for curve fitting starting from the largest size\n",
    "\n",
    "x = scr['tr_size']\n",
    "y = scr[y_col_name]\n",
    "yerr = scr['std']\n",
    "\n",
    "shard_min_idx = 0 if tot_pnts < n_pnts_fit else tot_pnts - n_pnts_fit\n",
    "\n",
    "xf = x[shard_min_idx:]\n",
    "yf = y[shard_min_idx:]\n",
    "prms = fit_params(xf, yf)\n",
    "yfit = biased_powerlaw(xf, **prms)\n",
    "\n",
    "ax = None\n",
    "\n",
    "ax = lrn_crv_plot.plot_lrn_crv_new(x=x, y=y, yerr=yerr,\n",
    "                                   ax=ax, ls='', marker='v', alpha=1,\n",
    "                                   **plot_args, color='b', label='Median and STD')\n",
    "\n",
    "ax = lrn_crv_plot.plot_lrn_crv_new(x=xf, y=yfit,\n",
    "                                   ax=ax, ls='--', marker='', alpha=1,\n",
    "                                   **plot_args, color='firebrick', label='Fit')\n",
    "\n",
    "gof = calc_gof(yf, yfit)\n",
    "\n",
    "ax.legend(frameon=True, fontsize=10, loc='best')\n",
    "plt.tight_layout()\n",
    "ax.grid(False)\n",
    "# ax.set_xticks([2**i for i in range(2, 17)]) # GDSC\n",
    "ax.set_xticks([2**i for i in range(2, 18)]) # Top6\n",
    "\n",
    "save_fig(save_fig_path, fname=f'{src}_agg_median_std_fit_all')\n",
    "print('GOF:', gof)"
   ]
  },
  {
   "cell_type": "markdown",
   "metadata": {},
   "source": [
    "# MAE as a function of LC points\n",
    "\n",
    "The workflow is to go backwards. We fit a power-law after every time we compute score for consecutive (smaller) shard. Stop when quality of fit decreases."
   ]
  },
  {
   "cell_type": "markdown",
   "metadata": {},
   "source": [
    "#### Un-weighted power-law"
   ]
  },
  {
   "cell_type": "code",
   "execution_count": 39,
   "metadata": {},
   "outputs": [],
   "source": [
    "# tot_pnts = len(scr['tr_size'])\n",
    "# print('tot_pnts', tot_pnts)\n",
    "# # min_points = 3  # 3 points doesn't work\n",
    "# min_pnts_fit = 4  # Min points to fit \n",
    "# # max_pnts_fit = 9  # Min points to fit\n",
    "# max_pnts_fit = tot_pnts\n",
    "\n",
    "# p_arr = []\n",
    "# gof_arr = []\n",
    "# prm_arr = []\n",
    "\n",
    "# ax = None\n",
    "# for n_pnts_fit in range(min_pnts_fit, max_pnts_fit+1):\n",
    "#     shard_min_idx = tot_pnts - n_pnts_fit\n",
    "    \n",
    "#     ax, prm, gof = lrn_crv_plot.plot_lrn_crv_power_law(\n",
    "#             x=scr['tr_size'][shard_min_idx:], y=scr['median'][shard_min_idx:],\n",
    "#             **plot_args, ax=ax, plot_raw=False, label=str(n_pnts_fit) );\n",
    "    \n",
    "#     prm_arr.append(prm)\n",
    "#     gof_arr.append(gof)\n",
    "#     p_arr.append(n_pnts_fit)"
   ]
  },
  {
   "cell_type": "code",
   "execution_count": 40,
   "metadata": {},
   "outputs": [],
   "source": [
    "# prm_df = pd.DataFrame(prm_arr)\n",
    "# gof_df = pd.DataFrame(gof_arr)\n",
    "# n_pnts_df = pd.DataFrame({'n_pnts': p_arr})\n",
    "# dd = pd.concat([n_pnts_df, gof_df, prm_df], axis=1)\n",
    "\n",
    "# display(dd.sort_values('mae'))"
   ]
  },
  {
   "cell_type": "code",
   "execution_count": 41,
   "metadata": {},
   "outputs": [],
   "source": [
    "# plot_beta = False\n",
    "# # plot_beta = True\n",
    "\n",
    "# fig, ax1 = plt.subplots()\n",
    "\n",
    "# # Plot metrics\n",
    "# alpha = 0.6\n",
    "# linewidth = 1\n",
    "# fontsize = 12\n",
    "# lns1 = ax1.plot(dd.n_pnts, dd.mae, marker='o', ls='', label='Fit MAE');\n",
    "# ax1.set_xlabel('Number of Curve Fitting Points', fontsize=fontsize)\n",
    "# # ax1.set_xlabel('Number of points used to fit power-law model', fontsize=fontsize)\n",
    "# ax1.set_ylabel('Fit MAE', fontsize=fontsize)\n",
    "# ax1.tick_params('y', colors='k')\n",
    "\n",
    "# leg = lns1\n",
    "\n",
    "# if plot_beta:\n",
    "#     ax2 = ax1.twinx()\n",
    "#     lns2 = ax2.plot(dd.n_pnts, dd.beta, color='m', marker='*', ls='', label='Fit Parameter $b$')\n",
    "#     ax2.set_ylabel('Fit Parameter $b$ in $am^{b} + c$', color='k', fontsize=fontsize)\n",
    "#     ax2.tick_params('y', colors='k')\n",
    "#     leg.append(lns2)\n",
    "#     leg = lns1 + lns2\n",
    "        \n",
    "# ax1.grid(True)\n",
    "\n",
    "# labs = [l.get_label() for l in leg]\n",
    "# legend = ax1.legend(leg, labs, loc=0)\n",
    "# frame = legend.get_frame()\n",
    "# frame.set_facecolor('0.95')\n",
    "\n",
    "# # ax.set_ylim([0.060, 0.150])\n",
    "# ax1.grid(False)\n",
    "# plt.tight_layout()\n",
    "\n",
    "# save_fig(save_fig_path, fname=f'{src}_mae_prm_b_num_points')"
   ]
  },
  {
   "cell_type": "markdown",
   "metadata": {},
   "source": [
    "#### Weighted power-law"
   ]
  },
  {
   "cell_type": "code",
   "execution_count": 45,
   "metadata": {},
   "outputs": [
    {
     "name": "stdout",
     "output_type": "stream",
     "text": [
      "tot_pnts 16\n"
     ]
    },
    {
     "data": {
      "image/png": "[encoded data removed]",
      "text/plain": [
       "<Figure size 432x324 with 1 Axes>"
      ]
     },
     "metadata": {
      "needs_background": "light"
     },
     "output_type": "display_data"
    }
   ],
   "source": [
    "x = scr['tr_size']\n",
    "y = scr[y_col_name]\n",
    "yerr = scr['std']\n",
    "\n",
    "tot_pnts = len(x)\n",
    "print('tot_pnts', tot_pnts)\n",
    "# min_points = 3  # 3 points doesn't work\n",
    "min_pnts_fit = 4  # Min points to fit \n",
    "# max_pnts_fit = 9  # Min points to fit\n",
    "max_pnts_fit = tot_pnts\n",
    "\n",
    "p_arr = []\n",
    "gof_arr = []\n",
    "prm_arr = []\n",
    "\n",
    "ax = None\n",
    "ax = lrn_crv_plot.plot_lrn_crv_new(x=x, y=y, yerr=yerr,\n",
    "                                   ax=ax, ls='', marker='v', alpha=1,\n",
    "                                   **plot_args, color='b', label='Median and STD');\n",
    "\n",
    "for n_pnts_fit in range(min_pnts_fit, max_pnts_fit+1):\n",
    "    shard_min_idx = tot_pnts - n_pnts_fit\n",
    "    \n",
    "    xf = x[shard_min_idx:]\n",
    "    yf = y[shard_min_idx:]\n",
    "    prms = fit_params(xf, yf)\n",
    "    yfit = biased_powerlaw(xf, **prms)\n",
    "    \n",
    "    gof = calc_gof(yf, yfit)\n",
    "    \n",
    "    ax = lrn_crv_plot.plot_lrn_crv_new(x=xf, y=yfit,\n",
    "                                       ax=ax, ls='--', marker='', alpha=1,\n",
    "                                       **plot_args, label='Fit');\n",
    "    \n",
    "    prm_arr.append(prms)\n",
    "    gof_arr.append(gof)\n",
    "    p_arr.append(n_pnts_fit)"
   ]
  },
  {
   "cell_type": "code",
   "execution_count": 46,
   "metadata": {},
   "outputs": [
    {
     "data": {
      "text/html": [
       "<div>\n",
       "<style scoped>\n",
       "    .dataframe tbody tr th:only-of-type {\n",
       "        vertical-align: middle;\n",
       "    }\n",
       "\n",
       "    .dataframe tbody tr th {\n",
       "        vertical-align: top;\n",
       "    }\n",
       "\n",
       "    .dataframe thead th {\n",
       "        text-align: right;\n",
       "    }\n",
       "</style>\n",
       "<table border=\"1\" class=\"dataframe\">\n",
       "  <thead>\n",
       "    <tr style=\"text-align: right;\">\n",
       "      <th></th>\n",
       "      <th>n_pnts</th>\n",
       "      <th>mae</th>\n",
       "      <th>rmse</th>\n",
       "      <th>alpha</th>\n",
       "      <th>beta</th>\n",
       "      <th>gamma</th>\n",
       "    </tr>\n",
       "  </thead>\n",
       "  <tbody>\n",
       "    <tr>\n",
       "      <th>0</th>\n",
       "      <td>4</td>\n",
       "      <td>0.000014</td>\n",
       "      <td>0.000015</td>\n",
       "      <td>4.690974</td>\n",
       "      <td>-0.698988</td>\n",
       "      <td>0.052097</td>\n",
       "    </tr>\n",
       "    <tr>\n",
       "      <th>1</th>\n",
       "      <td>5</td>\n",
       "      <td>0.000020</td>\n",
       "      <td>0.000024</td>\n",
       "      <td>2.941437</td>\n",
       "      <td>-0.651752</td>\n",
       "      <td>0.051987</td>\n",
       "    </tr>\n",
       "    <tr>\n",
       "      <th>2</th>\n",
       "      <td>6</td>\n",
       "      <td>0.000020</td>\n",
       "      <td>0.000024</td>\n",
       "      <td>3.115968</td>\n",
       "      <td>-0.657798</td>\n",
       "      <td>0.052004</td>\n",
       "    </tr>\n",
       "    <tr>\n",
       "      <th>3</th>\n",
       "      <td>7</td>\n",
       "      <td>0.000038</td>\n",
       "      <td>0.000050</td>\n",
       "      <td>2.694300</td>\n",
       "      <td>-0.642027</td>\n",
       "      <td>0.051952</td>\n",
       "    </tr>\n",
       "    <tr>\n",
       "      <th>4</th>\n",
       "      <td>8</td>\n",
       "      <td>0.000093</td>\n",
       "      <td>0.000140</td>\n",
       "      <td>2.218749</td>\n",
       "      <td>-0.620199</td>\n",
       "      <td>0.051865</td>\n",
       "    </tr>\n",
       "    <tr>\n",
       "      <th>5</th>\n",
       "      <td>9</td>\n",
       "      <td>0.000272</td>\n",
       "      <td>0.000445</td>\n",
       "      <td>1.695168</td>\n",
       "      <td>-0.588852</td>\n",
       "      <td>0.051713</td>\n",
       "    </tr>\n",
       "    <tr>\n",
       "      <th>6</th>\n",
       "      <td>10</td>\n",
       "      <td>0.000793</td>\n",
       "      <td>0.001451</td>\n",
       "      <td>1.137859</td>\n",
       "      <td>-0.540846</td>\n",
       "      <td>0.051421</td>\n",
       "    </tr>\n",
       "    <tr>\n",
       "      <th>7</th>\n",
       "      <td>11</td>\n",
       "      <td>0.001445</td>\n",
       "      <td>0.002776</td>\n",
       "      <td>0.799381</td>\n",
       "      <td>-0.497002</td>\n",
       "      <td>0.051083</td>\n",
       "    </tr>\n",
       "    <tr>\n",
       "      <th>8</th>\n",
       "      <td>12</td>\n",
       "      <td>0.002490</td>\n",
       "      <td>0.004895</td>\n",
       "      <td>0.583845</td>\n",
       "      <td>-0.456888</td>\n",
       "      <td>0.050696</td>\n",
       "    </tr>\n",
       "    <tr>\n",
       "      <th>9</th>\n",
       "      <td>13</td>\n",
       "      <td>0.003752</td>\n",
       "      <td>0.007617</td>\n",
       "      <td>0.454879</td>\n",
       "      <td>-0.424208</td>\n",
       "      <td>0.050313</td>\n",
       "    </tr>\n",
       "    <tr>\n",
       "      <th>10</th>\n",
       "      <td>14</td>\n",
       "      <td>0.005345</td>\n",
       "      <td>0.010204</td>\n",
       "      <td>0.387187</td>\n",
       "      <td>-0.402624</td>\n",
       "      <td>0.050017</td>\n",
       "    </tr>\n",
       "    <tr>\n",
       "      <th>11</th>\n",
       "      <td>15</td>\n",
       "      <td>0.007641</td>\n",
       "      <td>0.015393</td>\n",
       "      <td>0.331312</td>\n",
       "      <td>-0.381316</td>\n",
       "      <td>0.049684</td>\n",
       "    </tr>\n",
       "    <tr>\n",
       "      <th>12</th>\n",
       "      <td>16</td>\n",
       "      <td>0.010644</td>\n",
       "      <td>0.022160</td>\n",
       "      <td>0.291010</td>\n",
       "      <td>-0.363254</td>\n",
       "      <td>0.049367</td>\n",
       "    </tr>\n",
       "  </tbody>\n",
       "</table>\n",
       "</div>"
      ],
      "text/plain": [
       "    n_pnts       mae      rmse     alpha      beta     gamma\n",
       "0        4  0.000014  0.000015  4.690974 -0.698988  0.052097\n",
       "1        5  0.000020  0.000024  2.941437 -0.651752  0.051987\n",
       "2        6  0.000020  0.000024  3.115968 -0.657798  0.052004\n",
       "3        7  0.000038  0.000050  2.694300 -0.642027  0.051952\n",
       "4        8  0.000093  0.000140  2.218749 -0.620199  0.051865\n",
       "5        9  0.000272  0.000445  1.695168 -0.588852  0.051713\n",
       "6       10  0.000793  0.001451  1.137859 -0.540846  0.051421\n",
       "7       11  0.001445  0.002776  0.799381 -0.497002  0.051083\n",
       "8       12  0.002490  0.004895  0.583845 -0.456888  0.050696\n",
       "9       13  0.003752  0.007617  0.454879 -0.424208  0.050313\n",
       "10      14  0.005345  0.010204  0.387187 -0.402624  0.050017\n",
       "11      15  0.007641  0.015393  0.331312 -0.381316  0.049684\n",
       "12      16  0.010644  0.022160  0.291010 -0.363254  0.049367"
      ]
     },
     "metadata": {},
     "output_type": "display_data"
    }
   ],
   "source": [
    "prm_df = pd.DataFrame(prm_arr)\n",
    "gof_df = pd.DataFrame(gof_arr)\n",
    "n_pnts_df = pd.DataFrame({'n_pnts': p_arr})\n",
    "dd = pd.concat([n_pnts_df, gof_df, prm_df], axis=1)\n",
    "\n",
    "display(dd.sort_values('mae'))"
   ]
  },
  {
   "cell_type": "code",
   "execution_count": 48,
   "metadata": {},
   "outputs": [
    {
     "data": {
      "image/png": "[encoded data removed]",
      "text/plain": [
       "<Figure size 432x288 with 1 Axes>"
      ]
     },
     "metadata": {
      "needs_background": "light"
     },
     "output_type": "display_data"
    }
   ],
   "source": [
    "plot_beta = False\n",
    "# plot_beta = True\n",
    "\n",
    "fig, ax1 = plt.subplots()\n",
    "\n",
    "# Plot metrics\n",
    "alpha = 0.6\n",
    "linewidth = 1\n",
    "fontsize = 12\n",
    "lns1 = ax1.plot(dd.n_pnts, dd.mae, marker='o', ls='', color='teal', label='Fit MAE');\n",
    "ax1.set_xlabel('Number of Curve Fitting Points', fontsize=fontsize)\n",
    "# ax1.set_xlabel('Number of points used to fit power-law model', fontsize=fontsize)\n",
    "ax1.set_ylabel('Fit MAE', fontsize=fontsize)\n",
    "ax1.tick_params('y', colors='k')\n",
    "\n",
    "leg = lns1\n",
    "\n",
    "if plot_beta:\n",
    "    ax2 = ax1.twinx()\n",
    "    lns2 = ax2.plot(dd.n_pnts, dd.beta, color='m', marker='*', ls='', label='Fit Parameter $b$')\n",
    "    ax2.set_ylabel('Fit Parameter $b$ in $am^{b} + c$', color='k', fontsize=fontsize)\n",
    "    ax2.tick_params('y', colors='k')\n",
    "    leg.append(lns2)\n",
    "    leg = lns1 + lns2\n",
    "        \n",
    "ax1.grid(True)\n",
    "\n",
    "labs = [l.get_label() for l in leg]\n",
    "legend = ax1.legend(leg, labs, loc=0)\n",
    "frame = legend.get_frame()\n",
    "frame.set_facecolor('0.95')\n",
    "\n",
    "# ax.set_ylim([0.060, 0.150])\n",
    "ax1.grid(False)\n",
    "plt.tight_layout()\n",
    "\n",
    "save_fig(save_fig_path, fname=f'{src}_mae_prm_b_num_points')"
   ]
  },
  {
   "cell_type": "code",
   "execution_count": null,
   "metadata": {},
   "outputs": [],
   "source": []
  }
 ],
 "metadata": {
  "kernelspec": {
   "display_name": "Python 3",
   "language": "python",
   "name": "python3"
  },
  "language_info": {
   "codemirror_mode": {
    "name": "ipython",
    "version": 3
   },
   "file_extension": ".py",
   "mimetype": "text/x-python",
   "name": "python",
   "nbconvert_exporter": "python",
   "pygments_lexer": "ipython3",
   "version": "3.7.6"
  }
 },
 "nbformat": 4,
 "nbformat_minor": 4
}
