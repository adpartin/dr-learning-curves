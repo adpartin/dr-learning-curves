{
 "cells": [
  {
   "cell_type": "code",
   "execution_count": null,
   "metadata": {},
   "outputs": [],
   "source": [
    "def plot_agg_lrn_crv(df, outdir='.'):\n",
    "    \"\"\" Generates learning curve plots for each metric across all cell line sources. \"\"\"\n",
    "    # Get the number of cv_folds\n",
    "    cvf = len([c for c in df.columns.tolist() if c[0]=='f'])\n",
    "\n",
    "    rs = ['b', 'r', 'k', 'c', 'm']\n",
    "    title = None\n",
    "\n",
    "    for i, met_name in enumerate(df['metric'].unique()):\n",
    "        dfm = df[df['metric']==met_name].reset_index(drop=True)\n",
    "\n",
    "        y_values = dfm.iloc[:, -cvf:].values\n",
    "        y_ = y_values.min() * 0.05\n",
    "        ymin = y_values.min()\n",
    "        ymax = y_values.max()\n",
    "        ylim = [ymin - y_, ymax + y_]\n",
    "\n",
    "        fig = plt.figure(figsize=(14, 7))\n",
    "        for j, s in enumerate(dfm['src'].unique()):\n",
    "\n",
    "            dfs = dfm[dfm['src']==s].reset_index(drop=True)\n",
    "            tr_sizes  = dfs['tr_size'].unique()\n",
    "            tr_scores = dfs.loc[dfs['tr_set']==True, dfs.columns[-cvf:]]\n",
    "            te_scores = dfs.loc[dfs['tr_set']==False, dfs.columns[-cvf:]]\n",
    "\n",
    "            tr_scores_mean = np.mean(tr_scores, axis=1)\n",
    "            tr_scores_std  = np.std(tr_scores, axis=1)\n",
    "            te_scores_mean = np.mean(te_scores, axis=1)\n",
    "            te_scores_std  = np.std(te_scores, axis=1)\n",
    "\n",
    "            plt.plot(tr_sizes, tr_scores_mean, '.-', color=colors[j], label=s+'_tr')\n",
    "            plt.plot(tr_sizes, te_scores_mean, '.--', color=colors[j], label=s+'_val')\n",
    "\n",
    "            plt.fill_between(tr_sizes, tr_scores_mean - tr_scores_std, tr_scores_mean + tr_scores_std, alpha=0.1, color=colors[j])\n",
    "            plt.fill_between(tr_sizes, te_scores_mean - te_scores_std, te_scores_mean + te_scores_std, alpha=0.1, color=colors[j])\n",
    "\n",
    "            if title is not None:\n",
    "                plt.title(title)\n",
    "            else:\n",
    "                plt.title('Learning curve (' + met_name + ')')\n",
    "            plt.xlabel('Train set size')\n",
    "            plt.ylabel(met_name)\n",
    "            plt.legend(bbox_to_anchor=(1.1, 1), loc='upper right', ncol=1)\n",
    "            # plt.legend(loc='best')\n",
    "            plt.grid(True)\n",
    "            plt.tight_layout()\n",
    "        \n",
    "        plt.ylim(ylim) \n",
    "        plt.savefig( Path(outdir) / ('lrn_crv_' + met_name + '.png') )"
   ]
  }
 ],
 "metadata": {
  "kernelspec": {
   "display_name": "Python 3",
   "language": "python",
   "name": "python3"
  },
  "language_info": {
   "codemirror_mode": {
    "name": "ipython",
    "version": 3
   },
   "file_extension": ".py",
   "mimetype": "text/x-python",
   "name": "python",
   "nbconvert_exporter": "python",
   "pygments_lexer": "ipython3",
   "version": "3.6.8"
  }
 },
 "nbformat": 4,
 "nbformat_minor": 2
}
