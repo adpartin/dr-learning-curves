{
 "cells": [
  {
   "cell_type": "markdown",
   "metadata": {},
   "source": [
    "# We aim to explore how learning curves behave as a function of drug and cell diversity"
   ]
  },
  {
   "cell_type": "code",
   "execution_count": 6,
   "metadata": {},
   "outputs": [
    {
     "name": "stdout",
     "output_type": "stream",
     "text": [
      "The autoreload extension is already loaded. To reload it, use:\n",
      "  %reload_ext autoreload\n",
      "/vol/ml/apartin/projects/LearningCurves/notebooks\n"
     ]
    }
   ],
   "source": [
    "%load_ext autoreload\n",
    "%autoreload 2\n",
    "%matplotlib inline\n",
    "\n",
    "import warnings\n",
    "warnings.filterwarnings('ignore')\n",
    "\n",
    "import os\n",
    "import sys\n",
    "from pathlib import Path\n",
    "\n",
    "import sklearn\n",
    "import numpy as np\n",
    "import pandas as pd\n",
    "from glob import glob\n",
    "\n",
    "import matplotlib\n",
    "import matplotlib.pyplot as plt\n",
    "\n",
    "# Make all python scripts available in the path\n",
    "sys.path.append('../')\n",
    "\n",
    "import pp_utils\n",
    "import lrn_crv_plot\n",
    "from build_tidy_data import load_dsc, load_rna, load_rsp\n",
    "# from keras.models import load_model\n",
    "%matplotlib inline\n",
    "\n",
    "filepath = Path(os.getcwd())\n",
    "print(filepath)"
   ]
  },
  {
   "cell_type": "code",
   "execution_count": 7,
   "metadata": {},
   "outputs": [],
   "source": [
    "datapath = Path('./data')"
   ]
  },
  {
   "cell_type": "code",
   "execution_count": 16,
   "metadata": {},
   "outputs": [],
   "source": [
    "# Default settings\n",
    "DATADIR = filepath / '../data'\n",
    "OUTDIR = filepath / '../'\n",
    "RSP_FILENAME = 'combined_single_response_agg'  # reposne data\n",
    "DSC_FILENAME = 'pan_drugs_dragon7_descriptors.tsv'  # drug descriptors data (new)\n",
    "DRUG_META_FILENAME = 'drug_info'\n",
    "CELL_META_FILENAME = 'combined_cancer_types'"
   ]
  },
  {
   "cell_type": "code",
   "execution_count": 17,
   "metadata": {},
   "outputs": [],
   "source": [
    "# Settings\n",
    "na_values = ['na', '-', '']\n",
    "fea_prfx_dct = {'rna': 'GE_', 'cnv': 'CNV_', 'snp': 'SNP_',\n",
    "                'dsc': 'DD_', 'fng': 'FNG_'}\n",
    "\n",
    "prfx_dtypes = {'rna': np.float32, 'cnv': np.int8, 'snp': np.int8,\n",
    "               'dsc': np.float32, 'fng': np.int8}"
   ]
  },
  {
   "cell_type": "code",
   "execution_count": 26,
   "metadata": {},
   "outputs": [
    {
     "name": "stdout",
     "output_type": "stream",
     "text": [
      "\n",
      "Load response from ... /vol/ml/apartin/projects/LearningCurves/data/combined_single_response_agg\n",
      "\n",
      "Drop samples with low R2fit ...\n",
      "Dropped 429932 rsp data points.\n",
      "rsp.shape (4054148, 13)\n",
      "\n",
      "Extract specific sources.\n",
      "rsp.shape (4054148, 13)\n",
      "\n",
      "Load RNA-Seq ... {datadir / fname}\n",
      "Impute NA values ...\n",
      "Cols with missing values (before impute): 0\n",
      "rna.shape (2917, 943)\n",
      "\n",
      "Load drug descriptors ... /vol/ml/apartin/projects/LearningCurves/data/pan_drugs_dragon7_descriptors.tsv\n",
      "Drop descriptors with too many NA values ...\n",
      "dsc.shape (1801, 3838)\n",
      "Drop descriptors that have a single unique value (excluding NAs) ...\n",
      "dsc.shape (1801, 2821)\n",
      "Impute NA values ...\n",
      "Cols with missing values (before impute): 1196\n",
      "Cols with missing values (after impute): 0\n",
      "dsc.shape (1801, 2821)\n"
     ]
    }
   ],
   "source": [
    "rsp = load_rsp(RSP_FILENAME, src=None)\n",
    "rna = load_rna(DATADIR, rna_norm='raw', float_type=prfx_dtypes['rna'])\n",
    "dsc = load_dsc(DSC_FILENAME, float_type=prfx_dtypes['dsc'])\n",
    "\n",
    "cmeta = pd.read_csv(DATADIR/CELL_META_FILENAME, sep='\\t', header=None, names=['CELL', 'CANCER_TYPE'])\n",
    "dmeta = pd.read_csv(DATADIR/DRUG_META_FILENAME, sep='\\t')\n",
    "dmeta.rename(columns={'ID': 'DRUG', 'NAME': 'DRUG_NAME', 'CLEAN_NAME': 'DRUG_CLEAN_NAME'}, inplace=True)"
   ]
  },
  {
   "cell_type": "code",
   "execution_count": 27,
   "metadata": {},
   "outputs": [],
   "source": [
    "data = pd.merge(rsp, cmeta, on='CELL', how='left')\n",
    "data = pd.merge(data, dmeta, on='DRUG', how='left')\n",
    "data = pd.merge(data, rna, on='CELL', how='inner')\n",
    "data = pd.merge(data, dsc, on='DRUG', how='inner')\n",
    "# print(sys.getsizeof(data)/1e9)"
   ]
  },
  {
   "cell_type": "code",
   "execution_count": 31,
   "metadata": {},
   "outputs": [],
   "source": [
    "subset_cols = [c for c in data if 'DD_' not in c]"
   ]
  },
  {
   "cell_type": "code",
   "execution_count": 36,
   "metadata": {},
   "outputs": [],
   "source": [
    "# subset_cols = dsc.columns[1:]\n",
    "# data.duplicated(subset=subset_cols).sum()\n",
    "tmp = data.duplicated(subset=subset_cols)"
   ]
  },
  {
   "cell_type": "code",
   "execution_count": null,
   "metadata": {},
   "outputs": [],
   "source": []
  }
 ],
 "metadata": {
  "kernelspec": {
   "display_name": "Python 3",
   "language": "python",
   "name": "python3"
  },
  "language_info": {
   "codemirror_mode": {
    "name": "ipython",
    "version": 3
   },
   "file_extension": ".py",
   "mimetype": "text/x-python",
   "name": "python",
   "nbconvert_exporter": "python",
   "pygments_lexer": "ipython3",
   "version": "3.6.8"
  }
 },
 "nbformat": 4,
 "nbformat_minor": 2
}
