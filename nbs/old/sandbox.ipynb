{
 "cells": [
  {
   "cell_type": "code",
   "execution_count": 5,
   "metadata": {},
   "outputs": [
    {
     "name": "stderr",
     "output_type": "stream",
     "text": [
      "Using TensorFlow backend.\n"
     ]
    },
    {
     "name": "stdout",
     "output_type": "stream",
     "text": [
      "/vol/ml/apartin/projects/LearningCurves/notebooks\n"
     ]
    }
   ],
   "source": [
    "%load_ext autoreload\n",
    "%autoreload 2\n",
    "%matplotlib inline\n",
    "\n",
    "import warnings\n",
    "warnings.filterwarnings('ignore')\n",
    "\n",
    "import os\n",
    "import sys\n",
    "from pathlib import Path\n",
    "\n",
    "import sklearn\n",
    "import numpy as np\n",
    "import pandas as pd\n",
    "from glob import glob\n",
    "\n",
    "import matplotlib\n",
    "import matplotlib.pyplot as plt\n",
    "\n",
    "# Make all python scripts available in the path\n",
    "sys.path.append('../')\n",
    "\n",
    "import pp_utils\n",
    "import lrn_crv_plot\n",
    "from post_proc_from_serial import parse_args_file, parse_and_agg_scores\n",
    "from ml_models import plot_prfrm_metrics\n",
    "\n",
    "%matplotlib inline\n",
    "\n",
    "filepath = Path(os.getcwd())\n",
    "print(filepath)"
   ]
  },
  {
   "cell_type": "code",
   "execution_count": null,
   "metadata": {},
   "outputs": [],
   "source": [
    "df = pd.read_csv(Path('/vol/ml/apartin/projects/LearningCurves/trn.gdsc/split_on_cell/multi_seed_rf_100_trees/all_seed_runs_scores.csv'))"
   ]
  },
  {
   "cell_type": "code",
   "execution_count": 24,
   "metadata": {},
   "outputs": [],
   "source": [
    "fpath = Path('/vol/ml/apartin/projects/LearningCurves/hpo_runs/lc_gdsc_nn_reg0_hpo/run/id_217/output/data.nn_reg0.adam.cvf1.GE.DD.AUC_2019-11-7_h4-m5/cv1_sz213015/')\n",
    "trn_logs = fpath / 'training.log'\n",
    "h = plot_prfrm_metrics(logfile_path=trn_logs, skp_ep=0, outdir=fpath, add_lr=False)"
   ]
  },
  {
   "cell_type": "code",
   "execution_count": 46,
   "metadata": {},
   "outputs": [],
   "source": [
    "fpath = Path('/vol/ml/apartin/projects/LearningCurves/hpo_runs/lc_gdsc_nn_reg0_hpo/run/id_057/output/data.nn_reg0.adam.cvf1.GE.DD.AUC_2019-11-4_h23-m21/cv1_sz88416/')\n",
    "trn_logs = fpath / 'training.log'\n",
    "h = plot_prfrm_metrics(logfile_path=trn_logs, skp_ep=0, outdir=fpath, add_lr=False)"
   ]
  },
  {
   "cell_type": "code",
   "execution_count": null,
   "metadata": {},
   "outputs": [],
   "source": []
  },
  {
   "cell_type": "code",
   "execution_count": 28,
   "metadata": {},
   "outputs": [],
   "source": [
    "fpath = Path('/vol/ml/apartin/projects/LearningCurves/trn.top6/split_on_cell/nn_reg_ap/run_03/cv0_sz213019/')\n",
    "trn_logs = fpath / 'training.log'\n",
    "h = plot_prfrm_metrics(logfile_path=trn_logs, skp_ep=0, outdir=fpath, add_lr=False)"
   ]
  },
  {
   "cell_type": "code",
   "execution_count": null,
   "metadata": {},
   "outputs": [],
   "source": []
  },
  {
   "cell_type": "code",
   "execution_count": 30,
   "metadata": {},
   "outputs": [],
   "source": [
    "n_runs = 20\n",
    "digits = len(str(n_runs))"
   ]
  },
  {
   "cell_type": "code",
   "execution_count": 31,
   "metadata": {},
   "outputs": [
    {
     "data": {
      "text/plain": [
       "2"
      ]
     },
     "execution_count": 31,
     "metadata": {},
     "output_type": "execute_result"
    }
   ],
   "source": [
    "digits"
   ]
  },
  {
   "cell_type": "code",
   "execution_count": 57,
   "metadata": {},
   "outputs": [],
   "source": [
    "# df = pd.read_csv(Path('/vol/ml/apartin/projects/LearningCurves/trn.gdsc/split_on_cell/multi_seed_lgbm_100_trees/all_seed_runs_scores.csv'))\n",
    "df = pd.read_csv(Path('/vol/ml/apartin/projects/LearningCurves/trn.gdsc/split_on_cell/multi_seed_rf_100_trees/all_seed_runs_scores.csv'))\n",
    "df = df[(df.metric=='mean_absolute_error') & (df.set=='te')].reset_index(drop=True)"
   ]
  },
  {
   "cell_type": "code",
   "execution_count": null,
   "metadata": {},
   "outputs": [],
   "source": []
  },
  {
   "cell_type": "code",
   "execution_count": null,
   "metadata": {},
   "outputs": [],
   "source": [
    "# df = pd.read_csv(Path('/vol/ml/apartin/projects/LearningCurves/trn.gdsc/split_on_cell/multi_seed_lgbm_100_trees/all_seed_runs_scores.csv'))\n",
    "df = pd.read_csv(Path('/vol/ml/apartin/projects/LearningCurves/trn.gdsc/split_on_cell/multi_seed_rf_100_trees/all_seed_runs_scores.csv'))\n",
    "df = df[(df.metric=='mean_absolute_error') & (df.set=='te')].reset_index(drop=True)"
   ]
  },
  {
   "cell_type": "code",
   "execution_count": null,
   "metadata": {},
   "outputs": [],
   "source": []
  },
  {
   "cell_type": "code",
   "execution_count": 7,
   "metadata": {},
   "outputs": [],
   "source": [
    "# df = pd.read_csv(Path('/vol/ml/apartin/projects/LearningCurves/trn.gdsc/split_on_cell/multi_seed_lgbm_100_trees/all_seed_runs_scores.csv'))\n",
    "df = pd.read_csv(Path('/vol/ml/apartin/projects/LearningCurves/trn.top21/split_on_cell/top21.adam.nn_reg0.ge.dd.auc_2019-12-1/hpo_all.csv'))\n",
    "# df = df[(df.metric=='mean_absolute_error') & (df.set=='te')].reset_index(drop=True)"
   ]
  },
  {
   "cell_type": "code",
   "execution_count": 10,
   "metadata": {},
   "outputs": [
    {
     "data": {
      "text/html": [
       "<div>\n",
       "<style scoped>\n",
       "    .dataframe tbody tr th:only-of-type {\n",
       "        vertical-align: middle;\n",
       "    }\n",
       "\n",
       "    .dataframe tbody tr th {\n",
       "        vertical-align: top;\n",
       "    }\n",
       "\n",
       "    .dataframe thead th {\n",
       "        text-align: right;\n",
       "    }\n",
       "</style>\n",
       "<table border=\"1\" class=\"dataframe\">\n",
       "  <thead>\n",
       "    <tr style=\"text-align: right;\">\n",
       "      <th></th>\n",
       "      <th>mean_absolute_error</th>\n",
       "      <th>tr_size</th>\n",
       "    </tr>\n",
       "  </thead>\n",
       "  <tbody>\n",
       "    <tr>\n",
       "      <th>0</th>\n",
       "      <td>0.055923</td>\n",
       "      <td>392156</td>\n",
       "    </tr>\n",
       "    <tr>\n",
       "      <th>1</th>\n",
       "      <td>0.059719</td>\n",
       "      <td>131072</td>\n",
       "    </tr>\n",
       "    <tr>\n",
       "      <th>2</th>\n",
       "      <td>0.056969</td>\n",
       "      <td>262144</td>\n",
       "    </tr>\n",
       "    <tr>\n",
       "      <th>3</th>\n",
       "      <td>0.063548</td>\n",
       "      <td>65536</td>\n",
       "    </tr>\n",
       "    <tr>\n",
       "      <th>4</th>\n",
       "      <td>0.063102</td>\n",
       "      <td>32768</td>\n",
       "    </tr>\n",
       "  </tbody>\n",
       "</table>\n",
       "</div>"
      ],
      "text/plain": [
       "   mean_absolute_error  tr_size\n",
       "0             0.055923   392156\n",
       "1             0.059719   131072\n",
       "2             0.056969   262144\n",
       "3             0.063548    65536\n",
       "4             0.063102    32768"
      ]
     },
     "execution_count": 10,
     "metadata": {},
     "output_type": "execute_result"
    }
   ],
   "source": [
    "cols = ['mean_absolute_error', 'tr_size']\n",
    "df[cols]"
   ]
  },
  {
   "cell_type": "code",
   "execution_count": 11,
   "metadata": {},
   "outputs": [
    {
     "data": {
      "text/plain": [
       "7.443514644351464"
      ]
     },
     "execution_count": 11,
     "metadata": {},
     "output_type": "execute_result"
    }
   ],
   "source": [
    "1779/239"
   ]
  },
  {
   "cell_type": "code",
   "execution_count": 9,
   "metadata": {},
   "outputs": [
    {
     "data": {
      "text/plain": [
       "8192"
      ]
     },
     "execution_count": 9,
     "metadata": {},
     "output_type": "execute_result"
    }
   ],
   "source": [
    "2**13"
   ]
  },
  {
   "cell_type": "code",
   "execution_count": 10,
   "metadata": {},
   "outputs": [
    {
     "data": {
      "text/plain": [
       "16384"
      ]
     },
     "execution_count": 10,
     "metadata": {},
     "output_type": "execute_result"
    }
   ],
   "source": [
    "2**14"
   ]
  },
  {
   "cell_type": "code",
   "execution_count": 81,
   "metadata": {},
   "outputs": [],
   "source": [
    "def fn(a0, a1, n=30):\n",
    "    m = np.linspace(a0, a1, n)\n",
    "    m = np.array( [int(i) for i in m] )\n",
    "    # print(m)\n",
    "    return m"
   ]
  },
  {
   "cell_type": "code",
   "execution_count": 97,
   "metadata": {},
   "outputs": [
    {
     "data": {
      "text/plain": [
       "array([  2,   8,  15,  21,  28,  34,  41,  47,  54,  60,  67,  73,  80,\n",
       "        86,  93,  99, 106, 112, 119, 125, 132, 138, 145, 151, 158, 164,\n",
       "       171, 177, 184, 190, 197, 203, 210, 216, 223, 229, 236, 242, 249,\n",
       "       256])"
      ]
     },
     "execution_count": 97,
     "metadata": {},
     "output_type": "execute_result"
    }
   ],
   "source": [
    "fn(a0=2**1, a1=2**8, n=40)"
   ]
  },
  {
   "cell_type": "code",
   "execution_count": 98,
   "metadata": {},
   "outputs": [
    {
     "data": {
      "text/plain": [
       "array([  300,   712,  1124,  1537,  1949,  2362,  2774,  3186,  3599,\n",
       "        4011,  4424,  4836,  5248,  5661,  6073,  6486,  6898,  7310,\n",
       "        7723,  8135,  8548,  8960,  9373,  9785, 10197, 10610, 11022,\n",
       "       11435, 11847, 12259, 12672, 13084, 13497, 13909, 14321, 14734,\n",
       "       15146, 15559, 15971, 16384])"
      ]
     },
     "execution_count": 98,
     "metadata": {},
     "output_type": "execute_result"
    }
   ],
   "source": [
    "fn(a0=300, a1=2**14, n=40)"
   ]
  },
  {
   "cell_type": "code",
   "execution_count": 102,
   "metadata": {},
   "outputs": [
    {
     "data": {
      "text/plain": [
       "array([32768, 38904, 45041, 51178, 57315, 63452, 69589, 75726, 81863,\n",
       "       88000])"
      ]
     },
     "execution_count": 102,
     "metadata": {},
     "output_type": "execute_result"
    }
   ],
   "source": [
    "fn(a0=2**15, a1=88000, n=10)"
   ]
  },
  {
   "cell_type": "code",
   "execution_count": null,
   "metadata": {},
   "outputs": [],
   "source": []
  },
  {
   "cell_type": "code",
   "execution_count": 155,
   "metadata": {},
   "outputs": [
    {
     "data": {
      "text/plain": [
       "array([    2,   336,   670,  1004,  1339,  1673,  2007,  2342,  2676,\n",
       "        3010,  3345,  3679,  4013,  4348,  4682,  5016,  5351,  5685,\n",
       "        6019,  6354,  6688,  7022,  7357,  7691,  8025,  8360,  8694,\n",
       "        9028,  9363,  9697, 10031, 10366, 10700, 11034, 11369, 11703,\n",
       "       12037, 12372, 12706, 13040, 13375, 13709, 14043, 14378, 14712,\n",
       "       15046, 15381, 15715, 16049, 16384])"
      ]
     },
     "execution_count": 155,
     "metadata": {},
     "output_type": "execute_result"
    }
   ],
   "source": [
    "fn(a0=2**1, a1=2**14, n=50)"
   ]
  },
  {
   "cell_type": "code",
   "execution_count": 152,
   "metadata": {},
   "outputs": [
    {
     "data": {
      "text/plain": [
       "64"
      ]
     },
     "execution_count": 152,
     "metadata": {},
     "output_type": "execute_result"
    }
   ],
   "source": [
    "2**6"
   ]
  },
  {
   "cell_type": "code",
   "execution_count": null,
   "metadata": {},
   "outputs": [],
   "source": []
  },
  {
   "cell_type": "code",
   "execution_count": 138,
   "metadata": {},
   "outputs": [
    {
     "data": {
      "text/plain": [
       "array([        2,         4,         8,        16,        32,        64,\n",
       "             128,       256,       512,      1024,      2048,      4096,\n",
       "            8192,     16384,     32768,     65536,    131072,    262144,\n",
       "          524288,   1048576,   2097152,   4194304,   8388608,  16777216,\n",
       "        33554432,  67108864, 134217728, 268435456, 536870912])"
      ]
     },
     "execution_count": 138,
     "metadata": {},
     "output_type": "execute_result"
    }
   ],
   "source": [
    "2 ** np.array(np.arange(30))[1:]"
   ]
  },
  {
   "cell_type": "code",
   "execution_count": 143,
   "metadata": {},
   "outputs": [
    {
     "data": {
      "text/plain": [
       "array([  128.        ,   144.95760152,   164.16176748,   185.91012558,\n",
       "         210.53973361,   238.43230319,   270.02011558,   305.79272122,\n",
       "         346.30452679,   392.18338748,   444.14033753,   502.98060988,\n",
       "         569.61611576,   645.07957755,   730.54053397,   827.32346574,\n",
       "         936.92832244,  1061.05376886,  1201.62351104,  1360.81611005,\n",
       "        1541.09874546,  1745.26545189,  1976.48042121,  2238.32704143,\n",
       "        2534.86343231,  2870.68533843,  3250.99735443,  3681.69358621,\n",
       "        4169.44899825,  4721.82286274,  5347.37591382,  6055.80302246,\n",
       "        6858.08344837,  7766.65099747,  8795.58672194,  9960.83714955,\n",
       "       11280.46142418, 12774.91118788, 14467.34754204, 16384.        ])"
      ]
     },
     "execution_count": 143,
     "metadata": {},
     "output_type": "execute_result"
    }
   ],
   "source": [
    "2 ** np.linspace(7, 14, 40)"
   ]
  },
  {
   "cell_type": "code",
   "execution_count": 149,
   "metadata": {},
   "outputs": [
    {
     "data": {
      "text/plain": [
       "array([  128,   144,   164,   185,   210,   238,   270,   305,   346,\n",
       "         392,   444,   502,   569,   645,   730,   827,   936,  1061,\n",
       "        1201,  1360,  1541,  1745,  1976,  2238,  2534,  2870,  3250,\n",
       "        3681,  4169,  4721,  5347,  6055,  6858,  7766,  8795,  9960,\n",
       "       11280, 12774, 14467, 16384])"
      ]
     },
     "execution_count": 149,
     "metadata": {},
     "output_type": "execute_result"
    }
   ],
   "source": [
    "# m = 2 ** np.linspace(7, 14, 40)\n",
    "m = 2 ** np.linspace(7, 14, 40)\n",
    "m = np.array( [int(i) for i in m] )\n",
    "m"
   ]
  },
  {
   "cell_type": "code",
   "execution_count": 2,
   "metadata": {},
   "outputs": [
    {
     "data": {
      "text/plain": [
       "array([ 7.        ,  7.17948718,  7.35897436,  7.53846154,  7.71794872,\n",
       "        7.8974359 ,  8.07692308,  8.25641026,  8.43589744,  8.61538462,\n",
       "        8.79487179,  8.97435897,  9.15384615,  9.33333333,  9.51282051,\n",
       "        9.69230769,  9.87179487, 10.05128205, 10.23076923, 10.41025641,\n",
       "       10.58974359, 10.76923077, 10.94871795, 11.12820513, 11.30769231,\n",
       "       11.48717949, 11.66666667, 11.84615385, 12.02564103, 12.20512821,\n",
       "       12.38461538, 12.56410256, 12.74358974, 12.92307692, 13.1025641 ,\n",
       "       13.28205128, 13.46153846, 13.64102564, 13.82051282, 14.        ])"
      ]
     },
     "execution_count": 2,
     "metadata": {},
     "output_type": "execute_result"
    }
   ],
   "source": [
    "import numpy as np\n",
    "np.linspace(7, 14, 40)"
   ]
  },
  {
   "cell_type": "code",
   "execution_count": null,
   "metadata": {},
   "outputs": [],
   "source": []
  },
  {
   "cell_type": "code",
   "execution_count": null,
   "metadata": {},
   "outputs": [],
   "source": []
  },
  {
   "cell_type": "markdown",
   "metadata": {},
   "source": [
    "# Fine-grain run"
   ]
  },
  {
   "cell_type": "code",
   "execution_count": 116,
   "metadata": {},
   "outputs": [],
   "source": [
    "main = Path('/vol/ml/apartin/projects/LearningCurves/trn.gdsc/split_on_none/fine_grain_lgb_subset')\n",
    "def combine_runs(seed):\n",
    "    r00 = pd.read_csv(main/seed/'run_00'/'lrn_crv_scores.csv')\n",
    "    r01 = pd.read_csv(main/seed/'run_01'/'lrn_crv_scores.csv')\n",
    "    r02 = pd.read_csv(main/seed/'run_02'/'lrn_crv_scores.csv')\n",
    "    scores = pd.concat([r00, r01, r02], axis=0)\n",
    "    return scores"
   ]
  },
  {
   "cell_type": "code",
   "execution_count": 126,
   "metadata": {},
   "outputs": [],
   "source": [
    "seed = 'seed08'\n",
    "scores = combine_runs(seed)\n",
    "scores.to_csv(main/seed/'lrn_crv_scores.csv')"
   ]
  },
  {
   "cell_type": "code",
   "execution_count": 120,
   "metadata": {},
   "outputs": [
    {
     "data": {
      "text/plain": [
       "array([    2,     8,    14, ..., 76953, 82476, 88000])"
      ]
     },
     "execution_count": 120,
     "metadata": {},
     "output_type": "execute_result"
    }
   ],
   "source": [
    "scr_00.tr_size.values"
   ]
  },
  {
   "cell_type": "code",
   "execution_count": null,
   "metadata": {},
   "outputs": [],
   "source": []
  },
  {
   "cell_type": "code",
   "execution_count": null,
   "metadata": {},
   "outputs": [],
   "source": []
  },
  {
   "cell_type": "code",
   "execution_count": null,
   "metadata": {},
   "outputs": [],
   "source": []
  },
  {
   "cell_type": "markdown",
   "metadata": {},
   "source": [
    "## Response and goodness of fit"
   ]
  },
  {
   "cell_type": "code",
   "execution_count": 31,
   "metadata": {},
   "outputs": [
    {
     "name": "stdout",
     "output_type": "stream",
     "text": [
      "(4484080, 14)\n"
     ]
    },
    {
     "data": {
      "text/html": [
       "<div>\n",
       "<style scoped>\n",
       "    .dataframe tbody tr th:only-of-type {\n",
       "        vertical-align: middle;\n",
       "    }\n",
       "\n",
       "    .dataframe tbody tr th {\n",
       "        vertical-align: top;\n",
       "    }\n",
       "\n",
       "    .dataframe thead th {\n",
       "        text-align: right;\n",
       "    }\n",
       "</style>\n",
       "<table border=\"1\" class=\"dataframe\">\n",
       "  <thead>\n",
       "    <tr style=\"text-align: right;\">\n",
       "      <th></th>\n",
       "      <th>SOURCE</th>\n",
       "      <th>CELL</th>\n",
       "      <th>DRUG</th>\n",
       "      <th>STUDY</th>\n",
       "      <th>AUC</th>\n",
       "      <th>IC50</th>\n",
       "      <th>EC50</th>\n",
       "      <th>EC50se</th>\n",
       "      <th>R2fit</th>\n",
       "      <th>Einf</th>\n",
       "      <th>HS</th>\n",
       "      <th>AAC1</th>\n",
       "      <th>AUC1</th>\n",
       "      <th>DSS1</th>\n",
       "    </tr>\n",
       "  </thead>\n",
       "  <tbody>\n",
       "    <tr>\n",
       "      <th>0</th>\n",
       "      <td>CCLE</td>\n",
       "      <td>CCLE.1321N1</td>\n",
       "      <td>CCLE.1</td>\n",
       "      <td>fake_exp</td>\n",
       "      <td>0.8330</td>\n",
       "      <td>4.883</td>\n",
       "      <td>5.183</td>\n",
       "      <td>0.5746</td>\n",
       "      <td>0.9864</td>\n",
       "      <td>0.2017</td>\n",
       "      <td>0.7463</td>\n",
       "      <td>0.1017</td>\n",
       "      <td>0.8983</td>\n",
       "      <td>0.0551</td>\n",
       "    </tr>\n",
       "    <tr>\n",
       "      <th>1</th>\n",
       "      <td>CCLE</td>\n",
       "      <td>CCLE.1321N1</td>\n",
       "      <td>CCLE.10</td>\n",
       "      <td>fake_exp</td>\n",
       "      <td>0.7909</td>\n",
       "      <td>5.217</td>\n",
       "      <td>5.217</td>\n",
       "      <td>2.2840</td>\n",
       "      <td>0.6526</td>\n",
       "      <td>0.0000</td>\n",
       "      <td>0.8993</td>\n",
       "      <td>0.1136</td>\n",
       "      <td>0.8864</td>\n",
       "      <td>0.0728</td>\n",
       "    </tr>\n",
       "  </tbody>\n",
       "</table>\n",
       "</div>"
      ],
      "text/plain": [
       "  SOURCE         CELL     DRUG     STUDY     AUC   IC50   EC50  EC50se  \\\n",
       "0   CCLE  CCLE.1321N1   CCLE.1  fake_exp  0.8330  4.883  5.183  0.5746   \n",
       "1   CCLE  CCLE.1321N1  CCLE.10  fake_exp  0.7909  5.217  5.217  2.2840   \n",
       "\n",
       "    R2fit    Einf      HS    AAC1    AUC1    DSS1  \n",
       "0  0.9864  0.2017  0.7463  0.1017  0.8983  0.0551  \n",
       "1  0.6526  0.0000  0.8993  0.1136  0.8864  0.0728  "
      ]
     },
     "metadata": {},
     "output_type": "display_data"
    }
   ],
   "source": [
    "rsp = pd.read_csv(Path('../data/combined_single_response_agg'), sep='\\t', engine='c', low_memory=False)\n",
    "print(rsp.shape)\n",
    "display(rsp[:2])"
   ]
  },
  {
   "cell_type": "code",
   "execution_count": 32,
   "metadata": {},
   "outputs": [
    {
     "name": "stdout",
     "output_type": "stream",
     "text": [
      "Total samples with R2fit<0: 44661\n"
     ]
    }
   ],
   "source": [
    "# Some responses have very bad fit\n",
    "print('Total samples with R2fit<0:', rsp[rsp['R2fit']<0].shape[0])\n",
    "\n",
    "# Keep a subset of responses\n",
    "rsp = rsp[rsp['R2fit']>0]\n",
    "print(rsp.shape)"
   ]
  },
  {
   "cell_type": "code",
   "execution_count": 34,
   "metadata": {},
   "outputs": [
    {
     "data": {
      "text/plain": [
       "(0, 1)"
      ]
     },
     "execution_count": 34,
     "metadata": {},
     "output_type": "execute_result"
    },
    {
     "data": {
      "image/png": "[encoded data removed]",
      "text/plain": [
       "<Figure size 432x288 with 1 Axes>"
      ]
     },
     "metadata": {
      "needs_background": "light"
     },
     "output_type": "display_data"
    }
   ],
   "source": [
    "plt.plot(rsp['R2fit'], rsp['AUC'], '.', alpha=0.4)\n",
    "# plt.xlim([0, 1])"
   ]
  },
  {
   "cell_type": "code",
   "execution_count": 35,
   "metadata": {},
   "outputs": [
    {
     "data": {
      "image/png": "[encoded data removed]",
      "text/plain": [
       "<Figure size 432x288 with 1 Axes>"
      ]
     },
     "metadata": {
      "needs_background": "light"
     },
     "output_type": "display_data"
    }
   ],
   "source": [
    "plt.hist(rsp['R2fit'], bins=100);\n",
    "plt.grid(True)"
   ]
  },
  {
   "cell_type": "code",
   "execution_count": 41,
   "metadata": {},
   "outputs": [
    {
     "name": "stdout",
     "output_type": "stream",
     "text": [
      "(3327420, 14)\n"
     ]
    }
   ],
   "source": [
    "r = rsp[rsp['EC50se'] < 100]\n",
    "print(r.shape)"
   ]
  },
  {
   "cell_type": "code",
   "execution_count": 42,
   "metadata": {},
   "outputs": [
    {
     "data": {
      "image/png": "[encoded data removed]",
      "text/plain": [
       "<Figure size 432x288 with 1 Axes>"
      ]
     },
     "metadata": {
      "needs_background": "light"
     },
     "output_type": "display_data"
    }
   ],
   "source": [
    "plt.hist(r['EC50se'], bins=100);\n",
    "plt.grid(True)"
   ]
  },
  {
   "cell_type": "code",
   "execution_count": null,
   "metadata": {},
   "outputs": [],
   "source": []
  },
  {
   "cell_type": "code",
   "execution_count": null,
   "metadata": {},
   "outputs": [],
   "source": []
  },
  {
   "cell_type": "markdown",
   "metadata": {},
   "source": [
    "## Compare (in)consistencies between Rick's and Harry's Top6 datasets"
   ]
  },
  {
   "cell_type": "code",
   "execution_count": 3,
   "metadata": {},
   "outputs": [
    {
     "name": "stdout",
     "output_type": "stream",
     "text": [
      "(283152, 6212)\n",
      "(283152, 1)\n"
     ]
    }
   ],
   "source": [
    "# Rick\n",
    "xr = pd.read_parquet(Path('../../pilot1/data/processed/data_splits/top6_cv_simple/xdata.parquet'))\n",
    "yr = pd.read_parquet(Path('../../pilot1/data/processed/data_splits/top6_cv_simple/ydata.parquet'))\n",
    "print(xr.shape)\n",
    "print(yr.shape)"
   ]
  },
  {
   "cell_type": "code",
   "execution_count": 5,
   "metadata": {},
   "outputs": [
    {
     "name": "stdout",
     "output_type": "stream",
     "text": [
      "(285004, 6212)\n",
      "(285004, 3)\n"
     ]
    }
   ],
   "source": [
    "# Harry\n",
    "xh = pd.read_parquet(Path('../top6_data_splits_/xdata.parquet'))\n",
    "mh = pd.read_parquet(Path('../top6_data_splits_/meta.parquet'))\n",
    "print(xh.shape)\n",
    "print(mh.shape)"
   ]
  },
  {
   "cell_type": "code",
   "execution_count": 11,
   "metadata": {},
   "outputs": [
    {
     "data": {
      "text/html": [
       "<div>\n",
       "<style scoped>\n",
       "    .dataframe tbody tr th:only-of-type {\n",
       "        vertical-align: middle;\n",
       "    }\n",
       "\n",
       "    .dataframe tbody tr th {\n",
       "        vertical-align: top;\n",
       "    }\n",
       "\n",
       "    .dataframe thead th {\n",
       "        text-align: right;\n",
       "    }\n",
       "</style>\n",
       "<table border=\"1\" class=\"dataframe\">\n",
       "  <thead>\n",
       "    <tr style=\"text-align: right;\">\n",
       "      <th></th>\n",
       "      <th>DD_AAC</th>\n",
       "      <th>DD_AECC</th>\n",
       "      <th>DD_ALOGP</th>\n",
       "      <th>DD_ALOGP2</th>\n",
       "      <th>DD_AMR</th>\n",
       "      <th>DD_AMW</th>\n",
       "      <th>DD_AROM</th>\n",
       "      <th>DD_ARR</th>\n",
       "      <th>DD_ASP</th>\n",
       "      <th>DD_ATS1e</th>\n",
       "      <th>...</th>\n",
       "      <th>GE_ZMIZ1</th>\n",
       "      <th>GE_ZMYM2</th>\n",
       "      <th>GE_ZNF131</th>\n",
       "      <th>GE_ZNF274</th>\n",
       "      <th>GE_ZNF318</th>\n",
       "      <th>GE_ZNF395</th>\n",
       "      <th>GE_ZNF451</th>\n",
       "      <th>GE_ZNF586</th>\n",
       "      <th>GE_ZNF589</th>\n",
       "      <th>GE_ZW10</th>\n",
       "    </tr>\n",
       "  </thead>\n",
       "  <tbody>\n",
       "    <tr>\n",
       "      <th>0</th>\n",
       "      <td>1.776</td>\n",
       "      <td>23.538</td>\n",
       "      <td>10.495</td>\n",
       "      <td>110.149</td>\n",
       "      <td>256.841</td>\n",
       "      <td>8.123</td>\n",
       "      <td>0.0</td>\n",
       "      <td>0.338</td>\n",
       "      <td>0.0</td>\n",
       "      <td>4.875</td>\n",
       "      <td>...</td>\n",
       "      <td>0.142000</td>\n",
       "      <td>-0.7695</td>\n",
       "      <td>-0.4844</td>\n",
       "      <td>-0.6543</td>\n",
       "      <td>-1.44600</td>\n",
       "      <td>-0.8420</td>\n",
       "      <td>-0.355500</td>\n",
       "      <td>-0.47530</td>\n",
       "      <td>-1.3390</td>\n",
       "      <td>-0.4937</td>\n",
       "    </tr>\n",
       "    <tr>\n",
       "      <th>1</th>\n",
       "      <td>1.776</td>\n",
       "      <td>23.538</td>\n",
       "      <td>10.495</td>\n",
       "      <td>110.149</td>\n",
       "      <td>256.841</td>\n",
       "      <td>8.123</td>\n",
       "      <td>0.0</td>\n",
       "      <td>0.338</td>\n",
       "      <td>0.0</td>\n",
       "      <td>4.875</td>\n",
       "      <td>...</td>\n",
       "      <td>0.532700</td>\n",
       "      <td>0.6830</td>\n",
       "      <td>0.0725</td>\n",
       "      <td>0.2411</td>\n",
       "      <td>-0.26150</td>\n",
       "      <td>-0.1866</td>\n",
       "      <td>-0.299600</td>\n",
       "      <td>1.35450</td>\n",
       "      <td>1.3560</td>\n",
       "      <td>1.5620</td>\n",
       "    </tr>\n",
       "    <tr>\n",
       "      <th>2</th>\n",
       "      <td>1.776</td>\n",
       "      <td>23.538</td>\n",
       "      <td>10.495</td>\n",
       "      <td>110.149</td>\n",
       "      <td>256.841</td>\n",
       "      <td>8.123</td>\n",
       "      <td>0.0</td>\n",
       "      <td>0.338</td>\n",
       "      <td>0.0</td>\n",
       "      <td>4.875</td>\n",
       "      <td>...</td>\n",
       "      <td>0.005966</td>\n",
       "      <td>-0.4277</td>\n",
       "      <td>-0.4485</td>\n",
       "      <td>-0.1606</td>\n",
       "      <td>0.02827</td>\n",
       "      <td>-0.5300</td>\n",
       "      <td>0.073000</td>\n",
       "      <td>-0.05112</td>\n",
       "      <td>-0.2966</td>\n",
       "      <td>-0.1231</td>\n",
       "    </tr>\n",
       "    <tr>\n",
       "      <th>3</th>\n",
       "      <td>1.776</td>\n",
       "      <td>23.538</td>\n",
       "      <td>10.495</td>\n",
       "      <td>110.149</td>\n",
       "      <td>256.841</td>\n",
       "      <td>8.123</td>\n",
       "      <td>0.0</td>\n",
       "      <td>0.338</td>\n",
       "      <td>0.0</td>\n",
       "      <td>4.875</td>\n",
       "      <td>...</td>\n",
       "      <td>-0.444300</td>\n",
       "      <td>-0.6230</td>\n",
       "      <td>-0.7360</td>\n",
       "      <td>0.3904</td>\n",
       "      <td>-0.68260</td>\n",
       "      <td>-1.5740</td>\n",
       "      <td>-0.392800</td>\n",
       "      <td>1.16100</td>\n",
       "      <td>-0.5810</td>\n",
       "      <td>-0.3252</td>\n",
       "    </tr>\n",
       "    <tr>\n",
       "      <th>4</th>\n",
       "      <td>1.776</td>\n",
       "      <td>23.538</td>\n",
       "      <td>10.495</td>\n",
       "      <td>110.149</td>\n",
       "      <td>256.841</td>\n",
       "      <td>8.123</td>\n",
       "      <td>0.0</td>\n",
       "      <td>0.338</td>\n",
       "      <td>0.0</td>\n",
       "      <td>4.875</td>\n",
       "      <td>...</td>\n",
       "      <td>0.243900</td>\n",
       "      <td>0.2925</td>\n",
       "      <td>0.2522</td>\n",
       "      <td>-0.9067</td>\n",
       "      <td>0.60740</td>\n",
       "      <td>0.6090</td>\n",
       "      <td>-0.001514</td>\n",
       "      <td>-0.20860</td>\n",
       "      <td>0.5770</td>\n",
       "      <td>0.4160</td>\n",
       "    </tr>\n",
       "  </tbody>\n",
       "</table>\n",
       "<p>5 rows × 6212 columns</p>\n",
       "</div>"
      ],
      "text/plain": [
       "   DD_AAC  DD_AECC  DD_ALOGP  DD_ALOGP2   DD_AMR  DD_AMW  DD_AROM  DD_ARR  \\\n",
       "0   1.776   23.538    10.495    110.149  256.841   8.123      0.0   0.338   \n",
       "1   1.776   23.538    10.495    110.149  256.841   8.123      0.0   0.338   \n",
       "2   1.776   23.538    10.495    110.149  256.841   8.123      0.0   0.338   \n",
       "3   1.776   23.538    10.495    110.149  256.841   8.123      0.0   0.338   \n",
       "4   1.776   23.538    10.495    110.149  256.841   8.123      0.0   0.338   \n",
       "\n",
       "   DD_ASP  DD_ATS1e  ...  GE_ZMIZ1  GE_ZMYM2  GE_ZNF131  GE_ZNF274  GE_ZNF318  \\\n",
       "0     0.0     4.875  ...  0.142000   -0.7695    -0.4844    -0.6543   -1.44600   \n",
       "1     0.0     4.875  ...  0.532700    0.6830     0.0725     0.2411   -0.26150   \n",
       "2     0.0     4.875  ...  0.005966   -0.4277    -0.4485    -0.1606    0.02827   \n",
       "3     0.0     4.875  ... -0.444300   -0.6230    -0.7360     0.3904   -0.68260   \n",
       "4     0.0     4.875  ...  0.243900    0.2925     0.2522    -0.9067    0.60740   \n",
       "\n",
       "   GE_ZNF395  GE_ZNF451  GE_ZNF586  GE_ZNF589  GE_ZW10  \n",
       "0    -0.8420  -0.355500   -0.47530    -1.3390  -0.4937  \n",
       "1    -0.1866  -0.299600    1.35450     1.3560   1.5620  \n",
       "2    -0.5300   0.073000   -0.05112    -0.2966  -0.1231  \n",
       "3    -1.5740  -0.392800    1.16100    -0.5810  -0.3252  \n",
       "4     0.6090  -0.001514   -0.20860     0.5770   0.4160  \n",
       "\n",
       "[5 rows x 6212 columns]"
      ]
     },
     "execution_count": 11,
     "metadata": {},
     "output_type": "execute_result"
    }
   ],
   "source": [
    "xr[sorted(xr.columns)].head()"
   ]
  },
  {
   "cell_type": "code",
   "execution_count": 12,
   "metadata": {},
   "outputs": [
    {
     "data": {
      "text/html": [
       "<div>\n",
       "<style scoped>\n",
       "    .dataframe tbody tr th:only-of-type {\n",
       "        vertical-align: middle;\n",
       "    }\n",
       "\n",
       "    .dataframe tbody tr th {\n",
       "        vertical-align: top;\n",
       "    }\n",
       "\n",
       "    .dataframe thead th {\n",
       "        text-align: right;\n",
       "    }\n",
       "</style>\n",
       "<table border=\"1\" class=\"dataframe\">\n",
       "  <thead>\n",
       "    <tr style=\"text-align: right;\">\n",
       "      <th></th>\n",
       "      <th>DD_AAC</th>\n",
       "      <th>DD_AECC</th>\n",
       "      <th>DD_ALOGP</th>\n",
       "      <th>DD_ALOGP2</th>\n",
       "      <th>DD_AMR</th>\n",
       "      <th>DD_AMW</th>\n",
       "      <th>DD_AROM</th>\n",
       "      <th>DD_ARR</th>\n",
       "      <th>DD_ASP</th>\n",
       "      <th>DD_ATS1e</th>\n",
       "      <th>...</th>\n",
       "      <th>GE_ZMIZ1</th>\n",
       "      <th>GE_ZMYM2</th>\n",
       "      <th>GE_ZNF131</th>\n",
       "      <th>GE_ZNF274</th>\n",
       "      <th>GE_ZNF318</th>\n",
       "      <th>GE_ZNF395</th>\n",
       "      <th>GE_ZNF451</th>\n",
       "      <th>GE_ZNF586</th>\n",
       "      <th>GE_ZNF589</th>\n",
       "      <th>GE_ZW10</th>\n",
       "    </tr>\n",
       "  </thead>\n",
       "  <tbody>\n",
       "    <tr>\n",
       "      <th>0</th>\n",
       "      <td>1.895</td>\n",
       "      <td>5.357</td>\n",
       "      <td>0.052</td>\n",
       "      <td>0.003</td>\n",
       "      <td>47.659</td>\n",
       "      <td>9.709</td>\n",
       "      <td>0.0</td>\n",
       "      <td>0.333</td>\n",
       "      <td>0.0</td>\n",
       "      <td>3.208</td>\n",
       "      <td>...</td>\n",
       "      <td>3.855</td>\n",
       "      <td>2.140</td>\n",
       "      <td>1.472</td>\n",
       "      <td>2.960</td>\n",
       "      <td>0.4844</td>\n",
       "      <td>3.002</td>\n",
       "      <td>1.4260</td>\n",
       "      <td>1.736</td>\n",
       "      <td>1.1030</td>\n",
       "      <td>1.863</td>\n",
       "    </tr>\n",
       "    <tr>\n",
       "      <th>1</th>\n",
       "      <td>1.483</td>\n",
       "      <td>12.559</td>\n",
       "      <td>4.887</td>\n",
       "      <td>23.886</td>\n",
       "      <td>222.539</td>\n",
       "      <td>6.932</td>\n",
       "      <td>0.0</td>\n",
       "      <td>0.239</td>\n",
       "      <td>0.0</td>\n",
       "      <td>4.863</td>\n",
       "      <td>...</td>\n",
       "      <td>1.213</td>\n",
       "      <td>1.760</td>\n",
       "      <td>2.250</td>\n",
       "      <td>2.904</td>\n",
       "      <td>2.2230</td>\n",
       "      <td>1.640</td>\n",
       "      <td>1.6130</td>\n",
       "      <td>1.268</td>\n",
       "      <td>0.7886</td>\n",
       "      <td>2.148</td>\n",
       "    </tr>\n",
       "    <tr>\n",
       "      <th>2</th>\n",
       "      <td>1.991</td>\n",
       "      <td>9.815</td>\n",
       "      <td>2.776</td>\n",
       "      <td>7.703</td>\n",
       "      <td>97.796</td>\n",
       "      <td>10.506</td>\n",
       "      <td>0.0</td>\n",
       "      <td>0.552</td>\n",
       "      <td>0.0</td>\n",
       "      <td>3.884</td>\n",
       "      <td>...</td>\n",
       "      <td>1.640</td>\n",
       "      <td>2.900</td>\n",
       "      <td>0.726</td>\n",
       "      <td>2.088</td>\n",
       "      <td>0.7876</td>\n",
       "      <td>1.616</td>\n",
       "      <td>1.5205</td>\n",
       "      <td>0.907</td>\n",
       "      <td>1.2990</td>\n",
       "      <td>1.137</td>\n",
       "    </tr>\n",
       "    <tr>\n",
       "      <th>3</th>\n",
       "      <td>1.840</td>\n",
       "      <td>7.762</td>\n",
       "      <td>-1.515</td>\n",
       "      <td>2.297</td>\n",
       "      <td>69.605</td>\n",
       "      <td>8.259</td>\n",
       "      <td>0.0</td>\n",
       "      <td>0.435</td>\n",
       "      <td>0.0</td>\n",
       "      <td>3.767</td>\n",
       "      <td>...</td>\n",
       "      <td>2.492</td>\n",
       "      <td>2.902</td>\n",
       "      <td>1.343</td>\n",
       "      <td>2.025</td>\n",
       "      <td>2.5700</td>\n",
       "      <td>2.432</td>\n",
       "      <td>2.1330</td>\n",
       "      <td>1.241</td>\n",
       "      <td>1.6040</td>\n",
       "      <td>1.788</td>\n",
       "    </tr>\n",
       "    <tr>\n",
       "      <th>4</th>\n",
       "      <td>1.885</td>\n",
       "      <td>9.417</td>\n",
       "      <td>5.905</td>\n",
       "      <td>34.873</td>\n",
       "      <td>110.533</td>\n",
       "      <td>13.864</td>\n",
       "      <td>0.0</td>\n",
       "      <td>0.462</td>\n",
       "      <td>0.0</td>\n",
       "      <td>3.673</td>\n",
       "      <td>...</td>\n",
       "      <td>1.956</td>\n",
       "      <td>3.140</td>\n",
       "      <td>1.591</td>\n",
       "      <td>2.854</td>\n",
       "      <td>2.1800</td>\n",
       "      <td>2.914</td>\n",
       "      <td>2.2700</td>\n",
       "      <td>1.592</td>\n",
       "      <td>1.8820</td>\n",
       "      <td>2.781</td>\n",
       "    </tr>\n",
       "  </tbody>\n",
       "</table>\n",
       "<p>5 rows × 6212 columns</p>\n",
       "</div>"
      ],
      "text/plain": [
       "   DD_AAC  DD_AECC  DD_ALOGP  DD_ALOGP2   DD_AMR  DD_AMW  DD_AROM  DD_ARR  \\\n",
       "0   1.895    5.357     0.052      0.003   47.659   9.709      0.0   0.333   \n",
       "1   1.483   12.559     4.887     23.886  222.539   6.932      0.0   0.239   \n",
       "2   1.991    9.815     2.776      7.703   97.796  10.506      0.0   0.552   \n",
       "3   1.840    7.762    -1.515      2.297   69.605   8.259      0.0   0.435   \n",
       "4   1.885    9.417     5.905     34.873  110.533  13.864      0.0   0.462   \n",
       "\n",
       "   DD_ASP  DD_ATS1e  ...  GE_ZMIZ1  GE_ZMYM2  GE_ZNF131  GE_ZNF274  GE_ZNF318  \\\n",
       "0     0.0     3.208  ...     3.855     2.140      1.472      2.960     0.4844   \n",
       "1     0.0     4.863  ...     1.213     1.760      2.250      2.904     2.2230   \n",
       "2     0.0     3.884  ...     1.640     2.900      0.726      2.088     0.7876   \n",
       "3     0.0     3.767  ...     2.492     2.902      1.343      2.025     2.5700   \n",
       "4     0.0     3.673  ...     1.956     3.140      1.591      2.854     2.1800   \n",
       "\n",
       "   GE_ZNF395  GE_ZNF451  GE_ZNF586  GE_ZNF589  GE_ZW10  \n",
       "0      3.002     1.4260      1.736     1.1030    1.863  \n",
       "1      1.640     1.6130      1.268     0.7886    2.148  \n",
       "2      1.616     1.5205      0.907     1.2990    1.137  \n",
       "3      2.432     2.1330      1.241     1.6040    1.788  \n",
       "4      2.914     2.2700      1.592     1.8820    2.781  \n",
       "\n",
       "[5 rows x 6212 columns]"
      ]
     },
     "execution_count": 12,
     "metadata": {},
     "output_type": "execute_result"
    }
   ],
   "source": [
    "xh[sorted(xh.columns)].head()"
   ]
  },
  {
   "cell_type": "code",
   "execution_count": null,
   "metadata": {},
   "outputs": [],
   "source": []
  },
  {
   "cell_type": "code",
   "execution_count": null,
   "metadata": {},
   "outputs": [],
   "source": []
  },
  {
   "cell_type": "code",
   "execution_count": null,
   "metadata": {},
   "outputs": [],
   "source": []
  },
  {
   "cell_type": "code",
   "execution_count": null,
   "metadata": {},
   "outputs": [],
   "source": []
  },
  {
   "cell_type": "code",
   "execution_count": 3,
   "metadata": {},
   "outputs": [],
   "source": [
    "def parse_and_agg_scores(run_path, hp=[], missing_runs=[], scores_fname='scores.csv'):    \n",
    "    \"\"\" This func takes a dir of a single run of learning curves, extracts and aggregates\n",
    "    scores for each training set size into a single structure. \"\"\"\n",
    "    # Choose the smallest fold out of available folds\n",
    "    if len(sorted(run_path.glob('**/cv0*sz*')))==0:\n",
    "        return hp, missing_runs\n",
    "    \n",
    "    fold = np.unique( sorted([str(r).split('/cv')[-1].split('_')[0] for r in sorted(run_path.glob('**/cv0_sz*'))]) )[0]\n",
    "    sz_dirs = sorted( run_path.glob(f'**/cv{fold}*sz*') )\n",
    "    \n",
    "    lrn_crv_scores = []\n",
    "    \n",
    "    for sz_dir in sz_dirs:\n",
    "        path_scores = sz_dir / scores_fname\n",
    "        print(path_scores)\n",
    "        \n",
    "        if path_scores.exists(): # check if scores exist (some trainings may not have completed)\n",
    "            scr = pd.read_csv( path_scores )\n",
    "            tr_size = int( str(sz_dir).split('sz')[-1] )\n",
    "            # aa = scr.loc[ scr['set']=='te', ['metric', 'fold1'] ].reset_index(drop=True) # Note! Gets only the first fold!\n",
    "            fold_col_name = sorted( [c for c in scr.columns if 'fold' in c] )[0]\n",
    "            aa = scr.loc[ scr['set']=='te', ['metric', fold_col_name] ].reset_index(drop=True) # Note! Gets only the first fold!\n",
    "            aa = {aa.loc[i, 'metric']: aa.loc[i, fold_col_name] for i in range(aa.shape[0])}\n",
    "            aa['tr_size'] = tr_size\n",
    "            \n",
    "            # Agg scores from each sz to master table\n",
    "            lrn_crv_scores.append(scr)\n",
    "\n",
    "            # Read and parse args\n",
    "            # path_args = sz_dir / 'model_args.txt'\n",
    "            path_args = sz_dir / 'args.txt'\n",
    "            if path_args.exists():\n",
    "                args = parse_args_file(path_args)\n",
    "                aa.update(args) # combine scores with args\n",
    "            else:\n",
    "                # If (some reason) the args file was not found, results are useless.\n",
    "                # Don't record the results but just continue.\n",
    "                continue\n",
    "\n",
    "            # If keras model, get the early stop epoch\n",
    "            if (sz_dir/'krs_history.csv').exists():\n",
    "                h = pd.read_csv( sz_dir/'krs_history.csv' )\n",
    "                aa['epoch_stop'] = h['epoch'].max()        \n",
    "\n",
    "            # Append results to the global list\n",
    "            hp.append(aa)\n",
    "        else:\n",
    "            missing_runs.append(str(sz_dir))\n",
    "            print(f'{scores_fname} does not exist.')\n",
    "            print('continue')\n",
    "            \n",
    "    lrn_crv_scores = pd.concat(lrn_crv_scores, axis=0)\n",
    "    lrn_crv_scores = lrn_crv_scores.sort_values(['set', 'metric', 'tr_size']).reset_index(drop=True)\n",
    "            \n",
    "    return hp, missing_runs, lrn_crv_scores"
   ]
  },
  {
   "cell_type": "code",
   "execution_count": null,
   "metadata": {},
   "outputs": [],
   "source": []
  },
  {
   "cell_type": "code",
   "execution_count": 7,
   "metadata": {},
   "outputs": [
    {
     "name": "stdout",
     "output_type": "stream",
     "text": [
      "/vol/ml/apartin/projects/LearningCurves/trn.top6/split_on_none/nn_reg0/run_07/cv0_sz1024/scores.csv\n",
      "/vol/ml/apartin/projects/LearningCurves/trn.top6/split_on_none/nn_reg0/run_07/cv0_sz128/scores.csv\n",
      "/vol/ml/apartin/projects/LearningCurves/trn.top6/split_on_none/nn_reg0/run_07/cv0_sz131072/scores.csv\n",
      "/vol/ml/apartin/projects/LearningCurves/trn.top6/split_on_none/nn_reg0/run_07/cv0_sz16384/scores.csv\n",
      "/vol/ml/apartin/projects/LearningCurves/trn.top6/split_on_none/nn_reg0/run_07/cv0_sz2048/scores.csv\n",
      "/vol/ml/apartin/projects/LearningCurves/trn.top6/split_on_none/nn_reg0/run_07/cv0_sz213015/scores.csv\n",
      "/vol/ml/apartin/projects/LearningCurves/trn.top6/split_on_none/nn_reg0/run_07/cv0_sz256/scores.csv\n",
      "/vol/ml/apartin/projects/LearningCurves/trn.top6/split_on_none/nn_reg0/run_07/cv0_sz32768/scores.csv\n",
      "/vol/ml/apartin/projects/LearningCurves/trn.top6/split_on_none/nn_reg0/run_07/cv0_sz4096/scores.csv\n",
      "/vol/ml/apartin/projects/LearningCurves/trn.top6/split_on_none/nn_reg0/run_07/cv0_sz512/scores.csv\n",
      "/vol/ml/apartin/projects/LearningCurves/trn.top6/split_on_none/nn_reg0/run_07/cv0_sz65536/scores.csv\n",
      "/vol/ml/apartin/projects/LearningCurves/trn.top6/split_on_none/nn_reg0/run_07/cv0_sz8192/scores.csv\n"
     ]
    }
   ],
   "source": [
    "path = Path('/vol/ml/apartin/projects/LearningCurves/trn.top6/split_on_none/nn_reg0/run_07')\n",
    "scores, missing_runs, lrn_crv_scores = parse_and_agg_scores(path, scores_fname='scores.csv')"
   ]
  },
  {
   "cell_type": "code",
   "execution_count": 8,
   "metadata": {},
   "outputs": [
    {
     "data": {
      "text/plain": [
       "PosixPath('/vol/ml/apartin/projects/LearningCurves/trn.top6/split_on_none/nn_reg0/run_07/lrn_crv_scores.csv')"
      ]
     },
     "execution_count": 8,
     "metadata": {},
     "output_type": "execute_result"
    }
   ],
   "source": [
    "path/'lrn_crv_scores.csv'"
   ]
  },
  {
   "cell_type": "code",
   "execution_count": 9,
   "metadata": {},
   "outputs": [],
   "source": [
    "lrn_crv_scores.to_csv(path/'lrn_crv_scores.csv', index=False)"
   ]
  },
  {
   "cell_type": "code",
   "execution_count": 10,
   "metadata": {},
   "outputs": [],
   "source": [
    "te = lrn_crv_scores[lrn_crv_scores.set=='te'].reset_index(drop=True)\n",
    "te.to_csv(path/'te_lrn_crv_scores.csv', index=False)\n",
    "\n",
    "vl = lrn_crv_scores[lrn_crv_scores.set=='vl'].reset_index(drop=True)\n",
    "vl.to_csv(path/'vl_lrn_crv_scores.csv', index=False)\n",
    "\n",
    "tr = lrn_crv_scores[lrn_crv_scores.set=='tr'].reset_index(drop=True)\n",
    "tr.to_csv(path/'tr_lrn_crv_scores.csv', index=False)"
   ]
  },
  {
   "cell_type": "code",
   "execution_count": null,
   "metadata": {},
   "outputs": [],
   "source": []
  },
  {
   "cell_type": "code",
   "execution_count": null,
   "metadata": {},
   "outputs": [],
   "source": []
  },
  {
   "cell_type": "code",
   "execution_count": null,
   "metadata": {},
   "outputs": [],
   "source": []
  },
  {
   "cell_type": "code",
   "execution_count": null,
   "metadata": {},
   "outputs": [],
   "source": []
  },
  {
   "cell_type": "code",
   "execution_count": null,
   "metadata": {},
   "outputs": [],
   "source": []
  },
  {
   "cell_type": "code",
   "execution_count": null,
   "metadata": {},
   "outputs": [],
   "source": []
  },
  {
   "cell_type": "code",
   "execution_count": null,
   "metadata": {},
   "outputs": [],
   "source": []
  }
 ],
 "metadata": {
  "kernelspec": {
   "display_name": "Python 3",
   "language": "python",
   "name": "python3"
  },
  "language_info": {
   "codemirror_mode": {
    "name": "ipython",
    "version": 3
   },
   "file_extension": ".py",
   "mimetype": "text/x-python",
   "name": "python",
   "nbconvert_exporter": "python",
   "pygments_lexer": "ipython3",
   "version": "3.6.8"
  }
 },
 "nbformat": 4,
 "nbformat_minor": 2
}
