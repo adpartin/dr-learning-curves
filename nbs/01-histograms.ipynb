{
 "cells": [
  {
   "cell_type": "markdown",
   "metadata": {},
   "source": [
    "### Histograms"
   ]
  },
  {
   "cell_type": "code",
   "execution_count": 12,
   "metadata": {},
   "outputs": [
    {
     "name": "stdout",
     "output_type": "stream",
     "text": [
      "The autoreload extension is already loaded. To reload it, use:\n",
      "  %reload_ext autoreload\n",
      "Current path: /vol/ml/apartin/projects/dr-learning-curves/nbs\n"
     ]
    }
   ],
   "source": [
    "%load_ext autoreload\n",
    "%autoreload 2\n",
    "%matplotlib inline\n",
    "\n",
    "# from load_modules import *\n",
    "import os\n",
    "import sys\n",
    "sys.path.append('../src')\n",
    "from post_process import *\n",
    "\n",
    "%matplotlib inline\n",
    "fpath = Path(os.getcwd())\n",
    "print('Current path:', fpath)"
   ]
  },
  {
   "cell_type": "code",
   "execution_count": 13,
   "metadata": {},
   "outputs": [],
   "source": [
    "# Settings\n",
    "dpi = 300"
   ]
  },
  {
   "cell_type": "code",
   "execution_count": null,
   "metadata": {},
   "outputs": [],
   "source": []
  },
  {
   "cell_type": "markdown",
   "metadata": {},
   "source": [
    "## Path to data"
   ]
  },
  {
   "cell_type": "code",
   "execution_count": 14,
   "metadata": {},
   "outputs": [],
   "source": [
    "# outpath = fpath/f'histograms'\n",
    "outpath = fpath/'../lc.fits/histograms'\n",
    "os.makedirs(outpath, exist_ok=True)"
   ]
  },
  {
   "cell_type": "code",
   "execution_count": 21,
   "metadata": {},
   "outputs": [],
   "source": [
    "maindir = Path('../data/ml.dfs/July2020')\n",
    "\n",
    "# dname = 'gdsc1'\n",
    "# dname = 'gdsc2'\n",
    "dname = 'ctrp'\n",
    "# dname = 'nci60'\n",
    "\n",
    "if dname is not 'nci60':\n",
    "    dpath = maindir/f'data.{dname}.dd.ge/data.{dname}.dd.ge.parquet'\n",
    "else:\n",
    "    dpath = maindir/f'data.{dname}.dd.ge.random/data.{dname}.dd.ge.parquet'\n",
    "    \n",
    "df = pd.read_parquet(dpath)"
   ]
  },
  {
   "cell_type": "code",
   "execution_count": 22,
   "metadata": {},
   "outputs": [
    {
     "data": {
      "image/png": "[encoded data removed]",
      "text/plain": [
       "<Figure size 432x288 with 1 Axes>"
      ]
     },
     "metadata": {
      "needs_background": "light"
     },
     "output_type": "display_data"
    }
   ],
   "source": [
    "score_name = 'AUC'\n",
    "fig, ax = plt.subplots()\n",
    "ax.hist(df[score_name], bins=150, facecolor='b', alpha=0.7);\n",
    "plt.grid(False)\n",
    "# plt.legend(frameon=False, shadow=False, loc='best', framealpha=0.5)\n",
    "plt.xlabel('Dose-independent Drug Response (AUC) Value')\n",
    "plt.ylabel('Count')\n",
    "plt.title(f'{dname}');\n",
    "plt.tight_layout()\n",
    "plt.savefig(outpath/f'hist_{dname}.png', dpi=dpi);"
   ]
  },
  {
   "cell_type": "code",
   "execution_count": null,
   "metadata": {},
   "outputs": [],
   "source": []
  }
 ],
 "metadata": {
  "kernelspec": {
   "display_name": "Python 3",
   "language": "python",
   "name": "python3"
  },
  "language_info": {
   "codemirror_mode": {
    "name": "ipython",
    "version": 3
   },
   "file_extension": ".py",
   "mimetype": "text/x-python",
   "name": "python",
   "nbconvert_exporter": "python",
   "pygments_lexer": "ipython3",
   "version": "3.6.12"
  }
 },
 "nbformat": 4,
 "nbformat_minor": 4
}
