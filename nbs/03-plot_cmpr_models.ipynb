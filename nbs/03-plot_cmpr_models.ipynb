{
 "cells": [
  {
   "cell_type": "markdown",
   "metadata": {},
   "source": [
    "## Generate learning curves for each dataset\n",
    "Figure 6 in the paper."
   ]
  },
  {
   "cell_type": "code",
   "execution_count": 2,
   "metadata": {},
   "outputs": [
    {
     "name": "stdout",
     "output_type": "stream",
     "text": [
      "The autoreload extension is already loaded. To reload it, use:\n",
      "  %reload_ext autoreload\n",
      "Current path: /vol/ml/apartin/projects/dr-learning-curves/nbs\n"
     ]
    }
   ],
   "source": [
    "%load_ext autoreload\n",
    "%autoreload 2\n",
    "%matplotlib inline\n",
    "\n",
    "# from load_modules import *\n",
    "import os\n",
    "import sys\n",
    "sys.path.append('../src')\n",
    "from post_process import *\n",
    "\n",
    "%matplotlib inline\n",
    "fpath = Path(os.getcwd())\n",
    "print('Current path:', fpath)"
   ]
  },
  {
   "cell_type": "code",
   "execution_count": 3,
   "metadata": {},
   "outputs": [],
   "source": [
    "# Settings\n",
    "drop_bad_r2fit = False\n",
    "# drop_bad_r2fit = True\n",
    "dpi = 300"
   ]
  },
  {
   "cell_type": "code",
   "execution_count": null,
   "metadata": {},
   "outputs": [],
   "source": []
  },
  {
   "cell_type": "markdown",
   "metadata": {},
   "source": [
    "## Path to data"
   ]
  },
  {
   "cell_type": "code",
   "execution_count": 4,
   "metadata": {},
   "outputs": [],
   "source": [
    "fname = 'all_scores.csv'"
   ]
  },
  {
   "cell_type": "code",
   "execution_count": 5,
   "metadata": {},
   "outputs": [],
   "source": [
    "src = 'GDSC1'\n",
    "# src = 'GDSC2'\n",
    "# src = 'CTRP'\n",
    "# src = 'NCI60'\n",
    "\n",
    "lgb_dft_label = 'dGBDT'\n",
    "lgb_hpo_label = 'hGBDT'\n",
    "nn0_label = 'sNN'\n",
    "nn1_label = 'mNN'\n",
    "\n",
    "dpath = fpath/'../lc.raw'\n",
    "\n",
    "if src == 'GDSC1':\n",
    "    nn0_path = Path(dpath, 'lc.gdsc1.sNN', fname)\n",
    "    nn1_path = Path(dpath, 'lc.gdsc1.mNN', fname)\n",
    "    lgb_path_hpo = Path(dpath, 'lc.gdsc1.hGBDT', fname)\n",
    "    lgb_path_dft = Path(dpath, 'lc.gdsc1.dGBDT', fname)\n",
    "\n",
    "if src == 'GDSC2':\n",
    "    nn0_path = Path(dpath, 'lc.gdsc2.sNN', fname)\n",
    "    nn1_path = Path(dpath, 'lc.gdsc2.mNN', fname)\n",
    "    lgb_path_hpo = Path(dpath, 'lc.gdsc2.hGBDT', fname)\n",
    "    lgb_path_dft = Path(dpath, 'lc.gdsc2.dGBDT', fname)\n",
    "\n",
    "if src == 'CTRP':\n",
    "    nn0_path = Path(dpath, 'lc.ctrp.sNN', fname)\n",
    "    nn1_path = Path(dpath, 'lc.ctrp.mNN', fname)\n",
    "    lgb_path_hpo = Path(dpath, 'lc.ctrp.hGBDT', fname)\n",
    "    lgb_path_dft = Path(dpath, 'lc.ctrp.dGBDT', fname)\n",
    "\n",
    "if src == 'NCI60':\n",
    "    nn0_path = Path(dpath, 'lc.nci60.sNN', fname)\n",
    "    nn1_path = Path(dpath, 'lc.nci60.mNN', fname)\n",
    "    lgb_path_hpo = Path(dpath, 'lc.nci60.hGBDT', fname)\n",
    "    lgb_path_dft = Path(dpath, 'lc.nci60.dGBDT', fname)"
   ]
  },
  {
   "cell_type": "code",
   "execution_count": 6,
   "metadata": {},
   "outputs": [],
   "source": [
    "outpath = fpath/'../lc.fits/cmpr_models'\n",
    "os.makedirs(outpath, exist_ok=True)"
   ]
  },
  {
   "cell_type": "code",
   "execution_count": null,
   "metadata": {},
   "outputs": [],
   "source": []
  },
  {
   "cell_type": "markdown",
   "metadata": {},
   "source": [
    "## Load data"
   ]
  },
  {
   "cell_type": "code",
   "execution_count": 7,
   "metadata": {},
   "outputs": [],
   "source": [
    "lgb_dft = load_data(lgb_path_dft, tr_set='te');\n",
    "lgb_hpo = load_data(lgb_path_hpo, tr_set='te');\n",
    "nn0 = load_data(nn0_path, tr_set='te');\n",
    "nn1 = load_data(nn1_path, tr_set='te');"
   ]
  },
  {
   "cell_type": "code",
   "execution_count": 8,
   "metadata": {},
   "outputs": [],
   "source": [
    "# print_count(aa=lgb_dft)\n",
    "# print_count(aa=lgb_hpo)\n",
    "# print_count(aa=nn0)\n",
    "# print_count(aa=nn1)"
   ]
  },
  {
   "cell_type": "code",
   "execution_count": 9,
   "metadata": {},
   "outputs": [],
   "source": [
    "if drop_bad_r2fit:\n",
    "    nn0 = drop_bad_r2(nn0)\n",
    "    nn1 = drop_bad_r2(nn1)\n",
    "    lgb_hpo = drop_bad_r2(lgb_hpo)\n",
    "    lgb_dft = drop_bad_r2(lgb_dft)"
   ]
  },
  {
   "cell_type": "code",
   "execution_count": 10,
   "metadata": {},
   "outputs": [],
   "source": [
    "# NCI60: remove bad samples\n",
    "if src == 'NCI60':\n",
    "    # np.unique(sorted(nn0.tr_size))\n",
    "    nn0 = nn0[ ~nn0['tr_size'].isin([369806, 499618, 580947, 610743, 625000]) ].reset_index(drop=True)\n",
    "    nn1 = nn1[ ~nn1['tr_size'].isin([369806, 499618, 580947, 610743, 625000]) ].reset_index(drop=True)"
   ]
  },
  {
   "cell_type": "code",
   "execution_count": null,
   "metadata": {},
   "outputs": [],
   "source": []
  },
  {
   "cell_type": "markdown",
   "metadata": {},
   "source": [
    "## Plot LC_raw each source"
   ]
  },
  {
   "cell_type": "code",
   "execution_count": 11,
   "metadata": {},
   "outputs": [],
   "source": [
    "# Plot params\n",
    "# -----------\n",
    "legend_fontsize = 12\n",
    "met = 'mean_absolute_error';  # startParams = {'a': 1.2, 'b': -0.4, 'c': 0.04}\n",
    "\n",
    "t_set = 'te'\n",
    "xtick_scale = 'log2'\n",
    "ytick_scale = 'log2'\n",
    "# xtick_scale = 'linear'\n",
    "# ytick_scale = 'linear'\n",
    "\n",
    "kwargs = {'metric_name': met,\n",
    "          'tr_set': t_set,\n",
    "          'xtick_scale': xtick_scale,\n",
    "          'ytick_scale': ytick_scale,\n",
    "          'plot_median': True,\n",
    "          'plot_shadow': False}"
   ]
  },
  {
   "cell_type": "code",
   "execution_count": 12,
   "metadata": {},
   "outputs": [
    {
     "data": {
      "image/png": "[encoded data removed]",
      "text/plain": [
       "<Figure size 504x360 with 1 Axes>"
      ]
     },
     "metadata": {
      "needs_background": "light"
     },
     "output_type": "display_data"
    }
   ],
   "source": [
    "# Plot dGBDT (lgb_dft)\n",
    "# --------------------\n",
    "if lgb_dft is not None:\n",
    "    kwargs.update({'title': f'{src}; {lgb_dft_label}'})\n",
    "    ax = lc_plots.plot_lc_single_metric(lgb_dft, **kwargs);\n",
    "    ax.legend(frameon=True, fontsize=legend_fontsize, loc='best')\n",
    "    ax.grid(False)"
   ]
  },
  {
   "cell_type": "code",
   "execution_count": 13,
   "metadata": {},
   "outputs": [
    {
     "data": {
      "image/png": "[encoded data removed]",
      "text/plain": [
       "<Figure size 504x360 with 1 Axes>"
      ]
     },
     "metadata": {
      "needs_background": "light"
     },
     "output_type": "display_data"
    }
   ],
   "source": [
    "# Plot hGBDT (lgb_hpo)\n",
    "# --------------------\n",
    "if lgb_hpo is not None:\n",
    "    kwargs.update({'title': f'{src}; {lgb_hpo_label}'})\n",
    "    ax = lc_plots.plot_lc_single_metric(lgb_hpo, **kwargs);\n",
    "    ax.legend(frameon=True, fontsize=legend_fontsize, loc='best')\n",
    "    ax.grid(False)"
   ]
  },
  {
   "cell_type": "code",
   "execution_count": 14,
   "metadata": {},
   "outputs": [
    {
     "data": {
      "image/png": "[encoded data removed]",
      "text/plain": [
       "<Figure size 504x360 with 1 Axes>"
      ]
     },
     "metadata": {
      "needs_background": "light"
     },
     "output_type": "display_data"
    }
   ],
   "source": [
    "# Plot sNN (nn0)\n",
    "# --------------\n",
    "if nn0 is not None:\n",
    "    kwargs.update({'title': f'{src}; {nn0_label}'})\n",
    "    ax = lc_plots.plot_lc_single_metric(nn0, **kwargs);\n",
    "    ax.legend(frameon=True, fontsize=legend_fontsize, loc='best')\n",
    "    ax.grid(False)"
   ]
  },
  {
   "cell_type": "code",
   "execution_count": 15,
   "metadata": {},
   "outputs": [
    {
     "data": {
      "image/png": "[encoded data removed]",
      "text/plain": [
       "<Figure size 504x360 with 1 Axes>"
      ]
     },
     "metadata": {
      "needs_background": "light"
     },
     "output_type": "display_data"
    }
   ],
   "source": [
    "# Plot mNN (nn1)\n",
    "# --------------\n",
    "if nn1 is not None:\n",
    "    kwargs.update({'title': f'{src}; {nn1_label}'})\n",
    "    ax = lc_plots.plot_lc_single_metric(nn1, **kwargs);\n",
    "    ax.legend(frameon=True, fontsize=legend_fontsize, loc='best')\n",
    "    ax.grid(False)"
   ]
  },
  {
   "cell_type": "code",
   "execution_count": null,
   "metadata": {},
   "outputs": [],
   "source": []
  },
  {
   "cell_type": "markdown",
   "metadata": {},
   "source": [
    "## Plot LC_raw combined"
   ]
  },
  {
   "cell_type": "code",
   "execution_count": 16,
   "metadata": {},
   "outputs": [
    {
     "data": {
      "image/png": "[encoded data removed]",
      "text/plain": [
       "<Figure size 504x360 with 1 Axes>"
      ]
     },
     "metadata": {
      "needs_background": "light"
     },
     "output_type": "display_data"
    }
   ],
   "source": [
    "# Plot LC_raw combined\n",
    "# --------------------\n",
    "ax = None\n",
    "kwargs = {'metric_name': met,\n",
    "          'xtick_scale': xtick_scale,\n",
    "          'ytick_scale': ytick_scale}\n",
    "\n",
    "# if lgb_dft is not None:\n",
    "#     lgb = lgb_dft\n",
    "#     lgb = lgb[ lgb.metric==met ].reset_index(drop=True)\n",
    "#     ax = lc_plots.plot_lc(x=lgb['tr_size'].values, y=lgb['score'].values,\n",
    "#                           color='m', label=f'{lgb_dft_label}', **kwargs, ax=ax);\n",
    "\n",
    "if lgb_hpo is not None:\n",
    "    lgb = lgb_hpo\n",
    "    lgb = lgb[ lgb.metric==met ].reset_index(drop=True)\n",
    "    ax = lc_plots.plot_lc(x=lgb['tr_size'].values,\n",
    "                          y=lgb['score'].values,\n",
    "                          color='g', label=f'{lgb_hpo_label}', **kwargs, ax=ax);\n",
    "\n",
    "if nn0 is not None:\n",
    "    nn0 = nn0[ nn0.metric==met ].reset_index(drop=True)\n",
    "    ax = lc_plots.plot_lc(x=nn0['tr_size'].values,\n",
    "                          y=nn0['score'].values,\n",
    "                          color='b', label=f'{nn0_label}', **kwargs, ax=ax);\n",
    "\n",
    "if nn1 is not None:\n",
    "    nn1 = nn1[ nn1.metric==met ].reset_index(drop=True)\n",
    "    ax = lc_plots.plot_lc(x=nn1['tr_size'].values,\n",
    "                          y=nn1['score'].values,\n",
    "                          color='r', label=f'{nn1_label}', **kwargs, ax=ax);\n",
    "\n",
    "ax.legend(frameon=True, fontsize=legend_fontsize, loc='best');\n",
    "ax.grid(False)"
   ]
  },
  {
   "cell_type": "code",
   "execution_count": 17,
   "metadata": {},
   "outputs": [],
   "source": [
    "# nn0[nn0.tr_size == nn0.tr_size.max()].score.values\n",
    "# nn1[nn1.tr_size == nn1.tr_size.max()].score.values"
   ]
  },
  {
   "cell_type": "code",
   "execution_count": null,
   "metadata": {},
   "outputs": [],
   "source": []
  },
  {
   "cell_type": "markdown",
   "metadata": {},
   "source": [
    "## Determine LC_f"
   ]
  },
  {
   "cell_type": "code",
   "execution_count": 18,
   "metadata": {},
   "outputs": [],
   "source": [
    "# Determine LC_f\n",
    "# --------------\n",
    "if src == 'GDSC1':\n",
    "    x_fit_mn = 10000;\n",
    "    x_fit_mx = None\n",
    "    startParams = {'a': 1.2, 'b': -0.3, 'c': 0.04}\n",
    "\n",
    "elif src == 'GDSC2':\n",
    "    x_fit_mn = 10000;\n",
    "    x_fit_mx = None\n",
    "    startParams = {'a': 1.2, 'b': -0.3, 'c': 0.04}\n",
    "    \n",
    "elif src == 'CTRP':\n",
    "    x_fit_mn = 10000;\n",
    "    x_fit_mx = None\n",
    "    startParams = {'a': 1.2, 'b': -0.3, 'c': 0.04}    \n",
    "    \n",
    "elif src == 'NCI60':    \n",
    "    x_fit_mn = 100000;\n",
    "    x_fit_mx = None\n",
    "    startParams = {'a': 1.2, 'b': -0.3, 'c': 0.04}\n",
    "\n",
    "# Dataframes to fit    \n",
    "dfit_lgb_dft = fit_data(lgb_dft, x_fit_mn=x_fit_mn, x_fit_mx=x_fit_mx)\n",
    "dfit_lgb_hpo = fit_data(lgb_hpo, x_fit_mn=x_fit_mn, x_fit_mx=x_fit_mx)\n",
    "dfit_nn0     = fit_data(nn0, x_fit_mn=x_fit_mn, x_fit_mx=x_fit_mx)\n",
    "dfit_nn1     = fit_data(nn1, x_fit_mn=x_fit_mn, x_fit_mx=x_fit_mx)"
   ]
  },
  {
   "cell_type": "code",
   "execution_count": null,
   "metadata": {},
   "outputs": [],
   "source": []
  },
  {
   "cell_type": "markdown",
   "metadata": {},
   "source": [
    "## Percent improve compared to baseline (dGBDT)"
   ]
  },
  {
   "cell_type": "code",
   "execution_count": 19,
   "metadata": {},
   "outputs": [
    {
     "data": {
      "text/html": [
       "<div>\n",
       "<style scoped>\n",
       "    .dataframe tbody tr th:only-of-type {\n",
       "        vertical-align: middle;\n",
       "    }\n",
       "\n",
       "    .dataframe tbody tr th {\n",
       "        vertical-align: top;\n",
       "    }\n",
       "\n",
       "    .dataframe thead th {\n",
       "        text-align: right;\n",
       "    }\n",
       "</style>\n",
       "<table border=\"1\" class=\"dataframe\">\n",
       "  <thead>\n",
       "    <tr style=\"text-align: right;\">\n",
       "      <th></th>\n",
       "      <th>dataset</th>\n",
       "      <th>tr_size</th>\n",
       "      <th>model</th>\n",
       "      <th>sK</th>\n",
       "      <th>Ds</th>\n",
       "    </tr>\n",
       "  </thead>\n",
       "  <tbody>\n",
       "    <tr>\n",
       "      <th>0</th>\n",
       "      <td>GDSC1</td>\n",
       "      <td>115863</td>\n",
       "      <td>dGBDT</td>\n",
       "      <td>0.066553</td>\n",
       "      <td>NaN</td>\n",
       "    </tr>\n",
       "    <tr>\n",
       "      <th>1</th>\n",
       "      <td>GDSC1</td>\n",
       "      <td>115863</td>\n",
       "      <td>hGBDT</td>\n",
       "      <td>0.061068</td>\n",
       "      <td>8.24</td>\n",
       "    </tr>\n",
       "    <tr>\n",
       "      <th>2</th>\n",
       "      <td>GDSC1</td>\n",
       "      <td>115863</td>\n",
       "      <td>sNN</td>\n",
       "      <td>0.059532</td>\n",
       "      <td>10.55</td>\n",
       "    </tr>\n",
       "    <tr>\n",
       "      <th>3</th>\n",
       "      <td>GDSC1</td>\n",
       "      <td>115863</td>\n",
       "      <td>mNN</td>\n",
       "      <td>0.056904</td>\n",
       "      <td>14.50</td>\n",
       "    </tr>\n",
       "  </tbody>\n",
       "</table>\n",
       "</div>"
      ],
      "text/plain": [
       "  dataset  tr_size  model        sK     Ds\n",
       "0   GDSC1   115863  dGBDT  0.066553    NaN\n",
       "1   GDSC1   115863  hGBDT  0.061068   8.24\n",
       "2   GDSC1   115863    sNN  0.059532  10.55\n",
       "3   GDSC1   115863    mNN  0.056904  14.50"
      ]
     },
     "metadata": {},
     "output_type": "display_data"
    }
   ],
   "source": [
    "# Percent improve compared to baseline (dGBDT)\n",
    "# --------------------------------------------\n",
    "v_dGBDT = dfit_lgb_dft.loc[:,'y'].values[-1]\n",
    "v_hGBDT = dfit_lgb_hpo.loc[:,'y'].values[-1]\n",
    "v_sNN = dfit_nn0.loc[:,'y'].values[-1]\n",
    "v_mNN = dfit_nn1.loc[:,'y'].values[-1]\n",
    "\n",
    "# dGBDT\n",
    "df_lgb_dft = dfit_lgb_dft.iloc[-1:, :]\n",
    "df_lgb_dft['model'] = 'dGBDT'\n",
    "df_lgb_dft['Ds'] = np.nan\n",
    "\n",
    "# hGBDT\n",
    "df_lgb_hpo = dfit_lgb_hpo.iloc[-1:, :]\n",
    "df_lgb_hpo['model'] = 'hGBDT'\n",
    "df_lgb_hpo['Ds'] = np.around((v_dGBDT - v_hGBDT)/v_dGBDT * 100, 2)\n",
    "\n",
    "# sNN\n",
    "df_nn0 = dfit_nn0.iloc[-1:, :]\n",
    "df_nn0['model'] = 'sNN'\n",
    "df_nn0['Ds'] = np.around((v_dGBDT - v_sNN)/v_dGBDT * 100, 2)\n",
    "\n",
    "# mNN\n",
    "df_nn1 = dfit_nn1.iloc[-1:, :]\n",
    "df_nn1['model'] = 'mNN'\n",
    "df_nn1['Ds'] = np.around((v_dGBDT - v_mNN)/v_dGBDT * 100, 2)\n",
    "\n",
    "# Concat\n",
    "df = pd.concat([df_lgb_dft, df_lgb_hpo, df_nn0, df_nn1], axis=0).reset_index(drop=True)\n",
    "df = df.drop(columns=['w'])\n",
    "df.insert(loc=0, column='dataset', value=src, allow_duplicates=True)\n",
    "df = df.rename(columns={'y': 'sK'})\n",
    "df = df[['dataset', 'tr_size', 'model', 'sK', 'Ds']]\n",
    "\n",
    "df_improve = df\n",
    "del df\n",
    "display(df_improve)\n",
    "df_improve.to_csv(outpath/f'percent_imporve_{src}.csv', index=False)"
   ]
  },
  {
   "cell_type": "code",
   "execution_count": null,
   "metadata": {},
   "outputs": [],
   "source": []
  },
  {
   "cell_type": "markdown",
   "metadata": {},
   "source": [
    "## Fit LC_f"
   ]
  },
  {
   "cell_type": "code",
   "execution_count": 20,
   "metadata": {},
   "outputs": [],
   "source": [
    "pnts_args = {'metric_name': met,\n",
    "             'xtick_scale': xtick_scale,\n",
    "             'ytick_scale': ytick_scale,\n",
    "             'alpha': 0.8,\n",
    "             'ls': '',\n",
    "             'marker': '.'}\n",
    "\n",
    "fit_args = {'metric_name': met,\n",
    "            'xtick_scale': xtick_scale,\n",
    "            'ytick_scale': ytick_scale,\n",
    "            'alpha': 0.8,\n",
    "            'ls': '--',\n",
    "            'marker': ''}"
   ]
  },
  {
   "cell_type": "code",
   "execution_count": 21,
   "metadata": {},
   "outputs": [
    {
     "name": "stderr",
     "output_type": "stream",
     "text": [
      "R[write to console]: Loading required package: broom\n",
      "\n",
      "R[write to console]: Loading required package: dplyr\n",
      "\n",
      "R[write to console]: \n",
      "Attaching package: ‘dplyr’\n",
      "\n",
      "\n",
      "R[write to console]: The following objects are masked from ‘package:stats’:\n",
      "\n",
      "    filter, lag\n",
      "\n",
      "\n",
      "R[write to console]: The following objects are masked from ‘package:base’:\n",
      "\n",
      "    intersect, setdiff, setequal, union\n",
      "\n",
      "\n"
     ]
    },
    {
     "data": {
      "image/png": "[encoded data removed]",
      "text/plain": [
       "<Figure size 504x360 with 1 Axes>"
      ]
     },
     "metadata": {
      "needs_background": "light"
     },
     "output_type": "display_data"
    }
   ],
   "source": [
    "ax = None\n",
    "fit_method = 'old'\n",
    "# fit_method = 'new'\n",
    "\n",
    "# -----------------------------\n",
    "# dGBDT (LGBM default HPs)\n",
    "# -----------------------------\n",
    "if lgb_dft is not None:\n",
    "    aa = dfit_lgb_dft\n",
    "    name = lgb_dft_label\n",
    "    color = 'm'\n",
    "    pnts_args.update({'marker': '>'})\n",
    "\n",
    "    xf = aa['tr_size'].values\n",
    "    yf = aa['y'].values\n",
    "    \n",
    "    cc_lgb_dft = None\n",
    "    prms_lgb_dft = None\n",
    "    \n",
    "    if fit_method == 'new':\n",
    "        cc = FitPwrLaw(xf=xf, yf=yf, w=aa['w'].values, **startParams)  # new!\n",
    "        xf_plot, yf_plot = cc.calc_fit( x1=xf[0], x2=xf[-1] )\n",
    "        cc_lgb_dft = cc\n",
    "    else:\n",
    "        # Old fit method (see single single_src.ipynb)  \n",
    "        prms_lgb_dft = fit_params(x=xf, y=yf)\n",
    "        yf_plot = biased_powerlaw(xf, **prms_lgb_dft)\n",
    "        xf_plot = xf\n",
    "    \n",
    "    gof_lgb_dft = calc_gof(yf, yf_plot)\n",
    "    gof_lgb_dft['model'] = 'dGBDT'\n",
    "    # Don't plot!\n",
    "    # ax = lc_plots.plot_lc(x=xf, y=yf, ax=ax, **pnts_args, color=color, label=f'{name} data')\n",
    "    # ax = lc_plots.plot_lc(x=xf_plot, y=yf_plot, ax=ax, **fit_args, color=color, label=f'{name} fit')\n",
    "\n",
    "# -----------------------------\n",
    "# hGBDT (LGBM HPO)\n",
    "# -----------------------------\n",
    "if lgb_hpo is not None:\n",
    "    aa = dfit_lgb_hpo    \n",
    "    name = lgb_hpo_label\n",
    "    color = 'g'\n",
    "    pnts_args.update({'marker': 'o'})\n",
    "\n",
    "    xf = aa['tr_size'].values\n",
    "    yf = aa['y'].values\n",
    "\n",
    "    cc_lgb_hpo = None\n",
    "    prms_lgb_hpo = None\n",
    "    \n",
    "    if fit_method == 'new':\n",
    "        cc = FitPwrLaw(xf=xf, yf=yf, w=aa['w'].values, **startParams)  # new!\n",
    "        # xf_plot, yf_plot = cc.calc_fit( x1=xf[0], x2=xf[-1] )\n",
    "        xf_plot, yf_plot = cc.calc_fit( x=xf )\n",
    "        cc_lgb_hpo = cc\n",
    "    else:    \n",
    "        # Old fit method (see single single_src.ipynb) \n",
    "        prms_lgb_hpo = fit_params(x=xf, y=yf)\n",
    "        yf_plot = biased_powerlaw(xf, **prms_lgb_hpo)\n",
    "        xf_plot = xf\n",
    "        \n",
    "    gof_lgb_hpo = calc_gof(yf, yf_plot)\n",
    "    gof_lgb_hpo['model'] = 'hGBDT'\n",
    "    ax = lc_plots.plot_lc(x=xf, y=yf, ax=ax, **pnts_args, color=color, label=f'{name} ' + '$LC_{f}$ data')\n",
    "    ax = lc_plots.plot_lc(x=xf_plot, y=yf_plot, ax=ax, **fit_args, color=color, label=f'{name} power-law fit') \n",
    "\n",
    "# -----------------------------    \n",
    "# sNN (NN0)\n",
    "# -----------------------------\n",
    "if nn0 is not None:\n",
    "    aa = dfit_nn0    \n",
    "    name = nn0_label\n",
    "    color = 'b'\n",
    "    pnts_args.update({'marker': 's'})\n",
    "    \n",
    "    xf = aa['tr_size'].values\n",
    "    yf = aa['y'].values\n",
    "    \n",
    "    cc_nn0 = None\n",
    "    prms_nn0 = None\n",
    "    \n",
    "    if fit_method == 'new':\n",
    "        cc = FitPwrLaw(xf=xf, yf=yf, w=aa['w'].values, **startParams)  # new!\n",
    "        # xf_plot, yf_plot = cc_nn0.calc_fit( x1=xf[0], x2=xf[-1] )\n",
    "        xf_plot, yf_plot = cc.calc_fit( x=xf )\n",
    "        cc_nn0 = cc\n",
    "    else:\n",
    "        # Old fit method (see single single_src.ipynb)  \n",
    "        prms_nn0 = fit_params(x=xf, y=yf)\n",
    "        yf_plot = biased_powerlaw(xf, **prms_nn0)\n",
    "        xf_plot = xf\n",
    "        \n",
    "    gof_nn0 = calc_gof(yf, yf_plot)\n",
    "    gof_nn0['model'] = 'sNN'\n",
    "    ax = lc_plots.plot_lc(x=xf, y=yf, ax=ax, **pnts_args, color=color, label=f'{name} ' + '$LC_{f}$ data')\n",
    "    ax = lc_plots.plot_lc(x=xf_plot, y=yf_plot, ax=ax, **fit_args, color=color, label=f'{name} power-law fit')\n",
    "\n",
    "# -----------------------------    \n",
    "# mNN (NN1)\n",
    "# -----------------------------\n",
    "if nn1 is not None:\n",
    "    aa = dfit_nn1    \n",
    "    name = nn1_label\n",
    "    color = 'r'\n",
    "    pnts_args.update({'marker': 'v'})\n",
    "    \n",
    "    xf = aa['tr_size'].values\n",
    "    yf = aa['y'].values\n",
    "    \n",
    "    cc_nn1 = None\n",
    "    prms_nn1 = None\n",
    "    \n",
    "    if fit_method == 'new':\n",
    "        cc = FitPwrLaw(xf=xf, yf=yf, w=aa['w'].values, **startParams)  # new!\n",
    "        # xf_plot, yf_plot = cc_nn1.calc_fit( x1=xf[0], x2=xf[-1] )\n",
    "        xf_plot, yf_plot = cc.calc_fit( x=xf )\n",
    "        cc_nn1 = cc        \n",
    "    else:\n",
    "        # Old fit method (see single single_src.ipynb) \n",
    "        prms_nn1 = fit_params(x=xf, y=yf)\n",
    "        yf_plot = biased_powerlaw(xf, **prms_nn1)\n",
    "        xf_plot = xf\n",
    "    \n",
    "    gof_nn1 = calc_gof(yf, yf_plot)\n",
    "    gof_nn1['model'] = 'mNN'\n",
    "    ax = lc_plots.plot_lc(x=xf, y=yf, ax=ax, **pnts_args, color=color, label=f'{name} ' + '$LC_{f}$ data')\n",
    "    ax = lc_plots.plot_lc(x=xf_plot, y=yf_plot, ax=ax, **fit_args, color=color, label=f'{name} power-law fit')\n",
    "\n",
    "\n",
    "ax.set_title(f'{src}')\n",
    "ax.legend(frameon=True, fontsize=12, loc='best')\n",
    "ax.grid(False)\n",
    "plt.savefig(outpath/f'{src}_fits.png', dpi=dpi)"
   ]
  },
  {
   "cell_type": "code",
   "execution_count": null,
   "metadata": {},
   "outputs": [],
   "source": []
  },
  {
   "cell_type": "markdown",
   "metadata": {},
   "source": [
    "## Calc gof"
   ]
  },
  {
   "cell_type": "code",
   "execution_count": 22,
   "metadata": {},
   "outputs": [
    {
     "data": {
      "text/html": [
       "<div>\n",
       "<style scoped>\n",
       "    .dataframe tbody tr th:only-of-type {\n",
       "        vertical-align: middle;\n",
       "    }\n",
       "\n",
       "    .dataframe tbody tr th {\n",
       "        vertical-align: top;\n",
       "    }\n",
       "\n",
       "    .dataframe thead th {\n",
       "        text-align: right;\n",
       "    }\n",
       "</style>\n",
       "<table border=\"1\" class=\"dataframe\">\n",
       "  <thead>\n",
       "    <tr style=\"text-align: right;\">\n",
       "      <th></th>\n",
       "      <th>dataset</th>\n",
       "      <th>model</th>\n",
       "      <th>rmse</th>\n",
       "      <th>mae</th>\n",
       "      <th>r2</th>\n",
       "    </tr>\n",
       "  </thead>\n",
       "  <tbody>\n",
       "    <tr>\n",
       "      <th>0</th>\n",
       "      <td>GDSC1</td>\n",
       "      <td>dGBDT</td>\n",
       "      <td>0.000053</td>\n",
       "      <td>0.000041</td>\n",
       "      <td>0.998887</td>\n",
       "    </tr>\n",
       "    <tr>\n",
       "      <th>1</th>\n",
       "      <td>GDSC1</td>\n",
       "      <td>hGBDT</td>\n",
       "      <td>0.000051</td>\n",
       "      <td>0.000035</td>\n",
       "      <td>0.999469</td>\n",
       "    </tr>\n",
       "    <tr>\n",
       "      <th>2</th>\n",
       "      <td>GDSC1</td>\n",
       "      <td>sNN</td>\n",
       "      <td>0.000364</td>\n",
       "      <td>0.000264</td>\n",
       "      <td>0.989208</td>\n",
       "    </tr>\n",
       "    <tr>\n",
       "      <th>3</th>\n",
       "      <td>GDSC1</td>\n",
       "      <td>mNN</td>\n",
       "      <td>0.000217</td>\n",
       "      <td>0.000202</td>\n",
       "      <td>0.997308</td>\n",
       "    </tr>\n",
       "  </tbody>\n",
       "</table>\n",
       "</div>"
      ],
      "text/plain": [
       "  dataset  model      rmse       mae        r2\n",
       "0   GDSC1  dGBDT  0.000053  0.000041  0.998887\n",
       "1   GDSC1  hGBDT  0.000051  0.000035  0.999469\n",
       "2   GDSC1    sNN  0.000364  0.000264  0.989208\n",
       "3   GDSC1    mNN  0.000217  0.000202  0.997308"
      ]
     },
     "metadata": {},
     "output_type": "display_data"
    }
   ],
   "source": [
    "# Calc gof\n",
    "gof_df = pd.DataFrame([gof_lgb_dft, gof_lgb_hpo, gof_nn0, gof_nn1])\n",
    "gof_df = gof_df[['model', 'rmse', 'mae', 'r2']]\n",
    "gof_df.insert(loc=0, column='dataset', value=src, allow_duplicates=True)\n",
    "gof_df.to_csv(outpath/f'gof_{src}.csv', index=False)\n",
    "display(gof_df)"
   ]
  },
  {
   "cell_type": "code",
   "execution_count": null,
   "metadata": {},
   "outputs": [],
   "source": []
  },
  {
   "cell_type": "markdown",
   "metadata": {},
   "source": [
    "## Estimated power-law params"
   ]
  },
  {
   "cell_type": "code",
   "execution_count": 23,
   "metadata": {},
   "outputs": [
    {
     "data": {
      "text/html": [
       "<div>\n",
       "<style scoped>\n",
       "    .dataframe tbody tr th:only-of-type {\n",
       "        vertical-align: middle;\n",
       "    }\n",
       "\n",
       "    .dataframe tbody tr th {\n",
       "        vertical-align: top;\n",
       "    }\n",
       "\n",
       "    .dataframe thead th {\n",
       "        text-align: right;\n",
       "    }\n",
       "</style>\n",
       "<table border=\"1\" class=\"dataframe\">\n",
       "  <thead>\n",
       "    <tr style=\"text-align: right;\">\n",
       "      <th></th>\n",
       "      <th>dataset</th>\n",
       "      <th>model</th>\n",
       "      <th>alpha</th>\n",
       "      <th>beta</th>\n",
       "      <th>gamma</th>\n",
       "    </tr>\n",
       "  </thead>\n",
       "  <tbody>\n",
       "    <tr>\n",
       "      <th>0</th>\n",
       "      <td>GDSC1</td>\n",
       "      <td>dGDBT</td>\n",
       "      <td>1.858714</td>\n",
       "      <td>-0.610376</td>\n",
       "      <td>0.065023</td>\n",
       "    </tr>\n",
       "    <tr>\n",
       "      <th>1</th>\n",
       "      <td>GDSC1</td>\n",
       "      <td>hGDBT</td>\n",
       "      <td>0.124858</td>\n",
       "      <td>-0.060691</td>\n",
       "      <td>-0.000462</td>\n",
       "    </tr>\n",
       "    <tr>\n",
       "      <th>2</th>\n",
       "      <td>GDSC1</td>\n",
       "      <td>sNN</td>\n",
       "      <td>5.463903</td>\n",
       "      <td>-0.001118</td>\n",
       "      <td>-5.332963</td>\n",
       "    </tr>\n",
       "    <tr>\n",
       "      <th>3</th>\n",
       "      <td>GDSC1</td>\n",
       "      <td>mNN</td>\n",
       "      <td>20.595807</td>\n",
       "      <td>-0.000358</td>\n",
       "      <td>-20.452696</td>\n",
       "    </tr>\n",
       "  </tbody>\n",
       "</table>\n",
       "</div>"
      ],
      "text/plain": [
       "  dataset  model      alpha      beta      gamma\n",
       "0   GDSC1  dGDBT   1.858714 -0.610376   0.065023\n",
       "1   GDSC1  hGDBT   0.124858 -0.060691  -0.000462\n",
       "2   GDSC1    sNN   5.463903 -0.001118  -5.332963\n",
       "3   GDSC1    mNN  20.595807 -0.000358 -20.452696"
      ]
     },
     "metadata": {},
     "output_type": "display_data"
    }
   ],
   "source": [
    "# Estimated power-law params\n",
    "df_list = []\n",
    "\n",
    "if prms_lgb_dft is not None:\n",
    "    # prms_lgb_dft['model'] = 'dGDBT'\n",
    "    prms_lgb_dft_df = pd.DataFrame([prms_lgb_dft])\n",
    "    prms_lgb_dft_df['model'] = 'dGDBT'\n",
    "    df_list.append(prms_lgb_dft_df)\n",
    "\n",
    "if prms_lgb_hpo is not None:\n",
    "    # prms_lgb_hpo['model'] = 'hGDBT'\n",
    "    prms_lgb_hpo_df = pd.DataFrame([prms_lgb_hpo])\n",
    "    prms_lgb_hpo_df['model'] = 'hGDBT'\n",
    "    df_list.append(prms_lgb_hpo_df)\n",
    "\n",
    "if prms_nn0 is not None:\n",
    "    # prms_nn0['model'] = 'sNN'\n",
    "    prms_nn0_df = pd.DataFrame([prms_nn0])\n",
    "    prms_nn0_df['model'] = 'sNN'\n",
    "    df_list.append(prms_nn0_df)\n",
    "\n",
    "if prms_nn1 is not None:\n",
    "    # prms_nn1['model'] = 'mNN'\n",
    "    prms_nn1_df = pd.DataFrame([prms_nn1])\n",
    "    prms_nn1_df['model'] = 'mNN'\n",
    "    df_list.append(prms_nn1_df)\n",
    "\n",
    "df_prms = pd.concat(df_list, axis=0).reset_index(drop=True)\n",
    "df_prms = df_prms[['model', 'alpha', 'beta', 'gamma']]\n",
    "df_prms.insert(loc=0, column='dataset', value=src, allow_duplicates=True)\n",
    "display(df_prms)\n",
    "df_prms.to_csv(outpath/f'prms_{src}.csv', index=False)"
   ]
  },
  {
   "cell_type": "code",
   "execution_count": null,
   "metadata": {},
   "outputs": [],
   "source": []
  },
  {
   "cell_type": "markdown",
   "metadata": {},
   "source": [
    "## Extrapolate"
   ]
  },
  {
   "cell_type": "code",
   "execution_count": 24,
   "metadata": {},
   "outputs": [],
   "source": [
    "def inv_powerlaw(y, prms):\n",
    "    vv = ((y - prms['gamma']) / prms['alpha'] ) ** (1/prms['beta'])\n",
    "    if np.isnan(vv) == False:\n",
    "        vv = int(vv)\n",
    "    return vv"
   ]
  },
  {
   "cell_type": "code",
   "execution_count": 25,
   "metadata": {},
   "outputs": [],
   "source": [
    "def get_score_at_2mK(dfit, prms):\n",
    "    x_a = 2 * dfit['tr_size'].values[-1]\n",
    "    return biased_powerlaw(x_a, **prms)"
   ]
  },
  {
   "cell_type": "code",
   "execution_count": 26,
   "metadata": {},
   "outputs": [],
   "source": [
    "red_percent = 0.9\n",
    "\n",
    "dGBDT = {}\n",
    "dGBDT['model'] = 'dGBDT'\n",
    "dGBDT['m_func_s'] = inv_powerlaw(red_percent * dfit_lgb_dft['y'].values[-1], prms_lgb_dft)\n",
    "dGBDT['s2T'] = get_score_at_2mK(dfit_lgb_dft, prms_lgb_dft)\n",
    "\n",
    "hGBDT = {}\n",
    "hGBDT['model'] = 'hGBDT'\n",
    "hGBDT['m_func_s'] = inv_powerlaw(red_percent * dfit_lgb_hpo['y'].values[-1], prms_lgb_hpo)\n",
    "hGBDT['s2T'] = get_score_at_2mK(dfit_lgb_hpo, prms_lgb_hpo)\n",
    "\n",
    "nn0 = {}\n",
    "nn0['model'] = 'sNN'\n",
    "nn0['m_func_s'] = inv_powerlaw(red_percent * dfit_nn0['y'].values[-1], prms_nn0)\n",
    "nn0['s2T'] = get_score_at_2mK(dfit_nn0, prms_nn0)\n",
    "\n",
    "nn1 = {}\n",
    "nn1['model'] = 'mNN'\n",
    "nn1['m_func_s'] = inv_powerlaw(red_percent * dfit_nn1['y'].values[-1], prms_nn1)\n",
    "nn1['s2T'] = get_score_at_2mK(dfit_nn1, prms_nn1)\n",
    "\n",
    "df_ext = pd.DataFrame([dGBDT, hGBDT, nn0, nn1])"
   ]
  },
  {
   "cell_type": "code",
   "execution_count": 27,
   "metadata": {},
   "outputs": [
    {
     "data": {
      "text/html": [
       "<div>\n",
       "<style scoped>\n",
       "    .dataframe tbody tr th:only-of-type {\n",
       "        vertical-align: middle;\n",
       "    }\n",
       "\n",
       "    .dataframe tbody tr th {\n",
       "        vertical-align: top;\n",
       "    }\n",
       "\n",
       "    .dataframe thead th {\n",
       "        text-align: right;\n",
       "    }\n",
       "</style>\n",
       "<table border=\"1\" class=\"dataframe\">\n",
       "  <thead>\n",
       "    <tr style=\"text-align: right;\">\n",
       "      <th></th>\n",
       "      <th>model</th>\n",
       "      <th>m_func_s</th>\n",
       "      <th>s2T</th>\n",
       "    </tr>\n",
       "  </thead>\n",
       "  <tbody>\n",
       "    <tr>\n",
       "      <th>0</th>\n",
       "      <td>dGBDT</td>\n",
       "      <td>NaN</td>\n",
       "      <td>0.066010</td>\n",
       "    </tr>\n",
       "    <tr>\n",
       "      <th>1</th>\n",
       "      <td>hGBDT</td>\n",
       "      <td>648331.0</td>\n",
       "      <td>0.058532</td>\n",
       "    </tr>\n",
       "    <tr>\n",
       "      <th>2</th>\n",
       "      <td>sNN</td>\n",
       "      <td>347175.0</td>\n",
       "      <td>0.056013</td>\n",
       "    </tr>\n",
       "    <tr>\n",
       "      <th>3</th>\n",
       "      <td>mNN</td>\n",
       "      <td>262810.0</td>\n",
       "      <td>0.052138</td>\n",
       "    </tr>\n",
       "  </tbody>\n",
       "</table>\n",
       "</div>"
      ],
      "text/plain": [
       "   model  m_func_s       s2T\n",
       "0  dGBDT       NaN  0.066010\n",
       "1  hGBDT  648331.0  0.058532\n",
       "2    sNN  347175.0  0.056013\n",
       "3    mNN  262810.0  0.052138"
      ]
     },
     "metadata": {},
     "output_type": "display_data"
    },
    {
     "data": {
      "text/html": [
       "<div>\n",
       "<style scoped>\n",
       "    .dataframe tbody tr th:only-of-type {\n",
       "        vertical-align: middle;\n",
       "    }\n",
       "\n",
       "    .dataframe tbody tr th {\n",
       "        vertical-align: top;\n",
       "    }\n",
       "\n",
       "    .dataframe thead th {\n",
       "        text-align: right;\n",
       "    }\n",
       "</style>\n",
       "<table border=\"1\" class=\"dataframe\">\n",
       "  <thead>\n",
       "    <tr style=\"text-align: right;\">\n",
       "      <th></th>\n",
       "      <th>dataset</th>\n",
       "      <th>tr_size</th>\n",
       "      <th>model</th>\n",
       "      <th>sK</th>\n",
       "      <th>Ds</th>\n",
       "    </tr>\n",
       "  </thead>\n",
       "  <tbody>\n",
       "    <tr>\n",
       "      <th>0</th>\n",
       "      <td>GDSC1</td>\n",
       "      <td>115863</td>\n",
       "      <td>dGBDT</td>\n",
       "      <td>0.066553</td>\n",
       "      <td>NaN</td>\n",
       "    </tr>\n",
       "    <tr>\n",
       "      <th>1</th>\n",
       "      <td>GDSC1</td>\n",
       "      <td>115863</td>\n",
       "      <td>hGBDT</td>\n",
       "      <td>0.061068</td>\n",
       "      <td>8.24</td>\n",
       "    </tr>\n",
       "    <tr>\n",
       "      <th>2</th>\n",
       "      <td>GDSC1</td>\n",
       "      <td>115863</td>\n",
       "      <td>sNN</td>\n",
       "      <td>0.059532</td>\n",
       "      <td>10.55</td>\n",
       "    </tr>\n",
       "    <tr>\n",
       "      <th>3</th>\n",
       "      <td>GDSC1</td>\n",
       "      <td>115863</td>\n",
       "      <td>mNN</td>\n",
       "      <td>0.056904</td>\n",
       "      <td>14.50</td>\n",
       "    </tr>\n",
       "  </tbody>\n",
       "</table>\n",
       "</div>"
      ],
      "text/plain": [
       "  dataset  tr_size  model        sK     Ds\n",
       "0   GDSC1   115863  dGBDT  0.066553    NaN\n",
       "1   GDSC1   115863  hGBDT  0.061068   8.24\n",
       "2   GDSC1   115863    sNN  0.059532  10.55\n",
       "3   GDSC1   115863    mNN  0.056904  14.50"
      ]
     },
     "metadata": {},
     "output_type": "display_data"
    }
   ],
   "source": [
    "display(df_ext)\n",
    "display(df_improve)"
   ]
  },
  {
   "cell_type": "code",
   "execution_count": 28,
   "metadata": {},
   "outputs": [
    {
     "data": {
      "text/html": [
       "<div>\n",
       "<style scoped>\n",
       "    .dataframe tbody tr th:only-of-type {\n",
       "        vertical-align: middle;\n",
       "    }\n",
       "\n",
       "    .dataframe tbody tr th {\n",
       "        vertical-align: top;\n",
       "    }\n",
       "\n",
       "    .dataframe thead th {\n",
       "        text-align: right;\n",
       "    }\n",
       "</style>\n",
       "<table border=\"1\" class=\"dataframe\">\n",
       "  <thead>\n",
       "    <tr style=\"text-align: right;\">\n",
       "      <th></th>\n",
       "      <th>dataset</th>\n",
       "      <th>model</th>\n",
       "      <th>tr_size</th>\n",
       "      <th>sK</th>\n",
       "      <th>Ds</th>\n",
       "      <th>s2T</th>\n",
       "      <th>m_func_s</th>\n",
       "    </tr>\n",
       "  </thead>\n",
       "  <tbody>\n",
       "    <tr>\n",
       "      <th>0</th>\n",
       "      <td>GDSC1</td>\n",
       "      <td>dGBDT</td>\n",
       "      <td>115863</td>\n",
       "      <td>0.066553</td>\n",
       "      <td>NaN</td>\n",
       "      <td>0.066010</td>\n",
       "      <td>NaN</td>\n",
       "    </tr>\n",
       "    <tr>\n",
       "      <th>1</th>\n",
       "      <td>GDSC1</td>\n",
       "      <td>hGBDT</td>\n",
       "      <td>115863</td>\n",
       "      <td>0.061068</td>\n",
       "      <td>8.24</td>\n",
       "      <td>0.058532</td>\n",
       "      <td>648331.0</td>\n",
       "    </tr>\n",
       "    <tr>\n",
       "      <th>2</th>\n",
       "      <td>GDSC1</td>\n",
       "      <td>sNN</td>\n",
       "      <td>115863</td>\n",
       "      <td>0.059532</td>\n",
       "      <td>10.55</td>\n",
       "      <td>0.056013</td>\n",
       "      <td>347175.0</td>\n",
       "    </tr>\n",
       "    <tr>\n",
       "      <th>3</th>\n",
       "      <td>GDSC1</td>\n",
       "      <td>mNN</td>\n",
       "      <td>115863</td>\n",
       "      <td>0.056904</td>\n",
       "      <td>14.50</td>\n",
       "      <td>0.052138</td>\n",
       "      <td>262810.0</td>\n",
       "    </tr>\n",
       "  </tbody>\n",
       "</table>\n",
       "</div>"
      ],
      "text/plain": [
       "  dataset  model  tr_size        sK     Ds       s2T  m_func_s\n",
       "0   GDSC1  dGBDT   115863  0.066553    NaN  0.066010       NaN\n",
       "1   GDSC1  hGBDT   115863  0.061068   8.24  0.058532  648331.0\n",
       "2   GDSC1    sNN   115863  0.059532  10.55  0.056013  347175.0\n",
       "3   GDSC1    mNN   115863  0.056904  14.50  0.052138  262810.0"
      ]
     },
     "execution_count": 28,
     "metadata": {},
     "output_type": "execute_result"
    }
   ],
   "source": [
    "dff = df_ext.merge(df_improve, on='model')\n",
    "dff = dff[['dataset', 'model', 'tr_size', 'sK', 'Ds', 's2T', 'm_func_s']]\n",
    "dff"
   ]
  },
  {
   "cell_type": "code",
   "execution_count": 29,
   "metadata": {},
   "outputs": [
    {
     "data": {
      "text/html": [
       "<div>\n",
       "<style scoped>\n",
       "    .dataframe tbody tr th:only-of-type {\n",
       "        vertical-align: middle;\n",
       "    }\n",
       "\n",
       "    .dataframe tbody tr th {\n",
       "        vertical-align: top;\n",
       "    }\n",
       "\n",
       "    .dataframe thead th {\n",
       "        text-align: right;\n",
       "    }\n",
       "</style>\n",
       "<table border=\"1\" class=\"dataframe\">\n",
       "  <thead>\n",
       "    <tr style=\"text-align: right;\">\n",
       "      <th></th>\n",
       "      <th>dataset</th>\n",
       "      <th>model</th>\n",
       "      <th>tr_size</th>\n",
       "      <th>sK</th>\n",
       "      <th>Ds</th>\n",
       "      <th>s2T</th>\n",
       "      <th>s2T_impv</th>\n",
       "      <th>m_func_s</th>\n",
       "      <th>m_factor</th>\n",
       "    </tr>\n",
       "  </thead>\n",
       "  <tbody>\n",
       "    <tr>\n",
       "      <th>0</th>\n",
       "      <td>GDSC1</td>\n",
       "      <td>dGBDT</td>\n",
       "      <td>115863</td>\n",
       "      <td>0.066553</td>\n",
       "      <td>NaN</td>\n",
       "      <td>0.066010</td>\n",
       "      <td>0.81536</td>\n",
       "      <td>NaN</td>\n",
       "      <td>None</td>\n",
       "    </tr>\n",
       "    <tr>\n",
       "      <th>1</th>\n",
       "      <td>GDSC1</td>\n",
       "      <td>hGBDT</td>\n",
       "      <td>115863</td>\n",
       "      <td>0.061068</td>\n",
       "      <td>8.24</td>\n",
       "      <td>0.058532</td>\n",
       "      <td>4.15231</td>\n",
       "      <td>648331.0</td>\n",
       "      <td>5.59567</td>\n",
       "    </tr>\n",
       "    <tr>\n",
       "      <th>2</th>\n",
       "      <td>GDSC1</td>\n",
       "      <td>sNN</td>\n",
       "      <td>115863</td>\n",
       "      <td>0.059532</td>\n",
       "      <td>10.55</td>\n",
       "      <td>0.056013</td>\n",
       "      <td>5.91039</td>\n",
       "      <td>347175.0</td>\n",
       "      <td>2.99643</td>\n",
       "    </tr>\n",
       "    <tr>\n",
       "      <th>3</th>\n",
       "      <td>GDSC1</td>\n",
       "      <td>mNN</td>\n",
       "      <td>115863</td>\n",
       "      <td>0.056904</td>\n",
       "      <td>14.50</td>\n",
       "      <td>0.052138</td>\n",
       "      <td>8.3746</td>\n",
       "      <td>262810.0</td>\n",
       "      <td>2.26828</td>\n",
       "    </tr>\n",
       "  </tbody>\n",
       "</table>\n",
       "</div>"
      ],
      "text/plain": [
       "  dataset  model  tr_size        sK     Ds       s2T s2T_impv  m_func_s  \\\n",
       "0   GDSC1  dGBDT   115863  0.066553    NaN  0.066010  0.81536       NaN   \n",
       "1   GDSC1  hGBDT   115863  0.061068   8.24  0.058532  4.15231  648331.0   \n",
       "2   GDSC1    sNN   115863  0.059532  10.55  0.056013  5.91039  347175.0   \n",
       "3   GDSC1    mNN   115863  0.056904  14.50  0.052138   8.3746  262810.0   \n",
       "\n",
       "  m_factor  \n",
       "0     None  \n",
       "1  5.59567  \n",
       "2  2.99643  \n",
       "3  2.26828  "
      ]
     },
     "metadata": {},
     "output_type": "display_data"
    }
   ],
   "source": [
    "dff['s2T_impv'] = None\n",
    "dff['m_factor'] = None\n",
    "\n",
    "for m in dff['model'].values:\n",
    "    # Percent improvement as compared to sK\n",
    "    s_k = dff.loc[ dff['model']==m, 'sK' ]\n",
    "    s_2k = dff.loc[ dff['model']==m, 's2T' ]\n",
    "    vv = np.around((s_k - s_2k)/s_k * 100, 7)\n",
    "    dff.loc[dff['model']==m, 's2T_impv'] = vv\n",
    "    \n",
    "    # The required data size as a factor of mK\n",
    "    if np.isnan( dff.loc[ dff['model']==m, 'm_func_s' ] ).values[0] == False:\n",
    "        dff.loc[dff['model']==m, 'm_factor'] = dff.loc[ dff['model']==m, 'm_func_s' ] / dff.loc[ dff['model']==m, 'tr_size' ]\n",
    "        \n",
    "dff = dff[['dataset', 'model', 'tr_size', 'sK', 'Ds', 's2T', 's2T_impv', 'm_func_s', 'm_factor']]\n",
    "display(dff)\n",
    "\n",
    "dff.to_csv(outpath/f'Table2_{src}.csv', index=False)"
   ]
  },
  {
   "cell_type": "code",
   "execution_count": null,
   "metadata": {},
   "outputs": [],
   "source": []
  }
 ],
 "metadata": {
  "kernelspec": {
   "display_name": "Python 3",
   "language": "python",
   "name": "python3"
  },
  "language_info": {
   "codemirror_mode": {
    "name": "ipython",
    "version": 3
   },
   "file_extension": ".py",
   "mimetype": "text/x-python",
   "name": "python",
   "nbconvert_exporter": "python",
   "pygments_lexer": "ipython3",
   "version": "3.6.10"
  }
 },
 "nbformat": 4,
 "nbformat_minor": 4
}
