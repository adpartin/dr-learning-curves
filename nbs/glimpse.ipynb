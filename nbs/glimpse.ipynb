{
 "cells": [
  {
   "cell_type": "markdown",
   "metadata": {},
   "source": [
    "### Glimpse into learning curves"
   ]
  },
  {
   "cell_type": "code",
   "execution_count": 1,
   "metadata": {},
   "outputs": [
    {
     "name": "stdout",
     "output_type": "stream",
     "text": [
      "Current path: /vol/ml/apartin/projects/dr-learning-curves/nbs\n"
     ]
    }
   ],
   "source": [
    "%load_ext autoreload\n",
    "%autoreload 2\n",
    "%matplotlib inline\n",
    "\n",
    "from load_modules import *\n",
    "%matplotlib inline\n",
    "fpath = Path(os.getcwd())\n",
    "print('Current path:', fpath)"
   ]
  },
  {
   "cell_type": "code",
   "execution_count": 2,
   "metadata": {},
   "outputs": [],
   "source": [
    "# Settings\n",
    "drop_bad_r2fit = False\n",
    "# drop_bad_r2fit = True\n",
    "dpi = 200"
   ]
  },
  {
   "cell_type": "code",
   "execution_count": null,
   "metadata": {},
   "outputs": [],
   "source": []
  },
  {
   "cell_type": "markdown",
   "metadata": {},
   "source": [
    "## Path to data"
   ]
  },
  {
   "cell_type": "code",
   "execution_count": 3,
   "metadata": {},
   "outputs": [],
   "source": [
    "fname = 'all_scores.csv'\n",
    "# dpath = Path('../lc.out.summit.July2020/exp_1_and_2')\n",
    "# dirs = glob(str(dpath/'*'))\n",
    "# print(dirs)"
   ]
  },
  {
   "cell_type": "code",
   "execution_count": 4,
   "metadata": {},
   "outputs": [
    {
     "data": {
      "text/plain": [
       "'\\nTODO!\\nConsider experiment. Build ML dfs for each source to contain the same number of training samples.\\nThe total sample size is defined by the smallest dataset (GDSC2).\\nGenerate LC using nn_reg1 (mNN) for each source and compare LC plots.\\n'"
      ]
     },
     "execution_count": 4,
     "metadata": {},
     "output_type": "execute_result"
    }
   ],
   "source": [
    "# dGBDT\n",
    "model = 'dGBDT'\n",
    "gdsc1_path = Path('../lc.out.new.r2fit_03/', f'lc.gdsc1.lgb.dflt', fname)\n",
    "# gdsc2_path = Path('../lc.out.new.r2fit_03/', f'lc.gdsc2.lgb.dflt', fname)\n",
    "# ctrp_path = Path('../lc.out.new.r2fit_03/', f'lc.ctrp.lgb.dflt', fname)\n",
    "# nci_path = Path('../lc.out.nci60.lgb/lc.nci60.lgb.dflt', fname)\n",
    "\n",
    "# mNN\n",
    "\"\"\"\n",
    "TODO!\n",
    "Consider experiment. Build ML dfs for each source to contain the same number of training samples.\n",
    "The total sample size is defined by the smallest dataset (GDSC2).\n",
    "Generate LC using nn_reg1 (mNN) for each source and compare LC plots.\n",
    "\"\"\"\n",
    "# model = 'mNN'\n",
    "# gdsc1_path = Path('../lc.out.new.r2fit_03/', f'lc.gdsc1.nn_reg1.ls_hpo', fname)\n",
    "# gdsc2_path = Path('../lc.out.new.r2fit_03/', f'lc.gdsc2.nn_reg1.ls_hpo', fname)\n",
    "# ctrp_path = Path('../lc.out.new.r2fit_03/', f'lc.ctrp.nn_reg1.ls_hpo', fname)\n",
    "# nci_path = Path('../lc.out.summit.July2020/exp_1_and_2/lc.nci60.nn_reg1.random.ls_hpo', fname)"
   ]
  },
  {
   "cell_type": "code",
   "execution_count": 5,
   "metadata": {},
   "outputs": [],
   "source": [
    "outpath = fpath/'glimpse'\n",
    "os.makedirs(outpath, exist_ok=True)"
   ]
  },
  {
   "cell_type": "code",
   "execution_count": null,
   "metadata": {},
   "outputs": [],
   "source": []
  },
  {
   "cell_type": "markdown",
   "metadata": {},
   "source": [
    "## Load data"
   ]
  },
  {
   "cell_type": "code",
   "execution_count": 6,
   "metadata": {},
   "outputs": [],
   "source": [
    "gdsc1 = load_data(gdsc1_path, tr_set='te');\n",
    "# gdsc2 = load_data(gdsc2_path, tr_set='te');\n",
    "# ctrp = load_data(ctrp_path, tr_set='te');\n",
    "# nci = load_data(nci_path, tr_set='te');"
   ]
  },
  {
   "cell_type": "code",
   "execution_count": 7,
   "metadata": {},
   "outputs": [
    {
     "data": {
      "text/html": [
       "<div>\n",
       "<style scoped>\n",
       "    .dataframe tbody tr th:only-of-type {\n",
       "        vertical-align: middle;\n",
       "    }\n",
       "\n",
       "    .dataframe tbody tr th {\n",
       "        vertical-align: top;\n",
       "    }\n",
       "\n",
       "    .dataframe thead th {\n",
       "        text-align: right;\n",
       "    }\n",
       "</style>\n",
       "<table border=\"1\" class=\"dataframe\">\n",
       "  <thead>\n",
       "    <tr style=\"text-align: right;\">\n",
       "      <th></th>\n",
       "      <th>tr_size</th>\n",
       "      <th>one</th>\n",
       "    </tr>\n",
       "  </thead>\n",
       "  <tbody>\n",
       "    <tr>\n",
       "      <th>0</th>\n",
       "      <td>10</td>\n",
       "      <td>20</td>\n",
       "    </tr>\n",
       "    <tr>\n",
       "      <th>1</th>\n",
       "      <td>12</td>\n",
       "      <td>20</td>\n",
       "    </tr>\n",
       "    <tr>\n",
       "      <th>2</th>\n",
       "      <td>16</td>\n",
       "      <td>20</td>\n",
       "    </tr>\n",
       "    <tr>\n",
       "      <th>3</th>\n",
       "      <td>20</td>\n",
       "      <td>20</td>\n",
       "    </tr>\n",
       "    <tr>\n",
       "      <th>4</th>\n",
       "      <td>26</td>\n",
       "      <td>20</td>\n",
       "    </tr>\n",
       "    <tr>\n",
       "      <th>5</th>\n",
       "      <td>33</td>\n",
       "      <td>20</td>\n",
       "    </tr>\n",
       "    <tr>\n",
       "      <th>6</th>\n",
       "      <td>42</td>\n",
       "      <td>20</td>\n",
       "    </tr>\n",
       "    <tr>\n",
       "      <th>7</th>\n",
       "      <td>53</td>\n",
       "      <td>20</td>\n",
       "    </tr>\n",
       "    <tr>\n",
       "      <th>8</th>\n",
       "      <td>68</td>\n",
       "      <td>20</td>\n",
       "    </tr>\n",
       "    <tr>\n",
       "      <th>9</th>\n",
       "      <td>86</td>\n",
       "      <td>20</td>\n",
       "    </tr>\n",
       "    <tr>\n",
       "      <th>10</th>\n",
       "      <td>110</td>\n",
       "      <td>20</td>\n",
       "    </tr>\n",
       "    <tr>\n",
       "      <th>11</th>\n",
       "      <td>140</td>\n",
       "      <td>20</td>\n",
       "    </tr>\n",
       "    <tr>\n",
       "      <th>12</th>\n",
       "      <td>178</td>\n",
       "      <td>20</td>\n",
       "    </tr>\n",
       "    <tr>\n",
       "      <th>13</th>\n",
       "      <td>226</td>\n",
       "      <td>20</td>\n",
       "    </tr>\n",
       "    <tr>\n",
       "      <th>14</th>\n",
       "      <td>287</td>\n",
       "      <td>20</td>\n",
       "    </tr>\n",
       "    <tr>\n",
       "      <th>15</th>\n",
       "      <td>365</td>\n",
       "      <td>20</td>\n",
       "    </tr>\n",
       "    <tr>\n",
       "      <th>16</th>\n",
       "      <td>464</td>\n",
       "      <td>20</td>\n",
       "    </tr>\n",
       "    <tr>\n",
       "      <th>17</th>\n",
       "      <td>590</td>\n",
       "      <td>20</td>\n",
       "    </tr>\n",
       "    <tr>\n",
       "      <th>18</th>\n",
       "      <td>751</td>\n",
       "      <td>20</td>\n",
       "    </tr>\n",
       "    <tr>\n",
       "      <th>19</th>\n",
       "      <td>954</td>\n",
       "      <td>20</td>\n",
       "    </tr>\n",
       "    <tr>\n",
       "      <th>20</th>\n",
       "      <td>1213</td>\n",
       "      <td>20</td>\n",
       "    </tr>\n",
       "    <tr>\n",
       "      <th>21</th>\n",
       "      <td>1542</td>\n",
       "      <td>20</td>\n",
       "    </tr>\n",
       "    <tr>\n",
       "      <th>22</th>\n",
       "      <td>1961</td>\n",
       "      <td>20</td>\n",
       "    </tr>\n",
       "    <tr>\n",
       "      <th>23</th>\n",
       "      <td>2492</td>\n",
       "      <td>20</td>\n",
       "    </tr>\n",
       "    <tr>\n",
       "      <th>24</th>\n",
       "      <td>3168</td>\n",
       "      <td>20</td>\n",
       "    </tr>\n",
       "    <tr>\n",
       "      <th>25</th>\n",
       "      <td>4028</td>\n",
       "      <td>20</td>\n",
       "    </tr>\n",
       "    <tr>\n",
       "      <th>26</th>\n",
       "      <td>5120</td>\n",
       "      <td>20</td>\n",
       "    </tr>\n",
       "    <tr>\n",
       "      <th>27</th>\n",
       "      <td>6508</td>\n",
       "      <td>20</td>\n",
       "    </tr>\n",
       "    <tr>\n",
       "      <th>28</th>\n",
       "      <td>8273</td>\n",
       "      <td>20</td>\n",
       "    </tr>\n",
       "    <tr>\n",
       "      <th>29</th>\n",
       "      <td>10517</td>\n",
       "      <td>20</td>\n",
       "    </tr>\n",
       "    <tr>\n",
       "      <th>30</th>\n",
       "      <td>13369</td>\n",
       "      <td>20</td>\n",
       "    </tr>\n",
       "    <tr>\n",
       "      <th>31</th>\n",
       "      <td>16994</td>\n",
       "      <td>20</td>\n",
       "    </tr>\n",
       "    <tr>\n",
       "      <th>32</th>\n",
       "      <td>21603</td>\n",
       "      <td>20</td>\n",
       "    </tr>\n",
       "    <tr>\n",
       "      <th>33</th>\n",
       "      <td>27461</td>\n",
       "      <td>20</td>\n",
       "    </tr>\n",
       "    <tr>\n",
       "      <th>34</th>\n",
       "      <td>34908</td>\n",
       "      <td>20</td>\n",
       "    </tr>\n",
       "    <tr>\n",
       "      <th>35</th>\n",
       "      <td>44374</td>\n",
       "      <td>20</td>\n",
       "    </tr>\n",
       "    <tr>\n",
       "      <th>36</th>\n",
       "      <td>56407</td>\n",
       "      <td>20</td>\n",
       "    </tr>\n",
       "    <tr>\n",
       "      <th>37</th>\n",
       "      <td>71703</td>\n",
       "      <td>20</td>\n",
       "    </tr>\n",
       "    <tr>\n",
       "      <th>38</th>\n",
       "      <td>91146</td>\n",
       "      <td>20</td>\n",
       "    </tr>\n",
       "    <tr>\n",
       "      <th>39</th>\n",
       "      <td>115863</td>\n",
       "      <td>20</td>\n",
       "    </tr>\n",
       "  </tbody>\n",
       "</table>\n",
       "</div>"
      ],
      "text/plain": [
       "    tr_size  one\n",
       "0        10   20\n",
       "1        12   20\n",
       "2        16   20\n",
       "3        20   20\n",
       "4        26   20\n",
       "5        33   20\n",
       "6        42   20\n",
       "7        53   20\n",
       "8        68   20\n",
       "9        86   20\n",
       "10      110   20\n",
       "11      140   20\n",
       "12      178   20\n",
       "13      226   20\n",
       "14      287   20\n",
       "15      365   20\n",
       "16      464   20\n",
       "17      590   20\n",
       "18      751   20\n",
       "19      954   20\n",
       "20     1213   20\n",
       "21     1542   20\n",
       "22     1961   20\n",
       "23     2492   20\n",
       "24     3168   20\n",
       "25     4028   20\n",
       "26     5120   20\n",
       "27     6508   20\n",
       "28     8273   20\n",
       "29    10517   20\n",
       "30    13369   20\n",
       "31    16994   20\n",
       "32    21603   20\n",
       "33    27461   20\n",
       "34    34908   20\n",
       "35    44374   20\n",
       "36    56407   20\n",
       "37    71703   20\n",
       "38    91146   20\n",
       "39   115863   20"
      ]
     },
     "metadata": {},
     "output_type": "display_data"
    }
   ],
   "source": [
    "print_count(aa=gdsc1)\n",
    "# print_count(aa=gdsc2)\n",
    "# print_count(aa=ctrp)\n",
    "# print_count(aa=nci)"
   ]
  },
  {
   "cell_type": "code",
   "execution_count": 8,
   "metadata": {},
   "outputs": [],
   "source": [
    "if drop_bad_r2fit:\n",
    "    gdsc1 = drop_bad_r2(gdsc1)\n",
    "#     gdsc2 = drop_bad_r2(gdsc2)\n",
    "#     ctrp  = drop_bad_r2(ctrp)\n",
    "#     nci   = drop_bad_r2(nci)"
   ]
  },
  {
   "cell_type": "code",
   "execution_count": 9,
   "metadata": {},
   "outputs": [],
   "source": [
    "def calc_gof(y, yfit):\n",
    "    from sklearn import metrics\n",
    "    gof = {}\n",
    "    rmse = sqrt( metrics.mean_squared_error(y, yfit) )\n",
    "    mae = metrics.mean_absolute_error(y, yfit)\n",
    "    gof['rmse'] = rmse\n",
    "    gof['mae'] = mae\n",
    "    return gof"
   ]
  },
  {
   "cell_type": "code",
   "execution_count": null,
   "metadata": {},
   "outputs": [],
   "source": []
  },
  {
   "cell_type": "markdown",
   "metadata": {},
   "source": [
    "## Raw plots"
   ]
  },
  {
   "cell_type": "code",
   "execution_count": 10,
   "metadata": {},
   "outputs": [],
   "source": [
    "# Global plotting params\n",
    "# -------------------------------\n",
    "met = 'mean_absolute_error';  # startParams = {'a': 1.2, 'b': -0.4, 'c': 0.04}\n",
    "\n",
    "t_set = 'te'\n",
    "xtick_scale = 'log2'\n",
    "ytick_scale = 'log2'\n",
    "# xtick_scale = 'linear'\n",
    "# ytick_scale = 'linear'\n",
    "\n",
    "kwargs = {'metric_name': met,\n",
    "          'tr_set': t_set,\n",
    "          'xtick_scale': xtick_scale,\n",
    "          'ytick_scale': ytick_scale,\n",
    "          'plot_median': True}"
   ]
  },
  {
   "cell_type": "code",
   "execution_count": 11,
   "metadata": {},
   "outputs": [
    {
     "data": {
      "image/png": "[encoded data removed]",
      "text/plain": [
       "<Figure size 504x360 with 1 Axes>"
      ]
     },
     "metadata": {
      "needs_background": "light"
     },
     "output_type": "display_data"
    }
   ],
   "source": [
    "# Plot dGBDT (GDSC1)\n",
    "# -------------------------------\n",
    "kwargs.update({'title': f'GDSC1'})\n",
    "ax = lc_plots.plot_lc_single_metric(gdsc1, **kwargs);\n",
    "ax.legend(frameon=True, fontsize=10, loc='best')\n",
    "ax.grid(False)\n",
    "\n",
    "if drop_bad_r2fit:\n",
    "    plt.savefig(outpath/f'{model}_gdsc1_drop_bad_r2fit.png', dpi=dpi)\n",
    "else:\n",
    "    plt.savefig(outpath/f'{model}_gdsc1.png', dpi=dpi)"
   ]
  },
  {
   "cell_type": "code",
   "execution_count": 41,
   "metadata": {},
   "outputs": [
    {
     "data": {
      "image/png": "[encoded data removed]",
      "text/plain": [
       "<Figure size 504x360 with 1 Axes>"
      ]
     },
     "metadata": {
      "needs_background": "light"
     },
     "output_type": "display_data"
    }
   ],
   "source": [
    "ax = None\n",
    "data=gdsc1; name='GDSC1';\n",
    "dfit_all = fit_data(data, x_fit_mn=0, x_fit_mx=None, method='binomial')\n",
    "x_all = dfit_all['tr_size'].values\n",
    "y_all = dfit_all['y'].values\n",
    "color = 'b'\n",
    "\n",
    "pnts_args_all = {'metric_name': met, 'xtick_scale': 'log2', 'ytick_scale': 'log2', 'alpha': 0.9, 'ls': '', 'marker': '.'}\n",
    "ax = lc_plots.plot_lc(x=x_all, y=y_all, ax=ax, **pnts_args_all, color=color)\n",
    "\n",
    "ax.set_title(f'{name}')\n",
    "ax.grid(False)\n",
    "\n",
    "plt.savefig(outpath/f'{model}_{name}_loglog.png', dpi=dpi)"
   ]
  },
  {
   "cell_type": "code",
   "execution_count": 40,
   "metadata": {},
   "outputs": [
    {
     "data": {
      "image/png": "[encoded data removed]",
      "text/plain": [
       "<Figure size 504x360 with 1 Axes>"
      ]
     },
     "metadata": {
      "needs_background": "light"
     },
     "output_type": "display_data"
    }
   ],
   "source": [
    "ax = None\n",
    "data=gdsc1; name='GDSC1';\n",
    "dfit_all = fit_data(data, x_fit_mn=0, x_fit_mx=None, method='binomial')\n",
    "x_all = dfit_all['tr_size'].values\n",
    "y_all = dfit_all['y'].values\n",
    "color = 'b'\n",
    "\n",
    "pnts_args_all = {'metric_name': met, 'xtick_scale': 'linear', 'ytick_scale': 'linear', 'alpha': 0.9, 'ls': '', 'marker': '.'}\n",
    "ax = lc_plots.plot_lc(x=x_all, y=y_all, ax=ax, **pnts_args_all, color=color)\n",
    "\n",
    "ax.set_title(f'{name}')\n",
    "# ax.legend(frameon=True, fontsize=10, loc='best')\n",
    "ax.grid(False)\n",
    "\n",
    "plt.savefig(outpath/f'{model}_{name}_linlin.png', dpi=dpi)"
   ]
  },
  {
   "cell_type": "code",
   "execution_count": null,
   "metadata": {},
   "outputs": [],
   "source": []
  }
 ],
 "metadata": {
  "kernelspec": {
   "display_name": "Python 3",
   "language": "python",
   "name": "python3"
  },
  "language_info": {
   "codemirror_mode": {
    "name": "ipython",
    "version": 3
   },
   "file_extension": ".py",
   "mimetype": "text/x-python",
   "name": "python",
   "nbconvert_exporter": "python",
   "pygments_lexer": "ipython3",
   "version": "3.6.10"
  }
 },
 "nbformat": 4,
 "nbformat_minor": 4
}
