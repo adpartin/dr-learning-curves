{
 "cells": [
  {
   "cell_type": "markdown",
   "metadata": {},
   "source": [
    "### Datasets\n",
    "    - gdsc --> gg\n",
    "    - ctrp --> cc\n",
    "### Models\n",
    "    - lgb\n",
    "    - nn0\n",
    "    - nn1"
   ]
  },
  {
   "cell_type": "code",
   "execution_count": 4,
   "metadata": {},
   "outputs": [
    {
     "name": "stdout",
     "output_type": "stream",
     "text": [
      "The autoreload extension is already loaded. To reload it, use:\n",
      "  %reload_ext autoreload\n",
      "Current path: /vol/ml/apartin/projects/dr-learning-curves/nbs\n"
     ]
    }
   ],
   "source": [
    "%load_ext autoreload\n",
    "%autoreload 2\n",
    "%matplotlib inline\n",
    "\n",
    "from load_modules import *\n",
    "%matplotlib inline\n",
    "fpath = Path(os.getcwd())\n",
    "print('Current path:', fpath)\n",
    "\n",
    "outpath = fpath/'outpath'\n",
    "os.makedirs(outpath, exist_ok=True)"
   ]
  },
  {
   "cell_type": "code",
   "execution_count": null,
   "metadata": {},
   "outputs": [],
   "source": []
  },
  {
   "cell_type": "markdown",
   "metadata": {},
   "source": [
    "## Path to data"
   ]
  },
  {
   "cell_type": "code",
   "execution_count": 5,
   "metadata": {},
   "outputs": [
    {
     "name": "stdout",
     "output_type": "stream",
     "text": [
      "['../lc.out.July2020.gov-meeting/lc.ctrp.nn_reg0.ls_hpo', '../lc.out.July2020.gov-meeting/lc.ctrp.nn_reg1.ls_hpo', '../lc.out.July2020.gov-meeting/lc.gdsc1.nn_reg0.ls_hpo', '../lc.out.July2020.gov-meeting/lc.gdsc1.nn_reg1.ls_hpo', '../lc.out.July2020.gov-meeting/lc.gdsc2.nn_reg0.ls_hpo', '../lc.out.July2020.gov-meeting/lc.gdsc2.nn_reg1.ls_hpo']\n"
     ]
    }
   ],
   "source": [
    "fname = 'all_scores.csv'\n",
    "# dpath = Path('../lc.out')\n",
    "dpath = Path('../lc.out.July2020.gov-meeting')\n",
    "# dpath = Path('../lc.out.summit.July2020/exp_1_and_2')\n",
    "\n",
    "# dirs = sorted(dpath.glob('*'))\n",
    "dirs = glob(str(dpath/'*'))\n",
    "print(dirs)"
   ]
  },
  {
   "cell_type": "code",
   "execution_count": 6,
   "metadata": {},
   "outputs": [],
   "source": [
    "# c_lgb_path = dpath/'lc.ctrp.lgb.default'/fname\n",
    "# c_lgb_path = dpath/dirs[0]/fname\n",
    "# g_lgb_path = dpath/dirs[1]/fname\n",
    "\n",
    "# GDSC\n",
    "# nn0_path = Path(dpath, 'lc.gdsc.nn_reg0.ls_hpo', fname); src='gdsc'; model='nn0'\n",
    "# nn1_path = Path(dpath, 'lc.gdsc.nn_reg1.ls_hpo', fname); src='gdsc'; model='nn1'\n",
    "# lgb_path = Path(dpath, 'lc.gdsc.lgb', fname); src='ctrp'; model='lgb'\n",
    "# lgb_path = Path(dpath, 'lc.gdsc.lgb.ls_hpo', fname); src='ctrp'; model='lgb'\n",
    "\n",
    "# # GDSC1\n",
    "# exp_name = 'gdsc1.nn0_vs_nn1'\n",
    "# nn0_path = Path(dpath, 'lc.gdsc1.nn_reg0.ls_hpo', fname); src='gdsc1'; model='nn0'; label_nn0='GDSC1; Single'\n",
    "# nn1_path = Path(dpath, 'lc.gdsc1.nn_reg1.ls_hpo', fname); src='gdsc1'; model='nn1'; label_nn1='GDSC1; Multi'\n",
    "# lgb_path = None\n",
    "\n",
    "# # GDSC2\n",
    "# exp_name = 'gdsc2.nn0_vs_nn1'\n",
    "# nn0_path = Path(dpath, 'lc.gdsc2.nn_reg0.ls_hpo', fname); src='gdsc2'; model='nn0'; label_nn0='GDSC2; Single'\n",
    "# nn1_path = Path(dpath, 'lc.gdsc2.nn_reg1.ls_hpo', fname); src='gdsc2'; model='nn1'; label_nn1='GDSC2; Multi'\n",
    "# lgb_path = None\n",
    "\n",
    "# GDSC1 vs GDSC2; nn1\n",
    "exp_name = 'gdsc1_vs_gdsc2.nn1'\n",
    "nn0_path = Path(dpath, 'lc.gdsc1.nn_reg1.ls_hpo', fname); src='gdsc1'; model='GDSC1; nn1'; label_nn0='GDSC1; Multi'\n",
    "nn1_path = Path(dpath, 'lc.gdsc2.nn_reg1.ls_hpo', fname); src='gdsc2'; model='GDSC2; nn1'; label_nn1='GDSC2; Multi'\n",
    "lgb_path = None\n",
    "\n",
    "# CTRP\n",
    "# exp_name = 'ctrp.nn0_vs_nn1'\n",
    "# nn0_path = Path(dpath, 'lc.ctrp.nn_reg0.ls_hpo', fname); src='ctrp'; model='nn0'; label_nn0='CTRP; Single'\n",
    "# nn1_path = Path(dpath, 'lc.ctrp.nn_reg1.ls_hpo', fname); src='ctrp'; model='nn1'; label_nn1='CTRP; Multi'\n",
    "# lgb_path = Path('../lc.out.ctrp.lgb/lc.ctrp.lgb.dflt', fname)\n",
    "# lgb_path = Path(dpath, 'lc.ctrp.lgb', fname); src='ctrp'; model='lgb'\n",
    "# lgb_path = Path(dpath, 'lc.ctrp.lgb.ls_hpo', fname); src='ctrp'; model='lgb'\n",
    "\n",
    "# NCI60\n",
    "# nn0_path = Path(dpath, 'lc.nci60.nn_reg0.ls_hpo', fname); src='nci60'; model='nn0'\n",
    "# nn1_path = Path(dpath, 'lc.nci60.nn_reg1.ls_hpo', fname); src='nci60'; model='nn1'\n",
    "\n",
    "# NCI60\n",
    "# exp_name = 'nci60.nn0_vs_nn1'\n",
    "# nn0_path = Path(dpath, f'lc.nci60.nn_reg0.random.ls_hpo', fname); src='nci60'; label_nn0='NCI60; Single'\n",
    "# nn1_path = Path(dpath, f'lc.nci60.nn_reg1.random.ls_hpo', fname); src='nci60'; label_nn1='NCI60; Multi'\n",
    "# lgb_path = Path('../lc.out.nci60.lgb/lc.nci60.lgb.dflt', fname); src='nci60'; model='lgb'"
   ]
  },
  {
   "cell_type": "code",
   "execution_count": null,
   "metadata": {},
   "outputs": [],
   "source": []
  },
  {
   "cell_type": "markdown",
   "metadata": {},
   "source": [
    "## Load data"
   ]
  },
  {
   "cell_type": "code",
   "execution_count": 7,
   "metadata": {},
   "outputs": [],
   "source": [
    "# data = load_data(path, tr_set='te');\n",
    "# print('data.shape', data.shape)\n",
    "# display( data[(data.set=='te') & (data.metric=='mean_absolute_error')] )"
   ]
  },
  {
   "cell_type": "code",
   "execution_count": 8,
   "metadata": {},
   "outputs": [],
   "source": [
    "def get_data(path, tr_set='te'):\n",
    "    if path is None:\n",
    "        return None\n",
    "    else:\n",
    "        return load_data(path, tr_set=tr_set);\n",
    "        \n",
    "# nn0 = load_data(nn0_path, tr_set='te');\n",
    "# nn1 = load_data(nn1_path, tr_set='te');\n",
    "# lgb = load_data(lgb_path, tr_set='te');\n",
    "\n",
    "nn0 = get_data(nn0_path, tr_set='te');\n",
    "nn1 = get_data(nn1_path, tr_set='te');\n",
    "lgb = get_data(lgb_path, tr_set='te');"
   ]
  },
  {
   "cell_type": "code",
   "execution_count": 10,
   "metadata": {},
   "outputs": [],
   "source": [
    "def print_count(aa):\n",
    "    # aa = nn0_rnd\n",
    "    aa['one'] = 1\n",
    "    aa = aa[(aa['set']=='te') & (aa['metric']=='mean_absolute_error')]\n",
    "    display(aa.groupby(['tr_size']).agg({'one': 'sum'}).sort_values('tr_size').reset_index())\n",
    "    \n",
    "# print_count(aa=nn0)\n",
    "# print_count(aa=nn1)\n",
    "# print_count(aa=lgb_hpo)\n",
    "# print_count(aa=lgb)"
   ]
  },
  {
   "cell_type": "code",
   "execution_count": 12,
   "metadata": {},
   "outputs": [
    {
     "data": {
      "text/html": [
       "<div>\n",
       "<style scoped>\n",
       "    .dataframe tbody tr th:only-of-type {\n",
       "        vertical-align: middle;\n",
       "    }\n",
       "\n",
       "    .dataframe tbody tr th {\n",
       "        vertical-align: top;\n",
       "    }\n",
       "\n",
       "    .dataframe thead th {\n",
       "        text-align: right;\n",
       "    }\n",
       "</style>\n",
       "<table border=\"1\" class=\"dataframe\">\n",
       "  <thead>\n",
       "    <tr style=\"text-align: right;\">\n",
       "      <th></th>\n",
       "      <th>run</th>\n",
       "      <th>tr_size</th>\n",
       "      <th>set</th>\n",
       "      <th>metric</th>\n",
       "      <th>score</th>\n",
       "    </tr>\n",
       "  </thead>\n",
       "  <tbody>\n",
       "    <tr>\n",
       "      <th>0</th>\n",
       "      <td>run1</td>\n",
       "      <td>10000</td>\n",
       "      <td>te</td>\n",
       "      <td>r2</td>\n",
       "      <td>0.721882</td>\n",
       "    </tr>\n",
       "    <tr>\n",
       "      <th>1</th>\n",
       "      <td>run1</td>\n",
       "      <td>13475</td>\n",
       "      <td>te</td>\n",
       "      <td>r2</td>\n",
       "      <td>0.744482</td>\n",
       "    </tr>\n",
       "    <tr>\n",
       "      <th>2</th>\n",
       "      <td>run1</td>\n",
       "      <td>18158</td>\n",
       "      <td>te</td>\n",
       "      <td>r2</td>\n",
       "      <td>0.746215</td>\n",
       "    </tr>\n",
       "    <tr>\n",
       "      <th>3</th>\n",
       "      <td>run1</td>\n",
       "      <td>24470</td>\n",
       "      <td>te</td>\n",
       "      <td>r2</td>\n",
       "      <td>0.761741</td>\n",
       "    </tr>\n",
       "    <tr>\n",
       "      <th>4</th>\n",
       "      <td>run1</td>\n",
       "      <td>32974</td>\n",
       "      <td>te</td>\n",
       "      <td>r2</td>\n",
       "      <td>0.786730</td>\n",
       "    </tr>\n",
       "    <tr>\n",
       "      <th>...</th>\n",
       "      <td>...</td>\n",
       "      <td>...</td>\n",
       "      <td>...</td>\n",
       "      <td>...</td>\n",
       "      <td>...</td>\n",
       "    </tr>\n",
       "    <tr>\n",
       "      <th>58</th>\n",
       "      <td>run1</td>\n",
       "      <td>18158</td>\n",
       "      <td>te</td>\n",
       "      <td>y_avg_pred</td>\n",
       "      <td>0.755930</td>\n",
       "    </tr>\n",
       "    <tr>\n",
       "      <th>59</th>\n",
       "      <td>run1</td>\n",
       "      <td>24470</td>\n",
       "      <td>te</td>\n",
       "      <td>y_avg_pred</td>\n",
       "      <td>0.750751</td>\n",
       "    </tr>\n",
       "    <tr>\n",
       "      <th>60</th>\n",
       "      <td>run1</td>\n",
       "      <td>32974</td>\n",
       "      <td>te</td>\n",
       "      <td>y_avg_pred</td>\n",
       "      <td>0.751945</td>\n",
       "    </tr>\n",
       "    <tr>\n",
       "      <th>61</th>\n",
       "      <td>run1</td>\n",
       "      <td>44435</td>\n",
       "      <td>te</td>\n",
       "      <td>y_avg_pred</td>\n",
       "      <td>0.748052</td>\n",
       "    </tr>\n",
       "    <tr>\n",
       "      <th>62</th>\n",
       "      <td>run1</td>\n",
       "      <td>59879</td>\n",
       "      <td>te</td>\n",
       "      <td>y_avg_pred</td>\n",
       "      <td>0.749075</td>\n",
       "    </tr>\n",
       "  </tbody>\n",
       "</table>\n",
       "<p>63 rows × 5 columns</p>\n",
       "</div>"
      ],
      "text/plain": [
       "     run  tr_size set      metric     score\n",
       "0   run1    10000  te          r2  0.721882\n",
       "1   run1    13475  te          r2  0.744482\n",
       "2   run1    18158  te          r2  0.746215\n",
       "3   run1    24470  te          r2  0.761741\n",
       "4   run1    32974  te          r2  0.786730\n",
       "..   ...      ...  ..         ...       ...\n",
       "58  run1    18158  te  y_avg_pred  0.755930\n",
       "59  run1    24470  te  y_avg_pred  0.750751\n",
       "60  run1    32974  te  y_avg_pred  0.751945\n",
       "61  run1    44435  te  y_avg_pred  0.748052\n",
       "62  run1    59879  te  y_avg_pred  0.749075\n",
       "\n",
       "[63 rows x 5 columns]"
      ]
     },
     "execution_count": 12,
     "metadata": {},
     "output_type": "execute_result"
    }
   ],
   "source": [
    "nn1"
   ]
  },
  {
   "cell_type": "code",
   "execution_count": null,
   "metadata": {},
   "outputs": [],
   "source": []
  },
  {
   "cell_type": "markdown",
   "metadata": {},
   "source": [
    "## Raw plots"
   ]
  },
  {
   "cell_type": "code",
   "execution_count": 69,
   "metadata": {},
   "outputs": [],
   "source": [
    "# Global plotting params\n",
    "# ----------------------\n",
    "met = 'mean_absolute_error'\n",
    "\n",
    "t_set = 'te'\n",
    "xtick_scale = 'log2'\n",
    "ytick_scale = 'log2'\n",
    "# xtick_scale = 'linear'\n",
    "# ytick_scale = 'linear'\n",
    "\n",
    "kwargs = {'metric_name': met,\n",
    "          'xtick_scale': xtick_scale,\n",
    "          'ytick_scale': ytick_scale}"
   ]
  },
  {
   "cell_type": "code",
   "execution_count": 70,
   "metadata": {},
   "outputs": [],
   "source": [
    "# # Plot all raw\n",
    "# # -------------------------------\n",
    "# kwargs = {'metric_name': met,\n",
    "#           'tr_set': t_set,\n",
    "#           'xtick_scale': xtick_scale,\n",
    "#           'ytick_scale': ytick_scale,\n",
    "#           'plot_median': True}\n",
    "\n",
    "# kwargs.update({'title': f'{src} ~ {model}'})\n",
    "# ax = lc_plots.plot_lc_single_metric(data, **kwargs);\n",
    "\n",
    "# df = data[ data['metric']==met ].reset_index(drop=True)\n",
    "# print(f'Total points for {met}: {len(df)}')"
   ]
  },
  {
   "cell_type": "code",
   "execution_count": null,
   "metadata": {},
   "outputs": [],
   "source": []
  },
  {
   "cell_type": "code",
   "execution_count": 71,
   "metadata": {},
   "outputs": [
    {
     "data": {
      "image/png": "[encoded data removed]",
      "text/plain": [
       "<Figure size 504x360 with 1 Axes>"
      ]
     },
     "metadata": {
      "needs_background": "light"
     },
     "output_type": "display_data"
    }
   ],
   "source": [
    "# Plot\n",
    "# -------------------------------\n",
    "save = True\n",
    "ax = None\n",
    "\n",
    "if nn0 is not None:\n",
    "    nn0 = nn0[nn0.metric==met].reset_index(drop=True)\n",
    "    ax = lc_plots.plot_lc(x=nn0['tr_size'].values, y=nn0['score'].values, color='b', label=label_nn0, **kwargs, ax=ax);\n",
    "    # ax = lc_plots.plot_lc_single_metric(nn0, **kwargs, ax=ax);\n",
    "\n",
    "if nn1 is not None:\n",
    "    nn1 = nn1[nn1.metric==met].reset_index(drop=True)\n",
    "    ax = lc_plots.plot_lc(x=nn1['tr_size'].values, y=nn1['score'].values, color='r', label=label_nn1, **kwargs, ax=ax);\n",
    "    # ax = lc_plots.plot_lc_single_metric(nn1, **kwargs, ax=ax);\n",
    "\n",
    "if lgb is not None:\n",
    "    lgb = lgb[lgb.metric==met].reset_index(drop=True)\n",
    "    ax = lc_plots.plot_lc(x=lgb['tr_size'].values, y=lgb['score'].values, color='m', label='lgb', **kwargs, ax=ax);\n",
    "    \n",
    "if save:\n",
    "    plt.tight_layout()\n",
    "    plt.legend(loc='best')\n",
    "    plt.savefig(outpath/(exp_name + '.png'), dpi=150)"
   ]
  },
  {
   "cell_type": "code",
   "execution_count": null,
   "metadata": {},
   "outputs": [],
   "source": []
  },
  {
   "cell_type": "markdown",
   "metadata": {},
   "source": [
    "## Fit and extrapolate"
   ]
  },
  {
   "cell_type": "code",
   "execution_count": 72,
   "metadata": {},
   "outputs": [],
   "source": [
    "def fit_data(df, x_fit_mn=0, x_fit_mx=None):\n",
    "    if df is None:\n",
    "        return None\n",
    "    \n",
    "    df = df[ df['metric']==met ].reset_index(drop=True)\n",
    "    df['y'] = df['score']\n",
    "    df = df[df['metric']==met].groupby('tr_size').agg({'y': 'median'}).reset_index()\n",
    "    \n",
    "    dfit = subset_data(df, col='tr_size', x_mn=x_fit_mn, x_mx=x_fit_mx)\n",
    "    dfit = add_weight_col( dfit )\n",
    "    return dfit"
   ]
  },
  {
   "cell_type": "code",
   "execution_count": 76,
   "metadata": {},
   "outputs": [
    {
     "name": "stdout",
     "output_type": "stream",
     "text": [
      "Raw dataset of scores (1000, 6)\n",
      "Agg with median (50, 2)\n",
      "dfit.shape: (32, 3)\n",
      "dext.shape: (0, 2)\n",
      "Train size (dfit): [ 11113  12687  14484  16536  18878  21552  24605  28090  32069  36612\n",
      "  41798  47718  54477  62194  71003  81061  92542 105651 120615 137700\n",
      " 157204 179471 204892 233914 267047 304873 348056 397356 453639 517895\n",
      " 591251 674999]\n",
      "Train size (dext): []\n"
     ]
    }
   ],
   "source": [
    "# Choose the dataset\n",
    "# data = nn0\n",
    "# data = nn1\n",
    "data = lgb\n",
    "df = data\n",
    "\n",
    "# ----------------\n",
    "# Prepare the data\n",
    "# ----------------\n",
    "df = df[ df['metric']==met ].reset_index(drop=True)\n",
    "print('Raw dataset of scores', df.shape)\n",
    "\n",
    "# Agg scores\n",
    "df['y'] = df['score']\n",
    "df = df[df['metric']==met].groupby('tr_size').agg({'y': 'median'}).reset_index()\n",
    "print('Agg with median', df.shape)\n",
    "\n",
    "# Split dfit and dext\n",
    "# x_fit_mn = 100000\n",
    "# x_fit_mx = 200000\n",
    "\n",
    "# Split dfit and dext\n",
    "x_fit_mn = 10000\n",
    "# x_fit_mx = 600000\n",
    "x_fit_mx = 680000\n",
    "# x_fit_mx = None\n",
    "\n",
    "dfit = subset_data(df, col='tr_size', x_mn=x_fit_mn, x_mx=x_fit_mx)\n",
    "dext = subset_data(df, col='tr_size', x_mn=x_fit_mx, x_mx=None)\n",
    "dfit = add_weight_col( dfit )\n",
    "\n",
    "print('dfit.shape:', dfit.shape)\n",
    "print('dext.shape:', dext.shape)\n",
    "print('Train size (dfit):', dfit['tr_size'].unique())\n",
    "print('Train size (dext):', dext['tr_size'].unique())"
   ]
  },
  {
   "cell_type": "code",
   "execution_count": 77,
   "metadata": {},
   "outputs": [],
   "source": [
    "# # Fit and extrap (nlsLM)\n",
    "# # ----------------------------------\n",
    "# # Use each set of the extreme points to fit a model\n",
    "# coefs = fit_model(dfit['tr_size'], dfit['y'], dfit['w'])\n",
    "# dfit['fit'] = calc_fit(dfit['tr_size'], coefs)\n",
    "# dext['fit'] = calc_fit(dext['tr_size'], coefs)\n",
    "# print(dfit['fit'].values)\n",
    "# print(dext['fit'].values)\n",
    "\n",
    "# Fit and extrap (old)\n",
    "# ----------------------------------\n",
    "prms = fit_params(x=dfit['tr_size'].values, y=dfit['y'].values)\n",
    "yf = biased_powerlaw(dfit['tr_size'].values, **prms)\n",
    "ye = biased_powerlaw(dext['tr_size'].values, **prms)\n",
    "dfit['fit'] = yf\n",
    "dext['fit'] = ye\n",
    "# print(yf)\n",
    "# print(ye)"
   ]
  },
  {
   "cell_type": "code",
   "execution_count": 83,
   "metadata": {},
   "outputs": [
    {
     "data": {
      "text/html": [
       "<div>\n",
       "<style scoped>\n",
       "    .dataframe tbody tr th:only-of-type {\n",
       "        vertical-align: middle;\n",
       "    }\n",
       "\n",
       "    .dataframe tbody tr th {\n",
       "        vertical-align: top;\n",
       "    }\n",
       "\n",
       "    .dataframe thead th {\n",
       "        text-align: right;\n",
       "    }\n",
       "</style>\n",
       "<table border=\"1\" class=\"dataframe\">\n",
       "  <thead>\n",
       "    <tr style=\"text-align: right;\">\n",
       "      <th></th>\n",
       "      <th>tr_size</th>\n",
       "      <th>y</th>\n",
       "      <th>w</th>\n",
       "      <th>fit</th>\n",
       "    </tr>\n",
       "  </thead>\n",
       "  <tbody>\n",
       "    <tr>\n",
       "      <th>0</th>\n",
       "      <td>11113</td>\n",
       "      <td>0.061280</td>\n",
       "      <td>0.016464</td>\n",
       "      <td>0.061510</td>\n",
       "    </tr>\n",
       "    <tr>\n",
       "      <th>1</th>\n",
       "      <td>12687</td>\n",
       "      <td>0.060520</td>\n",
       "      <td>0.018796</td>\n",
       "      <td>0.060743</td>\n",
       "    </tr>\n",
       "    <tr>\n",
       "      <th>2</th>\n",
       "      <td>14484</td>\n",
       "      <td>0.060045</td>\n",
       "      <td>0.021458</td>\n",
       "      <td>0.060071</td>\n",
       "    </tr>\n",
       "    <tr>\n",
       "      <th>3</th>\n",
       "      <td>16536</td>\n",
       "      <td>0.059485</td>\n",
       "      <td>0.024498</td>\n",
       "      <td>0.059482</td>\n",
       "    </tr>\n",
       "    <tr>\n",
       "      <th>4</th>\n",
       "      <td>18878</td>\n",
       "      <td>0.059134</td>\n",
       "      <td>0.027967</td>\n",
       "      <td>0.058965</td>\n",
       "    </tr>\n",
       "    <tr>\n",
       "      <th>5</th>\n",
       "      <td>21552</td>\n",
       "      <td>0.058630</td>\n",
       "      <td>0.031929</td>\n",
       "      <td>0.058513</td>\n",
       "    </tr>\n",
       "    <tr>\n",
       "      <th>6</th>\n",
       "      <td>24605</td>\n",
       "      <td>0.058310</td>\n",
       "      <td>0.036452</td>\n",
       "      <td>0.058116</td>\n",
       "    </tr>\n",
       "    <tr>\n",
       "      <th>7</th>\n",
       "      <td>28090</td>\n",
       "      <td>0.057766</td>\n",
       "      <td>0.041615</td>\n",
       "      <td>0.057769</td>\n",
       "    </tr>\n",
       "    <tr>\n",
       "      <th>8</th>\n",
       "      <td>32069</td>\n",
       "      <td>0.057567</td>\n",
       "      <td>0.047510</td>\n",
       "      <td>0.057464</td>\n",
       "    </tr>\n",
       "    <tr>\n",
       "      <th>9</th>\n",
       "      <td>36612</td>\n",
       "      <td>0.057279</td>\n",
       "      <td>0.054240</td>\n",
       "      <td>0.057198</td>\n",
       "    </tr>\n",
       "    <tr>\n",
       "      <th>10</th>\n",
       "      <td>41798</td>\n",
       "      <td>0.056996</td>\n",
       "      <td>0.061923</td>\n",
       "      <td>0.056964</td>\n",
       "    </tr>\n",
       "    <tr>\n",
       "      <th>11</th>\n",
       "      <td>47718</td>\n",
       "      <td>0.056760</td>\n",
       "      <td>0.070693</td>\n",
       "      <td>0.056759</td>\n",
       "    </tr>\n",
       "    <tr>\n",
       "      <th>12</th>\n",
       "      <td>54477</td>\n",
       "      <td>0.056646</td>\n",
       "      <td>0.080707</td>\n",
       "      <td>0.056580</td>\n",
       "    </tr>\n",
       "    <tr>\n",
       "      <th>13</th>\n",
       "      <td>62194</td>\n",
       "      <td>0.056449</td>\n",
       "      <td>0.092139</td>\n",
       "      <td>0.056422</td>\n",
       "    </tr>\n",
       "    <tr>\n",
       "      <th>14</th>\n",
       "      <td>71003</td>\n",
       "      <td>0.056280</td>\n",
       "      <td>0.105190</td>\n",
       "      <td>0.056284</td>\n",
       "    </tr>\n",
       "    <tr>\n",
       "      <th>15</th>\n",
       "      <td>81061</td>\n",
       "      <td>0.056135</td>\n",
       "      <td>0.120091</td>\n",
       "      <td>0.056164</td>\n",
       "    </tr>\n",
       "    <tr>\n",
       "      <th>16</th>\n",
       "      <td>92542</td>\n",
       "      <td>0.055974</td>\n",
       "      <td>0.137099</td>\n",
       "      <td>0.056058</td>\n",
       "    </tr>\n",
       "    <tr>\n",
       "      <th>17</th>\n",
       "      <td>105651</td>\n",
       "      <td>0.055837</td>\n",
       "      <td>0.156520</td>\n",
       "      <td>0.055965</td>\n",
       "    </tr>\n",
       "    <tr>\n",
       "      <th>18</th>\n",
       "      <td>120615</td>\n",
       "      <td>0.055857</td>\n",
       "      <td>0.178689</td>\n",
       "      <td>0.055884</td>\n",
       "    </tr>\n",
       "    <tr>\n",
       "      <th>19</th>\n",
       "      <td>137700</td>\n",
       "      <td>0.055753</td>\n",
       "      <td>0.204000</td>\n",
       "      <td>0.055813</td>\n",
       "    </tr>\n",
       "    <tr>\n",
       "      <th>20</th>\n",
       "      <td>157204</td>\n",
       "      <td>0.055723</td>\n",
       "      <td>0.232895</td>\n",
       "      <td>0.055750</td>\n",
       "    </tr>\n",
       "    <tr>\n",
       "      <th>21</th>\n",
       "      <td>179471</td>\n",
       "      <td>0.055684</td>\n",
       "      <td>0.265883</td>\n",
       "      <td>0.055696</td>\n",
       "    </tr>\n",
       "    <tr>\n",
       "      <th>22</th>\n",
       "      <td>204892</td>\n",
       "      <td>0.055644</td>\n",
       "      <td>0.303544</td>\n",
       "      <td>0.055648</td>\n",
       "    </tr>\n",
       "    <tr>\n",
       "      <th>23</th>\n",
       "      <td>233914</td>\n",
       "      <td>0.055590</td>\n",
       "      <td>0.346540</td>\n",
       "      <td>0.055606</td>\n",
       "    </tr>\n",
       "    <tr>\n",
       "      <th>24</th>\n",
       "      <td>267047</td>\n",
       "      <td>0.055582</td>\n",
       "      <td>0.395626</td>\n",
       "      <td>0.055569</td>\n",
       "    </tr>\n",
       "    <tr>\n",
       "      <th>25</th>\n",
       "      <td>304873</td>\n",
       "      <td>0.055524</td>\n",
       "      <td>0.451664</td>\n",
       "      <td>0.055537</td>\n",
       "    </tr>\n",
       "    <tr>\n",
       "      <th>26</th>\n",
       "      <td>348056</td>\n",
       "      <td>0.055541</td>\n",
       "      <td>0.515639</td>\n",
       "      <td>0.055508</td>\n",
       "    </tr>\n",
       "    <tr>\n",
       "      <th>27</th>\n",
       "      <td>397356</td>\n",
       "      <td>0.055505</td>\n",
       "      <td>0.588676</td>\n",
       "      <td>0.055484</td>\n",
       "    </tr>\n",
       "    <tr>\n",
       "      <th>28</th>\n",
       "      <td>453639</td>\n",
       "      <td>0.055429</td>\n",
       "      <td>0.672059</td>\n",
       "      <td>0.055462</td>\n",
       "    </tr>\n",
       "    <tr>\n",
       "      <th>29</th>\n",
       "      <td>517895</td>\n",
       "      <td>0.055467</td>\n",
       "      <td>0.767253</td>\n",
       "      <td>0.055443</td>\n",
       "    </tr>\n",
       "    <tr>\n",
       "      <th>30</th>\n",
       "      <td>591251</td>\n",
       "      <td>0.055451</td>\n",
       "      <td>0.875929</td>\n",
       "      <td>0.055426</td>\n",
       "    </tr>\n",
       "    <tr>\n",
       "      <th>31</th>\n",
       "      <td>674999</td>\n",
       "      <td>0.055406</td>\n",
       "      <td>1.000000</td>\n",
       "      <td>0.055412</td>\n",
       "    </tr>\n",
       "  </tbody>\n",
       "</table>\n",
       "</div>"
      ],
      "text/plain": [
       "    tr_size         y         w       fit\n",
       "0     11113  0.061280  0.016464  0.061510\n",
       "1     12687  0.060520  0.018796  0.060743\n",
       "2     14484  0.060045  0.021458  0.060071\n",
       "3     16536  0.059485  0.024498  0.059482\n",
       "4     18878  0.059134  0.027967  0.058965\n",
       "5     21552  0.058630  0.031929  0.058513\n",
       "6     24605  0.058310  0.036452  0.058116\n",
       "7     28090  0.057766  0.041615  0.057769\n",
       "8     32069  0.057567  0.047510  0.057464\n",
       "9     36612  0.057279  0.054240  0.057198\n",
       "10    41798  0.056996  0.061923  0.056964\n",
       "11    47718  0.056760  0.070693  0.056759\n",
       "12    54477  0.056646  0.080707  0.056580\n",
       "13    62194  0.056449  0.092139  0.056422\n",
       "14    71003  0.056280  0.105190  0.056284\n",
       "15    81061  0.056135  0.120091  0.056164\n",
       "16    92542  0.055974  0.137099  0.056058\n",
       "17   105651  0.055837  0.156520  0.055965\n",
       "18   120615  0.055857  0.178689  0.055884\n",
       "19   137700  0.055753  0.204000  0.055813\n",
       "20   157204  0.055723  0.232895  0.055750\n",
       "21   179471  0.055684  0.265883  0.055696\n",
       "22   204892  0.055644  0.303544  0.055648\n",
       "23   233914  0.055590  0.346540  0.055606\n",
       "24   267047  0.055582  0.395626  0.055569\n",
       "25   304873  0.055524  0.451664  0.055537\n",
       "26   348056  0.055541  0.515639  0.055508\n",
       "27   397356  0.055505  0.588676  0.055484\n",
       "28   453639  0.055429  0.672059  0.055462\n",
       "29   517895  0.055467  0.767253  0.055443\n",
       "30   591251  0.055451  0.875929  0.055426\n",
       "31   674999  0.055406  1.000000  0.055412"
      ]
     },
     "execution_count": 83,
     "metadata": {},
     "output_type": "execute_result"
    }
   ],
   "source": [
    "dfit\n",
    "# dfit.tail()"
   ]
  },
  {
   "cell_type": "code",
   "execution_count": 79,
   "metadata": {},
   "outputs": [
    {
     "data": {
      "image/png": "[encoded data removed]",
      "text/plain": [
       "<Figure size 504x360 with 1 Axes>"
      ]
     },
     "metadata": {
      "needs_background": "light"
     },
     "output_type": "display_data"
    }
   ],
   "source": [
    "ax = None\n",
    "\n",
    "pnts_args = {'metric_name': met, 'xtick_scale': xtick_scale, 'ytick_scale': ytick_scale, 'alpha': 0.5, 'ls': '', 'marker': '.'}\n",
    "fit_args = {'metric_name': met, 'xtick_scale': xtick_scale, 'ytick_scale': ytick_scale, 'alpha': 0.5, 'ls': '--', 'marker': ''}\n",
    "\n",
    "xf = dfit['tr_size'].values\n",
    "xe = dext['tr_size'].values\n",
    "yf_raw = dfit['y'].values\n",
    "ye_raw = dext['y'].values\n",
    "yf_fit = dfit['fit'].values\n",
    "ye_fit = dext['fit'].values\n",
    "\n",
    "# Raw data\n",
    "ax = lc_plots.plot_lc(x=xf, y=yf_raw, ax=ax, **pnts_args, color='b', label='dfit data')\n",
    "ax = lc_plots.plot_lc(x=xe, y=ye_raw, ax=ax, **pnts_args, color='r', label='dext data')\n",
    "\n",
    "# Fits\n",
    "ax = lc_plots.plot_lc(x=xf, y=yf_fit, ax=ax, **fit_args, color='b', label='dfit fit')\n",
    "ax = lc_plots.plot_lc(x=xe, y=ye_fit, ax=ax, **fit_args, color='r', label='dext fit')\n",
    "\n",
    "ax.set_title(f'{src} ~ {model}')\n",
    "ax.legend(frameon=True, fontsize=10, loc='best')\n",
    "ax.grid(False)"
   ]
  },
  {
   "cell_type": "code",
   "execution_count": 82,
   "metadata": {},
   "outputs": [
    {
     "data": {
      "text/plain": [
       "array([0.0615105 , 0.06074322, 0.06007083, 0.05948151, 0.05896525,\n",
       "       0.05851281, 0.05811631, 0.05776891, 0.05746447, 0.05719767,\n",
       "       0.05696391, 0.05675908, 0.05657958, 0.05642228, 0.05628445,\n",
       "       0.05616366, 0.05605783, 0.05596508, 0.05588382, 0.0558126 ,\n",
       "       0.05575019, 0.05569551, 0.05564759, 0.0556056 , 0.0555688 ,\n",
       "       0.05553656, 0.0555083 , 0.05548354, 0.05546185, 0.05544284,\n",
       "       0.05542618, 0.05541158])"
      ]
     },
     "execution_count": 82,
     "metadata": {},
     "output_type": "execute_result"
    }
   ],
   "source": [
    "yf_fit"
   ]
  },
  {
   "cell_type": "code",
   "execution_count": null,
   "metadata": {},
   "outputs": [],
   "source": []
  },
  {
   "cell_type": "code",
   "execution_count": 80,
   "metadata": {},
   "outputs": [],
   "source": [
    "pnts_args = {'metric_name': met, 'xtick_scale': xtick_scale, 'ytick_scale': ytick_scale, 'alpha': 0.5, 'ls': '', 'marker': '.'}\n",
    "fit_args = {'metric_name': met, 'xtick_scale': xtick_scale, 'ytick_scale': ytick_scale, 'alpha': 0.5, 'ls': '--', 'marker': ''}\n",
    "\n",
    "xf = dfit['tr_size'].values\n",
    "xe = dext['tr_size'].values\n",
    "yf = dfit['y'].values\n",
    "ye = dext['y'].values"
   ]
  },
  {
   "cell_type": "code",
   "execution_count": 81,
   "metadata": {},
   "outputs": [
    {
     "ename": "IndexError",
     "evalue": "index 0 is out of bounds for axis 0 with size 0",
     "output_type": "error",
     "traceback": [
      "\u001b[0;31m---------------------------------------------------------------------------\u001b[0m",
      "\u001b[0;31mIndexError\u001b[0m                                Traceback (most recent call last)",
      "\u001b[0;32m<ipython-input-81-00180adc695c>\u001b[0m in \u001b[0;36m<module>\u001b[0;34m\u001b[0m\n\u001b[1;32m      1\u001b[0m \u001b[0mcc\u001b[0m \u001b[0;34m=\u001b[0m \u001b[0mFitPwrLaw\u001b[0m\u001b[0;34m(\u001b[0m\u001b[0mxf\u001b[0m\u001b[0;34m=\u001b[0m\u001b[0mdfit\u001b[0m\u001b[0;34m[\u001b[0m\u001b[0;34m'tr_size'\u001b[0m\u001b[0;34m]\u001b[0m\u001b[0;34m.\u001b[0m\u001b[0mvalues\u001b[0m\u001b[0;34m,\u001b[0m \u001b[0myf\u001b[0m\u001b[0;34m=\u001b[0m\u001b[0mdfit\u001b[0m\u001b[0;34m[\u001b[0m\u001b[0;34m'y'\u001b[0m\u001b[0;34m]\u001b[0m\u001b[0;34m.\u001b[0m\u001b[0mvalues\u001b[0m\u001b[0;34m,\u001b[0m \u001b[0mw\u001b[0m\u001b[0;34m=\u001b[0m\u001b[0mdfit\u001b[0m\u001b[0;34m[\u001b[0m\u001b[0;34m'w'\u001b[0m\u001b[0;34m]\u001b[0m\u001b[0;34m.\u001b[0m\u001b[0mvalues\u001b[0m\u001b[0;34m)\u001b[0m\u001b[0;34m\u001b[0m\u001b[0;34m\u001b[0m\u001b[0m\n\u001b[1;32m      2\u001b[0m \u001b[0mxf_plot\u001b[0m\u001b[0;34m,\u001b[0m \u001b[0myf_plot\u001b[0m \u001b[0;34m=\u001b[0m \u001b[0mcc\u001b[0m\u001b[0;34m.\u001b[0m\u001b[0mcalc_fit\u001b[0m\u001b[0;34m(\u001b[0m \u001b[0mx1\u001b[0m\u001b[0;34m=\u001b[0m\u001b[0mxf\u001b[0m\u001b[0;34m[\u001b[0m\u001b[0;36m0\u001b[0m\u001b[0;34m]\u001b[0m\u001b[0;34m,\u001b[0m \u001b[0mx2\u001b[0m\u001b[0;34m=\u001b[0m\u001b[0mxf\u001b[0m\u001b[0;34m[\u001b[0m\u001b[0;34m-\u001b[0m\u001b[0;36m1\u001b[0m\u001b[0;34m]\u001b[0m \u001b[0;34m)\u001b[0m\u001b[0;34m\u001b[0m\u001b[0;34m\u001b[0m\u001b[0m\n\u001b[0;32m----> 3\u001b[0;31m \u001b[0mxe_plot\u001b[0m\u001b[0;34m,\u001b[0m \u001b[0mye_plot\u001b[0m \u001b[0;34m=\u001b[0m \u001b[0mcc\u001b[0m\u001b[0;34m.\u001b[0m\u001b[0mcalc_fit\u001b[0m\u001b[0;34m(\u001b[0m \u001b[0mx1\u001b[0m\u001b[0;34m=\u001b[0m\u001b[0mxe\u001b[0m\u001b[0;34m[\u001b[0m\u001b[0;36m0\u001b[0m\u001b[0;34m]\u001b[0m\u001b[0;34m,\u001b[0m \u001b[0mx2\u001b[0m\u001b[0;34m=\u001b[0m\u001b[0mxe\u001b[0m\u001b[0;34m[\u001b[0m\u001b[0;34m-\u001b[0m\u001b[0;36m1\u001b[0m\u001b[0;34m]\u001b[0m \u001b[0;34m)\u001b[0m\u001b[0;34m\u001b[0m\u001b[0;34m\u001b[0m\u001b[0m\n\u001b[0m\u001b[1;32m      4\u001b[0m \u001b[0;34m\u001b[0m\u001b[0m\n\u001b[1;32m      5\u001b[0m \u001b[0;31m# Reset axes\u001b[0m\u001b[0;34m\u001b[0m\u001b[0;34m\u001b[0m\u001b[0;34m\u001b[0m\u001b[0m\n",
      "\u001b[0;31mIndexError\u001b[0m: index 0 is out of bounds for axis 0 with size 0"
     ]
    }
   ],
   "source": [
    "cc = FitPwrLaw(xf=dfit['tr_size'].values, yf=dfit['y'].values, w=dfit['w'].values)\n",
    "xf_plot, yf_plot = cc.calc_fit( x1=xf[0], x2=xf[-1] )\n",
    "xe_plot, ye_plot = cc.calc_fit( x1=xe[0], x2=xe[-1] )\n",
    "\n",
    "# Reset axes\n",
    "ax = None\n",
    "\n",
    "# Raw data\n",
    "ax = lc_plots.plot_lc(x=xf, y=yf, ax=ax, **pnts_args, color='b', label='dfit data')\n",
    "ax = lc_plots.plot_lc(x=xe, y=ye, ax=ax, **pnts_args, color='r', label='dext data')\n",
    "\n",
    "# Fits\n",
    "ax = lc_plots.plot_lc(x=xf_plot, y=yf_plot, ax=ax, **fit_args, color='b', label='dfit fit')\n",
    "ax = lc_plots.plot_lc(x=xe_plot, y=ye_plot, ax=ax, **fit_args, color='r', label='dext fit')\n",
    "\n",
    "ax.set_title(f'{src} ~ {model}')\n",
    "ax.legend(frameon=True, fontsize=10, loc='best')\n",
    "ax.grid(False)"
   ]
  },
  {
   "cell_type": "code",
   "execution_count": 38,
   "metadata": {},
   "outputs": [
    {
     "data": {
      "text/html": [
       "<div>\n",
       "<style scoped>\n",
       "    .dataframe tbody tr th:only-of-type {\n",
       "        vertical-align: middle;\n",
       "    }\n",
       "\n",
       "    .dataframe tbody tr th {\n",
       "        vertical-align: top;\n",
       "    }\n",
       "\n",
       "    .dataframe thead th {\n",
       "        text-align: right;\n",
       "    }\n",
       "</style>\n",
       "<table border=\"1\" class=\"dataframe\">\n",
       "  <thead>\n",
       "    <tr style=\"text-align: right;\">\n",
       "      <th></th>\n",
       "      <th>coef</th>\n",
       "      <th>est</th>\n",
       "      <th>se</th>\n",
       "      <th>t_val</th>\n",
       "      <th>p_val</th>\n",
       "    </tr>\n",
       "  </thead>\n",
       "  <tbody>\n",
       "    <tr>\n",
       "      <th>0</th>\n",
       "      <td>a</td>\n",
       "      <td>0.247055</td>\n",
       "      <td>0.797759</td>\n",
       "      <td>0.309686</td>\n",
       "      <td>0.764712</td>\n",
       "    </tr>\n",
       "    <tr>\n",
       "      <th>1</th>\n",
       "      <td>b</td>\n",
       "      <td>-0.038596</td>\n",
       "      <td>0.225098</td>\n",
       "      <td>-0.171464</td>\n",
       "      <td>0.868116</td>\n",
       "    </tr>\n",
       "    <tr>\n",
       "      <th>2</th>\n",
       "      <td>c</td>\n",
       "      <td>-0.116659</td>\n",
       "      <td>0.921982</td>\n",
       "      <td>-0.126531</td>\n",
       "      <td>0.902434</td>\n",
       "    </tr>\n",
       "  </tbody>\n",
       "</table>\n",
       "</div>"
      ],
      "text/plain": [
       "  coef       est        se     t_val     p_val\n",
       "0    a  0.247055  0.797759  0.309686  0.764712\n",
       "1    b -0.038596  0.225098 -0.171464  0.868116\n",
       "2    c -0.116659  0.921982 -0.126531  0.902434"
      ]
     },
     "execution_count": 38,
     "metadata": {},
     "output_type": "execute_result"
    }
   ],
   "source": [
    "cc.coefs"
   ]
  },
  {
   "cell_type": "code",
   "execution_count": null,
   "metadata": {},
   "outputs": [],
   "source": []
  },
  {
   "cell_type": "markdown",
   "metadata": {},
   "source": [
    "## Filtering"
   ]
  },
  {
   "cell_type": "code",
   "execution_count": 8,
   "metadata": {},
   "outputs": [
    {
     "name": "stdout",
     "output_type": "stream",
     "text": [
      "df.shape (2880, 5)\n"
     ]
    },
    {
     "data": {
      "text/html": [
       "<div>\n",
       "<style scoped>\n",
       "    .dataframe tbody tr th:only-of-type {\n",
       "        vertical-align: middle;\n",
       "    }\n",
       "\n",
       "    .dataframe tbody tr th {\n",
       "        vertical-align: top;\n",
       "    }\n",
       "\n",
       "    .dataframe thead th {\n",
       "        text-align: right;\n",
       "    }\n",
       "</style>\n",
       "<table border=\"1\" class=\"dataframe\">\n",
       "  <thead>\n",
       "    <tr style=\"text-align: right;\">\n",
       "      <th></th>\n",
       "      <th>run</th>\n",
       "      <th>tr_size</th>\n",
       "      <th>set</th>\n",
       "      <th>metric</th>\n",
       "      <th>score</th>\n",
       "    </tr>\n",
       "  </thead>\n",
       "  <tbody>\n",
       "    <tr>\n",
       "      <th>0</th>\n",
       "      <td>run_104</td>\n",
       "      <td>128</td>\n",
       "      <td>te</td>\n",
       "      <td>r2</td>\n",
       "      <td>0.052339</td>\n",
       "    </tr>\n",
       "    <tr>\n",
       "      <th>1</th>\n",
       "      <td>run_104</td>\n",
       "      <td>253</td>\n",
       "      <td>te</td>\n",
       "      <td>r2</td>\n",
       "      <td>0.066318</td>\n",
       "    </tr>\n",
       "  </tbody>\n",
       "</table>\n",
       "</div>"
      ],
      "text/plain": [
       "       run  tr_size set metric     score\n",
       "0  run_104      128  te     r2  0.052339\n",
       "1  run_104      253  te     r2  0.066318"
      ]
     },
     "metadata": {},
     "output_type": "display_data"
    },
    {
     "name": "stdout",
     "output_type": "stream",
     "text": [
      "df.shape (1082, 5)\n"
     ]
    },
    {
     "data": {
      "text/html": [
       "<div>\n",
       "<style scoped>\n",
       "    .dataframe tbody tr th:only-of-type {\n",
       "        vertical-align: middle;\n",
       "    }\n",
       "\n",
       "    .dataframe tbody tr th {\n",
       "        vertical-align: top;\n",
       "    }\n",
       "\n",
       "    .dataframe thead th {\n",
       "        text-align: right;\n",
       "    }\n",
       "</style>\n",
       "<table border=\"1\" class=\"dataframe\">\n",
       "  <thead>\n",
       "    <tr style=\"text-align: right;\">\n",
       "      <th></th>\n",
       "      <th>run</th>\n",
       "      <th>tr_size</th>\n",
       "      <th>set</th>\n",
       "      <th>mean_absolute_error</th>\n",
       "      <th>r2</th>\n",
       "    </tr>\n",
       "  </thead>\n",
       "  <tbody>\n",
       "    <tr>\n",
       "      <th>0</th>\n",
       "      <td>run_0</td>\n",
       "      <td>988</td>\n",
       "      <td>te</td>\n",
       "      <td>0.081754</td>\n",
       "      <td>0.381946</td>\n",
       "    </tr>\n",
       "    <tr>\n",
       "      <th>1</th>\n",
       "      <td>run_0</td>\n",
       "      <td>1954</td>\n",
       "      <td>te</td>\n",
       "      <td>0.070105</td>\n",
       "      <td>0.541345</td>\n",
       "    </tr>\n",
       "  </tbody>\n",
       "</table>\n",
       "</div>"
      ],
      "text/plain": [
       "     run  tr_size set  mean_absolute_error        r2\n",
       "0  run_0      988  te             0.081754  0.381946\n",
       "1  run_0     1954  te             0.070105  0.541345"
      ]
     },
     "metadata": {},
     "output_type": "display_data"
    },
    {
     "data": {
      "image/png": "[encoded data removed]",
      "text/plain": [
       "<Figure size 504x360 with 1 Axes>"
      ]
     },
     "metadata": {
      "needs_background": "light"
     },
     "output_type": "display_data"
    }
   ],
   "source": [
    "# Remove scores (trainings that didn't converge)\n",
    "# ----------------------------------------------\n",
    "df = data.copy()\n",
    "\n",
    "r2_th = 0.3\n",
    "df = df[(df['metric']==met) | (df['metric']=='r2')].reset_index(drop=True)\n",
    "print('df.shape', df.shape)\n",
    "display(df[:2])\n",
    "\n",
    "df = pd.pivot_table(df, values='score', index=['run', 'tr_size', 'set'], columns='metric').reset_index()\n",
    "df.columns.name = None\n",
    "df = df[ df['r2']>r2_th ].reset_index(drop=True)\n",
    "print('df.shape', df.shape)\n",
    "display(df[:2])\n",
    "\n",
    "x = df['tr_size'].values\n",
    "y = df[met].values\n",
    "lc_plots.plot_lc(x, y, ls='', title=f'{src} ~ {model} ~ runs of R^2<{r2_th} removed');"
   ]
  },
  {
   "cell_type": "code",
   "execution_count": null,
   "metadata": {},
   "outputs": [],
   "source": []
  },
  {
   "cell_type": "code",
   "execution_count": 9,
   "metadata": {},
   "outputs": [
    {
     "name": "stdout",
     "output_type": "stream",
     "text": [
      "df.shape (1440, 5)\n"
     ]
    },
    {
     "data": {
      "text/html": [
       "<div>\n",
       "<style scoped>\n",
       "    .dataframe tbody tr th:only-of-type {\n",
       "        vertical-align: middle;\n",
       "    }\n",
       "\n",
       "    .dataframe tbody tr th {\n",
       "        vertical-align: top;\n",
       "    }\n",
       "\n",
       "    .dataframe thead th {\n",
       "        text-align: right;\n",
       "    }\n",
       "</style>\n",
       "<table border=\"1\" class=\"dataframe\">\n",
       "  <thead>\n",
       "    <tr style=\"text-align: right;\">\n",
       "      <th></th>\n",
       "      <th>tr_size</th>\n",
       "      <th>med</th>\n",
       "      <th>sd</th>\n",
       "      <th>sd_top</th>\n",
       "    </tr>\n",
       "  </thead>\n",
       "  <tbody>\n",
       "    <tr>\n",
       "      <th>0</th>\n",
       "      <td>128</td>\n",
       "      <td>0.107185</td>\n",
       "      <td>0.002965</td>\n",
       "      <td>0.110150</td>\n",
       "    </tr>\n",
       "    <tr>\n",
       "      <th>1</th>\n",
       "      <td>253</td>\n",
       "      <td>0.102445</td>\n",
       "      <td>0.002529</td>\n",
       "      <td>0.104974</td>\n",
       "    </tr>\n",
       "    <tr>\n",
       "      <th>2</th>\n",
       "      <td>500</td>\n",
       "      <td>0.094382</td>\n",
       "      <td>0.002214</td>\n",
       "      <td>0.096597</td>\n",
       "    </tr>\n",
       "    <tr>\n",
       "      <th>3</th>\n",
       "      <td>988</td>\n",
       "      <td>0.082567</td>\n",
       "      <td>0.001855</td>\n",
       "      <td>0.084422</td>\n",
       "    </tr>\n",
       "    <tr>\n",
       "      <th>4</th>\n",
       "      <td>1954</td>\n",
       "      <td>0.070310</td>\n",
       "      <td>0.001103</td>\n",
       "      <td>0.071413</td>\n",
       "    </tr>\n",
       "    <tr>\n",
       "      <th>5</th>\n",
       "      <td>3862</td>\n",
       "      <td>0.062341</td>\n",
       "      <td>0.000626</td>\n",
       "      <td>0.062967</td>\n",
       "    </tr>\n",
       "    <tr>\n",
       "      <th>6</th>\n",
       "      <td>7635</td>\n",
       "      <td>0.057225</td>\n",
       "      <td>0.000505</td>\n",
       "      <td>0.057730</td>\n",
       "    </tr>\n",
       "    <tr>\n",
       "      <th>7</th>\n",
       "      <td>15093</td>\n",
       "      <td>0.054146</td>\n",
       "      <td>0.000403</td>\n",
       "      <td>0.054550</td>\n",
       "    </tr>\n",
       "    <tr>\n",
       "      <th>8</th>\n",
       "      <td>29835</td>\n",
       "      <td>0.052078</td>\n",
       "      <td>0.000340</td>\n",
       "      <td>0.052418</td>\n",
       "    </tr>\n",
       "    <tr>\n",
       "      <th>9</th>\n",
       "      <td>58976</td>\n",
       "      <td>0.050933</td>\n",
       "      <td>0.000327</td>\n",
       "      <td>0.051260</td>\n",
       "    </tr>\n",
       "    <tr>\n",
       "      <th>10</th>\n",
       "      <td>116578</td>\n",
       "      <td>0.050233</td>\n",
       "      <td>0.000314</td>\n",
       "      <td>0.050546</td>\n",
       "    </tr>\n",
       "    <tr>\n",
       "      <th>11</th>\n",
       "      <td>230441</td>\n",
       "      <td>0.049848</td>\n",
       "      <td>0.000310</td>\n",
       "      <td>0.050158</td>\n",
       "    </tr>\n",
       "  </tbody>\n",
       "</table>\n",
       "</div>"
      ],
      "text/plain": [
       "    tr_size       med        sd    sd_top\n",
       "0       128  0.107185  0.002965  0.110150\n",
       "1       253  0.102445  0.002529  0.104974\n",
       "2       500  0.094382  0.002214  0.096597\n",
       "3       988  0.082567  0.001855  0.084422\n",
       "4      1954  0.070310  0.001103  0.071413\n",
       "5      3862  0.062341  0.000626  0.062967\n",
       "6      7635  0.057225  0.000505  0.057730\n",
       "7     15093  0.054146  0.000403  0.054550\n",
       "8     29835  0.052078  0.000340  0.052418\n",
       "9     58976  0.050933  0.000327  0.051260\n",
       "10   116578  0.050233  0.000314  0.050546\n",
       "11   230441  0.049848  0.000310  0.050158"
      ]
     },
     "metadata": {},
     "output_type": "display_data"
    },
    {
     "name": "stdout",
     "output_type": "stream",
     "text": [
      "df.shape (1199, 7)\n"
     ]
    },
    {
     "data": {
      "image/png": "[encoded data removed]",
      "text/plain": [
       "<Figure size 504x360 with 1 Axes>"
      ]
     },
     "metadata": {
      "needs_background": "light"
     },
     "output_type": "display_data"
    }
   ],
   "source": [
    "# Remove vertical 'outliers' (filter on std)\n",
    "# ------------------------------------------\n",
    "df = data.copy()\n",
    "df = df[ df['metric']==met ].reset_index(drop=True)\n",
    "print('df.shape', df.shape)\n",
    "\n",
    "# Agg scores\n",
    "agg = df.copy()\n",
    "agg['sd'] = agg['score']\n",
    "agg['med'] = agg['score']\n",
    "agg = agg[agg['metric']==met].groupby('tr_size').agg({'med': 'median', 'sd': 'std'}).reset_index()\n",
    "agg['sd_top'] = agg['med'] + agg['sd']\n",
    "display(agg)\n",
    "\n",
    "# Filter on sd\n",
    "dct = { agg.loc[i, 'tr_size']: agg.loc[i, 'sd_top'] for i in range(len(agg)) } # key: tr_size, value: sd_top\n",
    "df['sd_top'] = df['tr_size'].map(lambda x: dct[x])\n",
    "df['good_sd'] = [True if df.loc[i,'score'] <= df.loc[i,'sd_top'] else False for i in range(len(df))]\n",
    "df = df[ df['good_sd']==True ].reset_index(drop=True)\n",
    "print('df.shape', df.shape)\n",
    "\n",
    "x = df['tr_size'].values\n",
    "y = df['score'].values\n",
    "lc_plots.plot_lc(x, y, ls='', title=f'{src} ~ {model} ~ runs of score>(med+sd) removed');"
   ]
  },
  {
   "cell_type": "code",
   "execution_count": null,
   "metadata": {},
   "outputs": [],
   "source": []
  },
  {
   "cell_type": "markdown",
   "metadata": {},
   "source": [
    "## Fitting"
   ]
  },
  {
   "cell_type": "code",
   "execution_count": 10,
   "metadata": {},
   "outputs": [],
   "source": [
    "# p_value_min = 0.05\n",
    "p_value_min = 0.2"
   ]
  },
  {
   "cell_type": "code",
   "execution_count": 11,
   "metadata": {},
   "outputs": [
    {
     "name": "stdout",
     "output_type": "stream",
     "text": [
      "dfit.shape: (960, 6)\n",
      "dext.shape: (360, 5)\n",
      "Train size (dfit): [  253   500   988  1954  3862  7635 15093 29835]\n",
      "Train size (dext): [ 58976 116578 230441]\n"
     ]
    }
   ],
   "source": [
    "# Split dfit and dext\n",
    "# -------------------\n",
    "df = data.copy()\n",
    "df = df[ df['metric']==met ].reset_index(drop=True)\n",
    "\n",
    "x_fit_mn = 200\n",
    "x_fit_mx = 40000\n",
    "\n",
    "dfit = subset_data(df, col='tr_size', x_mn=x_fit_mn, x_mx=x_fit_mx)\n",
    "dext = subset_data(df, col='tr_size', x_mn=x_fit_mx, x_mx=None)\n",
    "dfit = add_weight_col(dfit)\n",
    "\n",
    "print('dfit.shape:', dfit.shape)\n",
    "print('dext.shape:', dext.shape)\n",
    "\n",
    "print('Train size (dfit):', dfit['tr_size'].unique())\n",
    "print('Train size (dext):', dext['tr_size'].unique())"
   ]
  },
  {
   "cell_type": "code",
   "execution_count": 12,
   "metadata": {},
   "outputs": [],
   "source": [
    "# Fit single run\n",
    "# --------------\n",
    "# run_name = 'run_104'\n",
    "# data_fit = dfit[ dfit['run'] == run_name ].reset_index(drop=True)\n",
    "# display(data_fit)\n",
    "\n",
    "# xf = data_fit['tr_size'].values\n",
    "# yf = data_fit['score'].values\n",
    "# w  = data_fit['w'].values\n",
    "# coef_est = fit_model(xf, yf, w)\n",
    "\n",
    "# coef_est['valid'] = coef_est['p_val'].map(lambda x: True if x <= p_value_min else False)\n",
    "# coef_est['run'] = run_name\n",
    "# coef_est"
   ]
  },
  {
   "cell_type": "code",
   "execution_count": 13,
   "metadata": {},
   "outputs": [
    {
     "name": "stderr",
     "output_type": "stream",
     "text": [
      "R[write to console]: Loading required package: dplyr\n",
      "\n",
      "R[write to console]: \n",
      "Attaching package: ‘dplyr’\n",
      "\n",
      "\n",
      "R[write to console]: The following objects are masked from ‘package:stats’:\n",
      "\n",
      "    filter, lag\n",
      "\n",
      "\n",
      "R[write to console]: The following objects are masked from ‘package:base’:\n",
      "\n",
      "    intersect, setdiff, setequal, union\n",
      "\n",
      "\n",
      "R[write to console]: Loading required package: tibble\n",
      "\n",
      "R[write to console]: Loading required package: minpack.lm\n",
      "\n"
     ]
    },
    {
     "name": "stdout",
     "output_type": "stream",
     "text": [
      "coef_est_df.shape (360, 7)\n"
     ]
    },
    {
     "data": {
      "text/html": [
       "<div>\n",
       "<style scoped>\n",
       "    .dataframe tbody tr th:only-of-type {\n",
       "        vertical-align: middle;\n",
       "    }\n",
       "\n",
       "    .dataframe tbody tr th {\n",
       "        vertical-align: top;\n",
       "    }\n",
       "\n",
       "    .dataframe thead th {\n",
       "        text-align: right;\n",
       "    }\n",
       "</style>\n",
       "<table border=\"1\" class=\"dataframe\">\n",
       "  <thead>\n",
       "    <tr style=\"text-align: right;\">\n",
       "      <th></th>\n",
       "      <th>coef</th>\n",
       "      <th>est</th>\n",
       "      <th>se</th>\n",
       "      <th>t_val</th>\n",
       "      <th>p_val</th>\n",
       "      <th>valid</th>\n",
       "      <th>run</th>\n",
       "    </tr>\n",
       "  </thead>\n",
       "  <tbody>\n",
       "    <tr>\n",
       "      <th>0</th>\n",
       "      <td>a</td>\n",
       "      <td>1.072827</td>\n",
       "      <td>0.259563</td>\n",
       "      <td>4.133207</td>\n",
       "      <td>9.056669e-03</td>\n",
       "      <td>True</td>\n",
       "      <td>run_104</td>\n",
       "    </tr>\n",
       "    <tr>\n",
       "      <th>1</th>\n",
       "      <td>b</td>\n",
       "      <td>-0.501116</td>\n",
       "      <td>0.040603</td>\n",
       "      <td>-12.341905</td>\n",
       "      <td>6.184719e-05</td>\n",
       "      <td>True</td>\n",
       "      <td>run_104</td>\n",
       "    </tr>\n",
       "    <tr>\n",
       "      <th>2</th>\n",
       "      <td>c</td>\n",
       "      <td>0.045830</td>\n",
       "      <td>0.001311</td>\n",
       "      <td>34.956259</td>\n",
       "      <td>3.604779e-07</td>\n",
       "      <td>True</td>\n",
       "      <td>run_104</td>\n",
       "    </tr>\n",
       "  </tbody>\n",
       "</table>\n",
       "</div>"
      ],
      "text/plain": [
       "  coef       est        se      t_val         p_val  valid      run\n",
       "0    a  1.072827  0.259563   4.133207  9.056669e-03   True  run_104\n",
       "1    b -0.501116  0.040603 -12.341905  6.184719e-05   True  run_104\n",
       "2    c  0.045830  0.001311  34.956259  3.604779e-07   True  run_104"
      ]
     },
     "metadata": {},
     "output_type": "display_data"
    }
   ],
   "source": [
    "# Fit model for each run (set of samples)\n",
    "# ---------------------------------------\n",
    "coef_est_df = []\n",
    "for run_name in dfit['run'].unique():\n",
    "    data_fit = dfit[ dfit['run'] == run_name ].reset_index(drop=True)\n",
    "    \n",
    "    # At least 3 fitting points are required\n",
    "    if len(data_fit) < 4: continue\n",
    "        \n",
    "    xf = data_fit['tr_size'].values\n",
    "    yf = data_fit['score'].values\n",
    "    w  = data_fit['w'].values\n",
    "    coef_est = fit_model(xf, yf, w)\n",
    "    \n",
    "    coef_est['valid'] = coef_est['p_val'].map(lambda x: True if x <= p_value_min else False)\n",
    "    coef_est['run'] = run_name\n",
    "    \n",
    "    coef_est_df.append(coef_est)\n",
    "    \n",
    "coef_est_df = pd.concat(coef_est_df, axis=0).reset_index(drop=True)\n",
    "print('coef_est_df.shape', coef_est_df.shape)\n",
    "display( coef_est_df[:3] )"
   ]
  },
  {
   "cell_type": "code",
   "execution_count": 14,
   "metadata": {},
   "outputs": [],
   "source": [
    "# Determine runs with good and bad runs fits\n",
    "# ------------------------------------------\n",
    "dfit['fit'] = -100\n",
    "dext['fit'] = -100\n",
    "\n",
    "for run_name in dfit['run'].unique():\n",
    "    # Get the sizes and coefs for a run\n",
    "    coefs = coef_est_df.loc[coef_est_df['run'] == run_name, :].reset_index(drop=True)\n",
    "    \n",
    "    # Skip fits if \"valid\" are NaN\n",
    "    if coefs['valid'].isna().sum() == 3: continue\n",
    "    \n",
    "    # Skip fits with bad estimates\n",
    "    if coefs['valid'].sum() != 3: continue\n",
    "\n",
    "    # Est scores\n",
    "    ids = dfit['run'] == run_name\n",
    "    dfit.loc[ids, 'fit'] = calc_fit(dfit.loc[ids,'tr_size'].values, coefs)\n",
    "\n",
    "    ids = dext['run'] == run_name\n",
    "    dext.loc[ids, 'fit'] = calc_fit(dext.loc[ids,'tr_size'].values, coefs)"
   ]
  },
  {
   "cell_type": "code",
   "execution_count": 15,
   "metadata": {},
   "outputs": [
    {
     "name": "stdout",
     "output_type": "stream",
     "text": [
      "(0, 7)\n",
      "(960, 7)\n"
     ]
    }
   ],
   "source": [
    "# Good and bad runs based for dfit\n",
    "# --------------------------------\n",
    "bad_ids = dfit['fit'] == -100\n",
    "dfit_bad = dfit.loc[bad_ids, :]\n",
    "dfit_good = dfit.loc[~bad_ids, :]\n",
    "bad_runs = dfit_bad['run'].unique()\n",
    "good_runs = dfit_good['run'].unique()\n",
    "\n",
    "print(dfit_bad.shape)\n",
    "print(dfit_good.shape)\n",
    "\n",
    "# Good and bad runs based for dext\n",
    "# --------------------------------\n",
    "# dext_bad <- dext[dext$fit==-100,]\n",
    "# dext_ <- dext[dext$fit>-100,]\n",
    "# good_run_ext <- as.vector(unique(dext_$run))\n",
    "# bad_run_ext <- as.vector(unique(dext_bad$run))"
   ]
  },
  {
   "cell_type": "code",
   "execution_count": 17,
   "metadata": {},
   "outputs": [],
   "source": [
    "plot_args = {'metric_name': met, 'xtick_scale': xtick_scale, 'ytick_scale': ytick_scale, 'alpha': 0.3, 'ls': '', 'marker': '.'}"
   ]
  },
  {
   "cell_type": "code",
   "execution_count": 18,
   "metadata": {},
   "outputs": [
    {
     "data": {
      "image/png": "[encoded data removed]",
      "text/plain": [
       "<Figure size 504x360 with 1 Axes>"
      ]
     },
     "metadata": {
      "needs_background": "light"
     },
     "output_type": "display_data"
    }
   ],
   "source": [
    "ax = None\n",
    "\n",
    "df = data[data['metric']==met].reset_index(drop=True)\n",
    "x = df['tr_size'].values\n",
    "y = df['score'].values\n",
    "ax = lc_plots.plot_lc(x=x, y=y, ax=ax, **plot_args, color='b', label='Raw')\n",
    "\n",
    "x = dfit['tr_size'].values\n",
    "y = dfit['fit'].values\n",
    "ax = lc_plots.plot_lc(x=x, y=y, ax=ax, **plot_args, color='r', label='Fit')\n",
    "\n",
    "x = dext['tr_size'].values\n",
    "y = dext['fit'].values\n",
    "ax = lc_plots.plot_lc(x=x, y=y, ax=ax, **plot_args, color='y', label='Ext')\n",
    "\n",
    "ax.set_title(f'{src} ~ {model}')\n",
    "ax.legend(frameon=True, fontsize=10, loc='best')\n",
    "ax.grid(False)"
   ]
  },
  {
   "cell_type": "code",
   "execution_count": null,
   "metadata": {},
   "outputs": [],
   "source": []
  },
  {
   "cell_type": "markdown",
   "metadata": {},
   "source": [
    "## Calc CI"
   ]
  },
  {
   "cell_type": "code",
   "execution_count": 19,
   "metadata": {},
   "outputs": [],
   "source": [
    "# Find the extreme points per tr_sz (min and max)\n",
    "# -----------------------------------------------\n",
    "\n",
    "# Method 1\n",
    "# --------\n",
    "# dfit_pivot = pd.pivot_table(dfit, values='score', index=['tr_size'], columns='run').reset_index()\n",
    "# dfit_pivot.columns.name = None\n",
    "\n",
    "# df = dfit_pivot.copy()\n",
    "# ci_lwr = pd.DataFrame({'tr_size': df['tr_size'].values, 'y': df.iloc[:,1:].min(axis=1)})\n",
    "# ci_upr = pd.DataFrame({'tr_size': df['tr_size'].values, 'y': df.iloc[:,1:].max(axis=1)})\n",
    "# ci_lwr = add_weight_col(ci_lwr)\n",
    "# ci_upr = add_weight_col(ci_upr)\n",
    "\n",
    "# Method 2\n",
    "# --------\n",
    "ci_lwr = dfit[['tr_size', 'score']]\n",
    "ci_lwr = ci_lwr.groupby('tr_size').agg({'score': 'min'}).reset_index().rename(columns={'score': 'y'})\n",
    "ci_lwr = add_weight_col(ci_lwr)\n",
    "\n",
    "ci_upr = dfit[['tr_size', 'score']]\n",
    "ci_upr = ci_upr.groupby('tr_size').agg({'score': 'max'}).reset_index().rename(columns={'score': 'y'})\n",
    "ci_upr = add_weight_col(ci_upr)"
   ]
  },
  {
   "cell_type": "code",
   "execution_count": null,
   "metadata": {},
   "outputs": [],
   "source": []
  },
  {
   "cell_type": "code",
   "execution_count": 20,
   "metadata": {},
   "outputs": [],
   "source": [
    "# Calc CI (using the extreme points)\n",
    "# ----------------------------------\n",
    "# Use each set of the extreme points to fit a model\n",
    "ci_lwr_coefs = fit_model(ci_lwr['tr_size'], ci_lwr['y'], ci_lwr['w'])\n",
    "ci_upr_coefs = fit_model(ci_upr['tr_size'], ci_upr['y'], ci_upr['w'])\n",
    "ci_lwr['fit'] = calc_fit(ci_lwr['tr_size'], ci_lwr_coefs)\n",
    "ci_upr['fit'] = calc_fit(ci_upr['tr_size'], ci_upr_coefs)\n"
   ]
  },
  {
   "cell_type": "code",
   "execution_count": 22,
   "metadata": {},
   "outputs": [],
   "source": [
    "# Extrapolate CI curves\n",
    "# ---------------------\n",
    "ci_lwr_ext = pd.DataFrame( {'tr_size': dext['tr_size'].unique()} )\n",
    "ci_upr_ext = pd.DataFrame( {'tr_size': dext['tr_size'].unique()} )\n",
    "ci_lwr_ext['fit'] = calc_fit(ci_lwr_ext['tr_size'], ci_lwr_coefs)\n",
    "ci_upr_ext['fit'] = calc_fit(ci_upr_ext['tr_size'], ci_upr_coefs)"
   ]
  },
  {
   "cell_type": "code",
   "execution_count": 23,
   "metadata": {},
   "outputs": [],
   "source": [
    "pnts_args = {'metric_name': met, 'xtick_scale': xtick_scale, 'ytick_scale': ytick_scale, 'alpha': 0.3, 'ls': '', 'marker': '.'}\n",
    "ci_args = {'metric_name': met, 'xtick_scale': xtick_scale, 'ytick_scale': ytick_scale, 'alpha': 0.3, 'ls': '--', 'marker': '.'}"
   ]
  },
  {
   "cell_type": "code",
   "execution_count": 24,
   "metadata": {},
   "outputs": [
    {
     "data": {
      "image/png": "[encoded data removed]",
      "text/plain": [
       "<Figure size 504x360 with 1 Axes>"
      ]
     },
     "metadata": {
      "needs_background": "light"
     },
     "output_type": "display_data"
    }
   ],
   "source": [
    "ax = None\n",
    "\n",
    "df = data[data['metric']==met].reset_index(drop=True)\n",
    "x = df['tr_size'].values\n",
    "y = df['score'].values\n",
    "ax = lc_plots.plot_lc(x=x, y=y, ax=ax, **pnts_args, color='b', label='Raw')\n",
    "\n",
    "x = ci_lwr['tr_size'].values\n",
    "y = ci_lwr['fit'].values\n",
    "ax = lc_plots.plot_lc(x=x, y=y, ax=ax, **ci_args, color='g', label='CI lower')\n",
    "\n",
    "x = ci_upr['tr_size'].values\n",
    "y = ci_upr['fit'].values\n",
    "ax = lc_plots.plot_lc(x=x, y=y, ax=ax, **ci_args, color='g', label='CI upper')\n",
    "\n",
    "x = ci_lwr_ext['tr_size'].values\n",
    "y = ci_lwr_ext['fit'].values\n",
    "ax = lc_plots.plot_lc(x=x, y=y, ax=ax, **ci_args, color='r', label='CI ext lower')\n",
    "\n",
    "x = ci_upr_ext['tr_size'].values\n",
    "y = ci_upr_ext['fit'].values\n",
    "ax = lc_plots.plot_lc(x=x, y=y, ax=ax, **ci_args, color='r', label='CI ext upper')\n",
    "\n",
    "ax.set_title(f'{src} ~ {model}')\n",
    "ax.legend(frameon=True, fontsize=10, loc='best')\n",
    "ax.grid(False)"
   ]
  },
  {
   "cell_type": "code",
   "execution_count": null,
   "metadata": {},
   "outputs": [],
   "source": []
  }
 ],
 "metadata": {
  "kernelspec": {
   "display_name": "Python 3",
   "language": "python",
   "name": "python3"
  },
  "language_info": {
   "codemirror_mode": {
    "name": "ipython",
    "version": 3
   },
   "file_extension": ".py",
   "mimetype": "text/x-python",
   "name": "python",
   "nbconvert_exporter": "python",
   "pygments_lexer": "ipython3",
   "version": "3.6.10"
  }
 },
 "nbformat": 4,
 "nbformat_minor": 4
}
