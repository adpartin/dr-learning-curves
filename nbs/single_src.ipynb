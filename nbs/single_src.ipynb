{
 "cells": [
  {
   "cell_type": "markdown",
   "metadata": {},
   "source": [
    "### Datasets\n",
    "    - gdsc --> gg\n",
    "    - ctrp --> cc\n",
    "### Models\n",
    "    - lgb\n",
    "    - nn0\n",
    "    - nn1"
   ]
  },
  {
   "cell_type": "code",
   "execution_count": 1,
   "metadata": {},
   "outputs": [
    {
     "name": "stdout",
     "output_type": "stream",
     "text": [
      "Current path: /vol/ml/apartin/projects/dr-learning-curves/nbs\n"
     ]
    }
   ],
   "source": [
    "%load_ext autoreload\n",
    "%autoreload 2\n",
    "%matplotlib inline\n",
    "\n",
    "from load_modules import *\n",
    "%matplotlib inline\n",
    "fpath = Path(os.getcwd())\n",
    "print('Current path:', fpath)\n",
    "\n",
    "outpath = fpath/'outpath'\n",
    "os.makedirs(outpath, exist_ok=True)"
   ]
  },
  {
   "cell_type": "code",
   "execution_count": null,
   "metadata": {},
   "outputs": [],
   "source": []
  },
  {
   "cell_type": "markdown",
   "metadata": {},
   "source": [
    "## Path to data"
   ]
  },
  {
   "cell_type": "code",
   "execution_count": 2,
   "metadata": {},
   "outputs": [
    {
     "name": "stdout",
     "output_type": "stream",
     "text": [
      "[PosixPath('../lc.out/.ipynb_checkpoints'), PosixPath('../lc.out/lc.ctrp.lgb.default'), PosixPath('../lc.out/lc.ctrp.nn_attn1.test'), PosixPath('../lc.out/lc.ctrp.nn_reg0.test'), PosixPath('../lc.out/lc.ctrp.nn_reg1.test'), PosixPath('../lc.out/lc.gdsc.lgb.default'), PosixPath('../lc.out/lc.gdsc.nn_reg0.test'), PosixPath('../lc.out/lc.gdsc.nn_reg1.test')]\n"
     ]
    }
   ],
   "source": [
    "fname = 'all_scores.csv'\n",
    "dpath = Path('../lc.out')\n",
    "# dirs = sorted(dpath.glob('*'))\n",
    "dirs = glob(str(dpath/'*'))\n",
    "print(dirs)"
   ]
  },
  {
   "cell_type": "code",
   "execution_count": 3,
   "metadata": {},
   "outputs": [],
   "source": [
    "c_lgb_path = dpath/'lc.ctrp.lgb.default'/fname\n",
    "# c_lgb_path = dpath/dirs[0]/fname\n",
    "# g_lgb_path = dpath/dirs[1]/fname"
   ]
  },
  {
   "cell_type": "code",
   "execution_count": null,
   "metadata": {},
   "outputs": [],
   "source": []
  },
  {
   "cell_type": "markdown",
   "metadata": {},
   "source": [
    "## Load data"
   ]
  },
  {
   "cell_type": "code",
   "execution_count": 4,
   "metadata": {},
   "outputs": [
    {
     "name": "stdout",
     "output_type": "stream",
     "text": [
      "data.shape (12960, 5)\n"
     ]
    }
   ],
   "source": [
    "data = load_data(c_lgb_path, tr_set='te'); src='CTRP'; model='LGBM'\n",
    "print('data.shape', data.shape)\n",
    "# g_lgb = load_data(g_lgb_path)"
   ]
  },
  {
   "cell_type": "code",
   "execution_count": null,
   "metadata": {},
   "outputs": [],
   "source": []
  },
  {
   "cell_type": "markdown",
   "metadata": {},
   "source": [
    "## Raw plots"
   ]
  },
  {
   "cell_type": "code",
   "execution_count": 5,
   "metadata": {},
   "outputs": [],
   "source": [
    "# Global plotting params\n",
    "# ----------------------\n",
    "met = 'mean_absolute_error'\n",
    "t_set = 'te'\n",
    "xtick_scale = 'log2'\n",
    "ytick_scale = 'log2'\n",
    "kwargs = {'metric_name': met, 'tr_set': t_set, 'xtick_scale': xtick_scale, 'ytick_scale': ytick_scale, 'plot_median': True}"
   ]
  },
  {
   "cell_type": "code",
   "execution_count": 6,
   "metadata": {},
   "outputs": [
    {
     "data": {
      "image/png": "[encoded data removed]",
      "text/plain": [
       "<Figure size 504x360 with 1 Axes>"
      ]
     },
     "metadata": {
      "needs_background": "light"
     },
     "output_type": "display_data"
    }
   ],
   "source": [
    "# Plot all raw\n",
    "# -------------------------------\n",
    "kwargs.update({'title': f'{src} ~ {model}'})\n",
    "ax = lc_plots.plot_lc_single_metric(data, **kwargs);"
   ]
  },
  {
   "cell_type": "code",
   "execution_count": 7,
   "metadata": {},
   "outputs": [
    {
     "name": "stdout",
     "output_type": "stream",
     "text": [
      "Total points for mean_absolute_error: 1440\n"
     ]
    }
   ],
   "source": [
    "df = data[ data['metric']==met ].reset_index(drop=True)\n",
    "print(f'Total points for {met}: {len(df)}')"
   ]
  },
  {
   "cell_type": "code",
   "execution_count": null,
   "metadata": {},
   "outputs": [],
   "source": []
  },
  {
   "cell_type": "markdown",
   "metadata": {},
   "source": [
    "## Fit and extrapolate"
   ]
  },
  {
   "cell_type": "code",
   "execution_count": 12,
   "metadata": {},
   "outputs": [
    {
     "name": "stdout",
     "output_type": "stream",
     "text": [
      "Raw dataset of scores (1440, 5)\n",
      "Agg with median (12, 2)\n",
      "dfit.shape: (5, 3)\n",
      "dext.shape: (3, 2)\n",
      "Train size (dfit): [ 1954  3862  7635 15093 29835]\n",
      "Train size (dext): [ 58976 116578 230441]\n"
     ]
    }
   ],
   "source": [
    "# ----------------\n",
    "# Prepare the data\n",
    "# ----------------\n",
    "df = data.copy()\n",
    "df = df[ df['metric']==met ].reset_index(drop=True)\n",
    "print('Raw dataset of scores', df.shape)\n",
    "\n",
    "# Agg scores\n",
    "df['y'] = df['score']\n",
    "df = df[df['metric']==met].groupby('tr_size').agg({'y': 'median'}).reset_index()\n",
    "print('Agg with median', df.shape)\n",
    "\n",
    "# Split dfit and dext\n",
    "x_fit_mn = 1000\n",
    "x_fit_mx = 40000\n",
    "\n",
    "dfit = subset_data(df, col='tr_size', x_mn=x_fit_mn, x_mx=x_fit_mx)\n",
    "dext = subset_data(df, col='tr_size', x_mn=x_fit_mx, x_mx=None)\n",
    "dfit = add_weight_col(dfit)\n",
    "\n",
    "print('dfit.shape:', dfit.shape)\n",
    "print('dext.shape:', dext.shape)\n",
    "print('Train size (dfit):', dfit['tr_size'].unique())\n",
    "print('Train size (dext):', dext['tr_size'].unique())"
   ]
  },
  {
   "cell_type": "code",
   "execution_count": 13,
   "metadata": {},
   "outputs": [],
   "source": [
    "# # Fit and extrap (nlsLM)\n",
    "# # ----------------------------------\n",
    "# # Use each set of the extreme points to fit a model\n",
    "# coefs = fit_model(dfit['tr_size'], dfit['y'], dfit['w'])\n",
    "# dfit['fit'] = calc_fit(dfit['tr_size'], coefs)\n",
    "# dext['fit'] = calc_fit(dext['tr_size'], coefs)\n",
    "# print(dfit['fit'].values)\n",
    "# print(dext['fit'].values)\n",
    "\n",
    "# # Fit and extrap (old)\n",
    "# # ----------------------------------\n",
    "# # prms = fit_params(x=dfit['tr_size'].values, y=dfit['y'].values)\n",
    "# # yf = biased_powerlaw(dfit['tr_size'].values, **prms)\n",
    "# # ye = biased_powerlaw(dext['tr_size'].values, **prms)\n",
    "# # print(yf)\n",
    "# # print(ye)"
   ]
  },
  {
   "cell_type": "code",
   "execution_count": 14,
   "metadata": {},
   "outputs": [],
   "source": [
    "# ax = None\n",
    "\n",
    "# pnts_args = {'metric_name': met, 'xtick_scale': xtick_scale, 'ytick_scale': ytick_scale, 'alpha': 0.5, 'ls': '', 'marker': '.'}\n",
    "# fit_args = {'metric_name': met, 'xtick_scale': xtick_scale, 'ytick_scale': ytick_scale, 'alpha': 0.5, 'ls': '--', 'marker': ''}\n",
    "\n",
    "# xf = dfit['tr_size'].values\n",
    "# xe = dext['tr_size'].values\n",
    "# yf_raw = dfit['y'].values\n",
    "# ye_raw = dext['y'].values\n",
    "# yf_fit = dfit['fit'].values\n",
    "# ye_fit = dext['fit'].values\n",
    "\n",
    "# # Raw data\n",
    "# ax = lc_plots.plot_lc(x=xf, y=yf_raw, ax=ax, **pnts_args, color='b', label='dfit data')\n",
    "# ax = lc_plots.plot_lc(x=xe, y=ye_raw, ax=ax, **pnts_args, color='r', label='dext data')\n",
    "\n",
    "# # Fits\n",
    "# ax = lc_plots.plot_lc(x=xf, y=yf_fit, ax=ax, **fit_args, color='b', label='dfit fit')\n",
    "# ax = lc_plots.plot_lc(x=xe, y=ye_fit, ax=ax, **fit_args, color='r', label='dext fit')\n",
    "\n",
    "# ax.set_title(f'{src} ~ {model}')\n",
    "# ax.legend(frameon=True, fontsize=10, loc='best')\n",
    "# ax.grid(False)"
   ]
  },
  {
   "cell_type": "code",
   "execution_count": null,
   "metadata": {},
   "outputs": [],
   "source": []
  },
  {
   "cell_type": "code",
   "execution_count": 15,
   "metadata": {},
   "outputs": [],
   "source": [
    "pnts_args = {'metric_name': met, 'xtick_scale': xtick_scale, 'ytick_scale': ytick_scale, 'alpha': 0.5, 'ls': '', 'marker': '.'}\n",
    "fit_args = {'metric_name': met, 'xtick_scale': xtick_scale, 'ytick_scale': ytick_scale, 'alpha': 0.5, 'ls': '--', 'marker': ''}\n",
    "\n",
    "xf = dfit['tr_size'].values\n",
    "xe = dext['tr_size'].values\n",
    "yf = dfit['y'].values\n",
    "ye = dext['y'].values"
   ]
  },
  {
   "cell_type": "code",
   "execution_count": 17,
   "metadata": {},
   "outputs": [
    {
     "data": {
      "image/png": "[encoded data removed]",
      "text/plain": [
       "<Figure size 504x360 with 1 Axes>"
      ]
     },
     "metadata": {
      "needs_background": "light"
     },
     "output_type": "display_data"
    }
   ],
   "source": [
    "cc = FitPwrLaw(xf=dfit['tr_size'].values, yf=dfit['y'].values, w=dfit['w'].values)\n",
    "xf_plot, yf_plot = cc.calc_fit( x1=xf[0], x2=xf[-1] )\n",
    "xe_plot, ye_plot = cc.calc_fit( x1=xe[0], x2=xe[-1] )\n",
    "\n",
    "# Reset axes\n",
    "ax = None\n",
    "\n",
    "# Raw data\n",
    "ax = lc_plots.plot_lc(x=xf, y=yf, ax=ax, **pnts_args, color='b', label='dfit data')\n",
    "ax = lc_plots.plot_lc(x=xe, y=ye, ax=ax, **pnts_args, color='r', label='dext data')\n",
    "\n",
    "# Fits\n",
    "ax = lc_plots.plot_lc(x=xf_plot, y=yf_plot, ax=ax, **fit_args, color='b', label='dfit fit')\n",
    "ax = lc_plots.plot_lc(x=xe_plot, y=ye_plot, ax=ax, **fit_args, color='r', label='dext fit')\n",
    "\n",
    "ax.set_title(f'{src} ~ {model}')\n",
    "ax.legend(frameon=True, fontsize=10, loc='best')\n",
    "ax.grid(False)"
   ]
  },
  {
   "cell_type": "code",
   "execution_count": 18,
   "metadata": {},
   "outputs": [
    {
     "data": {
      "text/html": [
       "<div>\n",
       "<style scoped>\n",
       "    .dataframe tbody tr th:only-of-type {\n",
       "        vertical-align: middle;\n",
       "    }\n",
       "\n",
       "    .dataframe tbody tr th {\n",
       "        vertical-align: top;\n",
       "    }\n",
       "\n",
       "    .dataframe thead th {\n",
       "        text-align: right;\n",
       "    }\n",
       "</style>\n",
       "<table border=\"1\" class=\"dataframe\">\n",
       "  <thead>\n",
       "    <tr style=\"text-align: right;\">\n",
       "      <th></th>\n",
       "      <th>coef</th>\n",
       "      <th>est</th>\n",
       "      <th>se</th>\n",
       "      <th>t_val</th>\n",
       "      <th>p_val</th>\n",
       "    </tr>\n",
       "  </thead>\n",
       "  <tbody>\n",
       "    <tr>\n",
       "      <th>0</th>\n",
       "      <td>a</td>\n",
       "      <td>3.577894</td>\n",
       "      <td>0.345547</td>\n",
       "      <td>10.354282</td>\n",
       "      <td>0.009199</td>\n",
       "    </tr>\n",
       "    <tr>\n",
       "      <th>1</th>\n",
       "      <td>b</td>\n",
       "      <td>-0.673947</td>\n",
       "      <td>0.013185</td>\n",
       "      <td>-51.115241</td>\n",
       "      <td>0.000383</td>\n",
       "    </tr>\n",
       "    <tr>\n",
       "      <th>2</th>\n",
       "      <td>c</td>\n",
       "      <td>0.048638</td>\n",
       "      <td>0.000156</td>\n",
       "      <td>311.194123</td>\n",
       "      <td>0.000010</td>\n",
       "    </tr>\n",
       "  </tbody>\n",
       "</table>\n",
       "</div>"
      ],
      "text/plain": [
       "  coef       est        se       t_val     p_val\n",
       "0    a  3.577894  0.345547   10.354282  0.009199\n",
       "1    b -0.673947  0.013185  -51.115241  0.000383\n",
       "2    c  0.048638  0.000156  311.194123  0.000010"
      ]
     },
     "execution_count": 18,
     "metadata": {},
     "output_type": "execute_result"
    }
   ],
   "source": [
    "cc.coefs"
   ]
  },
  {
   "cell_type": "code",
   "execution_count": null,
   "metadata": {},
   "outputs": [],
   "source": []
  },
  {
   "cell_type": "markdown",
   "metadata": {},
   "source": [
    "## Filtering"
   ]
  },
  {
   "cell_type": "code",
   "execution_count": 8,
   "metadata": {},
   "outputs": [
    {
     "name": "stdout",
     "output_type": "stream",
     "text": [
      "df.shape (2880, 5)\n"
     ]
    },
    {
     "data": {
      "text/html": [
       "<div>\n",
       "<style scoped>\n",
       "    .dataframe tbody tr th:only-of-type {\n",
       "        vertical-align: middle;\n",
       "    }\n",
       "\n",
       "    .dataframe tbody tr th {\n",
       "        vertical-align: top;\n",
       "    }\n",
       "\n",
       "    .dataframe thead th {\n",
       "        text-align: right;\n",
       "    }\n",
       "</style>\n",
       "<table border=\"1\" class=\"dataframe\">\n",
       "  <thead>\n",
       "    <tr style=\"text-align: right;\">\n",
       "      <th></th>\n",
       "      <th>run</th>\n",
       "      <th>tr_size</th>\n",
       "      <th>set</th>\n",
       "      <th>metric</th>\n",
       "      <th>score</th>\n",
       "    </tr>\n",
       "  </thead>\n",
       "  <tbody>\n",
       "    <tr>\n",
       "      <th>0</th>\n",
       "      <td>run_104</td>\n",
       "      <td>128</td>\n",
       "      <td>te</td>\n",
       "      <td>r2</td>\n",
       "      <td>0.052339</td>\n",
       "    </tr>\n",
       "    <tr>\n",
       "      <th>1</th>\n",
       "      <td>run_104</td>\n",
       "      <td>253</td>\n",
       "      <td>te</td>\n",
       "      <td>r2</td>\n",
       "      <td>0.066318</td>\n",
       "    </tr>\n",
       "  </tbody>\n",
       "</table>\n",
       "</div>"
      ],
      "text/plain": [
       "       run  tr_size set metric     score\n",
       "0  run_104      128  te     r2  0.052339\n",
       "1  run_104      253  te     r2  0.066318"
      ]
     },
     "metadata": {},
     "output_type": "display_data"
    },
    {
     "name": "stdout",
     "output_type": "stream",
     "text": [
      "df.shape (1082, 5)\n"
     ]
    },
    {
     "data": {
      "text/html": [
       "<div>\n",
       "<style scoped>\n",
       "    .dataframe tbody tr th:only-of-type {\n",
       "        vertical-align: middle;\n",
       "    }\n",
       "\n",
       "    .dataframe tbody tr th {\n",
       "        vertical-align: top;\n",
       "    }\n",
       "\n",
       "    .dataframe thead th {\n",
       "        text-align: right;\n",
       "    }\n",
       "</style>\n",
       "<table border=\"1\" class=\"dataframe\">\n",
       "  <thead>\n",
       "    <tr style=\"text-align: right;\">\n",
       "      <th></th>\n",
       "      <th>run</th>\n",
       "      <th>tr_size</th>\n",
       "      <th>set</th>\n",
       "      <th>mean_absolute_error</th>\n",
       "      <th>r2</th>\n",
       "    </tr>\n",
       "  </thead>\n",
       "  <tbody>\n",
       "    <tr>\n",
       "      <th>0</th>\n",
       "      <td>run_0</td>\n",
       "      <td>988</td>\n",
       "      <td>te</td>\n",
       "      <td>0.081754</td>\n",
       "      <td>0.381946</td>\n",
       "    </tr>\n",
       "    <tr>\n",
       "      <th>1</th>\n",
       "      <td>run_0</td>\n",
       "      <td>1954</td>\n",
       "      <td>te</td>\n",
       "      <td>0.070105</td>\n",
       "      <td>0.541345</td>\n",
       "    </tr>\n",
       "  </tbody>\n",
       "</table>\n",
       "</div>"
      ],
      "text/plain": [
       "     run  tr_size set  mean_absolute_error        r2\n",
       "0  run_0      988  te             0.081754  0.381946\n",
       "1  run_0     1954  te             0.070105  0.541345"
      ]
     },
     "metadata": {},
     "output_type": "display_data"
    },
    {
     "data": {
      "image/png": "[encoded data removed]",
      "text/plain": [
       "<Figure size 504x360 with 1 Axes>"
      ]
     },
     "metadata": {
      "needs_background": "light"
     },
     "output_type": "display_data"
    }
   ],
   "source": [
    "# Remove scores (trainings that didn't converg)\n",
    "# ---------------------------------------------\n",
    "df = data.copy()\n",
    "\n",
    "r2_th = 0.3\n",
    "df = df[(df['metric']==met) | (df['metric']=='r2')].reset_index(drop=True)\n",
    "print('df.shape', df.shape)\n",
    "display(df[:2])\n",
    "\n",
    "df = pd.pivot_table(df, values='score', index=['run', 'tr_size', 'set'], columns='metric').reset_index()\n",
    "df.columns.name = None\n",
    "df = df[ df['r2']>r2_th ].reset_index(drop=True)\n",
    "print('df.shape', df.shape)\n",
    "display(df[:2])\n",
    "\n",
    "x = df['tr_size'].values\n",
    "y = df[met].values\n",
    "lc_plots.plot_lc(x, y, ls='', title=f'{src} ~ {model} ~ runs of R^2<{r2_th} removed');"
   ]
  },
  {
   "cell_type": "code",
   "execution_count": null,
   "metadata": {},
   "outputs": [],
   "source": []
  },
  {
   "cell_type": "code",
   "execution_count": 9,
   "metadata": {},
   "outputs": [
    {
     "name": "stdout",
     "output_type": "stream",
     "text": [
      "df.shape (1440, 5)\n"
     ]
    },
    {
     "data": {
      "text/html": [
       "<div>\n",
       "<style scoped>\n",
       "    .dataframe tbody tr th:only-of-type {\n",
       "        vertical-align: middle;\n",
       "    }\n",
       "\n",
       "    .dataframe tbody tr th {\n",
       "        vertical-align: top;\n",
       "    }\n",
       "\n",
       "    .dataframe thead th {\n",
       "        text-align: right;\n",
       "    }\n",
       "</style>\n",
       "<table border=\"1\" class=\"dataframe\">\n",
       "  <thead>\n",
       "    <tr style=\"text-align: right;\">\n",
       "      <th></th>\n",
       "      <th>tr_size</th>\n",
       "      <th>med</th>\n",
       "      <th>sd</th>\n",
       "      <th>sd_top</th>\n",
       "    </tr>\n",
       "  </thead>\n",
       "  <tbody>\n",
       "    <tr>\n",
       "      <th>0</th>\n",
       "      <td>128</td>\n",
       "      <td>0.107185</td>\n",
       "      <td>0.002965</td>\n",
       "      <td>0.110150</td>\n",
       "    </tr>\n",
       "    <tr>\n",
       "      <th>1</th>\n",
       "      <td>253</td>\n",
       "      <td>0.102445</td>\n",
       "      <td>0.002529</td>\n",
       "      <td>0.104974</td>\n",
       "    </tr>\n",
       "    <tr>\n",
       "      <th>2</th>\n",
       "      <td>500</td>\n",
       "      <td>0.094382</td>\n",
       "      <td>0.002214</td>\n",
       "      <td>0.096597</td>\n",
       "    </tr>\n",
       "    <tr>\n",
       "      <th>3</th>\n",
       "      <td>988</td>\n",
       "      <td>0.082567</td>\n",
       "      <td>0.001855</td>\n",
       "      <td>0.084422</td>\n",
       "    </tr>\n",
       "    <tr>\n",
       "      <th>4</th>\n",
       "      <td>1954</td>\n",
       "      <td>0.070310</td>\n",
       "      <td>0.001103</td>\n",
       "      <td>0.071413</td>\n",
       "    </tr>\n",
       "    <tr>\n",
       "      <th>5</th>\n",
       "      <td>3862</td>\n",
       "      <td>0.062341</td>\n",
       "      <td>0.000626</td>\n",
       "      <td>0.062967</td>\n",
       "    </tr>\n",
       "    <tr>\n",
       "      <th>6</th>\n",
       "      <td>7635</td>\n",
       "      <td>0.057225</td>\n",
       "      <td>0.000505</td>\n",
       "      <td>0.057730</td>\n",
       "    </tr>\n",
       "    <tr>\n",
       "      <th>7</th>\n",
       "      <td>15093</td>\n",
       "      <td>0.054146</td>\n",
       "      <td>0.000403</td>\n",
       "      <td>0.054550</td>\n",
       "    </tr>\n",
       "    <tr>\n",
       "      <th>8</th>\n",
       "      <td>29835</td>\n",
       "      <td>0.052078</td>\n",
       "      <td>0.000340</td>\n",
       "      <td>0.052418</td>\n",
       "    </tr>\n",
       "    <tr>\n",
       "      <th>9</th>\n",
       "      <td>58976</td>\n",
       "      <td>0.050933</td>\n",
       "      <td>0.000327</td>\n",
       "      <td>0.051260</td>\n",
       "    </tr>\n",
       "    <tr>\n",
       "      <th>10</th>\n",
       "      <td>116578</td>\n",
       "      <td>0.050233</td>\n",
       "      <td>0.000314</td>\n",
       "      <td>0.050546</td>\n",
       "    </tr>\n",
       "    <tr>\n",
       "      <th>11</th>\n",
       "      <td>230441</td>\n",
       "      <td>0.049848</td>\n",
       "      <td>0.000310</td>\n",
       "      <td>0.050158</td>\n",
       "    </tr>\n",
       "  </tbody>\n",
       "</table>\n",
       "</div>"
      ],
      "text/plain": [
       "    tr_size       med        sd    sd_top\n",
       "0       128  0.107185  0.002965  0.110150\n",
       "1       253  0.102445  0.002529  0.104974\n",
       "2       500  0.094382  0.002214  0.096597\n",
       "3       988  0.082567  0.001855  0.084422\n",
       "4      1954  0.070310  0.001103  0.071413\n",
       "5      3862  0.062341  0.000626  0.062967\n",
       "6      7635  0.057225  0.000505  0.057730\n",
       "7     15093  0.054146  0.000403  0.054550\n",
       "8     29835  0.052078  0.000340  0.052418\n",
       "9     58976  0.050933  0.000327  0.051260\n",
       "10   116578  0.050233  0.000314  0.050546\n",
       "11   230441  0.049848  0.000310  0.050158"
      ]
     },
     "metadata": {},
     "output_type": "display_data"
    },
    {
     "name": "stdout",
     "output_type": "stream",
     "text": [
      "df.shape (1199, 7)\n"
     ]
    },
    {
     "data": {
      "image/png": "[encoded data removed]",
      "text/plain": [
       "<Figure size 504x360 with 1 Axes>"
      ]
     },
     "metadata": {
      "needs_background": "light"
     },
     "output_type": "display_data"
    }
   ],
   "source": [
    "# Remove vertical 'outliers' (filter on std)\n",
    "# ------------------------------------------\n",
    "df = data.copy()\n",
    "df = df[ df['metric']==met ].reset_index(drop=True)\n",
    "print('df.shape', df.shape)\n",
    "\n",
    "# Agg scores\n",
    "agg = df.copy()\n",
    "agg['sd'] = agg['score']\n",
    "agg['med'] = agg['score']\n",
    "agg = agg[agg['metric']==met].groupby('tr_size').agg({'med': 'median', 'sd': 'std'}).reset_index()\n",
    "agg['sd_top'] = agg['med'] + agg['sd']\n",
    "display(agg)\n",
    "\n",
    "# Filter on sd\n",
    "dct = { agg.loc[i, 'tr_size']: agg.loc[i, 'sd_top'] for i in range(len(agg)) } # key: tr_size, value: sd_top\n",
    "df['sd_top'] = df['tr_size'].map(lambda x: dct[x])\n",
    "df['good_sd'] = [True if df.loc[i,'score'] <= df.loc[i,'sd_top'] else False for i in range(len(df))]\n",
    "df = df[ df['good_sd']==True ].reset_index(drop=True)\n",
    "print('df.shape', df.shape)\n",
    "\n",
    "x = df['tr_size'].values\n",
    "y = df['score'].values\n",
    "lc_plots.plot_lc(x, y, ls='', title=f'{src} ~ {model} ~ runs of score>(med+sd) removed');"
   ]
  },
  {
   "cell_type": "code",
   "execution_count": null,
   "metadata": {},
   "outputs": [],
   "source": []
  },
  {
   "cell_type": "markdown",
   "metadata": {},
   "source": [
    "## Fitting"
   ]
  },
  {
   "cell_type": "code",
   "execution_count": 10,
   "metadata": {},
   "outputs": [],
   "source": [
    "# p_value_min = 0.05\n",
    "p_value_min = 0.2"
   ]
  },
  {
   "cell_type": "code",
   "execution_count": 11,
   "metadata": {},
   "outputs": [
    {
     "name": "stdout",
     "output_type": "stream",
     "text": [
      "dfit.shape: (960, 6)\n",
      "dext.shape: (360, 5)\n",
      "Train size (dfit): [  253   500   988  1954  3862  7635 15093 29835]\n",
      "Train size (dext): [ 58976 116578 230441]\n"
     ]
    }
   ],
   "source": [
    "# Split dfit and dext\n",
    "# -------------------\n",
    "df = data.copy()\n",
    "df = df[ df['metric']==met ].reset_index(drop=True)\n",
    "\n",
    "x_fit_mn = 200\n",
    "x_fit_mx = 40000\n",
    "\n",
    "dfit = subset_data(df, col='tr_size', x_mn=x_fit_mn, x_mx=x_fit_mx)\n",
    "dext = subset_data(df, col='tr_size', x_mn=x_fit_mx, x_mx=None)\n",
    "dfit = add_weight_col(dfit)\n",
    "\n",
    "print('dfit.shape:', dfit.shape)\n",
    "print('dext.shape:', dext.shape)\n",
    "\n",
    "print('Train size (dfit):', dfit['tr_size'].unique())\n",
    "print('Train size (dext):', dext['tr_size'].unique())"
   ]
  },
  {
   "cell_type": "code",
   "execution_count": 12,
   "metadata": {},
   "outputs": [],
   "source": [
    "# Fit single run\n",
    "# --------------\n",
    "# run_name = 'run_104'\n",
    "# data_fit = dfit[ dfit['run'] == run_name ].reset_index(drop=True)\n",
    "# display(data_fit)\n",
    "\n",
    "# xf = data_fit['tr_size'].values\n",
    "# yf = data_fit['score'].values\n",
    "# w  = data_fit['w'].values\n",
    "# coef_est = fit_model(xf, yf, w)\n",
    "\n",
    "# coef_est['valid'] = coef_est['p_val'].map(lambda x: True if x <= p_value_min else False)\n",
    "# coef_est['run'] = run_name\n",
    "# coef_est"
   ]
  },
  {
   "cell_type": "code",
   "execution_count": 13,
   "metadata": {},
   "outputs": [
    {
     "name": "stderr",
     "output_type": "stream",
     "text": [
      "R[write to console]: Loading required package: dplyr\n",
      "\n",
      "R[write to console]: \n",
      "Attaching package: ‘dplyr’\n",
      "\n",
      "\n",
      "R[write to console]: The following objects are masked from ‘package:stats’:\n",
      "\n",
      "    filter, lag\n",
      "\n",
      "\n",
      "R[write to console]: The following objects are masked from ‘package:base’:\n",
      "\n",
      "    intersect, setdiff, setequal, union\n",
      "\n",
      "\n",
      "R[write to console]: Loading required package: tibble\n",
      "\n",
      "R[write to console]: Loading required package: minpack.lm\n",
      "\n"
     ]
    },
    {
     "name": "stdout",
     "output_type": "stream",
     "text": [
      "coef_est_df.shape (360, 7)\n"
     ]
    },
    {
     "data": {
      "text/html": [
       "<div>\n",
       "<style scoped>\n",
       "    .dataframe tbody tr th:only-of-type {\n",
       "        vertical-align: middle;\n",
       "    }\n",
       "\n",
       "    .dataframe tbody tr th {\n",
       "        vertical-align: top;\n",
       "    }\n",
       "\n",
       "    .dataframe thead th {\n",
       "        text-align: right;\n",
       "    }\n",
       "</style>\n",
       "<table border=\"1\" class=\"dataframe\">\n",
       "  <thead>\n",
       "    <tr style=\"text-align: right;\">\n",
       "      <th></th>\n",
       "      <th>coef</th>\n",
       "      <th>est</th>\n",
       "      <th>se</th>\n",
       "      <th>t_val</th>\n",
       "      <th>p_val</th>\n",
       "      <th>valid</th>\n",
       "      <th>run</th>\n",
       "    </tr>\n",
       "  </thead>\n",
       "  <tbody>\n",
       "    <tr>\n",
       "      <th>0</th>\n",
       "      <td>a</td>\n",
       "      <td>1.072827</td>\n",
       "      <td>0.259563</td>\n",
       "      <td>4.133207</td>\n",
       "      <td>9.056669e-03</td>\n",
       "      <td>True</td>\n",
       "      <td>run_104</td>\n",
       "    </tr>\n",
       "    <tr>\n",
       "      <th>1</th>\n",
       "      <td>b</td>\n",
       "      <td>-0.501116</td>\n",
       "      <td>0.040603</td>\n",
       "      <td>-12.341905</td>\n",
       "      <td>6.184719e-05</td>\n",
       "      <td>True</td>\n",
       "      <td>run_104</td>\n",
       "    </tr>\n",
       "    <tr>\n",
       "      <th>2</th>\n",
       "      <td>c</td>\n",
       "      <td>0.045830</td>\n",
       "      <td>0.001311</td>\n",
       "      <td>34.956259</td>\n",
       "      <td>3.604779e-07</td>\n",
       "      <td>True</td>\n",
       "      <td>run_104</td>\n",
       "    </tr>\n",
       "  </tbody>\n",
       "</table>\n",
       "</div>"
      ],
      "text/plain": [
       "  coef       est        se      t_val         p_val  valid      run\n",
       "0    a  1.072827  0.259563   4.133207  9.056669e-03   True  run_104\n",
       "1    b -0.501116  0.040603 -12.341905  6.184719e-05   True  run_104\n",
       "2    c  0.045830  0.001311  34.956259  3.604779e-07   True  run_104"
      ]
     },
     "metadata": {},
     "output_type": "display_data"
    }
   ],
   "source": [
    "# Fit model for each run (set of samples)\n",
    "# ---------------------------------------\n",
    "coef_est_df = []\n",
    "for run_name in dfit['run'].unique():\n",
    "    data_fit = dfit[ dfit['run'] == run_name ].reset_index(drop=True)\n",
    "    \n",
    "    # At least 3 fitting points are required\n",
    "    if len(data_fit) < 4: continue\n",
    "        \n",
    "    xf = data_fit['tr_size'].values\n",
    "    yf = data_fit['score'].values\n",
    "    w  = data_fit['w'].values\n",
    "    coef_est = fit_model(xf, yf, w)\n",
    "    \n",
    "    coef_est['valid'] = coef_est['p_val'].map(lambda x: True if x <= p_value_min else False)\n",
    "    coef_est['run'] = run_name\n",
    "    \n",
    "    coef_est_df.append(coef_est)\n",
    "    \n",
    "coef_est_df = pd.concat(coef_est_df, axis=0).reset_index(drop=True)\n",
    "print('coef_est_df.shape', coef_est_df.shape)\n",
    "display( coef_est_df[:3] )"
   ]
  },
  {
   "cell_type": "code",
   "execution_count": 14,
   "metadata": {},
   "outputs": [],
   "source": [
    "# Determine runs with good and bad runs fits\n",
    "# ------------------------------------------\n",
    "dfit['fit'] = -100\n",
    "dext['fit'] = -100\n",
    "\n",
    "for run_name in dfit['run'].unique():\n",
    "    # Get the sizes and coefs for a run\n",
    "    coefs = coef_est_df.loc[coef_est_df['run'] == run_name, :].reset_index(drop=True)\n",
    "    \n",
    "    # Skip fits if \"valid\" are NaN\n",
    "    if coefs['valid'].isna().sum() == 3: continue\n",
    "    \n",
    "    # Skip fits with bad estimates\n",
    "    if coefs['valid'].sum() != 3: continue\n",
    "\n",
    "    # Est scores\n",
    "    ids = dfit['run'] == run_name\n",
    "    dfit.loc[ids, 'fit'] = calc_fit(dfit.loc[ids,'tr_size'].values, coefs)\n",
    "\n",
    "    ids = dext['run'] == run_name\n",
    "    dext.loc[ids, 'fit'] = calc_fit(dext.loc[ids,'tr_size'].values, coefs)"
   ]
  },
  {
   "cell_type": "code",
   "execution_count": 15,
   "metadata": {},
   "outputs": [
    {
     "name": "stdout",
     "output_type": "stream",
     "text": [
      "(0, 7)\n",
      "(960, 7)\n"
     ]
    }
   ],
   "source": [
    "# Good and bad runs based for dfit\n",
    "# --------------------------------\n",
    "bad_ids = dfit['fit'] == -100\n",
    "dfit_bad = dfit.loc[bad_ids, :]\n",
    "dfit_good = dfit.loc[~bad_ids, :]\n",
    "bad_runs = dfit_bad['run'].unique()\n",
    "good_runs = dfit_good['run'].unique()\n",
    "\n",
    "print(dfit_bad.shape)\n",
    "print(dfit_good.shape)\n",
    "\n",
    "# Good and bad runs based for dext\n",
    "# --------------------------------\n",
    "# dext_bad <- dext[dext$fit==-100,]\n",
    "# dext_ <- dext[dext$fit>-100,]\n",
    "# good_run_ext <- as.vector(unique(dext_$run))\n",
    "# bad_run_ext <- as.vector(unique(dext_bad$run))"
   ]
  },
  {
   "cell_type": "code",
   "execution_count": 17,
   "metadata": {},
   "outputs": [],
   "source": [
    "plot_args = {'metric_name': met, 'xtick_scale': xtick_scale, 'ytick_scale': ytick_scale, 'alpha': 0.3, 'ls': '', 'marker': '.'}"
   ]
  },
  {
   "cell_type": "code",
   "execution_count": 18,
   "metadata": {},
   "outputs": [
    {
     "data": {
      "image/png": "[encoded data removed]",
      "text/plain": [
       "<Figure size 504x360 with 1 Axes>"
      ]
     },
     "metadata": {
      "needs_background": "light"
     },
     "output_type": "display_data"
    }
   ],
   "source": [
    "ax = None\n",
    "\n",
    "df = data[data['metric']==met].reset_index(drop=True)\n",
    "x = df['tr_size'].values\n",
    "y = df['score'].values\n",
    "ax = lc_plots.plot_lc(x=x, y=y, ax=ax, **plot_args, color='b', label='Raw')\n",
    "\n",
    "x = dfit['tr_size'].values\n",
    "y = dfit['fit'].values\n",
    "ax = lc_plots.plot_lc(x=x, y=y, ax=ax, **plot_args, color='r', label='Fit')\n",
    "\n",
    "x = dext['tr_size'].values\n",
    "y = dext['fit'].values\n",
    "ax = lc_plots.plot_lc(x=x, y=y, ax=ax, **plot_args, color='y', label='Ext')\n",
    "\n",
    "ax.set_title(f'{src} ~ {model}')\n",
    "ax.legend(frameon=True, fontsize=10, loc='best')\n",
    "ax.grid(False)"
   ]
  },
  {
   "cell_type": "code",
   "execution_count": null,
   "metadata": {},
   "outputs": [],
   "source": []
  },
  {
   "cell_type": "markdown",
   "metadata": {},
   "source": [
    "## Calc CI"
   ]
  },
  {
   "cell_type": "code",
   "execution_count": 19,
   "metadata": {},
   "outputs": [],
   "source": [
    "# Find the extreme points per tr_sz (min and max)\n",
    "# -----------------------------------------------\n",
    "\n",
    "# Method 1\n",
    "# --------\n",
    "# dfit_pivot = pd.pivot_table(dfit, values='score', index=['tr_size'], columns='run').reset_index()\n",
    "# dfit_pivot.columns.name = None\n",
    "\n",
    "# df = dfit_pivot.copy()\n",
    "# ci_lwr = pd.DataFrame({'tr_size': df['tr_size'].values, 'y': df.iloc[:,1:].min(axis=1)})\n",
    "# ci_upr = pd.DataFrame({'tr_size': df['tr_size'].values, 'y': df.iloc[:,1:].max(axis=1)})\n",
    "# ci_lwr = add_weight_col(ci_lwr)\n",
    "# ci_upr = add_weight_col(ci_upr)\n",
    "\n",
    "# Method 2\n",
    "# --------\n",
    "ci_lwr = dfit[['tr_size', 'score']]\n",
    "ci_lwr = ci_lwr.groupby('tr_size').agg({'score': 'min'}).reset_index().rename(columns={'score': 'y'})\n",
    "ci_lwr = add_weight_col(ci_lwr)\n",
    "\n",
    "ci_upr = dfit[['tr_size', 'score']]\n",
    "ci_upr = ci_upr.groupby('tr_size').agg({'score': 'max'}).reset_index().rename(columns={'score': 'y'})\n",
    "ci_upr = add_weight_col(ci_upr)"
   ]
  },
  {
   "cell_type": "code",
   "execution_count": null,
   "metadata": {},
   "outputs": [],
   "source": []
  },
  {
   "cell_type": "code",
   "execution_count": 20,
   "metadata": {},
   "outputs": [],
   "source": [
    "# Calc CI (using the extreme points)\n",
    "# ----------------------------------\n",
    "# Use each set of the extreme points to fit a model\n",
    "ci_lwr_coefs = fit_model(ci_lwr['tr_size'], ci_lwr['y'], ci_lwr['w'])\n",
    "ci_upr_coefs = fit_model(ci_upr['tr_size'], ci_upr['y'], ci_upr['w'])\n",
    "ci_lwr['fit'] = calc_fit(ci_lwr['tr_size'], ci_lwr_coefs)\n",
    "ci_upr['fit'] = calc_fit(ci_upr['tr_size'], ci_upr_coefs)\n"
   ]
  },
  {
   "cell_type": "code",
   "execution_count": 22,
   "metadata": {},
   "outputs": [],
   "source": [
    "# Extrapolate CI curves\n",
    "# ---------------------\n",
    "ci_lwr_ext = pd.DataFrame( {'tr_size': dext['tr_size'].unique()} )\n",
    "ci_upr_ext = pd.DataFrame( {'tr_size': dext['tr_size'].unique()} )\n",
    "ci_lwr_ext['fit'] = calc_fit(ci_lwr_ext['tr_size'], ci_lwr_coefs)\n",
    "ci_upr_ext['fit'] = calc_fit(ci_upr_ext['tr_size'], ci_upr_coefs)"
   ]
  },
  {
   "cell_type": "code",
   "execution_count": 23,
   "metadata": {},
   "outputs": [],
   "source": [
    "pnts_args = {'metric_name': met, 'xtick_scale': xtick_scale, 'ytick_scale': ytick_scale, 'alpha': 0.3, 'ls': '', 'marker': '.'}\n",
    "ci_args = {'metric_name': met, 'xtick_scale': xtick_scale, 'ytick_scale': ytick_scale, 'alpha': 0.3, 'ls': '--', 'marker': '.'}"
   ]
  },
  {
   "cell_type": "code",
   "execution_count": 24,
   "metadata": {},
   "outputs": [
    {
     "data": {
      "image/png": "[encoded data removed]",
      "text/plain": [
       "<Figure size 504x360 with 1 Axes>"
      ]
     },
     "metadata": {
      "needs_background": "light"
     },
     "output_type": "display_data"
    }
   ],
   "source": [
    "ax = None\n",
    "\n",
    "df = data[data['metric']==met].reset_index(drop=True)\n",
    "x = df['tr_size'].values\n",
    "y = df['score'].values\n",
    "ax = lc_plots.plot_lc(x=x, y=y, ax=ax, **pnts_args, color='b', label='Raw')\n",
    "\n",
    "x = ci_lwr['tr_size'].values\n",
    "y = ci_lwr['fit'].values\n",
    "ax = lc_plots.plot_lc(x=x, y=y, ax=ax, **ci_args, color='g', label='CI lower')\n",
    "\n",
    "x = ci_upr['tr_size'].values\n",
    "y = ci_upr['fit'].values\n",
    "ax = lc_plots.plot_lc(x=x, y=y, ax=ax, **ci_args, color='g', label='CI upper')\n",
    "\n",
    "x = ci_lwr_ext['tr_size'].values\n",
    "y = ci_lwr_ext['fit'].values\n",
    "ax = lc_plots.plot_lc(x=x, y=y, ax=ax, **ci_args, color='r', label='CI ext lower')\n",
    "\n",
    "x = ci_upr_ext['tr_size'].values\n",
    "y = ci_upr_ext['fit'].values\n",
    "ax = lc_plots.plot_lc(x=x, y=y, ax=ax, **ci_args, color='r', label='CI ext upper')\n",
    "\n",
    "ax.set_title(f'{src} ~ {model}')\n",
    "ax.legend(frameon=True, fontsize=10, loc='best')\n",
    "ax.grid(False)"
   ]
  },
  {
   "cell_type": "code",
   "execution_count": null,
   "metadata": {},
   "outputs": [],
   "source": []
  }
 ],
 "metadata": {
  "kernelspec": {
   "display_name": "Python 3",
   "language": "python",
   "name": "python3"
  },
  "language_info": {
   "codemirror_mode": {
    "name": "ipython",
    "version": 3
   },
   "file_extension": ".py",
   "mimetype": "text/x-python",
   "name": "python",
   "nbconvert_exporter": "python",
   "pygments_lexer": "ipython3",
   "version": "3.6.10"
  }
 },
 "nbformat": 4,
 "nbformat_minor": 4
}
