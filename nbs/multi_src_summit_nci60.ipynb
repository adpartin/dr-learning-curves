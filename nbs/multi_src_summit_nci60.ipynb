{
 "cells": [
  {
   "cell_type": "markdown",
   "metadata": {},
   "source": [
    "### Datasets\n",
    "    - gdsc --> gg\n",
    "    - ctrp --> cc\n",
    "### Models\n",
    "    - lgb\n",
    "    - nn0\n",
    "    - nn1"
   ]
  },
  {
   "cell_type": "code",
   "execution_count": 1,
   "metadata": {},
   "outputs": [
    {
     "name": "stdout",
     "output_type": "stream",
     "text": [
      "Current path: /vol/ml/apartin/projects/dr-learning-curves/nbs\n"
     ]
    }
   ],
   "source": [
    "%load_ext autoreload\n",
    "%autoreload 2\n",
    "%matplotlib inline\n",
    "\n",
    "from load_modules import *\n",
    "%matplotlib inline\n",
    "fpath = Path(os.getcwd())\n",
    "print('Current path:', fpath)\n",
    "\n",
    "outpath = fpath/'summit_fits_nci60'\n",
    "os.makedirs(outpath, exist_ok=True)"
   ]
  },
  {
   "cell_type": "code",
   "execution_count": null,
   "metadata": {},
   "outputs": [],
   "source": []
  },
  {
   "cell_type": "markdown",
   "metadata": {},
   "source": [
    "## Path to data"
   ]
  },
  {
   "cell_type": "code",
   "execution_count": 2,
   "metadata": {},
   "outputs": [],
   "source": [
    "method = 'ls_hpo'\n",
    "# method = 'ps_hpo'"
   ]
  },
  {
   "cell_type": "code",
   "execution_count": 3,
   "metadata": {},
   "outputs": [
    {
     "name": "stdout",
     "output_type": "stream",
     "text": [
      "['../lc.out.agg/lc.nci60.nn_reg0.flatten.ls_hpo', '../lc.out.agg/lc.nci60.nn_reg0.random.ls_hpo', '../lc.out.agg/lc.nci60.nn_reg1.flatten.ls_hpo', '../lc.out.agg/lc.nci60.nn_reg1.random.ls_hpo']\n"
     ]
    }
   ],
   "source": [
    "fname = 'all_scores.csv'\n",
    "# dpath = Path('../lc.out.summit.July2020/exp1_scores')\n",
    "dpath = Path('../lc.out.agg/')\n",
    "\n",
    "# dirs = sorted(dpath.glob('*'))\n",
    "dirs = glob(str(dpath/'*'))\n",
    "print(dirs)"
   ]
  },
  {
   "cell_type": "code",
   "execution_count": 17,
   "metadata": {},
   "outputs": [],
   "source": [
    "src = 'NCI60'\n",
    "nn0_rnd_path = Path(dpath, f'lc.nci60.nn_reg0.random.{method}', fname)\n",
    "nn1_rnd_path = Path(dpath, f'lc.nci60.nn_reg1.random.{method}', fname)\n",
    "nn0_flt_path = Path(dpath, f'lc.nci60.nn_reg0.flatten.{method}', fname)\n",
    "nn1_flt_path = Path(dpath, f'lc.nci60.nn_reg1.flatten.{method}', fname)\n",
    "lgb_path = None"
   ]
  },
  {
   "cell_type": "code",
   "execution_count": null,
   "metadata": {},
   "outputs": [],
   "source": []
  },
  {
   "cell_type": "markdown",
   "metadata": {},
   "source": [
    "## Load data"
   ]
  },
  {
   "cell_type": "code",
   "execution_count": 18,
   "metadata": {},
   "outputs": [],
   "source": [
    "def get_data(path, tr_set='te'):\n",
    "    if path is None:\n",
    "        return None\n",
    "    else:\n",
    "        return load_data(path, tr_set=tr_set);\n",
    "        \n",
    "# nn0 = load_data(nn0_path, tr_set='te');\n",
    "# nn1 = load_data(nn1_path, tr_set='te');\n",
    "# lgb = load_data(lgb_path, tr_set='te');\n",
    "nn0_rnd = get_data(nn0_rnd_path, tr_set='te');\n",
    "nn1_rnd = get_data(nn1_rnd_path, tr_set='te');\n",
    "\n",
    "nn0_flt = get_data(nn0_flt_path, tr_set='te');\n",
    "nn1_flt = get_data(nn1_flt_path, tr_set='te');\n",
    "\n",
    "lgb = get_data(lgb_path, tr_set='te');"
   ]
  },
  {
   "cell_type": "code",
   "execution_count": 19,
   "metadata": {},
   "outputs": [
    {
     "name": "stdout",
     "output_type": "stream",
     "text": [
      "(90, 5)\n",
      "(90, 5)\n",
      "(90, 5)\n",
      "(90, 5)\n"
     ]
    }
   ],
   "source": [
    "print(nn0_rnd.shape)\n",
    "print(nn1_rnd.shape)\n",
    "print(nn0_flt.shape)\n",
    "print(nn1_flt.shape)"
   ]
  },
  {
   "cell_type": "code",
   "execution_count": 30,
   "metadata": {},
   "outputs": [
    {
     "data": {
      "text/html": [
       "<div>\n",
       "<style scoped>\n",
       "    .dataframe tbody tr th:only-of-type {\n",
       "        vertical-align: middle;\n",
       "    }\n",
       "\n",
       "    .dataframe tbody tr th {\n",
       "        vertical-align: top;\n",
       "    }\n",
       "\n",
       "    .dataframe thead th {\n",
       "        text-align: right;\n",
       "    }\n",
       "</style>\n",
       "<table border=\"1\" class=\"dataframe\">\n",
       "  <thead>\n",
       "    <tr style=\"text-align: right;\">\n",
       "      <th></th>\n",
       "      <th>run</th>\n",
       "      <th>tr_size</th>\n",
       "      <th>set</th>\n",
       "      <th>metric</th>\n",
       "      <th>score</th>\n",
       "    </tr>\n",
       "  </thead>\n",
       "  <tbody>\n",
       "    <tr>\n",
       "      <th>10</th>\n",
       "      <td>run7</td>\n",
       "      <td>20000</td>\n",
       "      <td>te</td>\n",
       "      <td>mean_absolute_error</td>\n",
       "      <td>0.056305</td>\n",
       "    </tr>\n",
       "    <tr>\n",
       "      <th>28</th>\n",
       "      <td>run7</td>\n",
       "      <td>35953</td>\n",
       "      <td>te</td>\n",
       "      <td>mean_absolute_error</td>\n",
       "      <td>0.053278</td>\n",
       "    </tr>\n",
       "    <tr>\n",
       "      <th>73</th>\n",
       "      <td>run7</td>\n",
       "      <td>64633</td>\n",
       "      <td>te</td>\n",
       "      <td>mean_absolute_error</td>\n",
       "      <td>0.046215</td>\n",
       "    </tr>\n",
       "    <tr>\n",
       "      <th>1</th>\n",
       "      <td>run7</td>\n",
       "      <td>116189</td>\n",
       "      <td>te</td>\n",
       "      <td>mean_absolute_error</td>\n",
       "      <td>0.043396</td>\n",
       "    </tr>\n",
       "    <tr>\n",
       "      <th>19</th>\n",
       "      <td>run7</td>\n",
       "      <td>208871</td>\n",
       "      <td>te</td>\n",
       "      <td>mean_absolute_error</td>\n",
       "      <td>0.038677</td>\n",
       "    </tr>\n",
       "    <tr>\n",
       "      <th>37</th>\n",
       "      <td>run7</td>\n",
       "      <td>375483</td>\n",
       "      <td>te</td>\n",
       "      <td>mean_absolute_error</td>\n",
       "      <td>0.035257</td>\n",
       "    </tr>\n",
       "    <tr>\n",
       "      <th>46</th>\n",
       "      <td>run7</td>\n",
       "      <td>500000</td>\n",
       "      <td>te</td>\n",
       "      <td>mean_absolute_error</td>\n",
       "      <td>0.034784</td>\n",
       "    </tr>\n",
       "    <tr>\n",
       "      <th>55</th>\n",
       "      <td>run7</td>\n",
       "      <td>570000</td>\n",
       "      <td>te</td>\n",
       "      <td>mean_absolute_error</td>\n",
       "      <td>0.033860</td>\n",
       "    </tr>\n",
       "    <tr>\n",
       "      <th>64</th>\n",
       "      <td>run7</td>\n",
       "      <td>640000</td>\n",
       "      <td>te</td>\n",
       "      <td>mean_absolute_error</td>\n",
       "      <td>0.034236</td>\n",
       "    </tr>\n",
       "    <tr>\n",
       "      <th>82</th>\n",
       "      <td>run7</td>\n",
       "      <td>674999</td>\n",
       "      <td>te</td>\n",
       "      <td>mean_absolute_error</td>\n",
       "      <td>0.033127</td>\n",
       "    </tr>\n",
       "  </tbody>\n",
       "</table>\n",
       "</div>"
      ],
      "text/plain": [
       "     run  tr_size set               metric     score\n",
       "10  run7    20000  te  mean_absolute_error  0.056305\n",
       "28  run7    35953  te  mean_absolute_error  0.053278\n",
       "73  run7    64633  te  mean_absolute_error  0.046215\n",
       "1   run7   116189  te  mean_absolute_error  0.043396\n",
       "19  run7   208871  te  mean_absolute_error  0.038677\n",
       "37  run7   375483  te  mean_absolute_error  0.035257\n",
       "46  run7   500000  te  mean_absolute_error  0.034784\n",
       "55  run7   570000  te  mean_absolute_error  0.033860\n",
       "64  run7   640000  te  mean_absolute_error  0.034236\n",
       "82  run7   674999  te  mean_absolute_error  0.033127"
      ]
     },
     "execution_count": 30,
     "metadata": {},
     "output_type": "execute_result"
    }
   ],
   "source": [
    "nn0_rnd[nn0_rnd.metric=='mean_absolute_error'].sort_values('tr_size')"
   ]
  },
  {
   "cell_type": "code",
   "execution_count": null,
   "metadata": {},
   "outputs": [],
   "source": []
  },
  {
   "cell_type": "markdown",
   "metadata": {},
   "source": [
    "## Raw plots"
   ]
  },
  {
   "cell_type": "code",
   "execution_count": 36,
   "metadata": {},
   "outputs": [],
   "source": [
    "# Global plotting params\n",
    "# -------------------------------\n",
    "# met = 'mean_absolute_error'\n",
    "met = 'mean_absolute_error'\n",
    "t_set = 'te'\n",
    "xtick_scale = 'log2'\n",
    "ytick_scale = 'log2'\n",
    "# xtick_scale = 'log10'\n",
    "# ytick_scale = 'log10'\n",
    "# xtick_scale = 'linear'\n",
    "# ytick_scale = 'linear'\n",
    "\n",
    "kwargs = {'metric_name': met,\n",
    "          'tr_set': t_set,\n",
    "          'xtick_scale': xtick_scale,\n",
    "          'ytick_scale': ytick_scale,\n",
    "          'plot_median': True}"
   ]
  },
  {
   "cell_type": "code",
   "execution_count": 37,
   "metadata": {},
   "outputs": [
    {
     "data": {
      "image/png": "[encoded data removed]",
      "text/plain": [
       "<Figure size 504x360 with 1 Axes>"
      ]
     },
     "metadata": {
      "needs_background": "light"
     },
     "output_type": "display_data"
    }
   ],
   "source": [
    "# Plot\n",
    "# -------------------------------\n",
    "if nn0_rnd is not None:\n",
    "    kwargs.update({'title': f'{src} ~ nn0'})\n",
    "    ax = lc_plots.plot_lc_single_metric(nn0_rnd, **kwargs);"
   ]
  },
  {
   "cell_type": "code",
   "execution_count": 38,
   "metadata": {},
   "outputs": [
    {
     "data": {
      "image/png": "[encoded data removed]",
      "text/plain": [
       "<Figure size 504x360 with 1 Axes>"
      ]
     },
     "metadata": {
      "needs_background": "light"
     },
     "output_type": "display_data"
    }
   ],
   "source": [
    "# Plot\n",
    "# -------------------------------\n",
    "if nn1_rnd is not None:\n",
    "    kwargs.update({'title': f'{src} ~ nn1'})\n",
    "    ax = lc_plots.plot_lc_single_metric(nn1_rnd, **kwargs);"
   ]
  },
  {
   "cell_type": "code",
   "execution_count": 39,
   "metadata": {},
   "outputs": [
    {
     "data": {
      "image/png": "[encoded data removed]",
      "text/plain": [
       "<Figure size 504x360 with 1 Axes>"
      ]
     },
     "metadata": {
      "needs_background": "light"
     },
     "output_type": "display_data"
    }
   ],
   "source": [
    "# Plot\n",
    "# -------------------------------\n",
    "if nn0_flt is not None:\n",
    "    kwargs.update({'title': f'{src} ~ nn1'})\n",
    "    ax = lc_plots.plot_lc_single_metric(nn0_flt, **kwargs);"
   ]
  },
  {
   "cell_type": "code",
   "execution_count": 40,
   "metadata": {},
   "outputs": [
    {
     "data": {
      "image/png": "[encoded data removed]",
      "text/plain": [
       "<Figure size 504x360 with 1 Axes>"
      ]
     },
     "metadata": {
      "needs_background": "light"
     },
     "output_type": "display_data"
    }
   ],
   "source": [
    "# Plot\n",
    "# -------------------------------\n",
    "if nn1_flt is not None:\n",
    "    kwargs.update({'title': f'{src} ~ nn1'})\n",
    "    ax = lc_plots.plot_lc_single_metric(nn1_flt, **kwargs);"
   ]
  },
  {
   "cell_type": "code",
   "execution_count": 41,
   "metadata": {},
   "outputs": [],
   "source": [
    "# Plot\n",
    "# -------------------------------\n",
    "if lgb is not None:\n",
    "    kwargs.update({'title': f'{src} ~ lgb'})\n",
    "    ax = lc_plots.plot_lc_single_metric(lgb, **kwargs);"
   ]
  },
  {
   "cell_type": "code",
   "execution_count": 42,
   "metadata": {},
   "outputs": [
    {
     "data": {
      "image/png": "[encoded data removed]",
      "text/plain": [
       "<Figure size 504x360 with 1 Axes>"
      ]
     },
     "metadata": {
      "needs_background": "light"
     },
     "output_type": "display_data"
    }
   ],
   "source": [
    "# Plot\n",
    "# -------------------------------\n",
    "ax = None\n",
    "kwargs = {'metric_name': met, 'xtick_scale': xtick_scale, 'ytick_scale': ytick_scale}\n",
    "\n",
    "if nn0_rnd is not None:\n",
    "    nn0 = nn0_rnd.copy()\n",
    "    nn0 = nn0[nn0.metric==met].reset_index(drop=True)\n",
    "    ax = lc_plots.plot_lc(x=nn0['tr_size'].values, y=nn0['score'].values, color='b', label='nn0_rnd', **kwargs, ax=ax);\n",
    "    del nn0\n",
    "\n",
    "if nn1_rnd is not None:\n",
    "    nn1 = nn1_rnd.copy()\n",
    "    nn1 = nn1[nn1.metric==met].reset_index(drop=True)\n",
    "    ax = lc_plots.plot_lc(x=nn1['tr_size'].values, y=nn1['score'].values, color='r', label='nn1_rnd', **kwargs, ax=ax);\n",
    "    del nn1\n",
    "\n",
    "if nn0_flt is not None:\n",
    "    nn0 = nn0_flt.copy()\n",
    "    nn0 = nn0[nn0.metric==met].reset_index(drop=True)\n",
    "    ax = lc_plots.plot_lc(x=nn0['tr_size'].values, y=nn0['score'].values, color='g', label='nn0_flt', **kwargs, ax=ax);\n",
    "    del nn0\n",
    "\n",
    "if nn1_flt is not None:\n",
    "    nn1 = nn1_flt.copy()\n",
    "    nn1 = nn1[nn1.metric==met].reset_index(drop=True)\n",
    "    ax = lc_plots.plot_lc(x=nn1['tr_size'].values, y=nn1['score'].values, color='y', label='nn1_flt', **kwargs, ax=ax);\n",
    "    del nn1\n",
    "    \n",
    "if lgb is not None:\n",
    "    lgb = lgb[lgb.metric==met].reset_index(drop=True)\n",
    "    ax = lc_plots.plot_lc(x=lgb['tr_size'].values, y=lgb['score'].values, color='m', label='lgb', **kwargs, ax=ax);"
   ]
  },
  {
   "cell_type": "code",
   "execution_count": null,
   "metadata": {},
   "outputs": [],
   "source": []
  },
  {
   "cell_type": "markdown",
   "metadata": {},
   "source": [
    "## Fitting"
   ]
  },
  {
   "cell_type": "code",
   "execution_count": 12,
   "metadata": {},
   "outputs": [],
   "source": [
    "# # Choose the dataset\n",
    "# df = nn0.copy(); model = 'nn0'\n",
    "# # df = nn1.copy(); model = 'nn1'\n",
    "# # df = lgb.copy(); model = 'LGBM'\n",
    "\n",
    "# # ----------------\n",
    "# # Prepare the data\n",
    "# # ----------------\n",
    "# df = df[ df['metric']==met ].reset_index(drop=True)\n",
    "# print('Raw dataset of scores', df.shape)\n",
    "\n",
    "# # Agg scores\n",
    "# df['y'] = df['score']\n",
    "# df = df[df['metric']==met].groupby('tr_size').agg({'y': 'median'}).reset_index()\n",
    "# print('Agg with median', df.shape)\n",
    "\n",
    "# # Split dfit and dext\n",
    "# x_fit_mn = 1000\n",
    "# x_fit_mx = None\n",
    "\n",
    "# dfit = subset_data(df, col='tr_size', x_mn=x_fit_mn, x_mx=x_fit_mx)\n",
    "# dfit = add_weight_col(dfit)\n",
    "\n",
    "# print('dfit.shape:', dfit.shape)\n",
    "# print('Train size (dfit):', dfit['tr_size'].unique())"
   ]
  },
  {
   "cell_type": "code",
   "execution_count": 13,
   "metadata": {},
   "outputs": [],
   "source": [
    "def fit_data(df, x_fit_mn=0, x_fit_mx=None):\n",
    "    if df is None:\n",
    "        return None\n",
    "    \n",
    "    df = df[ df['metric']==met ].reset_index(drop=True)\n",
    "    df['y'] = df['score']\n",
    "    df = df[df['metric']==met].groupby('tr_size').agg({'y': 'median'}).reset_index()\n",
    "    \n",
    "    dfit = subset_data(df, col='tr_size', x_mn=x_fit_mn, x_mx=x_fit_mx)\n",
    "    dfit = add_weight_col(dfit)\n",
    "    return dfit"
   ]
  },
  {
   "cell_type": "code",
   "execution_count": 25,
   "metadata": {},
   "outputs": [],
   "source": [
    "# Split dfit and dext\n",
    "x_fit_mn = 1000\n",
    "x_fit_mx = None\n",
    "\n",
    "dfit_nn0 = fit_data(nn0, x_fit_mn=x_fit_mn, x_fit_mx=x_fit_mx)\n",
    "dfit_nn1 = fit_data(nn1, x_fit_mn=x_fit_mn, x_fit_mx=x_fit_mx)\n",
    "dfit_lgb = fit_data(lgb, x_fit_mn=x_fit_mn, x_fit_mx=x_fit_mx)"
   ]
  },
  {
   "cell_type": "code",
   "execution_count": 26,
   "metadata": {},
   "outputs": [
    {
     "name": "stdout",
     "output_type": "stream",
     "text": [
      "[  2024   4455   9809  21596  47545 104673 230442]\n"
     ]
    },
    {
     "data": {
      "text/html": [
       "<div>\n",
       "<style scoped>\n",
       "    .dataframe tbody tr th:only-of-type {\n",
       "        vertical-align: middle;\n",
       "    }\n",
       "\n",
       "    .dataframe tbody tr th {\n",
       "        vertical-align: top;\n",
       "    }\n",
       "\n",
       "    .dataframe thead th {\n",
       "        text-align: right;\n",
       "    }\n",
       "</style>\n",
       "<table border=\"1\" class=\"dataframe\">\n",
       "  <thead>\n",
       "    <tr style=\"text-align: right;\">\n",
       "      <th></th>\n",
       "      <th>tr_size</th>\n",
       "      <th>y</th>\n",
       "      <th>w</th>\n",
       "    </tr>\n",
       "  </thead>\n",
       "  <tbody>\n",
       "    <tr>\n",
       "      <th>0</th>\n",
       "      <td>2024</td>\n",
       "      <td>0.070391</td>\n",
       "      <td>0.008783</td>\n",
       "    </tr>\n",
       "    <tr>\n",
       "      <th>1</th>\n",
       "      <td>4455</td>\n",
       "      <td>0.062258</td>\n",
       "      <td>0.019332</td>\n",
       "    </tr>\n",
       "    <tr>\n",
       "      <th>2</th>\n",
       "      <td>9809</td>\n",
       "      <td>0.054911</td>\n",
       "      <td>0.042566</td>\n",
       "    </tr>\n",
       "    <tr>\n",
       "      <th>3</th>\n",
       "      <td>21596</td>\n",
       "      <td>0.050700</td>\n",
       "      <td>0.093716</td>\n",
       "    </tr>\n",
       "    <tr>\n",
       "      <th>4</th>\n",
       "      <td>47545</td>\n",
       "      <td>0.047139</td>\n",
       "      <td>0.206321</td>\n",
       "    </tr>\n",
       "    <tr>\n",
       "      <th>5</th>\n",
       "      <td>104673</td>\n",
       "      <td>0.043125</td>\n",
       "      <td>0.454227</td>\n",
       "    </tr>\n",
       "    <tr>\n",
       "      <th>6</th>\n",
       "      <td>230442</td>\n",
       "      <td>0.037230</td>\n",
       "      <td>1.000000</td>\n",
       "    </tr>\n",
       "  </tbody>\n",
       "</table>\n",
       "</div>"
      ],
      "text/plain": [
       "   tr_size         y         w\n",
       "0     2024  0.070391  0.008783\n",
       "1     4455  0.062258  0.019332\n",
       "2     9809  0.054911  0.042566\n",
       "3    21596  0.050700  0.093716\n",
       "4    47545  0.047139  0.206321\n",
       "5   104673  0.043125  0.454227\n",
       "6   230442  0.037230  1.000000"
      ]
     },
     "metadata": {},
     "output_type": "display_data"
    }
   ],
   "source": [
    "print(dfit_nn0.tr_size.values)\n",
    "display(dfit_nn0)"
   ]
  },
  {
   "cell_type": "code",
   "execution_count": 27,
   "metadata": {},
   "outputs": [
    {
     "data": {
      "text/html": [
       "<div>\n",
       "<style scoped>\n",
       "    .dataframe tbody tr th:only-of-type {\n",
       "        vertical-align: middle;\n",
       "    }\n",
       "\n",
       "    .dataframe tbody tr th {\n",
       "        vertical-align: top;\n",
       "    }\n",
       "\n",
       "    .dataframe thead th {\n",
       "        text-align: right;\n",
       "    }\n",
       "</style>\n",
       "<table border=\"1\" class=\"dataframe\">\n",
       "  <thead>\n",
       "    <tr style=\"text-align: right;\">\n",
       "      <th></th>\n",
       "      <th>tr_size</th>\n",
       "      <th>y</th>\n",
       "      <th>w</th>\n",
       "    </tr>\n",
       "  </thead>\n",
       "  <tbody>\n",
       "    <tr>\n",
       "      <th>0</th>\n",
       "      <td>1954</td>\n",
       "      <td>0.070310</td>\n",
       "      <td>0.008479</td>\n",
       "    </tr>\n",
       "    <tr>\n",
       "      <th>1</th>\n",
       "      <td>3862</td>\n",
       "      <td>0.062341</td>\n",
       "      <td>0.016759</td>\n",
       "    </tr>\n",
       "    <tr>\n",
       "      <th>2</th>\n",
       "      <td>7635</td>\n",
       "      <td>0.057225</td>\n",
       "      <td>0.033132</td>\n",
       "    </tr>\n",
       "    <tr>\n",
       "      <th>3</th>\n",
       "      <td>15093</td>\n",
       "      <td>0.054146</td>\n",
       "      <td>0.065496</td>\n",
       "    </tr>\n",
       "    <tr>\n",
       "      <th>4</th>\n",
       "      <td>29835</td>\n",
       "      <td>0.052078</td>\n",
       "      <td>0.129469</td>\n",
       "    </tr>\n",
       "    <tr>\n",
       "      <th>5</th>\n",
       "      <td>58976</td>\n",
       "      <td>0.050933</td>\n",
       "      <td>0.255927</td>\n",
       "    </tr>\n",
       "    <tr>\n",
       "      <th>6</th>\n",
       "      <td>116578</td>\n",
       "      <td>0.050233</td>\n",
       "      <td>0.505891</td>\n",
       "    </tr>\n",
       "    <tr>\n",
       "      <th>7</th>\n",
       "      <td>230441</td>\n",
       "      <td>0.049848</td>\n",
       "      <td>1.000000</td>\n",
       "    </tr>\n",
       "  </tbody>\n",
       "</table>\n",
       "</div>"
      ],
      "text/plain": [
       "   tr_size         y         w\n",
       "0     1954  0.070310  0.008479\n",
       "1     3862  0.062341  0.016759\n",
       "2     7635  0.057225  0.033132\n",
       "3    15093  0.054146  0.065496\n",
       "4    29835  0.052078  0.129469\n",
       "5    58976  0.050933  0.255927\n",
       "6   116578  0.050233  0.505891\n",
       "7   230441  0.049848  1.000000"
      ]
     },
     "metadata": {},
     "output_type": "display_data"
    }
   ],
   "source": [
    "display(dfit_lgb)"
   ]
  },
  {
   "cell_type": "code",
   "execution_count": 16,
   "metadata": {},
   "outputs": [],
   "source": [
    "# # dfit_nn0\n",
    "# # aa = pd.DataFrame({'tr_size': [500000, 600000], 'y': [0.03209393381347737, 0.031212652546018717], 'w': [None, None]})\n",
    "# aa = pd.DataFrame({'tr_size': [500000, 600000, 700000], 'y': [0.03209393381347737, 0.031212652546018717, 0.031], 'w': [None, None, None]})\n",
    "# aa = pd.concat([dfit_nn0, aa], axis=0).reset_index(drop=True)\n",
    "# aa = aa.drop(columns='w')\n",
    "# dfit_nn0 = add_weight_col(aa)\n",
    "# # dfit_nn0\n",
    "\n",
    "# aa = pd.DataFrame({'tr_size': [500000, 600000, 700000], 'y': [0.031454373618454386, 0.03068806403157959, 0.03], 'w': [None, None, None]})\n",
    "# aa = pd.concat([dfit_nn1, aa], axis=0).reset_index(drop=True)\n",
    "# aa = aa.drop(columns='w')\n",
    "# dfit_nn1 = add_weight_col(aa)\n",
    "# # dfit_nn0"
   ]
  },
  {
   "cell_type": "code",
   "execution_count": 17,
   "metadata": {},
   "outputs": [],
   "source": [
    "# aa = pd.DataFrame({'tr_size': [50000, 100000, 200000, 300000, 400000, 500000, 600000, 700000],\n",
    "#                    'y': np.ones((8,))})\n",
    "# aa = add_weight_col(aa)\n",
    "# dfit_nn0 = aa"
   ]
  },
  {
   "cell_type": "code",
   "execution_count": 18,
   "metadata": {},
   "outputs": [],
   "source": [
    "pnts_args = {'metric_name': met, 'xtick_scale': xtick_scale, 'ytick_scale': ytick_scale, 'alpha': 0.5, 'ls': '', 'marker': '.'}\n",
    "fit_args = {'metric_name': met, 'xtick_scale': xtick_scale, 'ytick_scale': ytick_scale, 'alpha': 0.5, 'ls': '--', 'marker': ''}"
   ]
  },
  {
   "cell_type": "code",
   "execution_count": 20,
   "metadata": {},
   "outputs": [
    {
     "data": {
      "image/png": "[encoded data removed]",
      "text/plain": [
       "<Figure size 504x360 with 1 Axes>"
      ]
     },
     "metadata": {
      "needs_background": "light"
     },
     "output_type": "display_data"
    }
   ],
   "source": [
    "# Reset axes\n",
    "ax = None\n",
    "\n",
    "# NN0\n",
    "if nn0 is not None:\n",
    "    name = 'nn0'\n",
    "    color = 'b'\n",
    "    aa = dfit_nn0\n",
    "    \n",
    "    xf = aa['tr_size'].values\n",
    "    yf = aa['y'].values\n",
    "    cc_nn0 = FitPwrLaw(xf=xf, yf=yf, w=aa['w'].values)\n",
    "    xf_plot_nn0, yf_plot_nn0 = cc_nn0.calc_fit( x1=xf[0], x2=xf[-1] )\n",
    "    \n",
    "    ax = lc_plots.plot_lc(x=xf, y=yf, ax=ax, **pnts_args, color=color, label=f'{name} data')\n",
    "    ax = lc_plots.plot_lc(x=xf_plot_nn0, y=yf_plot_nn0, ax=ax, **fit_args, color=color, label=f'{name} fit')\n",
    "\n",
    "# NN1\n",
    "if nn1 is not None:\n",
    "    name = 'nn1'\n",
    "    color = 'r'\n",
    "    aa = dfit_nn1\n",
    "    \n",
    "    xf = aa['tr_size'].values\n",
    "    yf = aa['y'].values\n",
    "    cc_nn1 = FitPwrLaw(xf=xf, yf=yf, w=aa['w'].values)\n",
    "    xf_plot, yf_plot = cc_nn1.calc_fit( x1=xf[0], x2=xf[-1] )\n",
    "    \n",
    "    ax = lc_plots.plot_lc(x=xf, y=yf, ax=ax, **pnts_args, color=color, label=f'{name} data')\n",
    "    ax = lc_plots.plot_lc(x=xf_plot, y=yf_plot, ax=ax, **fit_args, color=color, label=f'{name} fit')\n",
    "\n",
    "# LGB\n",
    "if lgb is not None:\n",
    "    name = 'lgb'\n",
    "    color = 'g'\n",
    "    aa = dfit_lgb\n",
    "    \n",
    "    xf = aa['tr_size'].values\n",
    "    yf = aa['y'].values\n",
    "    cc_lgb = FitPwrLaw(xf=xf, yf=yf, w=aa['w'].values)\n",
    "    xf_plot, yf_plot = cc_lgb.calc_fit( x1=xf[0], x2=xf[-1] )\n",
    "    \n",
    "    ax = lc_plots.plot_lc(x=xf, y=yf, ax=ax, **pnts_args, color=color, label=f'{name} data')\n",
    "    ax = lc_plots.plot_lc(x=xf_plot, y=yf_plot, ax=ax, **fit_args, color=color, label=f'{name} fit')\n",
    "\n",
    "ax.set_title(f'{src}')\n",
    "ax.legend(frameon=True, fontsize=10, loc='best')\n",
    "ax.grid(False)"
   ]
  },
  {
   "cell_type": "code",
   "execution_count": 21,
   "metadata": {},
   "outputs": [
    {
     "data": {
      "text/html": [
       "<div>\n",
       "<style scoped>\n",
       "    .dataframe tbody tr th:only-of-type {\n",
       "        vertical-align: middle;\n",
       "    }\n",
       "\n",
       "    .dataframe tbody tr th {\n",
       "        vertical-align: top;\n",
       "    }\n",
       "\n",
       "    .dataframe thead th {\n",
       "        text-align: right;\n",
       "    }\n",
       "</style>\n",
       "<table border=\"1\" class=\"dataframe\">\n",
       "  <thead>\n",
       "    <tr style=\"text-align: right;\">\n",
       "      <th></th>\n",
       "      <th>coef</th>\n",
       "      <th>est</th>\n",
       "      <th>se</th>\n",
       "      <th>t_val</th>\n",
       "      <th>p_val</th>\n",
       "    </tr>\n",
       "  </thead>\n",
       "  <tbody>\n",
       "    <tr>\n",
       "      <th>0</th>\n",
       "      <td>a</td>\n",
       "      <td>0.441177</td>\n",
       "      <td>1.979428</td>\n",
       "      <td>0.222881</td>\n",
       "      <td>0.834547</td>\n",
       "    </tr>\n",
       "    <tr>\n",
       "      <th>1</th>\n",
       "      <td>b</td>\n",
       "      <td>-0.016593</td>\n",
       "      <td>0.090867</td>\n",
       "      <td>-0.182610</td>\n",
       "      <td>0.863986</td>\n",
       "    </tr>\n",
       "    <tr>\n",
       "      <th>2</th>\n",
       "      <td>c</td>\n",
       "      <td>-0.321936</td>\n",
       "      <td>2.016150</td>\n",
       "      <td>-0.159679</td>\n",
       "      <td>0.880873</td>\n",
       "    </tr>\n",
       "  </tbody>\n",
       "</table>\n",
       "</div>"
      ],
      "text/plain": [
       "  coef       est        se     t_val     p_val\n",
       "0    a  0.441177  1.979428  0.222881  0.834547\n",
       "1    b -0.016593  0.090867 -0.182610  0.863986\n",
       "2    c -0.321936  2.016150 -0.159679  0.880873"
      ]
     },
     "metadata": {},
     "output_type": "display_data"
    }
   ],
   "source": [
    "display(cc_nn0.coefs)"
   ]
  },
  {
   "cell_type": "code",
   "execution_count": 22,
   "metadata": {},
   "outputs": [
    {
     "data": {
      "text/html": [
       "<div>\n",
       "<style scoped>\n",
       "    .dataframe tbody tr th:only-of-type {\n",
       "        vertical-align: middle;\n",
       "    }\n",
       "\n",
       "    .dataframe tbody tr th {\n",
       "        vertical-align: top;\n",
       "    }\n",
       "\n",
       "    .dataframe thead th {\n",
       "        text-align: right;\n",
       "    }\n",
       "</style>\n",
       "<table border=\"1\" class=\"dataframe\">\n",
       "  <thead>\n",
       "    <tr style=\"text-align: right;\">\n",
       "      <th></th>\n",
       "      <th>coef</th>\n",
       "      <th>est</th>\n",
       "      <th>se</th>\n",
       "      <th>t_val</th>\n",
       "      <th>p_val</th>\n",
       "    </tr>\n",
       "  </thead>\n",
       "  <tbody>\n",
       "    <tr>\n",
       "      <th>0</th>\n",
       "      <td>a</td>\n",
       "      <td>0.217600</td>\n",
       "      <td>0.012133</td>\n",
       "      <td>17.935203</td>\n",
       "      <td>0.000057</td>\n",
       "    </tr>\n",
       "    <tr>\n",
       "      <th>1</th>\n",
       "      <td>b</td>\n",
       "      <td>-0.096205</td>\n",
       "      <td>0.069453</td>\n",
       "      <td>-1.385179</td>\n",
       "      <td>0.238238</td>\n",
       "    </tr>\n",
       "    <tr>\n",
       "      <th>2</th>\n",
       "      <td>c</td>\n",
       "      <td>-0.030554</td>\n",
       "      <td>0.055463</td>\n",
       "      <td>-0.550886</td>\n",
       "      <td>0.611033</td>\n",
       "    </tr>\n",
       "  </tbody>\n",
       "</table>\n",
       "</div>"
      ],
      "text/plain": [
       "  coef       est        se      t_val     p_val\n",
       "0    a  0.217600  0.012133  17.935203  0.000057\n",
       "1    b -0.096205  0.069453  -1.385179  0.238238\n",
       "2    c -0.030554  0.055463  -0.550886  0.611033"
      ]
     },
     "metadata": {},
     "output_type": "display_data"
    }
   ],
   "source": [
    "display(cc_nn1.coefs)"
   ]
  },
  {
   "cell_type": "code",
   "execution_count": 23,
   "metadata": {},
   "outputs": [
    {
     "data": {
      "text/html": [
       "<div>\n",
       "<style scoped>\n",
       "    .dataframe tbody tr th:only-of-type {\n",
       "        vertical-align: middle;\n",
       "    }\n",
       "\n",
       "    .dataframe tbody tr th {\n",
       "        vertical-align: top;\n",
       "    }\n",
       "\n",
       "    .dataframe thead th {\n",
       "        text-align: right;\n",
       "    }\n",
       "</style>\n",
       "<table border=\"1\" class=\"dataframe\">\n",
       "  <thead>\n",
       "    <tr style=\"text-align: right;\">\n",
       "      <th></th>\n",
       "      <th>coef</th>\n",
       "      <th>est</th>\n",
       "      <th>se</th>\n",
       "      <th>t_val</th>\n",
       "      <th>p_val</th>\n",
       "    </tr>\n",
       "  </thead>\n",
       "  <tbody>\n",
       "    <tr>\n",
       "      <th>0</th>\n",
       "      <td>a</td>\n",
       "      <td>5.934216</td>\n",
       "      <td>0.710495</td>\n",
       "      <td>8.352232</td>\n",
       "      <td>1.123406e-03</td>\n",
       "    </tr>\n",
       "    <tr>\n",
       "      <th>1</th>\n",
       "      <td>b</td>\n",
       "      <td>-0.739173</td>\n",
       "      <td>0.013944</td>\n",
       "      <td>-53.009841</td>\n",
       "      <td>7.580461e-07</td>\n",
       "    </tr>\n",
       "    <tr>\n",
       "      <th>2</th>\n",
       "      <td>c</td>\n",
       "      <td>0.049189</td>\n",
       "      <td>0.000048</td>\n",
       "      <td>1028.148959</td>\n",
       "      <td>5.369383e-12</td>\n",
       "    </tr>\n",
       "  </tbody>\n",
       "</table>\n",
       "</div>"
      ],
      "text/plain": [
       "  coef       est        se        t_val         p_val\n",
       "0    a  5.934216  0.710495     8.352232  1.123406e-03\n",
       "1    b -0.739173  0.013944   -53.009841  7.580461e-07\n",
       "2    c  0.049189  0.000048  1028.148959  5.369383e-12"
      ]
     },
     "metadata": {},
     "output_type": "display_data"
    }
   ],
   "source": [
    "display(cc_lgb.coefs)"
   ]
  },
  {
   "cell_type": "code",
   "execution_count": null,
   "metadata": {},
   "outputs": [],
   "source": []
  },
  {
   "cell_type": "code",
   "execution_count": 29,
   "metadata": {},
   "outputs": [
    {
     "data": {
      "text/html": [
       "<div>\n",
       "<style scoped>\n",
       "    .dataframe tbody tr th:only-of-type {\n",
       "        vertical-align: middle;\n",
       "    }\n",
       "\n",
       "    .dataframe tbody tr th {\n",
       "        vertical-align: top;\n",
       "    }\n",
       "\n",
       "    .dataframe thead th {\n",
       "        text-align: right;\n",
       "    }\n",
       "</style>\n",
       "<table border=\"1\" class=\"dataframe\">\n",
       "  <thead>\n",
       "    <tr style=\"text-align: right;\">\n",
       "      <th></th>\n",
       "      <th>tr_size</th>\n",
       "      <th>MAE_median</th>\n",
       "      <th>std</th>\n",
       "      <th>min</th>\n",
       "      <th>max</th>\n",
       "      <th>%</th>\n",
       "    </tr>\n",
       "  </thead>\n",
       "  <tbody>\n",
       "    <tr>\n",
       "      <th>0</th>\n",
       "      <td>2024</td>\n",
       "      <td>0.069722</td>\n",
       "      <td>0.002723</td>\n",
       "      <td>0.065396</td>\n",
       "      <td>0.081206</td>\n",
       "      <td>0.039062</td>\n",
       "    </tr>\n",
       "    <tr>\n",
       "      <th>1</th>\n",
       "      <td>3272</td>\n",
       "      <td>0.065355</td>\n",
       "      <td>0.001848</td>\n",
       "      <td>0.062163</td>\n",
       "      <td>0.070789</td>\n",
       "      <td>0.028271</td>\n",
       "    </tr>\n",
       "    <tr>\n",
       "      <th>2</th>\n",
       "      <td>5292</td>\n",
       "      <td>0.061462</td>\n",
       "      <td>0.001791</td>\n",
       "      <td>0.058772</td>\n",
       "      <td>0.067611</td>\n",
       "      <td>0.029143</td>\n",
       "    </tr>\n",
       "    <tr>\n",
       "      <th>3</th>\n",
       "      <td>8557</td>\n",
       "      <td>0.057698</td>\n",
       "      <td>0.001153</td>\n",
       "      <td>0.055799</td>\n",
       "      <td>0.060618</td>\n",
       "      <td>0.019977</td>\n",
       "    </tr>\n",
       "    <tr>\n",
       "      <th>4</th>\n",
       "      <td>13837</td>\n",
       "      <td>0.053507</td>\n",
       "      <td>0.001229</td>\n",
       "      <td>0.051794</td>\n",
       "      <td>0.056341</td>\n",
       "      <td>0.022969</td>\n",
       "    </tr>\n",
       "    <tr>\n",
       "      <th>5</th>\n",
       "      <td>22375</td>\n",
       "      <td>0.049501</td>\n",
       "      <td>0.000920</td>\n",
       "      <td>0.048131</td>\n",
       "      <td>0.052482</td>\n",
       "      <td>0.018595</td>\n",
       "    </tr>\n",
       "    <tr>\n",
       "      <th>6</th>\n",
       "      <td>36181</td>\n",
       "      <td>0.045684</td>\n",
       "      <td>0.000824</td>\n",
       "      <td>0.044645</td>\n",
       "      <td>0.047753</td>\n",
       "      <td>0.018035</td>\n",
       "    </tr>\n",
       "    <tr>\n",
       "      <th>7</th>\n",
       "      <td>58506</td>\n",
       "      <td>0.042179</td>\n",
       "      <td>0.000680</td>\n",
       "      <td>0.041254</td>\n",
       "      <td>0.044441</td>\n",
       "      <td>0.016125</td>\n",
       "    </tr>\n",
       "    <tr>\n",
       "      <th>8</th>\n",
       "      <td>94606</td>\n",
       "      <td>0.039301</td>\n",
       "      <td>0.000514</td>\n",
       "      <td>0.038421</td>\n",
       "      <td>0.040799</td>\n",
       "      <td>0.013067</td>\n",
       "    </tr>\n",
       "    <tr>\n",
       "      <th>9</th>\n",
       "      <td>152979</td>\n",
       "      <td>0.036845</td>\n",
       "      <td>0.000480</td>\n",
       "      <td>0.035725</td>\n",
       "      <td>0.038452</td>\n",
       "      <td>0.013023</td>\n",
       "    </tr>\n",
       "    <tr>\n",
       "      <th>10</th>\n",
       "      <td>247369</td>\n",
       "      <td>0.034581</td>\n",
       "      <td>0.000376</td>\n",
       "      <td>0.033947</td>\n",
       "      <td>0.035909</td>\n",
       "      <td>0.010862</td>\n",
       "    </tr>\n",
       "    <tr>\n",
       "      <th>11</th>\n",
       "      <td>400000</td>\n",
       "      <td>0.032770</td>\n",
       "      <td>0.000353</td>\n",
       "      <td>0.032117</td>\n",
       "      <td>0.033723</td>\n",
       "      <td>0.010772</td>\n",
       "    </tr>\n",
       "  </tbody>\n",
       "</table>\n",
       "</div>"
      ],
      "text/plain": [
       "    tr_size  MAE_median       std       min       max         %\n",
       "0      2024    0.069722  0.002723  0.065396  0.081206  0.039062\n",
       "1      3272    0.065355  0.001848  0.062163  0.070789  0.028271\n",
       "2      5292    0.061462  0.001791  0.058772  0.067611  0.029143\n",
       "3      8557    0.057698  0.001153  0.055799  0.060618  0.019977\n",
       "4     13837    0.053507  0.001229  0.051794  0.056341  0.022969\n",
       "5     22375    0.049501  0.000920  0.048131  0.052482  0.018595\n",
       "6     36181    0.045684  0.000824  0.044645  0.047753  0.018035\n",
       "7     58506    0.042179  0.000680  0.041254  0.044441  0.016125\n",
       "8     94606    0.039301  0.000514  0.038421  0.040799  0.013067\n",
       "9    152979    0.036845  0.000480  0.035725  0.038452  0.013023\n",
       "10   247369    0.034581  0.000376  0.033947  0.035909  0.010862\n",
       "11   400000    0.032770  0.000353  0.032117  0.033723  0.010772"
      ]
     },
     "execution_count": 29,
     "metadata": {},
     "output_type": "execute_result"
    }
   ],
   "source": [
    "aa = nn0\n",
    "aa['std'] = aa['score']\n",
    "aa['min'] = aa['score']\n",
    "aa['max'] = aa['score']\n",
    "aa = aa.groupby(['tr_size']).agg({'score': 'median', 'std': 'std', 'min': 'min', 'max': 'max'}).reset_index()\n",
    "aa = aa.rename(columns={'score': 'MAE_median'})\n",
    "aa['%'] = aa['std']/aa['MAE_median']\n",
    "aa"
   ]
  },
  {
   "cell_type": "code",
   "execution_count": 30,
   "metadata": {},
   "outputs": [
    {
     "data": {
      "text/html": [
       "<div>\n",
       "<style scoped>\n",
       "    .dataframe tbody tr th:only-of-type {\n",
       "        vertical-align: middle;\n",
       "    }\n",
       "\n",
       "    .dataframe tbody tr th {\n",
       "        vertical-align: top;\n",
       "    }\n",
       "\n",
       "    .dataframe thead th {\n",
       "        text-align: right;\n",
       "    }\n",
       "</style>\n",
       "<table border=\"1\" class=\"dataframe\">\n",
       "  <thead>\n",
       "    <tr style=\"text-align: right;\">\n",
       "      <th></th>\n",
       "      <th>tr_size</th>\n",
       "      <th>MAE_median</th>\n",
       "      <th>std</th>\n",
       "      <th>min</th>\n",
       "      <th>max</th>\n",
       "      <th>%</th>\n",
       "    </tr>\n",
       "  </thead>\n",
       "  <tbody>\n",
       "    <tr>\n",
       "      <th>0</th>\n",
       "      <td>2024</td>\n",
       "      <td>0.068909</td>\n",
       "      <td>0.001621</td>\n",
       "      <td>0.066100</td>\n",
       "      <td>0.072508</td>\n",
       "      <td>0.023530</td>\n",
       "    </tr>\n",
       "    <tr>\n",
       "      <th>1</th>\n",
       "      <td>3272</td>\n",
       "      <td>0.065155</td>\n",
       "      <td>0.001868</td>\n",
       "      <td>0.061429</td>\n",
       "      <td>0.068759</td>\n",
       "      <td>0.028666</td>\n",
       "    </tr>\n",
       "    <tr>\n",
       "      <th>2</th>\n",
       "      <td>5292</td>\n",
       "      <td>0.060490</td>\n",
       "      <td>0.001835</td>\n",
       "      <td>0.057981</td>\n",
       "      <td>0.065394</td>\n",
       "      <td>0.030340</td>\n",
       "    </tr>\n",
       "    <tr>\n",
       "      <th>3</th>\n",
       "      <td>8557</td>\n",
       "      <td>0.056388</td>\n",
       "      <td>0.001435</td>\n",
       "      <td>0.053898</td>\n",
       "      <td>0.060105</td>\n",
       "      <td>0.025452</td>\n",
       "    </tr>\n",
       "    <tr>\n",
       "      <th>4</th>\n",
       "      <td>13837</td>\n",
       "      <td>0.053040</td>\n",
       "      <td>0.001236</td>\n",
       "      <td>0.050975</td>\n",
       "      <td>0.058335</td>\n",
       "      <td>0.023305</td>\n",
       "    </tr>\n",
       "    <tr>\n",
       "      <th>5</th>\n",
       "      <td>22375</td>\n",
       "      <td>0.048285</td>\n",
       "      <td>0.000903</td>\n",
       "      <td>0.046632</td>\n",
       "      <td>0.050460</td>\n",
       "      <td>0.018711</td>\n",
       "    </tr>\n",
       "    <tr>\n",
       "      <th>6</th>\n",
       "      <td>36181</td>\n",
       "      <td>0.044225</td>\n",
       "      <td>0.000673</td>\n",
       "      <td>0.042604</td>\n",
       "      <td>0.046114</td>\n",
       "      <td>0.015227</td>\n",
       "    </tr>\n",
       "    <tr>\n",
       "      <th>7</th>\n",
       "      <td>58506</td>\n",
       "      <td>0.040692</td>\n",
       "      <td>0.000582</td>\n",
       "      <td>0.039737</td>\n",
       "      <td>0.042488</td>\n",
       "      <td>0.014309</td>\n",
       "    </tr>\n",
       "    <tr>\n",
       "      <th>8</th>\n",
       "      <td>94606</td>\n",
       "      <td>0.037458</td>\n",
       "      <td>0.000491</td>\n",
       "      <td>0.036692</td>\n",
       "      <td>0.039221</td>\n",
       "      <td>0.013098</td>\n",
       "    </tr>\n",
       "    <tr>\n",
       "      <th>9</th>\n",
       "      <td>152979</td>\n",
       "      <td>0.035074</td>\n",
       "      <td>0.000525</td>\n",
       "      <td>0.034105</td>\n",
       "      <td>0.036394</td>\n",
       "      <td>0.014975</td>\n",
       "    </tr>\n",
       "    <tr>\n",
       "      <th>10</th>\n",
       "      <td>247369</td>\n",
       "      <td>0.032902</td>\n",
       "      <td>0.000474</td>\n",
       "      <td>0.032285</td>\n",
       "      <td>0.034945</td>\n",
       "      <td>0.014406</td>\n",
       "    </tr>\n",
       "    <tr>\n",
       "      <th>11</th>\n",
       "      <td>400000</td>\n",
       "      <td>0.031404</td>\n",
       "      <td>0.000351</td>\n",
       "      <td>0.030731</td>\n",
       "      <td>0.032463</td>\n",
       "      <td>0.011181</td>\n",
       "    </tr>\n",
       "  </tbody>\n",
       "</table>\n",
       "</div>"
      ],
      "text/plain": [
       "    tr_size  MAE_median       std       min       max         %\n",
       "0      2024    0.068909  0.001621  0.066100  0.072508  0.023530\n",
       "1      3272    0.065155  0.001868  0.061429  0.068759  0.028666\n",
       "2      5292    0.060490  0.001835  0.057981  0.065394  0.030340\n",
       "3      8557    0.056388  0.001435  0.053898  0.060105  0.025452\n",
       "4     13837    0.053040  0.001236  0.050975  0.058335  0.023305\n",
       "5     22375    0.048285  0.000903  0.046632  0.050460  0.018711\n",
       "6     36181    0.044225  0.000673  0.042604  0.046114  0.015227\n",
       "7     58506    0.040692  0.000582  0.039737  0.042488  0.014309\n",
       "8     94606    0.037458  0.000491  0.036692  0.039221  0.013098\n",
       "9    152979    0.035074  0.000525  0.034105  0.036394  0.014975\n",
       "10   247369    0.032902  0.000474  0.032285  0.034945  0.014406\n",
       "11   400000    0.031404  0.000351  0.030731  0.032463  0.011181"
      ]
     },
     "execution_count": 30,
     "metadata": {},
     "output_type": "execute_result"
    }
   ],
   "source": [
    "aa = nn1\n",
    "aa['std'] = aa['score']\n",
    "aa['min'] = aa['score']\n",
    "aa['max'] = aa['score']\n",
    "aa = aa.groupby(['tr_size']).agg({'score': 'median', 'std': 'std', 'min': 'min', 'max': 'max'}).reset_index()\n",
    "aa = aa.rename(columns={'score': 'MAE_median'})\n",
    "aa['%'] = aa['std']/aa['MAE_median']\n",
    "aa"
   ]
  },
  {
   "cell_type": "code",
   "execution_count": null,
   "metadata": {},
   "outputs": [],
   "source": []
  },
  {
   "cell_type": "code",
   "execution_count": null,
   "metadata": {},
   "outputs": [],
   "source": []
  },
  {
   "cell_type": "code",
   "execution_count": null,
   "metadata": {},
   "outputs": [],
   "source": []
  },
  {
   "cell_type": "code",
   "execution_count": 55,
   "metadata": {},
   "outputs": [
    {
     "data": {
      "image/png": "[encoded data removed]",
      "text/plain": [
       "<Figure size 504x360 with 1 Axes>"
      ]
     },
     "metadata": {
      "needs_background": "light"
     },
     "output_type": "display_data"
    }
   ],
   "source": [
    "xf = dfit['tr_size'].values\n",
    "# xe = dext['tr_size'].values\n",
    "yf = dfit['y'].values\n",
    "# ye = dext['y'].values\n",
    "\n",
    "cc = FitPwrLaw(xf=dfit['tr_size'].values, yf=dfit['y'].values, w=dfit['w'].values)\n",
    "xf_plot, yf_plot = cc.calc_fit( x1=xf[0], x2=xf[-1] )\n",
    "# xe_plot, ye_plot = cc.calc_fit( x1=xe[0], x2=xe[-1] )\n",
    "\n",
    "# Reset axes\n",
    "ax = None\n",
    "\n",
    "# Raw data\n",
    "ax = lc_plots.plot_lc(x=xf, y=yf, ax=ax, **pnts_args, color='b', label='dfit data')\n",
    "# ax = lc_plots.plot_lc(x=xe, y=ye, ax=ax, **pnts_args, color='r', label='dext data')\n",
    "\n",
    "# Fits\n",
    "ax = lc_plots.plot_lc(x=xf_plot, y=yf_plot, ax=ax, **fit_args, color='b', label='dfit fit')\n",
    "# ax = lc_plots.plot_lc(x=xe_plot, y=ye_plot, ax=ax, **fit_args, color='r', label='dext fit')\n",
    "\n",
    "ax.set_title(f'{src} ~ {model}')\n",
    "ax.legend(frameon=True, fontsize=10, loc='best')\n",
    "ax.grid(False)"
   ]
  },
  {
   "cell_type": "code",
   "execution_count": null,
   "metadata": {},
   "outputs": [],
   "source": []
  },
  {
   "cell_type": "markdown",
   "metadata": {},
   "source": [
    "## Plot together"
   ]
  },
  {
   "cell_type": "code",
   "execution_count": null,
   "metadata": {},
   "outputs": [],
   "source": []
  }
 ],
 "metadata": {
  "kernelspec": {
   "display_name": "Python 3",
   "language": "python",
   "name": "python3"
  },
  "language_info": {
   "codemirror_mode": {
    "name": "ipython",
    "version": 3
   },
   "file_extension": ".py",
   "mimetype": "text/x-python",
   "name": "python",
   "nbconvert_exporter": "python",
   "pygments_lexer": "ipython3",
   "version": "3.6.10"
  }
 },
 "nbformat": 4,
 "nbformat_minor": 4
}
