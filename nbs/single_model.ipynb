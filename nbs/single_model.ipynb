{
 "cells": [
  {
   "cell_type": "markdown",
   "metadata": {},
   "source": [
    "### Compare data sources using a single ML model"
   ]
  },
  {
   "cell_type": "code",
   "execution_count": 1,
   "metadata": {},
   "outputs": [
    {
     "name": "stdout",
     "output_type": "stream",
     "text": [
      "Current path: /vol/ml/apartin/projects/dr-learning-curves/nbs\n"
     ]
    }
   ],
   "source": [
    "%load_ext autoreload\n",
    "%autoreload 2\n",
    "%matplotlib inline\n",
    "\n",
    "from load_modules import *\n",
    "%matplotlib inline\n",
    "fpath = Path(os.getcwd())\n",
    "print('Current path:', fpath)"
   ]
  },
  {
   "cell_type": "code",
   "execution_count": 2,
   "metadata": {},
   "outputs": [],
   "source": [
    "# Settings\n",
    "drop_bad_r2fit = False\n",
    "# drop_bad_r2fit = True\n",
    "dpi = 200"
   ]
  },
  {
   "cell_type": "code",
   "execution_count": null,
   "metadata": {},
   "outputs": [],
   "source": []
  },
  {
   "cell_type": "markdown",
   "metadata": {},
   "source": [
    "## Path to data"
   ]
  },
  {
   "cell_type": "code",
   "execution_count": 3,
   "metadata": {},
   "outputs": [],
   "source": [
    "fname = 'all_scores.csv'\n",
    "# dpath = Path('../lc.out.summit.July2020/exp_1_and_2')\n",
    "# dirs = glob(str(dpath/'*'))\n",
    "# print(dirs)"
   ]
  },
  {
   "cell_type": "code",
   "execution_count": 4,
   "metadata": {},
   "outputs": [],
   "source": [
    "# dGBDT\n",
    "# model = 'dGBDT'\n",
    "# gdsc1_path = Path('../lc.out.new.r2fit_03/', f'lc.gdsc1.lgb.dflt', fname)\n",
    "# gdsc2_path = Path('../lc.out.new.r2fit_03/', f'lc.gdsc2.lgb.dflt', fname)\n",
    "# ctrp_path = Path('../lc.out.new.r2fit_03/', f'lc.ctrp.lgb.dflt', fname)\n",
    "# nci_path = Path('../lc.out.nci60.lgb/lc.nci60.lgb.dflt', fname)\n",
    "\n",
    "# mNN\n",
    "\"\"\"\n",
    "TODO!\n",
    "Consider experiment. Build ML dfs for each source to contain the same number of training samples.\n",
    "The total sample size is defined by the smallest dataset (GDSC2).\n",
    "Generate LC using nn_reg1 (mNN) for each source and compare LC plots.\n",
    "\"\"\"\n",
    "model = 'mNN'\n",
    "gdsc1_path = Path('../lc.out.new.r2fit_03/', f'lc.gdsc1.nn_reg1.ls_hpo', fname)\n",
    "gdsc2_path = Path('../lc.out.new.r2fit_03/', f'lc.gdsc2.nn_reg1.ls_hpo', fname)\n",
    "ctrp_path = Path('../lc.out.new.r2fit_03/', f'lc.ctrp.nn_reg1.ls_hpo', fname)\n",
    "nci_path = Path('../lc.out.summit.July2020/exp_1_and_2/lc.nci60.nn_reg1.random.ls_hpo', fname)"
   ]
  },
  {
   "cell_type": "code",
   "execution_count": 5,
   "metadata": {},
   "outputs": [],
   "source": [
    "outpath = fpath/f'single_model_multi_src'\n",
    "os.makedirs(outpath, exist_ok=True)"
   ]
  },
  {
   "cell_type": "code",
   "execution_count": null,
   "metadata": {},
   "outputs": [],
   "source": []
  },
  {
   "cell_type": "markdown",
   "metadata": {},
   "source": [
    "## Load data"
   ]
  },
  {
   "cell_type": "code",
   "execution_count": 6,
   "metadata": {},
   "outputs": [],
   "source": [
    "gdsc1 = load_data(gdsc1_path, tr_set='te');\n",
    "gdsc2 = load_data(gdsc2_path, tr_set='te');\n",
    "ctrp = load_data(ctrp_path, tr_set='te');\n",
    "nci = load_data(nci_path, tr_set='te');"
   ]
  },
  {
   "cell_type": "code",
   "execution_count": 7,
   "metadata": {},
   "outputs": [
    {
     "data": {
      "text/html": [
       "<div>\n",
       "<style scoped>\n",
       "    .dataframe tbody tr th:only-of-type {\n",
       "        vertical-align: middle;\n",
       "    }\n",
       "\n",
       "    .dataframe tbody tr th {\n",
       "        vertical-align: top;\n",
       "    }\n",
       "\n",
       "    .dataframe thead th {\n",
       "        text-align: right;\n",
       "    }\n",
       "</style>\n",
       "<table border=\"1\" class=\"dataframe\">\n",
       "  <thead>\n",
       "    <tr style=\"text-align: right;\">\n",
       "      <th></th>\n",
       "      <th>tr_size</th>\n",
       "      <th>one</th>\n",
       "    </tr>\n",
       "  </thead>\n",
       "  <tbody>\n",
       "    <tr>\n",
       "      <th>0</th>\n",
       "      <td>20000</td>\n",
       "      <td>20</td>\n",
       "    </tr>\n",
       "    <tr>\n",
       "      <th>1</th>\n",
       "      <td>24310</td>\n",
       "      <td>20</td>\n",
       "    </tr>\n",
       "    <tr>\n",
       "      <th>2</th>\n",
       "      <td>29550</td>\n",
       "      <td>20</td>\n",
       "    </tr>\n",
       "    <tr>\n",
       "      <th>3</th>\n",
       "      <td>35919</td>\n",
       "      <td>20</td>\n",
       "    </tr>\n",
       "    <tr>\n",
       "      <th>4</th>\n",
       "      <td>43661</td>\n",
       "      <td>20</td>\n",
       "    </tr>\n",
       "    <tr>\n",
       "      <th>5</th>\n",
       "      <td>53072</td>\n",
       "      <td>20</td>\n",
       "    </tr>\n",
       "    <tr>\n",
       "      <th>6</th>\n",
       "      <td>64511</td>\n",
       "      <td>20</td>\n",
       "    </tr>\n",
       "    <tr>\n",
       "      <th>7</th>\n",
       "      <td>78416</td>\n",
       "      <td>20</td>\n",
       "    </tr>\n",
       "    <tr>\n",
       "      <th>8</th>\n",
       "      <td>95318</td>\n",
       "      <td>20</td>\n",
       "    </tr>\n",
       "    <tr>\n",
       "      <th>9</th>\n",
       "      <td>115863</td>\n",
       "      <td>20</td>\n",
       "    </tr>\n",
       "  </tbody>\n",
       "</table>\n",
       "</div>"
      ],
      "text/plain": [
       "   tr_size  one\n",
       "0    20000   20\n",
       "1    24310   20\n",
       "2    29550   20\n",
       "3    35919   20\n",
       "4    43661   20\n",
       "5    53072   20\n",
       "6    64511   20\n",
       "7    78416   20\n",
       "8    95318   20\n",
       "9   115863   20"
      ]
     },
     "metadata": {},
     "output_type": "display_data"
    },
    {
     "data": {
      "text/html": [
       "<div>\n",
       "<style scoped>\n",
       "    .dataframe tbody tr th:only-of-type {\n",
       "        vertical-align: middle;\n",
       "    }\n",
       "\n",
       "    .dataframe tbody tr th {\n",
       "        vertical-align: top;\n",
       "    }\n",
       "\n",
       "    .dataframe thead th {\n",
       "        text-align: right;\n",
       "    }\n",
       "</style>\n",
       "<table border=\"1\" class=\"dataframe\">\n",
       "  <thead>\n",
       "    <tr style=\"text-align: right;\">\n",
       "      <th></th>\n",
       "      <th>tr_size</th>\n",
       "      <th>one</th>\n",
       "    </tr>\n",
       "  </thead>\n",
       "  <tbody>\n",
       "    <tr>\n",
       "      <th>0</th>\n",
       "      <td>20000</td>\n",
       "      <td>20</td>\n",
       "    </tr>\n",
       "    <tr>\n",
       "      <th>1</th>\n",
       "      <td>23279</td>\n",
       "      <td>20</td>\n",
       "    </tr>\n",
       "    <tr>\n",
       "      <th>2</th>\n",
       "      <td>27095</td>\n",
       "      <td>20</td>\n",
       "    </tr>\n",
       "    <tr>\n",
       "      <th>3</th>\n",
       "      <td>31538</td>\n",
       "      <td>20</td>\n",
       "    </tr>\n",
       "    <tr>\n",
       "      <th>4</th>\n",
       "      <td>36708</td>\n",
       "      <td>20</td>\n",
       "    </tr>\n",
       "    <tr>\n",
       "      <th>5</th>\n",
       "      <td>42727</td>\n",
       "      <td>20</td>\n",
       "    </tr>\n",
       "    <tr>\n",
       "      <th>6</th>\n",
       "      <td>49732</td>\n",
       "      <td>20</td>\n",
       "    </tr>\n",
       "    <tr>\n",
       "      <th>7</th>\n",
       "      <td>57886</td>\n",
       "      <td>20</td>\n",
       "    </tr>\n",
       "    <tr>\n",
       "      <th>8</th>\n",
       "      <td>67376</td>\n",
       "      <td>20</td>\n",
       "    </tr>\n",
       "    <tr>\n",
       "      <th>9</th>\n",
       "      <td>78423</td>\n",
       "      <td>20</td>\n",
       "    </tr>\n",
       "  </tbody>\n",
       "</table>\n",
       "</div>"
      ],
      "text/plain": [
       "   tr_size  one\n",
       "0    20000   20\n",
       "1    23279   20\n",
       "2    27095   20\n",
       "3    31538   20\n",
       "4    36708   20\n",
       "5    42727   20\n",
       "6    49732   20\n",
       "7    57886   20\n",
       "8    67376   20\n",
       "9    78423   20"
      ]
     },
     "metadata": {},
     "output_type": "display_data"
    },
    {
     "data": {
      "text/html": [
       "<div>\n",
       "<style scoped>\n",
       "    .dataframe tbody tr th:only-of-type {\n",
       "        vertical-align: middle;\n",
       "    }\n",
       "\n",
       "    .dataframe tbody tr th {\n",
       "        vertical-align: top;\n",
       "    }\n",
       "\n",
       "    .dataframe thead th {\n",
       "        text-align: right;\n",
       "    }\n",
       "</style>\n",
       "<table border=\"1\" class=\"dataframe\">\n",
       "  <thead>\n",
       "    <tr style=\"text-align: right;\">\n",
       "      <th></th>\n",
       "      <th>tr_size</th>\n",
       "      <th>one</th>\n",
       "    </tr>\n",
       "  </thead>\n",
       "  <tbody>\n",
       "    <tr>\n",
       "      <th>0</th>\n",
       "      <td>50000</td>\n",
       "      <td>20</td>\n",
       "    </tr>\n",
       "    <tr>\n",
       "      <th>1</th>\n",
       "      <td>58443</td>\n",
       "      <td>20</td>\n",
       "    </tr>\n",
       "    <tr>\n",
       "      <th>2</th>\n",
       "      <td>68313</td>\n",
       "      <td>20</td>\n",
       "    </tr>\n",
       "    <tr>\n",
       "      <th>3</th>\n",
       "      <td>79850</td>\n",
       "      <td>20</td>\n",
       "    </tr>\n",
       "    <tr>\n",
       "      <th>4</th>\n",
       "      <td>93334</td>\n",
       "      <td>20</td>\n",
       "    </tr>\n",
       "    <tr>\n",
       "      <th>5</th>\n",
       "      <td>109096</td>\n",
       "      <td>20</td>\n",
       "    </tr>\n",
       "    <tr>\n",
       "      <th>6</th>\n",
       "      <td>127520</td>\n",
       "      <td>20</td>\n",
       "    </tr>\n",
       "    <tr>\n",
       "      <th>7</th>\n",
       "      <td>149056</td>\n",
       "      <td>20</td>\n",
       "    </tr>\n",
       "    <tr>\n",
       "      <th>8</th>\n",
       "      <td>174228</td>\n",
       "      <td>19</td>\n",
       "    </tr>\n",
       "    <tr>\n",
       "      <th>9</th>\n",
       "      <td>203650</td>\n",
       "      <td>20</td>\n",
       "    </tr>\n",
       "  </tbody>\n",
       "</table>\n",
       "</div>"
      ],
      "text/plain": [
       "   tr_size  one\n",
       "0    50000   20\n",
       "1    58443   20\n",
       "2    68313   20\n",
       "3    79850   20\n",
       "4    93334   20\n",
       "5   109096   20\n",
       "6   127520   20\n",
       "7   149056   20\n",
       "8   174228   19\n",
       "9   203650   20"
      ]
     },
     "metadata": {},
     "output_type": "display_data"
    },
    {
     "data": {
      "text/html": [
       "<div>\n",
       "<style scoped>\n",
       "    .dataframe tbody tr th:only-of-type {\n",
       "        vertical-align: middle;\n",
       "    }\n",
       "\n",
       "    .dataframe tbody tr th {\n",
       "        vertical-align: top;\n",
       "    }\n",
       "\n",
       "    .dataframe thead th {\n",
       "        text-align: right;\n",
       "    }\n",
       "</style>\n",
       "<table border=\"1\" class=\"dataframe\">\n",
       "  <thead>\n",
       "    <tr style=\"text-align: right;\">\n",
       "      <th></th>\n",
       "      <th>tr_size</th>\n",
       "      <th>one</th>\n",
       "    </tr>\n",
       "  </thead>\n",
       "  <tbody>\n",
       "    <tr>\n",
       "      <th>0</th>\n",
       "      <td>100000</td>\n",
       "      <td>20</td>\n",
       "    </tr>\n",
       "    <tr>\n",
       "      <th>1</th>\n",
       "      <td>118957</td>\n",
       "      <td>20</td>\n",
       "    </tr>\n",
       "    <tr>\n",
       "      <th>2</th>\n",
       "      <td>141508</td>\n",
       "      <td>20</td>\n",
       "    </tr>\n",
       "    <tr>\n",
       "      <th>3</th>\n",
       "      <td>168334</td>\n",
       "      <td>20</td>\n",
       "    </tr>\n",
       "    <tr>\n",
       "      <th>4</th>\n",
       "      <td>200246</td>\n",
       "      <td>20</td>\n",
       "    </tr>\n",
       "    <tr>\n",
       "      <th>5</th>\n",
       "      <td>238207</td>\n",
       "      <td>20</td>\n",
       "    </tr>\n",
       "    <tr>\n",
       "      <th>6</th>\n",
       "      <td>283365</td>\n",
       "      <td>20</td>\n",
       "    </tr>\n",
       "    <tr>\n",
       "      <th>7</th>\n",
       "      <td>337084</td>\n",
       "      <td>20</td>\n",
       "    </tr>\n",
       "    <tr>\n",
       "      <th>8</th>\n",
       "      <td>400986</td>\n",
       "      <td>20</td>\n",
       "    </tr>\n",
       "    <tr>\n",
       "      <th>9</th>\n",
       "      <td>477002</td>\n",
       "      <td>20</td>\n",
       "    </tr>\n",
       "    <tr>\n",
       "      <th>10</th>\n",
       "      <td>567429</td>\n",
       "      <td>20</td>\n",
       "    </tr>\n",
       "    <tr>\n",
       "      <th>11</th>\n",
       "      <td>610743</td>\n",
       "      <td>54</td>\n",
       "    </tr>\n",
       "    <tr>\n",
       "      <th>12</th>\n",
       "      <td>625000</td>\n",
       "      <td>56</td>\n",
       "    </tr>\n",
       "    <tr>\n",
       "      <th>13</th>\n",
       "      <td>642067</td>\n",
       "      <td>60</td>\n",
       "    </tr>\n",
       "    <tr>\n",
       "      <th>14</th>\n",
       "      <td>674999</td>\n",
       "      <td>60</td>\n",
       "    </tr>\n",
       "  </tbody>\n",
       "</table>\n",
       "</div>"
      ],
      "text/plain": [
       "    tr_size  one\n",
       "0    100000   20\n",
       "1    118957   20\n",
       "2    141508   20\n",
       "3    168334   20\n",
       "4    200246   20\n",
       "5    238207   20\n",
       "6    283365   20\n",
       "7    337084   20\n",
       "8    400986   20\n",
       "9    477002   20\n",
       "10   567429   20\n",
       "11   610743   54\n",
       "12   625000   56\n",
       "13   642067   60\n",
       "14   674999   60"
      ]
     },
     "metadata": {},
     "output_type": "display_data"
    }
   ],
   "source": [
    "print_count(aa=gdsc1)\n",
    "print_count(aa=gdsc2)\n",
    "print_count(aa=ctrp)\n",
    "print_count(aa=nci)"
   ]
  },
  {
   "cell_type": "code",
   "execution_count": 8,
   "metadata": {},
   "outputs": [],
   "source": [
    "if drop_bad_r2fit:\n",
    "    gdsc1 = drop_bad_r2(gdsc1)\n",
    "    gdsc2 = drop_bad_r2(gdsc2)\n",
    "    ctrp  = drop_bad_r2(ctrp)\n",
    "    nci   = drop_bad_r2(nci)"
   ]
  },
  {
   "cell_type": "code",
   "execution_count": null,
   "metadata": {},
   "outputs": [],
   "source": []
  },
  {
   "cell_type": "markdown",
   "metadata": {},
   "source": [
    "## Raw plots"
   ]
  },
  {
   "cell_type": "code",
   "execution_count": 9,
   "metadata": {},
   "outputs": [],
   "source": [
    "# Global plotting params\n",
    "# -------------------------------\n",
    "met = 'mean_absolute_error';  # startParams = {'a': 1.2, 'b': -0.4, 'c': 0.04}\n",
    "\n",
    "t_set = 'te'\n",
    "xtick_scale = 'log2'\n",
    "ytick_scale = 'log2'\n",
    "# xtick_scale = 'linear'\n",
    "# ytick_scale = 'linear'\n",
    "\n",
    "kwargs = {'metric_name': met,\n",
    "          'tr_set': t_set,\n",
    "          'xtick_scale': xtick_scale,\n",
    "          'ytick_scale': ytick_scale,\n",
    "          'plot_median': True}\n",
    "\n",
    "legend_fontsize = 13"
   ]
  },
  {
   "cell_type": "code",
   "execution_count": 10,
   "metadata": {},
   "outputs": [
    {
     "data": {
      "image/png": "[encoded data removed]",
      "text/plain": [
       "<Figure size 504x360 with 1 Axes>"
      ]
     },
     "metadata": {
      "needs_background": "light"
     },
     "output_type": "display_data"
    }
   ],
   "source": [
    "# Plot dGBDT (GDSC1)\n",
    "# -------------------------------\n",
    "name = 'GDSC1'\n",
    "kwargs.update({'title': f'{name}'})\n",
    "ax = lc_plots.plot_lc_single_metric(gdsc1, **kwargs);\n",
    "ax.legend(frameon=True, fontsize=legend_fontsize, loc='best')\n",
    "ax.grid(False)\n",
    "\n",
    "if drop_bad_r2fit:\n",
    "    plt.savefig(outpath/f'{model}_{name}_drop_bad_r2fit.png', dpi=dpi)\n",
    "else:\n",
    "    plt.savefig(outpath/f'{model}_{name}.png', dpi=dpi)"
   ]
  },
  {
   "cell_type": "code",
   "execution_count": 11,
   "metadata": {},
   "outputs": [
    {
     "data": {
      "image/png": "[encoded data removed]",
      "text/plain": [
       "<Figure size 504x360 with 1 Axes>"
      ]
     },
     "metadata": {
      "needs_background": "light"
     },
     "output_type": "display_data"
    }
   ],
   "source": [
    "# Plot dGBDT (GDSC2)\n",
    "# -------------------------------\n",
    "name = 'GDSC2'\n",
    "kwargs.update({'title': f'{name}'})\n",
    "ax = lc_plots.plot_lc_single_metric(gdsc2, **kwargs);\n",
    "ax.legend(frameon=True, fontsize=legend_fontsize, loc='best')\n",
    "ax.grid(False)\n",
    "\n",
    "if drop_bad_r2fit:\n",
    "    plt.savefig(outpath/f'{model}_{name}_drop_bad_r2fit.png', dpi=dpi)\n",
    "else:\n",
    "    plt.savefig(outpath/f'{model}_{name}.png', dpi=dpi)"
   ]
  },
  {
   "cell_type": "code",
   "execution_count": 12,
   "metadata": {},
   "outputs": [
    {
     "data": {
      "image/png": "[encoded data removed]",
      "text/plain": [
       "<Figure size 504x360 with 1 Axes>"
      ]
     },
     "metadata": {
      "needs_background": "light"
     },
     "output_type": "display_data"
    }
   ],
   "source": [
    "# Plot dGBDT (CTRP)\n",
    "# -------------------------------\n",
    "name = 'CTRP'\n",
    "kwargs.update({'title': f'{name}'})\n",
    "ax = lc_plots.plot_lc_single_metric(ctrp, **kwargs);\n",
    "ax.legend(frameon=True, fontsize=legend_fontsize, loc='best')\n",
    "ax.grid(False)\n",
    "\n",
    "if drop_bad_r2fit:\n",
    "    plt.savefig(outpath/f'{model}_{name}_drop_bad_r2fit.png', dpi=dpi)\n",
    "else:\n",
    "    plt.savefig(outpath/f'{model}_{name}.png', dpi=dpi)"
   ]
  },
  {
   "cell_type": "code",
   "execution_count": 13,
   "metadata": {},
   "outputs": [
    {
     "data": {
      "image/png": "[encoded data removed]",
      "text/plain": [
       "<Figure size 504x360 with 1 Axes>"
      ]
     },
     "metadata": {
      "needs_background": "light"
     },
     "output_type": "display_data"
    }
   ],
   "source": [
    "# Plot dGBDT (NCI60)\n",
    "# -------------------------------\n",
    "name = 'NCI-60'\n",
    "kwargs.update({'title': f'{name}'})\n",
    "ax = lc_plots.plot_lc_single_metric(nci, **kwargs);\n",
    "ax.legend(frameon=True, fontsize=legend_fontsize, loc='best')\n",
    "ax.grid(False)\n",
    "\n",
    "if drop_bad_r2fit:\n",
    "    plt.savefig(outpath/f'{model}_{name}_drop_bad_r2fit.png', dpi=dpi)\n",
    "else:\n",
    "    plt.savefig(outpath/f'{model}_{name}.png', dpi=dpi)"
   ]
  },
  {
   "cell_type": "code",
   "execution_count": null,
   "metadata": {},
   "outputs": [],
   "source": []
  },
  {
   "cell_type": "markdown",
   "metadata": {},
   "source": [
    "## Fitting"
   ]
  },
  {
   "cell_type": "code",
   "execution_count": 14,
   "metadata": {},
   "outputs": [],
   "source": [
    "# Split dfit and dext\n",
    "# x_fit_mn = 1000; x_fit_mx = None\n",
    "x_fit_mn = 10000; x_fit_mx = None\n",
    "startParams = {'a': 1.2, 'b': -0.3, 'c': 0.04}\n",
    "\n",
    "dfit_gdsc1 = fit_data(gdsc1, x_fit_mn=x_fit_mn, x_fit_mx=x_fit_mx)\n",
    "dfit_gdsc2 = fit_data(gdsc2, x_fit_mn=x_fit_mn, x_fit_mx=x_fit_mx)\n",
    "dfit_ctrp  = fit_data(ctrp, x_fit_mn=x_fit_mn, x_fit_mx=x_fit_mx)\n",
    "dfit_nci   = fit_data(nci, x_fit_mn=x_fit_mn, x_fit_mx=x_fit_mx)"
   ]
  },
  {
   "cell_type": "code",
   "execution_count": null,
   "metadata": {},
   "outputs": [],
   "source": []
  },
  {
   "cell_type": "code",
   "execution_count": 15,
   "metadata": {},
   "outputs": [],
   "source": [
    "pnts_args = {'metric_name': met, 'xtick_scale': xtick_scale, 'ytick_scale': ytick_scale, 'alpha': 0.7, 'ls': '', 'marker': '.'}\n",
    "fit_args = {'metric_name': met, 'xtick_scale': xtick_scale, 'ytick_scale': ytick_scale, 'alpha': 0.7, 'ls': '--', 'marker': ''}"
   ]
  },
  {
   "cell_type": "code",
   "execution_count": 16,
   "metadata": {},
   "outputs": [
    {
     "name": "stderr",
     "output_type": "stream",
     "text": [
      "R[write to console]: Loading required package: broom\n",
      "\n",
      "R[write to console]: Loading required package: dplyr\n",
      "\n",
      "R[write to console]: \n",
      "Attaching package: ‘dplyr’\n",
      "\n",
      "\n",
      "R[write to console]: The following objects are masked from ‘package:stats’:\n",
      "\n",
      "    filter, lag\n",
      "\n",
      "\n",
      "R[write to console]: The following objects are masked from ‘package:base’:\n",
      "\n",
      "    intersect, setdiff, setequal, union\n",
      "\n",
      "\n"
     ]
    },
    {
     "data": {
      "image/png": "[encoded data removed]",
      "text/plain": [
       "<Figure size 504x360 with 1 Axes>"
      ]
     },
     "metadata": {
      "needs_background": "light"
     },
     "output_type": "display_data"
    }
   ],
   "source": [
    "ax = None\n",
    "fit_method = 'old'\n",
    "# fit_method = 'new'\n",
    "\n",
    "# -----------------------------\n",
    "#   GDSC1\n",
    "# -----------------------------\n",
    "if gdsc1 is not None:\n",
    "    aa = dfit_gdsc1\n",
    "    name = 'GDSC1'\n",
    "    color = 'm'\n",
    "    \n",
    "    xf = aa['tr_size'].values\n",
    "    yf = aa['y'].values\n",
    "    \n",
    "    if fit_method == 'new':\n",
    "        cc_lgb = FitPwrLaw(xf=xf, yf=yf, w=aa['w'].values, **startParams)  # new!\n",
    "        xf_plot, yf_plot = cc_lgb.calc_fit( x1=xf[0], x2=xf[-1] )\n",
    "        cc_lgb_dft = cc_lgb\n",
    "    else:\n",
    "        # Old fit method (see single single_src.ipynb)  \n",
    "        prms_lgb_dft = fit_params(x=xf, y=yf)\n",
    "        yf_plot = biased_powerlaw(xf, **prms_lgb_dft)\n",
    "        xf_plot = xf\n",
    "    \n",
    "    gof_gdsc1 = calc_gof(yf, yf_plot)\n",
    "    gof_gdsc1['data'] = 'gdsc1'    \n",
    "    ax = lc_plots.plot_lc(x=xf, y=yf, ax=ax, **pnts_args, color=color, label=f'{name} ' + '$LC_{f}$')\n",
    "    ax = lc_plots.plot_lc(x=xf_plot, y=yf_plot, ax=ax, **fit_args, color=color, label=f'{name} fit')\n",
    "\n",
    "# -----------------------------\n",
    "#   GDSC2\n",
    "# -----------------------------\n",
    "if gdsc2 is not None:\n",
    "    aa = dfit_gdsc2\n",
    "    name = 'GDSC2'\n",
    "    color = 'g'\n",
    "    \n",
    "    xf = aa['tr_size'].values\n",
    "    yf = aa['y'].values\n",
    "    \n",
    "    if fit_method == 'new':\n",
    "        cc_lgb = FitPwrLaw(xf=xf, yf=yf, w=aa['w'].values, **startParams)  # new!\n",
    "        xf_plot, yf_plot = cc_lgb.calc_fit( x1=xf[0], x2=xf[-1] )\n",
    "        cc_lgb_hpo = cc_lgb\n",
    "    else:    \n",
    "        # Old fit method (see single single_src.ipynb) \n",
    "        prms_lgb_hpo = fit_params(x=xf, y=yf)\n",
    "        yf_plot = biased_powerlaw(xf, **prms_lgb_hpo)\n",
    "        xf_plot = xf\n",
    "        \n",
    "    gof_gdsc2 = calc_gof(yf, yf_plot)\n",
    "    gof_gdsc2['data'] = 'gdsc2'\n",
    "    ax = lc_plots.plot_lc(x=xf, y=yf, ax=ax, **pnts_args, color=color, label=f'{name} ' + '$LC_{f}$')\n",
    "    ax = lc_plots.plot_lc(x=xf_plot, y=yf_plot, ax=ax, **fit_args, color=color, label=f'{name} power-law fit') \n",
    "    \n",
    "# -----------------------------    \n",
    "#   CTRP\n",
    "# -----------------------------\n",
    "if ctrp is not None:\n",
    "    aa = dfit_ctrp    \n",
    "    name = 'CTRP'\n",
    "    color = 'b'\n",
    "    \n",
    "    xf = aa['tr_size'].values\n",
    "    yf = aa['y'].values\n",
    "    \n",
    "    if fit_method == 'new':\n",
    "        cc_nn0 = FitPwrLaw(xf=xf, yf=yf, w=aa['w'].values, **startParams)  # new!\n",
    "        xf_plot, yf_plot = cc_nn0.calc_fit( x1=xf[0], x2=xf[-1] )\n",
    "    else:\n",
    "        # Old fit method (see single single_src.ipynb)  \n",
    "        prms_nn0 = fit_params(x=xf, y=yf)\n",
    "        yf_plot = biased_powerlaw(xf, **prms_nn0)\n",
    "        xf_plot = xf   \n",
    "    \n",
    "    gof_ctrp = calc_gof(yf, yf_plot)\n",
    "    gof_ctrp['data'] = 'ctrp'\n",
    "    ax = lc_plots.plot_lc(x=xf, y=yf, ax=ax, **pnts_args, color=color, label=f'{name} ' + '$LC_{f}$')\n",
    "    ax = lc_plots.plot_lc(x=xf_plot, y=yf_plot, ax=ax, **fit_args, color=color, label=f'{name} power-law fit')\n",
    "\n",
    "# -----------------------------    \n",
    "#   NCI-60\n",
    "# -----------------------------\n",
    "if nci is not None:\n",
    "    aa = dfit_nci\n",
    "    name = 'NCI-60'\n",
    "    color = 'r'\n",
    "    \n",
    "    xf = aa['tr_size'].values\n",
    "    yf = aa['y'].values\n",
    "    \n",
    "    if fit_method == 'new':\n",
    "        cc_nn1 = FitPwrLaw(xf=xf, yf=yf, w=aa['w'].values, **startParams)  # new!\n",
    "        xf_plot, yf_plot = cc_nn1.calc_fit( x1=xf[0], x2=xf[-1] )\n",
    "    else:\n",
    "        # Old fit method (see single single_src.ipynb) \n",
    "        prms_nn1 = fit_params(x=xf, y=yf)\n",
    "        yf_plot = biased_powerlaw(xf, **prms_nn1)\n",
    "        xf_plot = xf\n",
    "        \n",
    "    gof_nci = calc_gof(yf, yf_plot)\n",
    "    gof_nci['data'] = 'nci'\n",
    "    ax = lc_plots.plot_lc(x=xf, y=yf, ax=ax, **pnts_args, color=color, label=f'{name} ' + '$LC_{f}$')\n",
    "    ax = lc_plots.plot_lc(x=xf_plot, y=yf_plot, ax=ax, **fit_args, color=color, label=f'{name} power-law fit')\n",
    "\n",
    "\n",
    "ax.set_title(f'{model}')\n",
    "ax.legend(frameon=True, fontsize=12, loc='best')\n",
    "ax.grid(False)\n",
    "# plt.savefig(outpath/f'{src}_fits.png', dpi=dpi)"
   ]
  },
  {
   "cell_type": "code",
   "execution_count": 17,
   "metadata": {},
   "outputs": [],
   "source": [
    "# print('nn0')\n",
    "# display(cc_nn0.coefs)\n",
    "# print('nn1')\n",
    "# display(cc_nn1.coefs)\n",
    "# print('lgb_hpo')\n",
    "# display(cc_lgb_hpo.coefs)\n",
    "# print('lgb_dft')\n",
    "# display(cc_lgb_dft.coefs)"
   ]
  },
  {
   "cell_type": "code",
   "execution_count": 18,
   "metadata": {},
   "outputs": [],
   "source": [
    "# display(prms_nn0)\n",
    "# display(prms_nn1)\n",
    "# display(prms_lgb_hpo)\n",
    "# display(prms_lgb_dft)"
   ]
  },
  {
   "cell_type": "code",
   "execution_count": 19,
   "metadata": {},
   "outputs": [
    {
     "name": "stdout",
     "output_type": "stream",
     "text": [
      "{'rmse': 0.00021724561904946005, 'mae': 0.00020181973029101684, 'r2': 0.9973079955149167, 'data': 'gdsc1'}\n",
      "{'rmse': 0.00016640391602543907, 'mae': 0.00012268399898827871, 'r2': 0.9957691702243845, 'data': 'gdsc2'}\n",
      "{'rmse': 6.733127439440587e-05, 'mae': 5.282970391251307e-05, 'r2': 0.999650091409977, 'data': 'ctrp'}\n",
      "{'rmse': 8.088092990695173e-05, 'mae': 6.0158326078673756e-05, 'r2': 0.9991809112089453, 'data': 'nci'}\n"
     ]
    }
   ],
   "source": [
    "print(gof_gdsc1)\n",
    "print(gof_gdsc2)\n",
    "print(gof_ctrp)\n",
    "print(gof_nci)"
   ]
  },
  {
   "cell_type": "code",
   "execution_count": 20,
   "metadata": {},
   "outputs": [
    {
     "data": {
      "text/html": [
       "<div>\n",
       "<style scoped>\n",
       "    .dataframe tbody tr th:only-of-type {\n",
       "        vertical-align: middle;\n",
       "    }\n",
       "\n",
       "    .dataframe tbody tr th {\n",
       "        vertical-align: top;\n",
       "    }\n",
       "\n",
       "    .dataframe thead th {\n",
       "        text-align: right;\n",
       "    }\n",
       "</style>\n",
       "<table border=\"1\" class=\"dataframe\">\n",
       "  <thead>\n",
       "    <tr style=\"text-align: right;\">\n",
       "      <th></th>\n",
       "      <th>rmse</th>\n",
       "      <th>mae</th>\n",
       "      <th>r2</th>\n",
       "      <th>data</th>\n",
       "    </tr>\n",
       "  </thead>\n",
       "  <tbody>\n",
       "    <tr>\n",
       "      <th>0</th>\n",
       "      <td>0.000217</td>\n",
       "      <td>0.000202</td>\n",
       "      <td>0.997308</td>\n",
       "      <td>gdsc1</td>\n",
       "    </tr>\n",
       "    <tr>\n",
       "      <th>1</th>\n",
       "      <td>0.000166</td>\n",
       "      <td>0.000123</td>\n",
       "      <td>0.995769</td>\n",
       "      <td>gdsc2</td>\n",
       "    </tr>\n",
       "    <tr>\n",
       "      <th>2</th>\n",
       "      <td>0.000067</td>\n",
       "      <td>0.000053</td>\n",
       "      <td>0.999650</td>\n",
       "      <td>ctrp</td>\n",
       "    </tr>\n",
       "    <tr>\n",
       "      <th>3</th>\n",
       "      <td>0.000081</td>\n",
       "      <td>0.000060</td>\n",
       "      <td>0.999181</td>\n",
       "      <td>nci</td>\n",
       "    </tr>\n",
       "  </tbody>\n",
       "</table>\n",
       "</div>"
      ],
      "text/plain": [
       "       rmse       mae        r2   data\n",
       "0  0.000217  0.000202  0.997308  gdsc1\n",
       "1  0.000166  0.000123  0.995769  gdsc2\n",
       "2  0.000067  0.000053  0.999650   ctrp\n",
       "3  0.000081  0.000060  0.999181    nci"
      ]
     },
     "metadata": {},
     "output_type": "display_data"
    }
   ],
   "source": [
    "gof_df = pd.DataFrame([gof_gdsc1, gof_gdsc2, gof_ctrp, gof_nci])\n",
    "gof_df.to_csv(outpath/f'gof_{model}.csv', index=False)\n",
    "display(gof_df)"
   ]
  },
  {
   "cell_type": "code",
   "execution_count": null,
   "metadata": {},
   "outputs": [],
   "source": []
  },
  {
   "cell_type": "code",
   "execution_count": 22,
   "metadata": {},
   "outputs": [
    {
     "data": {
      "text/html": [
       "<div>\n",
       "<style scoped>\n",
       "    .dataframe tbody tr th:only-of-type {\n",
       "        vertical-align: middle;\n",
       "    }\n",
       "\n",
       "    .dataframe tbody tr th {\n",
       "        vertical-align: top;\n",
       "    }\n",
       "\n",
       "    .dataframe thead th {\n",
       "        text-align: right;\n",
       "    }\n",
       "</style>\n",
       "<table border=\"1\" class=\"dataframe\">\n",
       "  <thead>\n",
       "    <tr style=\"text-align: right;\">\n",
       "      <th></th>\n",
       "      <th>tr_size</th>\n",
       "      <th>y</th>\n",
       "      <th>w</th>\n",
       "    </tr>\n",
       "  </thead>\n",
       "  <tbody>\n",
       "    <tr>\n",
       "      <th>0</th>\n",
       "      <td>20000</td>\n",
       "      <td>0.069875</td>\n",
       "      <td>3.077271e+05</td>\n",
       "    </tr>\n",
       "    <tr>\n",
       "      <th>1</th>\n",
       "      <td>24310</td>\n",
       "      <td>0.068478</td>\n",
       "      <td>3.810991e+05</td>\n",
       "    </tr>\n",
       "    <tr>\n",
       "      <th>2</th>\n",
       "      <td>29550</td>\n",
       "      <td>0.067486</td>\n",
       "      <td>4.695570e+05</td>\n",
       "    </tr>\n",
       "    <tr>\n",
       "      <th>3</th>\n",
       "      <td>35919</td>\n",
       "      <td>0.065895</td>\n",
       "      <td>5.835473e+05</td>\n",
       "    </tr>\n",
       "    <tr>\n",
       "      <th>4</th>\n",
       "      <td>43661</td>\n",
       "      <td>0.064294</td>\n",
       "      <td>7.257434e+05</td>\n",
       "    </tr>\n",
       "    <tr>\n",
       "      <th>5</th>\n",
       "      <td>53072</td>\n",
       "      <td>0.062795</td>\n",
       "      <td>9.017844e+05</td>\n",
       "    </tr>\n",
       "    <tr>\n",
       "      <th>6</th>\n",
       "      <td>64511</td>\n",
       "      <td>0.061400</td>\n",
       "      <td>1.119392e+06</td>\n",
       "    </tr>\n",
       "    <tr>\n",
       "      <th>7</th>\n",
       "      <td>78416</td>\n",
       "      <td>0.059894</td>\n",
       "      <td>1.392668e+06</td>\n",
       "    </tr>\n",
       "    <tr>\n",
       "      <th>8</th>\n",
       "      <td>95318</td>\n",
       "      <td>0.058378</td>\n",
       "      <td>1.733992e+06</td>\n",
       "    </tr>\n",
       "    <tr>\n",
       "      <th>9</th>\n",
       "      <td>115863</td>\n",
       "      <td>0.056904</td>\n",
       "      <td>2.158968e+06</td>\n",
       "    </tr>\n",
       "  </tbody>\n",
       "</table>\n",
       "</div>"
      ],
      "text/plain": [
       "   tr_size         y             w\n",
       "0    20000  0.069875  3.077271e+05\n",
       "1    24310  0.068478  3.810991e+05\n",
       "2    29550  0.067486  4.695570e+05\n",
       "3    35919  0.065895  5.835473e+05\n",
       "4    43661  0.064294  7.257434e+05\n",
       "5    53072  0.062795  9.017844e+05\n",
       "6    64511  0.061400  1.119392e+06\n",
       "7    78416  0.059894  1.392668e+06\n",
       "8    95318  0.058378  1.733992e+06\n",
       "9   115863  0.056904  2.158968e+06"
      ]
     },
     "execution_count": 22,
     "metadata": {},
     "output_type": "execute_result"
    }
   ],
   "source": [
    "aa"
   ]
  },
  {
   "cell_type": "code",
   "execution_count": 23,
   "metadata": {},
   "outputs": [
    {
     "data": {
      "text/html": [
       "<div>\n",
       "<style scoped>\n",
       "    .dataframe tbody tr th:only-of-type {\n",
       "        vertical-align: middle;\n",
       "    }\n",
       "\n",
       "    .dataframe tbody tr th {\n",
       "        vertical-align: top;\n",
       "    }\n",
       "\n",
       "    .dataframe thead th {\n",
       "        text-align: right;\n",
       "    }\n",
       "</style>\n",
       "<table border=\"1\" class=\"dataframe\">\n",
       "  <thead>\n",
       "    <tr style=\"text-align: right;\">\n",
       "      <th></th>\n",
       "      <th>tr_size</th>\n",
       "      <th>y</th>\n",
       "      <th>w</th>\n",
       "    </tr>\n",
       "  </thead>\n",
       "  <tbody>\n",
       "    <tr>\n",
       "      <th>0</th>\n",
       "      <td>20000</td>\n",
       "      <td>0.069875</td>\n",
       "      <td>3.077271e+05</td>\n",
       "    </tr>\n",
       "    <tr>\n",
       "      <th>1</th>\n",
       "      <td>24310</td>\n",
       "      <td>0.068478</td>\n",
       "      <td>3.810991e+05</td>\n",
       "    </tr>\n",
       "    <tr>\n",
       "      <th>2</th>\n",
       "      <td>29550</td>\n",
       "      <td>0.067486</td>\n",
       "      <td>4.695570e+05</td>\n",
       "    </tr>\n",
       "    <tr>\n",
       "      <th>3</th>\n",
       "      <td>35919</td>\n",
       "      <td>0.065895</td>\n",
       "      <td>5.835473e+05</td>\n",
       "    </tr>\n",
       "    <tr>\n",
       "      <th>4</th>\n",
       "      <td>43661</td>\n",
       "      <td>0.064294</td>\n",
       "      <td>7.257434e+05</td>\n",
       "    </tr>\n",
       "    <tr>\n",
       "      <th>5</th>\n",
       "      <td>53072</td>\n",
       "      <td>0.062795</td>\n",
       "      <td>9.017844e+05</td>\n",
       "    </tr>\n",
       "    <tr>\n",
       "      <th>6</th>\n",
       "      <td>64511</td>\n",
       "      <td>0.061400</td>\n",
       "      <td>1.119392e+06</td>\n",
       "    </tr>\n",
       "    <tr>\n",
       "      <th>7</th>\n",
       "      <td>78416</td>\n",
       "      <td>0.059894</td>\n",
       "      <td>1.392668e+06</td>\n",
       "    </tr>\n",
       "    <tr>\n",
       "      <th>8</th>\n",
       "      <td>95318</td>\n",
       "      <td>0.058378</td>\n",
       "      <td>1.733992e+06</td>\n",
       "    </tr>\n",
       "    <tr>\n",
       "      <th>9</th>\n",
       "      <td>115863</td>\n",
       "      <td>0.056904</td>\n",
       "      <td>2.158968e+06</td>\n",
       "    </tr>\n",
       "  </tbody>\n",
       "</table>\n",
       "</div>"
      ],
      "text/plain": [
       "   tr_size         y             w\n",
       "0    20000  0.069875  3.077271e+05\n",
       "1    24310  0.068478  3.810991e+05\n",
       "2    29550  0.067486  4.695570e+05\n",
       "3    35919  0.065895  5.835473e+05\n",
       "4    43661  0.064294  7.257434e+05\n",
       "5    53072  0.062795  9.017844e+05\n",
       "6    64511  0.061400  1.119392e+06\n",
       "7    78416  0.059894  1.392668e+06\n",
       "8    95318  0.058378  1.733992e+06\n",
       "9   115863  0.056904  2.158968e+06"
      ]
     },
     "execution_count": 23,
     "metadata": {},
     "output_type": "execute_result"
    }
   ],
   "source": [
    "dfit_all"
   ]
  },
  {
   "cell_type": "code",
   "execution_count": 21,
   "metadata": {},
   "outputs": [
    {
     "data": {
      "image/png": "[encoded data removed]",
      "text/plain": [
       "<Figure size 504x360 with 1 Axes>"
      ]
     },
     "metadata": {
      "needs_background": "light"
     },
     "output_type": "display_data"
    }
   ],
   "source": [
    "save = False\n",
    "# save = True\n",
    "\n",
    "ax = None\n",
    "fit_method = 'old'\n",
    "# fit_method = 'new'\n",
    "\n",
    "# ------------------------------------------------------------------\n",
    "# NOTE! Uncomment each row to plot and save each figure\n",
    "# ------------------------------------------------------------------\n",
    "data=gdsc1; name='GDSC1'; x_fit_mn=1000; x_fit_mx=None;\n",
    "# data=gdsc2; name='GDSC2'; x_fit_mn=1000; x_fit_mx=None;\n",
    "# data=ctrp; name='CTRP'; x_fit_mn=1000; x_fit_mx=None;\n",
    "# data=nci; name='NCI-60'; x_fit_mn=10000; x_fit_mx=None; # startParams={'a': 2.5, 'b': -0.6, 'c': 0.05}\n",
    "\n",
    "aa = fit_data(data, x_fit_mn=x_fit_mn, x_fit_mx=x_fit_mx, method='binomial')\n",
    "dfit_all = fit_data(data, x_fit_mn=0, x_fit_mx=x_fit_mx, method='binomial')\n",
    "color = 'b'\n",
    "\n",
    "xf = aa['tr_size'].values\n",
    "yf = aa['y'].values\n",
    "\n",
    "if fit_method == 'new':\n",
    "    cc = FitPwrLaw(xf=xf, yf=yf, w=aa['w'].values, **startParams)  # new!\n",
    "    xf_plot, yf_plot = cc.calc_fit( x1=xf[0], x2=xf[-1] )\n",
    "else:\n",
    "    # Old fit method (see single single_src.ipynb)  \n",
    "    prms = fit_params(x=xf, y=yf)\n",
    "    yf_plot = biased_powerlaw(xf, **prms)\n",
    "    xf_plot = xf\n",
    "\n",
    "# ----------\n",
    "# All points\n",
    "# ----------\n",
    "# x_all = dfit_all['tr_size'].values\n",
    "# y_all = dfit_all['y'].values\n",
    "# pnts_args_all = {'metric_name': met, 'xtick_scale': xtick_scale, 'ytick_scale': ytick_scale, 'alpha': 0.5, 'ls': '', 'marker': 'p'}\n",
    "# ax = lc_plots.plot_lc(x=x_all, y=y_all, ax=ax, **pnts_args_all, color='k', label=f'LC all data')\n",
    "# color = 'g'\n",
    "\n",
    "# ----------\n",
    "# Fit points\n",
    "# ----------\n",
    "ax = lc_plots.plot_lc(x=xf, y=yf, ax=ax, **pnts_args, color=color, label='$LC_{f}$ data')\n",
    "ax = lc_plots.plot_lc(x=xf_plot, y=yf_plot, ax=ax, **fit_args, color=color, label=f'Power-law fit')\n",
    "\n",
    "ax.set_title(f'{name}')\n",
    "ax.legend(frameon=True, fontsize=13, loc='best')\n",
    "ax.grid(False)\n",
    "\n",
    "if save:\n",
    "    if drop_bad_r2fit:\n",
    "        plt.savefig(outpath/f'{model}_{name}_drop_bad_r2fit_fit.png', dpi=dpi)\n",
    "    else:\n",
    "        plt.savefig(outpath/f'{model}_{name}_fit.png', dpi=dpi)"
   ]
  },
  {
   "cell_type": "code",
   "execution_count": 21,
   "metadata": {},
   "outputs": [],
   "source": [
    "# display(cc.coefs)"
   ]
  },
  {
   "cell_type": "code",
   "execution_count": 22,
   "metadata": {},
   "outputs": [
    {
     "data": {
      "text/plain": [
       "{'alpha': 55.50113797986744,\n",
       " 'beta': -0.9768530170004217,\n",
       " 'gamma': 0.055278621885021195}"
      ]
     },
     "execution_count": 22,
     "metadata": {},
     "output_type": "execute_result"
    }
   ],
   "source": [
    "prms"
   ]
  },
  {
   "cell_type": "code",
   "execution_count": null,
   "metadata": {},
   "outputs": [],
   "source": []
  },
  {
   "cell_type": "code",
   "execution_count": 27,
   "metadata": {},
   "outputs": [],
   "source": [
    "# aa = nn0\n",
    "# aa['std'] = aa['score']\n",
    "# aa['min'] = aa['score']\n",
    "# aa['max'] = aa['score']\n",
    "# aa = aa.groupby(['tr_size']).agg({'score': 'median', 'std': 'std', 'min': 'min', 'max': 'max'}).reset_index()\n",
    "# score_name = f'{met}_median'\n",
    "# aa = aa.rename(columns={'score': score_name})\n",
    "# aa['%'] = aa['std']/aa[score_name]\n",
    "# aa"
   ]
  },
  {
   "cell_type": "code",
   "execution_count": 28,
   "metadata": {},
   "outputs": [],
   "source": [
    "# aa = nn1\n",
    "# aa['std'] = aa['score']\n",
    "# aa['min'] = aa['score']\n",
    "# aa['max'] = aa['score']\n",
    "# aa = aa.groupby(['tr_size']).agg({'score': 'median', 'std': 'std', 'min': 'min', 'max': 'max'}).reset_index()\n",
    "# score_name = f'{met}_median'\n",
    "# aa = aa.rename(columns={'score': score_name})\n",
    "# aa['%'] = aa['std']/aa[score_name]\n",
    "# aa"
   ]
  },
  {
   "cell_type": "code",
   "execution_count": 29,
   "metadata": {},
   "outputs": [],
   "source": [
    "# aa = lgb_hpo\n",
    "# aa['std'] = aa['score']\n",
    "# aa['min'] = aa['score']\n",
    "# aa['max'] = aa['score']\n",
    "# aa = aa.groupby(['tr_size']).agg({'score': 'median', 'std': 'std', 'min': 'min', 'max': 'max'}).reset_index()\n",
    "# score_name = f'{met}_median'\n",
    "# aa = aa.rename(columns={'score': score_name})\n",
    "# aa['%'] = aa['std']/aa[score_name]\n",
    "# aa"
   ]
  },
  {
   "cell_type": "code",
   "execution_count": 30,
   "metadata": {},
   "outputs": [],
   "source": [
    "# aa = lgb_dft\n",
    "# aa['std'] = aa['score']\n",
    "# aa['min'] = aa['score']\n",
    "# aa['max'] = aa['score']\n",
    "# aa = aa.groupby(['tr_size']).agg({'score': 'median', 'std': 'std', 'min': 'min', 'max': 'max'}).reset_index()\n",
    "# score_name = f'{met}_median'\n",
    "# aa = aa.rename(columns={'score': score_name})\n",
    "# aa['%'] = aa['std']/aa[score_name]\n",
    "# aa"
   ]
  },
  {
   "cell_type": "code",
   "execution_count": null,
   "metadata": {},
   "outputs": [],
   "source": []
  }
 ],
 "metadata": {
  "kernelspec": {
   "display_name": "Python 3",
   "language": "python",
   "name": "python3"
  },
  "language_info": {
   "codemirror_mode": {
    "name": "ipython",
    "version": 3
   },
   "file_extension": ".py",
   "mimetype": "text/x-python",
   "name": "python",
   "nbconvert_exporter": "python",
   "pygments_lexer": "ipython3",
   "version": "3.6.10"
  }
 },
 "nbformat": 4,
 "nbformat_minor": 4
}
